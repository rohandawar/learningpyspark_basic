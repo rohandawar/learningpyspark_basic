{
 "cells": [
  {
   "cell_type": "code",
   "execution_count": 1,
   "id": "9101d997",
   "metadata": {
    "_cell_guid": "b1076dfc-b9ad-4769-8c92-a6c4dae69d19",
    "_uuid": "8f2839f25d086af736a60e9eeb907d3b93b6e0e5",
    "execution": {
     "iopub.execute_input": "2022-04-08T11:02:52.647380Z",
     "iopub.status.busy": "2022-04-08T11:02:52.646728Z",
     "iopub.status.idle": "2022-04-08T11:02:52.663715Z",
     "shell.execute_reply": "2022-04-08T11:02:52.664224Z",
     "shell.execute_reply.started": "2022-04-08T10:50:08.690997Z"
    },
    "papermill": {
     "duration": 0.056869,
     "end_time": "2022-04-08T11:02:52.664559",
     "exception": false,
     "start_time": "2022-04-08T11:02:52.607690",
     "status": "completed"
    },
    "tags": []
   },
   "outputs": [
    {
     "name": "stdout",
     "output_type": "stream",
     "text": [
      "/kaggle/input/pyspark-linear-regression/Linear_regression_dataset.csv\n"
     ]
    }
   ],
   "source": [
    "# This Python 3 environment comes with many helpful analytics libraries installed\n",
    "# It is defined by the kaggle/python Docker image: https://github.com/kaggle/docker-python\n",
    "# For example, here's several helpful packages to load\n",
    "\n",
    "import numpy as np # linear algebra\n",
    "import pandas as pd # data processing, CSV file I/O (e.g. pd.read_csv)\n",
    "\n",
    "# Input data files are available in the read-only \"../input/\" directory\n",
    "# For example, running this (by clicking run or pressing Shift+Enter) will list all files under the input directory\n",
    "\n",
    "import os\n",
    "for dirname, _, filenames in os.walk('/kaggle/input'):\n",
    "    for filename in filenames:\n",
    "        print(os.path.join(dirname, filename))\n",
    "\n",
    "# You can write up to 20GB to the current directory (/kaggle/working/) that gets preserved as output when you create a version using \"Save & Run All\" \n",
    "# You can also write temporary files to /kaggle/temp/, but they won't be saved outside of the current session"
   ]
  },
  {
   "cell_type": "code",
   "execution_count": 2,
   "id": "e74bd824",
   "metadata": {
    "execution": {
     "iopub.execute_input": "2022-04-08T11:02:52.734111Z",
     "iopub.status.busy": "2022-04-08T11:02:52.732891Z",
     "iopub.status.idle": "2022-04-08T11:03:48.805197Z",
     "shell.execute_reply": "2022-04-08T11:03:48.804497Z",
     "shell.execute_reply.started": "2022-04-08T10:50:08.726525Z"
    },
    "papermill": {
     "duration": 56.112056,
     "end_time": "2022-04-08T11:03:48.805353",
     "exception": false,
     "start_time": "2022-04-08T11:02:52.693297",
     "status": "completed"
    },
    "tags": []
   },
   "outputs": [
    {
     "name": "stdout",
     "output_type": "stream",
     "text": [
      "Collecting findspark\r\n",
      "  Downloading findspark-2.0.1-py2.py3-none-any.whl (4.4 kB)\r\n",
      "Installing collected packages: findspark\r\n",
      "Successfully installed findspark-2.0.1\r\n",
      "\u001b[33mWARNING: Running pip as the 'root' user can result in broken permissions and conflicting behaviour with the system package manager. It is recommended to use a virtual environment instead: https://pip.pypa.io/warnings/venv\u001b[0m\r\n",
      "Collecting pyspark\r\n",
      "  Downloading pyspark-3.2.1.tar.gz (281.4 MB)\r\n",
      "     |████████████████████████████████| 281.4 MB 31 kB/s              \r\n",
      "\u001b[?25h  Preparing metadata (setup.py) ... \u001b[?25l-\b \bdone\r\n",
      "\u001b[?25hCollecting py4j==0.10.9.3\r\n",
      "  Downloading py4j-0.10.9.3-py2.py3-none-any.whl (198 kB)\r\n",
      "     |████████████████████████████████| 198 kB 63.3 MB/s            \r\n",
      "\u001b[?25hBuilding wheels for collected packages: pyspark\r\n",
      "  Building wheel for pyspark (setup.py) ... \u001b[?25l-\b \b\\\b \b|\b \b/\b \b-\b \b\\\b \b|\b \b/\b \b-\b \b\\\b \b|\b \b/\b \b-\b \b\\\b \b|\b \b/\b \b-\b \b\\\b \b|\b \b/\b \b-\b \b\\\b \b|\b \b/\b \b-\b \b\\\b \b|\b \b/\b \b-\b \b\\\b \b|\b \b/\b \b-\b \b\\\b \b|\b \b/\b \b-\b \b\\\b \b|\b \b/\b \b-\b \b\\\b \b|\b \b/\b \b-\b \b\\\b \b|\b \b/\b \b-\b \b\\\b \b|\b \b/\b \b-\b \b\\\b \b|\b \b/\b \b-\b \bdone\r\n",
      "\u001b[?25h  Created wheel for pyspark: filename=pyspark-3.2.1-py2.py3-none-any.whl size=281853642 sha256=bf5c2a22d4fd72dc6078b49b59054b16ca7054beb8a3609647b1242bac2f0b72\r\n",
      "  Stored in directory: /root/.cache/pip/wheels/9f/f5/07/7cd8017084dce4e93e84e92efd1e1d5334db05f2e83bcef74f\r\n",
      "Successfully built pyspark\r\n",
      "Installing collected packages: py4j, pyspark\r\n",
      "  Attempting uninstall: py4j\r\n",
      "    Found existing installation: py4j 0.10.9.4\r\n",
      "    Uninstalling py4j-0.10.9.4:\r\n",
      "      Successfully uninstalled py4j-0.10.9.4\r\n",
      "Successfully installed py4j-0.10.9.3 pyspark-3.2.1\r\n",
      "\u001b[33mWARNING: Running pip as the 'root' user can result in broken permissions and conflicting behaviour with the system package manager. It is recommended to use a virtual environment instead: https://pip.pypa.io/warnings/venv\u001b[0m\r\n"
     ]
    }
   ],
   "source": [
    "!pip install findspark\n",
    "!pip install pyspark"
   ]
  },
  {
   "cell_type": "code",
   "execution_count": 3,
   "id": "cacc364d",
   "metadata": {
    "execution": {
     "iopub.execute_input": "2022-04-08T11:03:49.156148Z",
     "iopub.status.busy": "2022-04-08T11:03:49.155491Z",
     "iopub.status.idle": "2022-04-08T11:03:55.437595Z",
     "shell.execute_reply": "2022-04-08T11:03:55.436564Z",
     "shell.execute_reply.started": "2022-04-08T10:51:10.269980Z"
    },
    "papermill": {
     "duration": 6.461648,
     "end_time": "2022-04-08T11:03:55.437869",
     "exception": false,
     "start_time": "2022-04-08T11:03:48.976221",
     "status": "completed"
    },
    "tags": []
   },
   "outputs": [
    {
     "name": "stderr",
     "output_type": "stream",
     "text": [
      "WARNING: An illegal reflective access operation has occurred\n",
      "WARNING: Illegal reflective access by org.apache.spark.unsafe.Platform (file:/opt/conda/lib/python3.7/site-packages/pyspark/jars/spark-unsafe_2.12-3.2.1.jar) to constructor java.nio.DirectByteBuffer(long,int)\n",
      "WARNING: Please consider reporting this to the maintainers of org.apache.spark.unsafe.Platform\n",
      "WARNING: Use --illegal-access=warn to enable warnings of further illegal reflective access operations\n",
      "WARNING: All illegal access operations will be denied in a future release\n",
      "Using Spark's default log4j profile: org/apache/spark/log4j-defaults.properties\n",
      "Setting default log level to \"WARN\".\n",
      "To adjust logging level use sc.setLogLevel(newLevel). For SparkR, use setLogLevel(newLevel).\n",
      "22/04/08 11:03:52 WARN NativeCodeLoader: Unable to load native-hadoop library for your platform... using builtin-java classes where applicable\n"
     ]
    }
   ],
   "source": [
    "from pyspark.sql import SparkSession\n",
    "spark = SparkSession.builder.appName('liner-regress').getOrCreate()\n"
   ]
  },
  {
   "cell_type": "code",
   "execution_count": 4,
   "id": "51d3b807",
   "metadata": {
    "execution": {
     "iopub.execute_input": "2022-04-08T11:03:55.794020Z",
     "iopub.status.busy": "2022-04-08T11:03:55.793302Z",
     "iopub.status.idle": "2022-04-08T11:03:56.111582Z",
     "shell.execute_reply": "2022-04-08T11:03:56.110222Z",
     "shell.execute_reply.started": "2022-04-08T10:58:21.371116Z"
    },
    "papermill": {
     "duration": 0.494144,
     "end_time": "2022-04-08T11:03:56.111799",
     "exception": false,
     "start_time": "2022-04-08T11:03:55.617655",
     "status": "completed"
    },
    "tags": []
   },
   "outputs": [],
   "source": [
    "from pyspark.sql.functions import corr\n",
    "from pyspark.ml.linalg import Vector\n",
    "from pyspark.ml.feature import VectorAssembler\n",
    "from pyspark.ml.regression import LinearRegression"
   ]
  },
  {
   "cell_type": "code",
   "execution_count": 5,
   "id": "f7d75201",
   "metadata": {
    "execution": {
     "iopub.execute_input": "2022-04-08T11:03:56.454963Z",
     "iopub.status.busy": "2022-04-08T11:03:56.453924Z",
     "iopub.status.idle": "2022-04-08T11:04:02.281088Z",
     "shell.execute_reply": "2022-04-08T11:04:02.281685Z",
     "shell.execute_reply.started": "2022-04-08T10:51:17.086980Z"
    },
    "papermill": {
     "duration": 6.002126,
     "end_time": "2022-04-08T11:04:02.281958",
     "exception": false,
     "start_time": "2022-04-08T11:03:56.279832",
     "status": "completed"
    },
    "tags": []
   },
   "outputs": [
    {
     "data": {
      "text/plain": [
       "Row(var_1=734, var_2=688, var_3=81, var_4=0.328, var_5=0.259, output=0.418)"
      ]
     },
     "execution_count": 5,
     "metadata": {},
     "output_type": "execute_result"
    }
   ],
   "source": [
    "#Import Libs\n",
    "df = spark.read.csv('../input/pyspark-linear-regression', header=True, inferSchema=True)\n",
    "df.head()"
   ]
  },
  {
   "cell_type": "code",
   "execution_count": 6,
   "id": "de628a7d",
   "metadata": {
    "execution": {
     "iopub.execute_input": "2022-04-08T11:04:02.615293Z",
     "iopub.status.busy": "2022-04-08T11:04:02.614314Z",
     "iopub.status.idle": "2022-04-08T11:04:03.330850Z",
     "shell.execute_reply": "2022-04-08T11:04:03.331657Z",
     "shell.execute_reply.started": "2022-04-08T10:51:23.134702Z"
    },
    "papermill": {
     "duration": 0.88619,
     "end_time": "2022-04-08T11:04:03.332021",
     "exception": false,
     "start_time": "2022-04-08T11:04:02.445831",
     "status": "completed"
    },
    "tags": []
   },
   "outputs": [
    {
     "data": {
      "text/plain": [
       "(1232, 6)"
      ]
     },
     "execution_count": 6,
     "metadata": {},
     "output_type": "execute_result"
    }
   ],
   "source": [
    "#check the shape of the data\n",
    "df.count(), len(df.columns)"
   ]
  },
  {
   "cell_type": "code",
   "execution_count": 7,
   "id": "f08cfa0b",
   "metadata": {
    "execution": {
     "iopub.execute_input": "2022-04-08T11:04:03.732401Z",
     "iopub.status.busy": "2022-04-08T11:04:03.731263Z",
     "iopub.status.idle": "2022-04-08T11:04:03.739168Z",
     "shell.execute_reply": "2022-04-08T11:04:03.738528Z",
     "shell.execute_reply.started": "2022-04-08T10:51:23.836133Z"
    },
    "papermill": {
     "duration": 0.180002,
     "end_time": "2022-04-08T11:04:03.739318",
     "exception": false,
     "start_time": "2022-04-08T11:04:03.559316",
     "status": "completed"
    },
    "tags": []
   },
   "outputs": [
    {
     "name": "stdout",
     "output_type": "stream",
     "text": [
      "root\n",
      " |-- var_1: integer (nullable = true)\n",
      " |-- var_2: integer (nullable = true)\n",
      " |-- var_3: integer (nullable = true)\n",
      " |-- var_4: double (nullable = true)\n",
      " |-- var_5: double (nullable = true)\n",
      " |-- output: double (nullable = true)\n",
      "\n"
     ]
    }
   ],
   "source": [
    "df.printSchema()"
   ]
  },
  {
   "cell_type": "code",
   "execution_count": 8,
   "id": "77edab7f",
   "metadata": {
    "execution": {
     "iopub.execute_input": "2022-04-08T11:04:04.081918Z",
     "iopub.status.busy": "2022-04-08T11:04:04.081180Z",
     "iopub.status.idle": "2022-04-08T11:04:05.284252Z",
     "shell.execute_reply": "2022-04-08T11:04:05.283149Z",
     "shell.execute_reply.started": "2022-04-08T10:51:23.847011Z"
    },
    "papermill": {
     "duration": 1.380064,
     "end_time": "2022-04-08T11:04:05.284497",
     "exception": false,
     "start_time": "2022-04-08T11:04:03.904433",
     "status": "completed"
    },
    "tags": []
   },
   "outputs": [
    {
     "name": "stdout",
     "output_type": "stream",
     "text": [
      "+-------+-----------------+-----------------+------------------+--------------------+--------------------+-------------------+\n",
      "|summary|            var_1|            var_2|             var_3|               var_4|               var_5|             output|\n",
      "+-------+-----------------+-----------------+------------------+--------------------+--------------------+-------------------+\n",
      "|  count|             1232|             1232|              1232|                1232|                1232|               1232|\n",
      "|   mean|715.0819805194806|715.0819805194806| 80.90422077922078|  0.3263311688311693| 0.25927272727272715|0.39734172077922014|\n",
      "| stddev| 91.5342940441652|93.07993263118064|11.458139049993724|0.015012772334166148|0.012907228928000298|0.03326689862173776|\n",
      "|    min|              463|              472|                40|               0.277|               0.214|              0.301|\n",
      "|    max|             1009|             1103|               116|               0.373|               0.294|              0.491|\n",
      "+-------+-----------------+-----------------+------------------+--------------------+--------------------+-------------------+\n",
      "\n"
     ]
    }
   ],
   "source": [
    "df.describe().show()"
   ]
  },
  {
   "cell_type": "code",
   "execution_count": 9,
   "id": "989ab283",
   "metadata": {
    "execution": {
     "iopub.execute_input": "2022-04-08T11:04:05.762623Z",
     "iopub.status.busy": "2022-04-08T11:04:05.761670Z",
     "iopub.status.idle": "2022-04-08T11:04:06.151992Z",
     "shell.execute_reply": "2022-04-08T11:04:06.150792Z",
     "shell.execute_reply.started": "2022-04-08T10:51:25.154060Z"
    },
    "papermill": {
     "duration": 0.607176,
     "end_time": "2022-04-08T11:04:06.152232",
     "exception": false,
     "start_time": "2022-04-08T11:04:05.545056",
     "status": "completed"
    },
    "tags": []
   },
   "outputs": [
    {
     "name": "stdout",
     "output_type": "stream",
     "text": [
      "+-------------------+\n",
      "|corr(var_1, output)|\n",
      "+-------------------+\n",
      "| 0.9187399607627283|\n",
      "+-------------------+\n",
      "\n"
     ]
    }
   ],
   "source": [
    "df.select(corr('var_1', 'output')).show()"
   ]
  },
  {
   "cell_type": "code",
   "execution_count": 10,
   "id": "b5cbed39",
   "metadata": {
    "execution": {
     "iopub.execute_input": "2022-04-08T11:04:06.530006Z",
     "iopub.status.busy": "2022-04-08T11:04:06.529361Z",
     "iopub.status.idle": "2022-04-08T11:04:06.795764Z",
     "shell.execute_reply": "2022-04-08T11:04:06.794668Z",
     "shell.execute_reply.started": "2022-04-08T10:51:25.574415Z"
    },
    "papermill": {
     "duration": 0.443216,
     "end_time": "2022-04-08T11:04:06.796079",
     "exception": false,
     "start_time": "2022-04-08T11:04:06.352863",
     "status": "completed"
    },
    "tags": []
   },
   "outputs": [
    {
     "name": "stdout",
     "output_type": "stream",
     "text": [
      "+-------------------+\n",
      "|corr(var_2, output)|\n",
      "+-------------------+\n",
      "|0.43652698913681093|\n",
      "+-------------------+\n",
      "\n"
     ]
    }
   ],
   "source": [
    "df.select(corr('var_2', 'output')).show()"
   ]
  },
  {
   "cell_type": "code",
   "execution_count": 11,
   "id": "62d31ce5",
   "metadata": {
    "execution": {
     "iopub.execute_input": "2022-04-08T11:04:07.265627Z",
     "iopub.status.busy": "2022-04-08T11:04:07.264419Z",
     "iopub.status.idle": "2022-04-08T11:04:07.268368Z",
     "shell.execute_reply": "2022-04-08T11:04:07.269134Z",
     "shell.execute_reply.started": "2022-04-08T10:51:38.047896Z"
    },
    "papermill": {
     "duration": 0.296052,
     "end_time": "2022-04-08T11:04:07.269443",
     "exception": false,
     "start_time": "2022-04-08T11:04:06.973391",
     "status": "completed"
    },
    "tags": []
   },
   "outputs": [
    {
     "data": {
      "text/plain": [
       "['var_1', 'var_2', 'var_3', 'var_4', 'var_5', 'output']"
      ]
     },
     "execution_count": 11,
     "metadata": {},
     "output_type": "execute_result"
    }
   ],
   "source": [
    "df.columns"
   ]
  },
  {
   "cell_type": "code",
   "execution_count": 12,
   "id": "2e6e7c18",
   "metadata": {
    "execution": {
     "iopub.execute_input": "2022-04-08T11:04:07.642881Z",
     "iopub.status.busy": "2022-04-08T11:04:07.641559Z",
     "iopub.status.idle": "2022-04-08T11:04:07.668439Z",
     "shell.execute_reply": "2022-04-08T11:04:07.669047Z",
     "shell.execute_reply.started": "2022-04-08T10:52:45.433319Z"
    },
    "papermill": {
     "duration": 0.199869,
     "end_time": "2022-04-08T11:04:07.669246",
     "exception": false,
     "start_time": "2022-04-08T11:04:07.469377",
     "status": "completed"
    },
    "tags": []
   },
   "outputs": [],
   "source": [
    "vec_assembler = VectorAssembler(inputCols=['var_1', 'var_2', 'var_3', 'var_4', 'var_5']\n",
    "                                ,outputCol='features')"
   ]
  },
  {
   "cell_type": "code",
   "execution_count": 13,
   "id": "34c95c6a",
   "metadata": {
    "execution": {
     "iopub.execute_input": "2022-04-08T11:04:08.008977Z",
     "iopub.status.busy": "2022-04-08T11:04:08.008297Z",
     "iopub.status.idle": "2022-04-08T11:04:08.173312Z",
     "shell.execute_reply": "2022-04-08T11:04:08.172462Z",
     "shell.execute_reply.started": "2022-04-08T10:53:37.476561Z"
    },
    "papermill": {
     "duration": 0.337681,
     "end_time": "2022-04-08T11:04:08.173566",
     "exception": false,
     "start_time": "2022-04-08T11:04:07.835885",
     "status": "completed"
    },
    "tags": []
   },
   "outputs": [
    {
     "name": "stdout",
     "output_type": "stream",
     "text": [
      "root\n",
      " |-- var_1: integer (nullable = true)\n",
      " |-- var_2: integer (nullable = true)\n",
      " |-- var_3: integer (nullable = true)\n",
      " |-- var_4: double (nullable = true)\n",
      " |-- var_5: double (nullable = true)\n",
      " |-- output: double (nullable = true)\n",
      " |-- features: vector (nullable = true)\n",
      "\n"
     ]
    }
   ],
   "source": [
    "featuredf = vec_assembler.transform(df)\n",
    "featuredf.printSchema()"
   ]
  },
  {
   "cell_type": "code",
   "execution_count": 14,
   "id": "01c3bcf5",
   "metadata": {
    "execution": {
     "iopub.execute_input": "2022-04-08T11:04:08.526910Z",
     "iopub.status.busy": "2022-04-08T11:04:08.526194Z",
     "iopub.status.idle": "2022-04-08T11:04:09.064832Z",
     "shell.execute_reply": "2022-04-08T11:04:09.065881Z",
     "shell.execute_reply.started": "2022-04-08T10:54:22.618230Z"
    },
    "papermill": {
     "duration": 0.717979,
     "end_time": "2022-04-08T11:04:09.066248",
     "exception": false,
     "start_time": "2022-04-08T11:04:08.348269",
     "status": "completed"
    },
    "tags": []
   },
   "outputs": [
    {
     "name": "stdout",
     "output_type": "stream",
     "text": [
      "+-----+-----+-----+-----+-----+------+------------------------------+\n",
      "|var_1|var_2|var_3|var_4|var_5|output|features                      |\n",
      "+-----+-----+-----+-----+-----+------+------------------------------+\n",
      "|734  |688  |81   |0.328|0.259|0.418 |[734.0,688.0,81.0,0.328,0.259]|\n",
      "|700  |600  |94   |0.32 |0.247|0.389 |[700.0,600.0,94.0,0.32,0.247] |\n",
      "|712  |705  |93   |0.311|0.247|0.417 |[712.0,705.0,93.0,0.311,0.247]|\n",
      "|734  |806  |69   |0.315|0.26 |0.415 |[734.0,806.0,69.0,0.315,0.26] |\n",
      "|613  |759  |61   |0.302|0.24 |0.378 |[613.0,759.0,61.0,0.302,0.24] |\n",
      "+-----+-----+-----+-----+-----+------+------------------------------+\n",
      "only showing top 5 rows\n",
      "\n"
     ]
    }
   ],
   "source": [
    "featuredf.show(5,truncate=False)"
   ]
  },
  {
   "cell_type": "markdown",
   "id": "f0cfcfd3",
   "metadata": {
    "papermill": {
     "duration": 0.173612,
     "end_time": "2022-04-08T11:04:09.493202",
     "exception": false,
     "start_time": "2022-04-08T11:04:09.319590",
     "status": "completed"
    },
    "tags": []
   },
   "source": [
    "# Modelling"
   ]
  },
  {
   "cell_type": "code",
   "execution_count": 15,
   "id": "a5370343",
   "metadata": {
    "execution": {
     "iopub.execute_input": "2022-04-08T11:04:09.841570Z",
     "iopub.status.busy": "2022-04-08T11:04:09.840559Z",
     "iopub.status.idle": "2022-04-08T11:04:10.035458Z",
     "shell.execute_reply": "2022-04-08T11:04:10.034448Z",
     "shell.execute_reply.started": "2022-04-08T10:55:42.340338Z"
    },
    "papermill": {
     "duration": 0.371188,
     "end_time": "2022-04-08T11:04:10.035672",
     "exception": false,
     "start_time": "2022-04-08T11:04:09.664484",
     "status": "completed"
    },
    "tags": []
   },
   "outputs": [
    {
     "name": "stdout",
     "output_type": "stream",
     "text": [
      "+------------------------------+------+\n",
      "|features                      |output|\n",
      "+------------------------------+------+\n",
      "|[734.0,688.0,81.0,0.328,0.259]|0.418 |\n",
      "|[700.0,600.0,94.0,0.32,0.247] |0.389 |\n",
      "|[712.0,705.0,93.0,0.311,0.247]|0.417 |\n",
      "|[734.0,806.0,69.0,0.315,0.26] |0.415 |\n",
      "|[613.0,759.0,61.0,0.302,0.24] |0.378 |\n",
      "+------------------------------+------+\n",
      "only showing top 5 rows\n",
      "\n"
     ]
    }
   ],
   "source": [
    "model_df = featuredf.select('features', 'output')\n",
    "model_df.show(5, False)"
   ]
  },
  {
   "cell_type": "code",
   "execution_count": 16,
   "id": "f6ed6d6c",
   "metadata": {
    "execution": {
     "iopub.execute_input": "2022-04-08T11:04:10.432289Z",
     "iopub.status.busy": "2022-04-08T11:04:10.431331Z",
     "iopub.status.idle": "2022-04-08T11:04:10.584064Z",
     "shell.execute_reply": "2022-04-08T11:04:10.584871Z",
     "shell.execute_reply.started": "2022-04-08T10:56:57.266592Z"
    },
    "papermill": {
     "duration": 0.327704,
     "end_time": "2022-04-08T11:04:10.585120",
     "exception": false,
     "start_time": "2022-04-08T11:04:10.257416",
     "status": "completed"
    },
    "tags": []
   },
   "outputs": [
    {
     "name": "stdout",
     "output_type": "stream",
     "text": [
      "1232 2\n"
     ]
    }
   ],
   "source": [
    "#shape of the modelling df\n",
    "print((model_df.count()), (len(model_df.columns)))"
   ]
  },
  {
   "cell_type": "code",
   "execution_count": 17,
   "id": "28af766a",
   "metadata": {
    "execution": {
     "iopub.execute_input": "2022-04-08T11:04:11.033298Z",
     "iopub.status.busy": "2022-04-08T11:04:11.032583Z",
     "iopub.status.idle": "2022-04-08T11:04:11.548547Z",
     "shell.execute_reply": "2022-04-08T11:04:11.549521Z",
     "shell.execute_reply.started": "2022-04-08T10:57:44.125270Z"
    },
    "papermill": {
     "duration": 0.690996,
     "end_time": "2022-04-08T11:04:11.549790",
     "exception": false,
     "start_time": "2022-04-08T11:04:10.858794",
     "status": "completed"
    },
    "tags": []
   },
   "outputs": [
    {
     "name": "stdout",
     "output_type": "stream",
     "text": [
      "866 2\n"
     ]
    }
   ],
   "source": [
    "#train test split\n",
    "traindf, testdf = model_df.randomSplit([0.7, 0.3])\n",
    "print((traindf.count()), (len(traindf.columns)))"
   ]
  },
  {
   "cell_type": "code",
   "execution_count": 18,
   "id": "23caf95e",
   "metadata": {
    "execution": {
     "iopub.execute_input": "2022-04-08T11:04:11.978571Z",
     "iopub.status.busy": "2022-04-08T11:04:11.977969Z",
     "iopub.status.idle": "2022-04-08T11:04:12.282030Z",
     "shell.execute_reply": "2022-04-08T11:04:12.282891Z",
     "shell.execute_reply.started": "2022-04-08T10:57:56.989321Z"
    },
    "papermill": {
     "duration": 0.478697,
     "end_time": "2022-04-08T11:04:12.283172",
     "exception": false,
     "start_time": "2022-04-08T11:04:11.804475",
     "status": "completed"
    },
    "tags": []
   },
   "outputs": [
    {
     "name": "stdout",
     "output_type": "stream",
     "text": [
      "366 2\n"
     ]
    }
   ],
   "source": [
    "print((testdf.count()), (len(testdf.columns)))"
   ]
  },
  {
   "cell_type": "code",
   "execution_count": 19,
   "id": "4bd8b4d3",
   "metadata": {
    "execution": {
     "iopub.execute_input": "2022-04-08T11:04:12.670470Z",
     "iopub.status.busy": "2022-04-08T11:04:12.669863Z",
     "iopub.status.idle": "2022-04-08T11:04:14.062905Z",
     "shell.execute_reply": "2022-04-08T11:04:14.063806Z",
     "shell.execute_reply.started": "2022-04-08T10:59:11.156791Z"
    },
    "papermill": {
     "duration": 1.569738,
     "end_time": "2022-04-08T11:04:14.064250",
     "exception": false,
     "start_time": "2022-04-08T11:04:12.494512",
     "status": "completed"
    },
    "tags": []
   },
   "outputs": [
    {
     "name": "stderr",
     "output_type": "stream",
     "text": [
      "22/04/08 11:04:13 WARN Instrumentation: [004c2acf] regParam is zero, which might cause numerical instability and overfitting.\n"
     ]
    }
   ],
   "source": [
    "lin_reg = LinearRegression(labelCol='output')\n",
    "lr_model = lin_reg.fit(traindf)"
   ]
  },
  {
   "cell_type": "code",
   "execution_count": 20,
   "id": "67529aff",
   "metadata": {
    "execution": {
     "iopub.execute_input": "2022-04-08T11:04:14.490999Z",
     "iopub.status.busy": "2022-04-08T11:04:14.490316Z",
     "iopub.status.idle": "2022-04-08T11:04:14.506764Z",
     "shell.execute_reply": "2022-04-08T11:04:14.507597Z",
     "shell.execute_reply.started": "2022-04-08T10:59:38.741127Z"
    },
    "papermill": {
     "duration": 0.198025,
     "end_time": "2022-04-08T11:04:14.507888",
     "exception": false,
     "start_time": "2022-04-08T11:04:14.309863",
     "status": "completed"
    },
    "tags": []
   },
   "outputs": [
    {
     "name": "stdout",
     "output_type": "stream",
     "text": [
      "[0.00035099389979091053,5.048309429481829e-05,0.00012828411219195914,-0.64181295921011,0.45518586498134717]\n"
     ]
    }
   ],
   "source": [
    "print(lr_model.coefficients)"
   ]
  },
  {
   "cell_type": "code",
   "execution_count": 21,
   "id": "69df2921",
   "metadata": {
    "execution": {
     "iopub.execute_input": "2022-04-08T11:04:14.854425Z",
     "iopub.status.busy": "2022-04-08T11:04:14.853614Z",
     "iopub.status.idle": "2022-04-08T11:04:14.858730Z",
     "shell.execute_reply": "2022-04-08T11:04:14.859228Z",
     "shell.execute_reply.started": "2022-04-08T11:00:24.262317Z"
    },
    "papermill": {
     "duration": 0.179377,
     "end_time": "2022-04-08T11:04:14.859399",
     "exception": false,
     "start_time": "2022-04-08T11:04:14.680022",
     "status": "completed"
    },
    "tags": []
   },
   "outputs": [
    {
     "name": "stdout",
     "output_type": "stream",
     "text": [
      "0.19184779676850036\n"
     ]
    }
   ],
   "source": [
    "print(lr_model.intercept)"
   ]
  },
  {
   "cell_type": "code",
   "execution_count": 22,
   "id": "0464bf7a",
   "metadata": {
    "execution": {
     "iopub.execute_input": "2022-04-08T11:04:15.205644Z",
     "iopub.status.busy": "2022-04-08T11:04:15.205012Z",
     "iopub.status.idle": "2022-04-08T11:04:15.411672Z",
     "shell.execute_reply": "2022-04-08T11:04:15.410555Z",
     "shell.execute_reply.started": "2022-04-08T11:01:16.733653Z"
    },
    "papermill": {
     "duration": 0.381502,
     "end_time": "2022-04-08T11:04:15.411934",
     "exception": false,
     "start_time": "2022-04-08T11:04:15.030432",
     "status": "completed"
    },
    "tags": []
   },
   "outputs": [],
   "source": [
    "training_predictions = lr_model.evaluate(traindf)"
   ]
  },
  {
   "cell_type": "code",
   "execution_count": 23,
   "id": "692c0a5b",
   "metadata": {
    "execution": {
     "iopub.execute_input": "2022-04-08T11:04:15.799023Z",
     "iopub.status.busy": "2022-04-08T11:04:15.798172Z",
     "iopub.status.idle": "2022-04-08T11:04:15.801357Z",
     "shell.execute_reply": "2022-04-08T11:04:15.801879Z",
     "shell.execute_reply.started": "2022-04-08T11:01:23.226708Z"
    },
    "papermill": {
     "duration": 0.179235,
     "end_time": "2022-04-08T11:04:15.802045",
     "exception": false,
     "start_time": "2022-04-08T11:04:15.622810",
     "status": "completed"
    },
    "tags": []
   },
   "outputs": [
    {
     "data": {
      "text/plain": [
       "0.8715539052785934"
      ]
     },
     "execution_count": 23,
     "metadata": {},
     "output_type": "execute_result"
    }
   ],
   "source": [
    "training_predictions.r2"
   ]
  },
  {
   "cell_type": "code",
   "execution_count": 24,
   "id": "dbc00453",
   "metadata": {
    "execution": {
     "iopub.execute_input": "2022-04-08T11:04:16.149072Z",
     "iopub.status.busy": "2022-04-08T11:04:16.148042Z",
     "iopub.status.idle": "2022-04-08T11:04:16.396758Z",
     "shell.execute_reply": "2022-04-08T11:04:16.395695Z",
     "shell.execute_reply.started": "2022-04-08T11:01:54.998162Z"
    },
    "papermill": {
     "duration": 0.424243,
     "end_time": "2022-04-08T11:04:16.396959",
     "exception": false,
     "start_time": "2022-04-08T11:04:15.972716",
     "status": "completed"
    },
    "tags": []
   },
   "outputs": [
    {
     "data": {
      "text/plain": [
       "0.862352852637478"
      ]
     },
     "execution_count": 24,
     "metadata": {},
     "output_type": "execute_result"
    }
   ],
   "source": [
    "test_predictions = lr_model.evaluate(testdf)\n",
    "test_predictions.r2"
   ]
  },
  {
   "cell_type": "code",
   "execution_count": 25,
   "id": "af1ae53c",
   "metadata": {
    "execution": {
     "iopub.execute_input": "2022-04-08T11:04:16.751356Z",
     "iopub.status.busy": "2022-04-08T11:04:16.750614Z",
     "iopub.status.idle": "2022-04-08T11:04:16.753630Z",
     "shell.execute_reply": "2022-04-08T11:04:16.754082Z",
     "shell.execute_reply.started": "2022-04-08T11:02:21.918732Z"
    },
    "papermill": {
     "duration": 0.178959,
     "end_time": "2022-04-08T11:04:16.754255",
     "exception": false,
     "start_time": "2022-04-08T11:04:16.575296",
     "status": "completed"
    },
    "tags": []
   },
   "outputs": [
    {
     "name": "stdout",
     "output_type": "stream",
     "text": [
      "0.00016103148295356978\n"
     ]
    }
   ],
   "source": [
    "print(test_predictions.meanSquaredError)"
   ]
  },
  {
   "cell_type": "code",
   "execution_count": null,
   "id": "dbc60f47",
   "metadata": {
    "papermill": {
     "duration": 0.172024,
     "end_time": "2022-04-08T11:04:17.097935",
     "exception": false,
     "start_time": "2022-04-08T11:04:16.925911",
     "status": "completed"
    },
    "tags": []
   },
   "outputs": [],
   "source": []
  }
 ],
 "metadata": {
  "kernelspec": {
   "display_name": "Python 3",
   "language": "python",
   "name": "python3"
  },
  "language_info": {
   "codemirror_mode": {
    "name": "ipython",
    "version": 3
   },
   "file_extension": ".py",
   "mimetype": "text/x-python",
   "name": "python",
   "nbconvert_exporter": "python",
   "pygments_lexer": "ipython3",
   "version": "3.7.12"
  },
  "papermill": {
   "default_parameters": {},
   "duration": 95.407431,
   "end_time": "2022-04-08T11:04:18.187670",
   "environment_variables": {},
   "exception": null,
   "input_path": "__notebook__.ipynb",
   "output_path": "__notebook__.ipynb",
   "parameters": {},
   "start_time": "2022-04-08T11:02:42.780239",
   "version": "2.3.3"
  }
 },
 "nbformat": 4,
 "nbformat_minor": 5
}
