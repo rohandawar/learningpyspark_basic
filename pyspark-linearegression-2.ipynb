{
 "cells": [
  {
   "cell_type": "code",
   "execution_count": 1,
   "id": "718fc256",
   "metadata": {
    "_cell_guid": "b1076dfc-b9ad-4769-8c92-a6c4dae69d19",
    "_uuid": "8f2839f25d086af736a60e9eeb907d3b93b6e0e5",
    "execution": {
     "iopub.execute_input": "2022-04-06T09:14:10.021310Z",
     "iopub.status.busy": "2022-04-06T09:14:10.020184Z",
     "iopub.status.idle": "2022-04-06T09:14:10.035039Z",
     "shell.execute_reply": "2022-04-06T09:14:10.035727Z",
     "shell.execute_reply.started": "2022-04-06T08:40:41.674212Z"
    },
    "papermill": {
     "duration": 0.027491,
     "end_time": "2022-04-06T09:14:10.036100",
     "exception": false,
     "start_time": "2022-04-06T09:14:10.008609",
     "status": "completed"
    },
    "tags": []
   },
   "outputs": [
    {
     "name": "stdout",
     "output_type": "stream",
     "text": [
      "/kaggle/input/pyspark-linear-regression/Linear_regression_dataset.csv\n"
     ]
    }
   ],
   "source": [
    "# This Python 3 environment comes with many helpful analytics libraries installed\n",
    "# It is defined by the kaggle/python Docker image: https://github.com/kaggle/docker-python\n",
    "# For example, here's several helpful packages to load\n",
    "\n",
    "import numpy as np # linear algebra\n",
    "import pandas as pd # data processing, CSV file I/O (e.g. pd.read_csv)\n",
    "\n",
    "# Input data files are available in the read-only \"../input/\" directory\n",
    "# For example, running this (by clicking run or pressing Shift+Enter) will list all files under the input directory\n",
    "\n",
    "import os\n",
    "for dirname, _, filenames in os.walk('/kaggle/input'):\n",
    "    for filename in filenames:\n",
    "        print(os.path.join(dirname, filename))\n",
    "\n",
    "# You can write up to 20GB to the current directory (/kaggle/working/) that gets preserved as output when you create a version using \"Save & Run All\" \n",
    "# You can also write temporary files to /kaggle/temp/, but they won't be saved outside of the current session"
   ]
  },
  {
   "cell_type": "code",
   "execution_count": 2,
   "id": "69db2353",
   "metadata": {
    "execution": {
     "iopub.execute_input": "2022-04-06T09:14:10.055763Z",
     "iopub.status.busy": "2022-04-06T09:14:10.054792Z",
     "iopub.status.idle": "2022-04-06T09:15:04.315919Z",
     "shell.execute_reply": "2022-04-06T09:15:04.315148Z",
     "shell.execute_reply.started": "2022-04-06T08:42:31.545283Z"
    },
    "papermill": {
     "duration": 54.271339,
     "end_time": "2022-04-06T09:15:04.316096",
     "exception": false,
     "start_time": "2022-04-06T09:14:10.044757",
     "status": "completed"
    },
    "tags": []
   },
   "outputs": [
    {
     "name": "stdout",
     "output_type": "stream",
     "text": [
      "Collecting findspark\r\n",
      "  Downloading findspark-2.0.1-py2.py3-none-any.whl (4.4 kB)\r\n",
      "Installing collected packages: findspark\r\n",
      "Successfully installed findspark-2.0.1\r\n",
      "\u001b[33mWARNING: Running pip as the 'root' user can result in broken permissions and conflicting behaviour with the system package manager. It is recommended to use a virtual environment instead: https://pip.pypa.io/warnings/venv\u001b[0m\r\n",
      "Collecting pyspark\r\n",
      "  Downloading pyspark-3.2.1.tar.gz (281.4 MB)\r\n",
      "     |████████████████████████████████| 281.4 MB 33 kB/s              \r\n",
      "\u001b[?25h  Preparing metadata (setup.py) ... \u001b[?25l-\b \bdone\r\n",
      "\u001b[?25hCollecting py4j==0.10.9.3\r\n",
      "  Downloading py4j-0.10.9.3-py2.py3-none-any.whl (198 kB)\r\n",
      "     |████████████████████████████████| 198 kB 40.9 MB/s            \r\n",
      "\u001b[?25hBuilding wheels for collected packages: pyspark\r\n",
      "  Building wheel for pyspark (setup.py) ... \u001b[?25l-\b \b\\\b \b|\b \b/\b \b-\b \b\\\b \b|\b \b/\b \b-\b \b\\\b \b|\b \b/\b \b-\b \b\\\b \b|\b \b/\b \b-\b \b\\\b \b|\b \b/\b \b-\b \b\\\b \b|\b \b/\b \b-\b \b\\\b \b|\b \b/\b \b-\b \b\\\b \b|\b \b/\b \b-\b \b\\\b \b|\b \b/\b \b-\b \b\\\b \b|\b \b/\b \b-\b \b\\\b \b|\b \b/\b \b-\b \b\\\b \b|\b \b/\b \b-\b \b\\\b \b|\b \b/\b \b-\b \b\\\b \b|\b \b/\b \b-\b \bdone\r\n",
      "\u001b[?25h  Created wheel for pyspark: filename=pyspark-3.2.1-py2.py3-none-any.whl size=281853642 sha256=d674131c7bc855066e6701c4f9e32d51e1fe3b5162a0697462a95d56ccdc6bd3\r\n",
      "  Stored in directory: /root/.cache/pip/wheels/9f/f5/07/7cd8017084dce4e93e84e92efd1e1d5334db05f2e83bcef74f\r\n",
      "Successfully built pyspark\r\n",
      "Installing collected packages: py4j, pyspark\r\n",
      "  Attempting uninstall: py4j\r\n",
      "    Found existing installation: py4j 0.10.9.4\r\n",
      "    Uninstalling py4j-0.10.9.4:\r\n",
      "      Successfully uninstalled py4j-0.10.9.4\r\n",
      "Successfully installed py4j-0.10.9.3 pyspark-3.2.1\r\n",
      "\u001b[33mWARNING: Running pip as the 'root' user can result in broken permissions and conflicting behaviour with the system package manager. It is recommended to use a virtual environment instead: https://pip.pypa.io/warnings/venv\u001b[0m\r\n"
     ]
    }
   ],
   "source": [
    "!pip install findspark\n",
    "!pip install pyspark"
   ]
  },
  {
   "cell_type": "code",
   "execution_count": 3,
   "id": "ceeea979",
   "metadata": {
    "execution": {
     "iopub.execute_input": "2022-04-06T09:15:04.600486Z",
     "iopub.status.busy": "2022-04-06T09:15:04.599851Z",
     "iopub.status.idle": "2022-04-06T09:15:10.270695Z",
     "shell.execute_reply": "2022-04-06T09:15:10.270025Z",
     "shell.execute_reply.started": "2022-04-06T08:43:51.739530Z"
    },
    "papermill": {
     "duration": 5.813225,
     "end_time": "2022-04-06T09:15:10.270834",
     "exception": false,
     "start_time": "2022-04-06T09:15:04.457609",
     "status": "completed"
    },
    "tags": []
   },
   "outputs": [
    {
     "name": "stderr",
     "output_type": "stream",
     "text": [
      "WARNING: An illegal reflective access operation has occurred\n",
      "WARNING: Illegal reflective access by org.apache.spark.unsafe.Platform (file:/opt/conda/lib/python3.7/site-packages/pyspark/jars/spark-unsafe_2.12-3.2.1.jar) to constructor java.nio.DirectByteBuffer(long,int)\n",
      "WARNING: Please consider reporting this to the maintainers of org.apache.spark.unsafe.Platform\n",
      "WARNING: Use --illegal-access=warn to enable warnings of further illegal reflective access operations\n",
      "WARNING: All illegal access operations will be denied in a future release\n",
      "Using Spark's default log4j profile: org/apache/spark/log4j-defaults.properties\n",
      "Setting default log level to \"WARN\".\n",
      "To adjust logging level use sc.setLogLevel(newLevel). For SparkR, use setLogLevel(newLevel).\n",
      "22/04/06 09:15:07 WARN NativeCodeLoader: Unable to load native-hadoop library for your platform... using builtin-java classes where applicable\n"
     ]
    }
   ],
   "source": [
    "from pyspark.sql import SparkSession\n",
    "spark = SparkSession.builder.appName('liner-regress').getOrCreate()\n"
   ]
  },
  {
   "cell_type": "code",
   "execution_count": 4,
   "id": "38af2a7e",
   "metadata": {
    "execution": {
     "iopub.execute_input": "2022-04-06T09:15:10.583593Z",
     "iopub.status.busy": "2022-04-06T09:15:10.582933Z",
     "iopub.status.idle": "2022-04-06T09:15:16.210340Z",
     "shell.execute_reply": "2022-04-06T09:15:16.211050Z",
     "shell.execute_reply.started": "2022-04-06T08:45:06.881262Z"
    },
    "papermill": {
     "duration": 5.77117,
     "end_time": "2022-04-06T09:15:16.211332",
     "exception": false,
     "start_time": "2022-04-06T09:15:10.440162",
     "status": "completed"
    },
    "tags": []
   },
   "outputs": [
    {
     "data": {
      "text/plain": [
       "Row(var_1=734, var_2=688, var_3=81, var_4=0.328, var_5=0.259, output=0.418)"
      ]
     },
     "execution_count": 4,
     "metadata": {},
     "output_type": "execute_result"
    }
   ],
   "source": [
    "#Import Libs\n",
    "df = spark.read.csv('../input/pyspark-linear-regression', header=True, inferSchema=True)\n",
    "df.head()"
   ]
  },
  {
   "cell_type": "code",
   "execution_count": 5,
   "id": "a3d26ac1",
   "metadata": {
    "execution": {
     "iopub.execute_input": "2022-04-06T09:15:16.546254Z",
     "iopub.status.busy": "2022-04-06T09:15:16.545345Z",
     "iopub.status.idle": "2022-04-06T09:15:17.218323Z",
     "shell.execute_reply": "2022-04-06T09:15:17.217695Z",
     "shell.execute_reply.started": "2022-04-06T08:46:25.419142Z"
    },
    "papermill": {
     "duration": 0.833211,
     "end_time": "2022-04-06T09:15:17.218480",
     "exception": false,
     "start_time": "2022-04-06T09:15:16.385269",
     "status": "completed"
    },
    "tags": []
   },
   "outputs": [
    {
     "data": {
      "text/plain": [
       "(1232, 6)"
      ]
     },
     "execution_count": 5,
     "metadata": {},
     "output_type": "execute_result"
    }
   ],
   "source": [
    "#check the shape of the data\n",
    "df.count(), len(df.columns)"
   ]
  },
  {
   "cell_type": "code",
   "execution_count": 6,
   "id": "115195f0",
   "metadata": {
    "execution": {
     "iopub.execute_input": "2022-04-06T09:15:17.498480Z",
     "iopub.status.busy": "2022-04-06T09:15:17.496713Z",
     "iopub.status.idle": "2022-04-06T09:15:17.502898Z",
     "shell.execute_reply": "2022-04-06T09:15:17.503344Z",
     "shell.execute_reply.started": "2022-04-06T08:46:53.114589Z"
    },
    "papermill": {
     "duration": 0.14594,
     "end_time": "2022-04-06T09:15:17.503510",
     "exception": false,
     "start_time": "2022-04-06T09:15:17.357570",
     "status": "completed"
    },
    "tags": []
   },
   "outputs": [
    {
     "name": "stdout",
     "output_type": "stream",
     "text": [
      "root\n",
      " |-- var_1: integer (nullable = true)\n",
      " |-- var_2: integer (nullable = true)\n",
      " |-- var_3: integer (nullable = true)\n",
      " |-- var_4: double (nullable = true)\n",
      " |-- var_5: double (nullable = true)\n",
      " |-- output: double (nullable = true)\n",
      "\n"
     ]
    }
   ],
   "source": [
    "df.printSchema()"
   ]
  },
  {
   "cell_type": "code",
   "execution_count": 7,
   "id": "11b00082",
   "metadata": {
    "execution": {
     "iopub.execute_input": "2022-04-06T09:15:17.781582Z",
     "iopub.status.busy": "2022-04-06T09:15:17.780648Z",
     "iopub.status.idle": "2022-04-06T09:15:18.842871Z",
     "shell.execute_reply": "2022-04-06T09:15:18.843664Z",
     "shell.execute_reply.started": "2022-04-06T08:47:11.363276Z"
    },
    "papermill": {
     "duration": 1.203184,
     "end_time": "2022-04-06T09:15:18.843915",
     "exception": false,
     "start_time": "2022-04-06T09:15:17.640731",
     "status": "completed"
    },
    "tags": []
   },
   "outputs": [
    {
     "name": "stdout",
     "output_type": "stream",
     "text": [
      "+-------+-----------------+-----------------+------------------+--------------------+--------------------+-------------------+\n",
      "|summary|            var_1|            var_2|             var_3|               var_4|               var_5|             output|\n",
      "+-------+-----------------+-----------------+------------------+--------------------+--------------------+-------------------+\n",
      "|  count|             1232|             1232|              1232|                1232|                1232|               1232|\n",
      "|   mean|715.0819805194806|715.0819805194806| 80.90422077922078|  0.3263311688311693| 0.25927272727272715|0.39734172077922014|\n",
      "| stddev| 91.5342940441652|93.07993263118064|11.458139049993724|0.015012772334166148|0.012907228928000298|0.03326689862173776|\n",
      "|    min|              463|              472|                40|               0.277|               0.214|              0.301|\n",
      "|    max|             1009|             1103|               116|               0.373|               0.294|              0.491|\n",
      "+-------+-----------------+-----------------+------------------+--------------------+--------------------+-------------------+\n",
      "\n"
     ]
    }
   ],
   "source": [
    "df.describe().show()"
   ]
  },
  {
   "cell_type": "code",
   "execution_count": null,
   "id": "ef10211d",
   "metadata": {
    "papermill": {
     "duration": 0.138284,
     "end_time": "2022-04-06T09:15:19.146542",
     "exception": false,
     "start_time": "2022-04-06T09:15:19.008258",
     "status": "completed"
    },
    "tags": []
   },
   "outputs": [],
   "source": []
  }
 ],
 "metadata": {
  "kernelspec": {
   "display_name": "Python 3",
   "language": "python",
   "name": "python3"
  },
  "language_info": {
   "codemirror_mode": {
    "name": "ipython",
    "version": 3
   },
   "file_extension": ".py",
   "mimetype": "text/x-python",
   "name": "python",
   "nbconvert_exporter": "python",
   "pygments_lexer": "ipython3",
   "version": "3.7.12"
  },
  "papermill": {
   "default_parameters": {},
   "duration": 77.950203,
   "end_time": "2022-04-06T09:15:19.895167",
   "environment_variables": {},
   "exception": null,
   "input_path": "__notebook__.ipynb",
   "output_path": "__notebook__.ipynb",
   "parameters": {},
   "start_time": "2022-04-06T09:14:01.944964",
   "version": "2.3.3"
  }
 },
 "nbformat": 4,
 "nbformat_minor": 5
}
