{
 "cells": [
  {
   "cell_type": "code",
   "execution_count": 1,
   "id": "ae0a1a43",
   "metadata": {
    "_cell_guid": "b1076dfc-b9ad-4769-8c92-a6c4dae69d19",
    "_uuid": "8f2839f25d086af736a60e9eeb907d3b93b6e0e5",
    "execution": {
     "iopub.execute_input": "2022-04-04T13:10:56.175581Z",
     "iopub.status.busy": "2022-04-04T13:10:56.173788Z",
     "iopub.status.idle": "2022-04-04T13:10:56.194174Z",
     "shell.execute_reply": "2022-04-04T13:10:56.194746Z",
     "shell.execute_reply.started": "2022-04-04T12:16:37.021638Z"
    },
    "papermill": {
     "duration": 0.05659,
     "end_time": "2022-04-04T13:10:56.195048",
     "exception": false,
     "start_time": "2022-04-04T13:10:56.138458",
     "status": "completed"
    },
    "tags": []
   },
   "outputs": [
    {
     "name": "stdout",
     "output_type": "stream",
     "text": [
      "/kaggle/input/pyspark-sample-dataset/sample_data.csv\n"
     ]
    }
   ],
   "source": [
    "# This Python 3 environment comes with many helpful analytics libraries installed\n",
    "# It is defined by the kaggle/python Docker image: https://github.com/kaggle/docker-python\n",
    "# For example, here's several helpful packages to load\n",
    "\n",
    "import numpy as np # linear algebra\n",
    "import pandas as pd # data processing, CSV file I/O (e.g. pd.read_csv)\n",
    "\n",
    "# Input data files are available in the read-only \"../input/\" directory\n",
    "# For example, running this (by clicking run or pressing Shift+Enter) will list all files under the input directory\n",
    "\n",
    "import os\n",
    "for dirname, _, filenames in os.walk('/kaggle/input'):\n",
    "    for filename in filenames:\n",
    "        print(os.path.join(dirname, filename))\n",
    "\n",
    "# You can write up to 20GB to the current directory (/kaggle/working/) that gets preserved as output when you create a version using \"Save & Run All\" \n",
    "# You can also write temporary files to /kaggle/temp/, but they won't be saved outside of the current session"
   ]
  },
  {
   "cell_type": "code",
   "execution_count": 2,
   "id": "722dde3f",
   "metadata": {
    "execution": {
     "iopub.execute_input": "2022-04-04T13:10:56.259487Z",
     "iopub.status.busy": "2022-04-04T13:10:56.258505Z",
     "iopub.status.idle": "2022-04-04T13:11:48.922893Z",
     "shell.execute_reply": "2022-04-04T13:11:48.922057Z",
     "shell.execute_reply.started": "2022-04-04T12:16:37.034901Z"
    },
    "papermill": {
     "duration": 52.697182,
     "end_time": "2022-04-04T13:11:48.923048",
     "exception": false,
     "start_time": "2022-04-04T13:10:56.225866",
     "status": "completed"
    },
    "tags": []
   },
   "outputs": [
    {
     "name": "stdout",
     "output_type": "stream",
     "text": [
      "Collecting findspark\r\n",
      "  Downloading findspark-2.0.1-py2.py3-none-any.whl (4.4 kB)\r\n",
      "Installing collected packages: findspark\r\n",
      "Successfully installed findspark-2.0.1\r\n",
      "\u001b[33mWARNING: Running pip as the 'root' user can result in broken permissions and conflicting behaviour with the system package manager. It is recommended to use a virtual environment instead: https://pip.pypa.io/warnings/venv\u001b[0m\r\n",
      "Collecting pyspark\r\n",
      "  Downloading pyspark-3.2.1.tar.gz (281.4 MB)\r\n",
      "     |████████████████████████████████| 281.4 MB 34 kB/s              \r\n",
      "\u001b[?25h  Preparing metadata (setup.py) ... \u001b[?25l-\b \b\\\b \bdone\r\n",
      "\u001b[?25hCollecting py4j==0.10.9.3\r\n",
      "  Downloading py4j-0.10.9.3-py2.py3-none-any.whl (198 kB)\r\n",
      "     |████████████████████████████████| 198 kB 70.8 MB/s            \r\n",
      "\u001b[?25hBuilding wheels for collected packages: pyspark\r\n",
      "  Building wheel for pyspark (setup.py) ... \u001b[?25l-\b \b\\\b \b|\b \b/\b \b-\b \b\\\b \b|\b \b/\b \b-\b \b\\\b \b|\b \b/\b \b-\b \b\\\b \b|\b \b/\b \b-\b \b\\\b \b|\b \b/\b \b-\b \b\\\b \b|\b \b/\b \b-\b \b\\\b \b|\b \b/\b \b-\b \b\\\b \b|\b \b/\b \b-\b \b\\\b \b|\b \b/\b \b-\b \b\\\b \b|\b \b/\b \b-\b \b\\\b \b|\b \b/\b \b-\b \b\\\b \b|\b \b/\b \b-\b \b\\\b \b|\b \b/\b \b-\b \b\\\b \b|\b \b/\b \b-\b \b\\\b \bdone\r\n",
      "\u001b[?25h  Created wheel for pyspark: filename=pyspark-3.2.1-py2.py3-none-any.whl size=281853642 sha256=127219a22a8f4c5ae79dee601e8e0ca4b4342d19dfde832d04fb4f2cd97f9841\r\n",
      "  Stored in directory: /root/.cache/pip/wheels/9f/f5/07/7cd8017084dce4e93e84e92efd1e1d5334db05f2e83bcef74f\r\n",
      "Successfully built pyspark\r\n",
      "Installing collected packages: py4j, pyspark\r\n",
      "  Attempting uninstall: py4j\r\n",
      "    Found existing installation: py4j 0.10.9.4\r\n",
      "    Uninstalling py4j-0.10.9.4:\r\n",
      "      Successfully uninstalled py4j-0.10.9.4\r\n",
      "Successfully installed py4j-0.10.9.3 pyspark-3.2.1\r\n",
      "\u001b[33mWARNING: Running pip as the 'root' user can result in broken permissions and conflicting behaviour with the system package manager. It is recommended to use a virtual environment instead: https://pip.pypa.io/warnings/venv\u001b[0m\r\n"
     ]
    }
   ],
   "source": [
    "!pip install findspark\n",
    "!pip install pyspark"
   ]
  },
  {
   "cell_type": "code",
   "execution_count": 3,
   "id": "19605139",
   "metadata": {
    "execution": {
     "iopub.execute_input": "2022-04-04T13:11:49.241845Z",
     "iopub.status.busy": "2022-04-04T13:11:49.240912Z",
     "iopub.status.idle": "2022-04-04T13:11:49.280345Z",
     "shell.execute_reply": "2022-04-04T13:11:49.279766Z",
     "shell.execute_reply.started": "2022-04-04T12:17:31.759161Z"
    },
    "papermill": {
     "duration": 0.201898,
     "end_time": "2022-04-04T13:11:49.280484",
     "exception": false,
     "start_time": "2022-04-04T13:11:49.078586",
     "status": "completed"
    },
    "tags": []
   },
   "outputs": [],
   "source": [
    "import findspark\n",
    "findspark.init()\n",
    "import pyspark"
   ]
  },
  {
   "cell_type": "code",
   "execution_count": 4,
   "id": "92028db2",
   "metadata": {
    "execution": {
     "iopub.execute_input": "2022-04-04T13:11:49.590188Z",
     "iopub.status.busy": "2022-04-04T13:11:49.589172Z",
     "iopub.status.idle": "2022-04-04T13:11:55.516270Z",
     "shell.execute_reply": "2022-04-04T13:11:55.515374Z",
     "shell.execute_reply.started": "2022-04-04T12:17:31.803248Z"
    },
    "papermill": {
     "duration": 6.082745,
     "end_time": "2022-04-04T13:11:55.516515",
     "exception": false,
     "start_time": "2022-04-04T13:11:49.433770",
     "status": "completed"
    },
    "tags": []
   },
   "outputs": [
    {
     "name": "stderr",
     "output_type": "stream",
     "text": [
      "WARNING: An illegal reflective access operation has occurred\n",
      "WARNING: Illegal reflective access by org.apache.spark.unsafe.Platform (file:/opt/conda/lib/python3.7/site-packages/pyspark/jars/spark-unsafe_2.12-3.2.1.jar) to constructor java.nio.DirectByteBuffer(long,int)\n",
      "WARNING: Please consider reporting this to the maintainers of org.apache.spark.unsafe.Platform\n",
      "WARNING: Use --illegal-access=warn to enable warnings of further illegal reflective access operations\n",
      "WARNING: All illegal access operations will be denied in a future release\n",
      "Using Spark's default log4j profile: org/apache/spark/log4j-defaults.properties\n",
      "Setting default log level to \"WARN\".\n",
      "To adjust logging level use sc.setLogLevel(newLevel). For SparkR, use setLogLevel(newLevel).\n",
      "22/04/04 13:11:52 WARN NativeCodeLoader: Unable to load native-hadoop library for your platform... using builtin-java classes where applicable\n"
     ]
    }
   ],
   "source": [
    "from pyspark.sql import SparkSession\n",
    "spark = SparkSession.builder.appName('data_processing').getOrCreate()"
   ]
  },
  {
   "cell_type": "code",
   "execution_count": 5,
   "id": "b251c26f",
   "metadata": {
    "execution": {
     "iopub.execute_input": "2022-04-04T13:11:55.837681Z",
     "iopub.status.busy": "2022-04-04T13:11:55.836961Z",
     "iopub.status.idle": "2022-04-04T13:11:55.840739Z",
     "shell.execute_reply": "2022-04-04T13:11:55.841276Z",
     "shell.execute_reply.started": "2022-04-04T12:56:40.813033Z"
    },
    "papermill": {
     "duration": 0.167094,
     "end_time": "2022-04-04T13:11:55.841445",
     "exception": false,
     "start_time": "2022-04-04T13:11:55.674351",
     "status": "completed"
    },
    "tags": []
   },
   "outputs": [],
   "source": [
    "from pyspark.sql.types import StringType, DoubleType\n",
    "from pyspark.sql.functions import udf\n",
    "from pyspark.sql.functions import pandas_udf"
   ]
  },
  {
   "cell_type": "code",
   "execution_count": 6,
   "id": "6b95c068",
   "metadata": {
    "execution": {
     "iopub.execute_input": "2022-04-04T13:11:56.157239Z",
     "iopub.status.busy": "2022-04-04T13:11:56.156572Z",
     "iopub.status.idle": "2022-04-04T13:12:02.231685Z",
     "shell.execute_reply": "2022-04-04T13:12:02.230907Z",
     "shell.execute_reply.started": "2022-04-04T12:17:37.432724Z"
    },
    "papermill": {
     "duration": 6.236039,
     "end_time": "2022-04-04T13:12:02.231893",
     "exception": false,
     "start_time": "2022-04-04T13:11:55.995854",
     "status": "completed"
    },
    "tags": []
   },
   "outputs": [
    {
     "name": "stderr",
     "output_type": "stream",
     "text": [
      "                                                                                \r"
     ]
    },
    {
     "name": "stdout",
     "output_type": "stream",
     "text": [
      "+-------+---+----------+------+-------+\n",
      "|ratings|age|experience|family| mobile|\n",
      "+-------+---+----------+------+-------+\n",
      "|      3| 32|       9.0|     3|   Vivo|\n",
      "|      3| 27|      13.0|     3|  Apple|\n",
      "|      4| 22|       2.5|     0|Samsung|\n",
      "|      4| 37|      16.5|     4|  Apple|\n",
      "|      5| 27|       9.0|     1|     MI|\n",
      "|      4| 27|       9.0|     0|   Oppo|\n",
      "|      5| 37|      23.0|     5|   Vivo|\n",
      "|      5| 37|      23.0|     5|Samsung|\n",
      "|      3| 22|       2.5|     0|  Apple|\n",
      "|      3| 27|       6.0|     0|     MI|\n",
      "|      2| 27|       6.0|     2|   Oppo|\n",
      "|      5| 27|       6.0|     2|Samsung|\n",
      "|      3| 37|      16.5|     5|  Apple|\n",
      "|      5| 27|       6.0|     0|     MI|\n",
      "|      4| 22|       6.0|     1|   Oppo|\n",
      "|      4| 37|       9.0|     2|Samsung|\n",
      "|      4| 27|       6.0|     1|  Apple|\n",
      "|      1| 37|      23.0|     5|     MI|\n",
      "|      2| 42|      23.0|     2|   Oppo|\n",
      "|      4| 37|       6.0|     0|   Vivo|\n",
      "+-------+---+----------+------+-------+\n",
      "only showing top 20 rows\n",
      "\n"
     ]
    }
   ],
   "source": [
    "df = spark.read.csv('../input/pyspark-sample-dataset', inferSchema=True, header=True)\n",
    "df.show()"
   ]
  },
  {
   "cell_type": "code",
   "execution_count": 7,
   "id": "fde9293c",
   "metadata": {
    "execution": {
     "iopub.execute_input": "2022-04-04T13:12:02.566464Z",
     "iopub.status.busy": "2022-04-04T13:12:02.565774Z",
     "iopub.status.idle": "2022-04-04T13:12:02.596049Z",
     "shell.execute_reply": "2022-04-04T13:12:02.596893Z",
     "shell.execute_reply.started": "2022-04-04T12:17:44.150937Z"
    },
    "papermill": {
     "duration": 0.191399,
     "end_time": "2022-04-04T13:12:02.597136",
     "exception": false,
     "start_time": "2022-04-04T13:12:02.405737",
     "status": "completed"
    },
    "tags": []
   },
   "outputs": [
    {
     "data": {
      "text/plain": [
       "['ratings', 'age', 'experience', 'family', 'mobile']"
      ]
     },
     "execution_count": 7,
     "metadata": {},
     "output_type": "execute_result"
    }
   ],
   "source": [
    "#check the columns\n",
    "df.columns"
   ]
  },
  {
   "cell_type": "code",
   "execution_count": 8,
   "id": "324844e2",
   "metadata": {
    "execution": {
     "iopub.execute_input": "2022-04-04T13:12:02.921759Z",
     "iopub.status.busy": "2022-04-04T13:12:02.921003Z",
     "iopub.status.idle": "2022-04-04T13:12:02.924437Z",
     "shell.execute_reply": "2022-04-04T13:12:02.924917Z",
     "shell.execute_reply.started": "2022-04-04T12:17:44.191669Z"
    },
    "papermill": {
     "duration": 0.1632,
     "end_time": "2022-04-04T13:12:02.925084",
     "exception": false,
     "start_time": "2022-04-04T13:12:02.761884",
     "status": "completed"
    },
    "tags": []
   },
   "outputs": [
    {
     "data": {
      "text/plain": [
       "5"
      ]
     },
     "execution_count": 8,
     "metadata": {},
     "output_type": "execute_result"
    }
   ],
   "source": [
    "# number of columns\n",
    "len(df.columns)"
   ]
  },
  {
   "cell_type": "code",
   "execution_count": 9,
   "id": "19fd6eb8",
   "metadata": {
    "execution": {
     "iopub.execute_input": "2022-04-04T13:12:03.242880Z",
     "iopub.status.busy": "2022-04-04T13:12:03.242181Z",
     "iopub.status.idle": "2022-04-04T13:12:03.872909Z",
     "shell.execute_reply": "2022-04-04T13:12:03.872015Z",
     "shell.execute_reply.started": "2022-04-04T12:17:44.201548Z"
    },
    "papermill": {
     "duration": 0.790976,
     "end_time": "2022-04-04T13:12:03.873108",
     "exception": false,
     "start_time": "2022-04-04T13:12:03.082132",
     "status": "completed"
    },
    "tags": []
   },
   "outputs": [
    {
     "data": {
      "text/plain": [
       "33"
      ]
     },
     "execution_count": 9,
     "metadata": {},
     "output_type": "execute_result"
    }
   ],
   "source": [
    "#no of rows\n",
    "df.count()"
   ]
  },
  {
   "cell_type": "code",
   "execution_count": 10,
   "id": "589dc1da",
   "metadata": {
    "execution": {
     "iopub.execute_input": "2022-04-04T13:12:04.193690Z",
     "iopub.status.busy": "2022-04-04T13:12:04.192165Z",
     "iopub.status.idle": "2022-04-04T13:12:04.393781Z",
     "shell.execute_reply": "2022-04-04T13:12:04.392776Z",
     "shell.execute_reply.started": "2022-04-04T12:17:44.890554Z"
    },
    "papermill": {
     "duration": 0.361843,
     "end_time": "2022-04-04T13:12:04.394004",
     "exception": false,
     "start_time": "2022-04-04T13:12:04.032161",
     "status": "completed"
    },
    "tags": []
   },
   "outputs": [
    {
     "name": "stdout",
     "output_type": "stream",
     "text": [
      "The shape of the dataframe is:(33,5)\n"
     ]
    }
   ],
   "source": [
    "#since in pyspark, there is no direct method to get the shape, we use the combination of the two,\n",
    "print('The shape of the dataframe is:({},{})'.format((df.count()),(len(df.columns))))"
   ]
  },
  {
   "cell_type": "code",
   "execution_count": 11,
   "id": "94749520",
   "metadata": {
    "execution": {
     "iopub.execute_input": "2022-04-04T13:12:04.716054Z",
     "iopub.status.busy": "2022-04-04T13:12:04.715333Z",
     "iopub.status.idle": "2022-04-04T13:12:04.723551Z",
     "shell.execute_reply": "2022-04-04T13:12:04.722747Z",
     "shell.execute_reply.started": "2022-04-04T12:17:45.166280Z"
    },
    "papermill": {
     "duration": 0.171234,
     "end_time": "2022-04-04T13:12:04.723751",
     "exception": false,
     "start_time": "2022-04-04T13:12:04.552517",
     "status": "completed"
    },
    "tags": []
   },
   "outputs": [
    {
     "name": "stdout",
     "output_type": "stream",
     "text": [
      "root\n",
      " |-- ratings: integer (nullable = true)\n",
      " |-- age: integer (nullable = true)\n",
      " |-- experience: double (nullable = true)\n",
      " |-- family: integer (nullable = true)\n",
      " |-- mobile: string (nullable = true)\n",
      "\n"
     ]
    }
   ],
   "source": [
    "#the datatypes of the columns are as follows:\n",
    "df.printSchema()"
   ]
  },
  {
   "cell_type": "code",
   "execution_count": 12,
   "id": "78b4f1ba",
   "metadata": {
    "execution": {
     "iopub.execute_input": "2022-04-04T13:12:05.046258Z",
     "iopub.status.busy": "2022-04-04T13:12:05.045267Z",
     "iopub.status.idle": "2022-04-04T13:12:05.218741Z",
     "shell.execute_reply": "2022-04-04T13:12:05.217731Z",
     "shell.execute_reply.started": "2022-04-04T12:17:45.180930Z"
    },
    "papermill": {
     "duration": 0.334687,
     "end_time": "2022-04-04T13:12:05.218950",
     "exception": false,
     "start_time": "2022-04-04T13:12:04.884263",
     "status": "completed"
    },
    "tags": []
   },
   "outputs": [
    {
     "name": "stdout",
     "output_type": "stream",
     "text": [
      "+-------+---+----------+------+-------+\n",
      "|ratings|age|experience|family| mobile|\n",
      "+-------+---+----------+------+-------+\n",
      "|      3| 32|       9.0|     3|   Vivo|\n",
      "|      3| 27|      13.0|     3|  Apple|\n",
      "|      4| 22|       2.5|     0|Samsung|\n",
      "|      4| 37|      16.5|     4|  Apple|\n",
      "|      5| 27|       9.0|     1|     MI|\n",
      "+-------+---+----------+------+-------+\n",
      "only showing top 5 rows\n",
      "\n"
     ]
    }
   ],
   "source": [
    "#to display the first 5 rows\n",
    "df.show(5)"
   ]
  },
  {
   "cell_type": "code",
   "execution_count": 13,
   "id": "1fd7879c",
   "metadata": {
    "execution": {
     "iopub.execute_input": "2022-04-04T13:12:05.572449Z",
     "iopub.status.busy": "2022-04-04T13:12:05.571469Z",
     "iopub.status.idle": "2022-04-04T13:12:05.789575Z",
     "shell.execute_reply": "2022-04-04T13:12:05.788883Z",
     "shell.execute_reply.started": "2022-04-04T12:17:45.366763Z"
    },
    "papermill": {
     "duration": 0.385524,
     "end_time": "2022-04-04T13:12:05.789730",
     "exception": false,
     "start_time": "2022-04-04T13:12:05.404206",
     "status": "completed"
    },
    "tags": []
   },
   "outputs": [
    {
     "name": "stdout",
     "output_type": "stream",
     "text": [
      "+---+-------+\n",
      "|age| mobile|\n",
      "+---+-------+\n",
      "| 32|   Vivo|\n",
      "| 27|  Apple|\n",
      "| 22|Samsung|\n",
      "| 37|  Apple|\n",
      "| 27|     MI|\n",
      "+---+-------+\n",
      "only showing top 5 rows\n",
      "\n"
     ]
    }
   ],
   "source": [
    "#lets check only the 2 columns age & mobile, see only 5 rows\n",
    "df.select('age', 'mobile').show(5)"
   ]
  },
  {
   "cell_type": "code",
   "execution_count": 14,
   "id": "04209131",
   "metadata": {
    "execution": {
     "iopub.execute_input": "2022-04-04T13:12:06.189656Z",
     "iopub.status.busy": "2022-04-04T13:12:06.189010Z",
     "iopub.status.idle": "2022-04-04T13:12:07.471054Z",
     "shell.execute_reply": "2022-04-04T13:12:07.470506Z",
     "shell.execute_reply.started": "2022-04-04T12:17:45.627320Z"
    },
    "papermill": {
     "duration": 1.450599,
     "end_time": "2022-04-04T13:12:07.471204",
     "exception": false,
     "start_time": "2022-04-04T13:12:06.020605",
     "status": "completed"
    },
    "tags": []
   },
   "outputs": [
    {
     "name": "stderr",
     "output_type": "stream",
     "text": [
      "[Stage 11:>                                                         (0 + 1) / 1]\r"
     ]
    },
    {
     "name": "stdout",
     "output_type": "stream",
     "text": [
      "+-------+------------------+------------------+------------------+------------------+------+\n",
      "|summary|           ratings|               age|        experience|            family|mobile|\n",
      "+-------+------------------+------------------+------------------+------------------+------+\n",
      "|  count|                33|                33|                33|                33|    33|\n",
      "|   mean|3.5757575757575757|30.484848484848484|10.303030303030303|1.8181818181818181|  null|\n",
      "| stddev|1.1188806636071336|  6.18527087180309| 6.770731351213326|1.8448330794164254|  null|\n",
      "|    min|                 1|                22|               2.5|                 0| Apple|\n",
      "|    max|                 5|                42|              23.0|                 5|  Vivo|\n",
      "+-------+------------------+------------------+------------------+------------------+------+\n",
      "\n"
     ]
    },
    {
     "name": "stderr",
     "output_type": "stream",
     "text": [
      "                                                                                \r"
     ]
    }
   ],
   "source": [
    "#summary stats\n",
    "df.describe().show()"
   ]
  },
  {
   "cell_type": "code",
   "execution_count": 15,
   "id": "ac2a2824",
   "metadata": {
    "execution": {
     "iopub.execute_input": "2022-04-04T13:12:07.798995Z",
     "iopub.status.busy": "2022-04-04T13:12:07.797967Z",
     "iopub.status.idle": "2022-04-04T13:12:08.055578Z",
     "shell.execute_reply": "2022-04-04T13:12:08.056383Z",
     "shell.execute_reply.started": "2022-04-04T12:17:47.668716Z"
    },
    "papermill": {
     "duration": 0.424654,
     "end_time": "2022-04-04T13:12:08.056628",
     "exception": false,
     "start_time": "2022-04-04T13:12:07.631974",
     "status": "completed"
    },
    "tags": []
   },
   "outputs": [
    {
     "name": "stdout",
     "output_type": "stream",
     "text": [
      "+-------+---+----------+------+-------+------------------+\n",
      "|ratings|age|experience|family|mobile |age_after_10_years|\n",
      "+-------+---+----------+------+-------+------------------+\n",
      "|3      |32 |9.0       |3     |Vivo   |42                |\n",
      "|3      |27 |13.0      |3     |Apple  |37                |\n",
      "|4      |22 |2.5       |0     |Samsung|32                |\n",
      "|4      |37 |16.5      |4     |Apple  |47                |\n",
      "|5      |27 |9.0       |1     |MI     |37                |\n",
      "|4      |27 |9.0       |0     |Oppo   |37                |\n",
      "|5      |37 |23.0      |5     |Vivo   |47                |\n",
      "|5      |37 |23.0      |5     |Samsung|47                |\n",
      "|3      |22 |2.5       |0     |Apple  |32                |\n",
      "|3      |27 |6.0       |0     |MI     |37                |\n",
      "+-------+---+----------+------+-------+------------------+\n",
      "only showing top 10 rows\n",
      "\n"
     ]
    }
   ],
   "source": [
    "#add a new columns, which is the current column plus 10\n",
    "df = df.withColumn('age_after_10_years', (df['age']+10))\n",
    "df.show(10, False)"
   ]
  },
  {
   "cell_type": "code",
   "execution_count": 16,
   "id": "f01e8676",
   "metadata": {
    "execution": {
     "iopub.execute_input": "2022-04-04T13:12:08.479250Z",
     "iopub.status.busy": "2022-04-04T13:12:08.478277Z",
     "iopub.status.idle": "2022-04-04T13:12:08.655855Z",
     "shell.execute_reply": "2022-04-04T13:12:08.654918Z",
     "shell.execute_reply.started": "2022-04-04T12:17:48.001813Z"
    },
    "papermill": {
     "duration": 0.436346,
     "end_time": "2022-04-04T13:12:08.656076",
     "exception": false,
     "start_time": "2022-04-04T13:12:08.219730",
     "status": "completed"
    },
    "tags": []
   },
   "outputs": [
    {
     "name": "stdout",
     "output_type": "stream",
     "text": [
      "+-------+---+----------+------+-------+------------------+----------+\n",
      "|ratings|age|experience|family|mobile |age_after_10_years|age_Double|\n",
      "+-------+---+----------+------+-------+------------------+----------+\n",
      "|3      |32 |9.0       |3     |Vivo   |42                |32.0      |\n",
      "|3      |27 |13.0      |3     |Apple  |37                |27.0      |\n",
      "|4      |22 |2.5       |0     |Samsung|32                |22.0      |\n",
      "+-------+---+----------+------+-------+------------------+----------+\n",
      "only showing top 3 rows\n",
      "\n"
     ]
    }
   ],
   "source": [
    "#change the columns age dtype to double\n",
    "\n",
    "df = df.withColumn('age_Double', df['age'].cast(DoubleType()))\n",
    "df.show(3, False)"
   ]
  },
  {
   "cell_type": "code",
   "execution_count": 17,
   "id": "e5c1b429",
   "metadata": {
    "execution": {
     "iopub.execute_input": "2022-04-04T13:12:09.048404Z",
     "iopub.status.busy": "2022-04-04T13:12:09.047730Z",
     "iopub.status.idle": "2022-04-04T13:12:09.229920Z",
     "shell.execute_reply": "2022-04-04T13:12:09.228975Z",
     "shell.execute_reply.started": "2022-04-04T12:34:10.386207Z"
    },
    "papermill": {
     "duration": 0.346742,
     "end_time": "2022-04-04T13:12:09.230112",
     "exception": false,
     "start_time": "2022-04-04T13:12:08.883370",
     "status": "completed"
    },
    "tags": []
   },
   "outputs": [
    {
     "name": "stdout",
     "output_type": "stream",
     "text": [
      "+-------+---+----------+------+------+------------------+----------+\n",
      "|ratings|age|experience|family|mobile|age_after_10_years|age_Double|\n",
      "+-------+---+----------+------+------+------------------+----------+\n",
      "|3      |32 |9.0       |3     |Vivo  |42                |32.0      |\n",
      "|5      |37 |23.0      |5     |Vivo  |47                |37.0      |\n",
      "|4      |37 |6.0       |0     |Vivo  |47                |37.0      |\n",
      "|5      |37 |13.0      |1     |Vivo  |47                |37.0      |\n",
      "|4      |37 |6.0       |0     |Vivo  |47                |37.0      |\n",
      "+-------+---+----------+------+------+------------------+----------+\n",
      "\n"
     ]
    }
   ],
   "source": [
    "#Filter, there are 2 ways for filter\n",
    "#lets filter only Vivo\n",
    "df.filter(df['mobile']=='Vivo').show(5, False)"
   ]
  },
  {
   "cell_type": "code",
   "execution_count": 18,
   "id": "19aafafb",
   "metadata": {
    "execution": {
     "iopub.execute_input": "2022-04-04T13:12:09.555679Z",
     "iopub.status.busy": "2022-04-04T13:12:09.555021Z",
     "iopub.status.idle": "2022-04-04T13:12:09.760203Z",
     "shell.execute_reply": "2022-04-04T13:12:09.761716Z",
     "shell.execute_reply.started": "2022-04-04T12:37:45.122980Z"
    },
    "papermill": {
     "duration": 0.371904,
     "end_time": "2022-04-04T13:12:09.762528",
     "exception": false,
     "start_time": "2022-04-04T13:12:09.390624",
     "status": "completed"
    },
    "tags": []
   },
   "outputs": [
    {
     "name": "stdout",
     "output_type": "stream",
     "text": [
      "+-------+---+----------+------+------+------------------+----------+\n",
      "|ratings|age|experience|family|mobile|age_after_10_years|age_Double|\n",
      "+-------+---+----------+------+------+------------------+----------+\n",
      "|      5| 37|      23.0|     5|  Vivo|                47|      37.0|\n",
      "|      5| 37|      13.0|     1|  Vivo|                47|      37.0|\n",
      "+-------+---+----------+------+------+------------------+----------+\n",
      "\n"
     ]
    }
   ],
   "source": [
    "#adding 2 filter conditions--method#1\n",
    "df.filter(df['mobile']=='Vivo').filter(df['experience']>10).show()"
   ]
  },
  {
   "cell_type": "code",
   "execution_count": 19,
   "id": "cfd30a3d",
   "metadata": {
    "execution": {
     "iopub.execute_input": "2022-04-04T13:12:10.115284Z",
     "iopub.status.busy": "2022-04-04T13:12:10.113003Z",
     "iopub.status.idle": "2022-04-04T13:12:10.331324Z",
     "shell.execute_reply": "2022-04-04T13:12:10.329962Z",
     "shell.execute_reply.started": "2022-04-04T12:39:30.911087Z"
    },
    "papermill": {
     "duration": 0.381483,
     "end_time": "2022-04-04T13:12:10.331547",
     "exception": false,
     "start_time": "2022-04-04T13:12:09.950064",
     "status": "completed"
    },
    "tags": []
   },
   "outputs": [
    {
     "name": "stdout",
     "output_type": "stream",
     "text": [
      "+-------+---+----------+------+------+------------------+----------+\n",
      "|ratings|age|experience|family|mobile|age_after_10_years|age_Double|\n",
      "+-------+---+----------+------+------+------------------+----------+\n",
      "|      5| 37|      23.0|     5|  Vivo|                47|      37.0|\n",
      "|      5| 37|      13.0|     1|  Vivo|                47|      37.0|\n",
      "+-------+---+----------+------+------+------------------+----------+\n",
      "\n"
     ]
    }
   ],
   "source": [
    "#method #2, 2 conditions in one row.\n",
    "df.filter((df['mobile']=='Vivo') & (df['experience'] >10)).show()"
   ]
  },
  {
   "cell_type": "code",
   "execution_count": 20,
   "id": "4cde18db",
   "metadata": {
    "execution": {
     "iopub.execute_input": "2022-04-04T13:12:10.679255Z",
     "iopub.status.busy": "2022-04-04T13:12:10.677675Z",
     "iopub.status.idle": "2022-04-04T13:12:11.076649Z",
     "shell.execute_reply": "2022-04-04T13:12:11.075785Z",
     "shell.execute_reply.started": "2022-04-04T12:42:11.888360Z"
    },
    "papermill": {
     "duration": 0.561149,
     "end_time": "2022-04-04T13:12:11.076884",
     "exception": false,
     "start_time": "2022-04-04T13:12:10.515735",
     "status": "completed"
    },
    "tags": []
   },
   "outputs": [
    {
     "name": "stdout",
     "output_type": "stream",
     "text": [
      "+-------+\n",
      "| mobile|\n",
      "+-------+\n",
      "|     MI|\n",
      "|   Oppo|\n",
      "|Samsung|\n",
      "|   Vivo|\n",
      "|  Apple|\n",
      "+-------+\n",
      "\n"
     ]
    }
   ],
   "source": [
    "#checking distinct values in column\n",
    "df.select('mobile').distinct().show()"
   ]
  },
  {
   "cell_type": "code",
   "execution_count": 21,
   "id": "f3c3c4f1",
   "metadata": {
    "execution": {
     "iopub.execute_input": "2022-04-04T13:12:11.432625Z",
     "iopub.status.busy": "2022-04-04T13:12:11.431515Z",
     "iopub.status.idle": "2022-04-04T13:12:11.772770Z",
     "shell.execute_reply": "2022-04-04T13:12:11.771860Z",
     "shell.execute_reply.started": "2022-04-04T12:42:43.911282Z"
    },
    "papermill": {
     "duration": 0.505847,
     "end_time": "2022-04-04T13:12:11.772990",
     "exception": false,
     "start_time": "2022-04-04T13:12:11.267143",
     "status": "completed"
    },
    "tags": []
   },
   "outputs": [
    {
     "name": "stdout",
     "output_type": "stream",
     "text": [
      "+-------+-----+\n",
      "|mobile |count|\n",
      "+-------+-----+\n",
      "|MI     |8    |\n",
      "|Oppo   |7    |\n",
      "|Samsung|6    |\n",
      "|Vivo   |5    |\n",
      "|Apple  |7    |\n",
      "+-------+-----+\n",
      "\n"
     ]
    }
   ],
   "source": [
    "#grouping the data\n",
    "df.groupby('mobile').count().show(5, False)"
   ]
  },
  {
   "cell_type": "code",
   "execution_count": 22,
   "id": "cf9f37d7",
   "metadata": {
    "execution": {
     "iopub.execute_input": "2022-04-04T13:12:12.151077Z",
     "iopub.status.busy": "2022-04-04T13:12:12.150300Z",
     "iopub.status.idle": "2022-04-04T13:12:12.450032Z",
     "shell.execute_reply": "2022-04-04T13:12:12.448931Z",
     "shell.execute_reply.started": "2022-04-04T12:46:13.238934Z"
    },
    "papermill": {
     "duration": 0.465226,
     "end_time": "2022-04-04T13:12:12.450259",
     "exception": false,
     "start_time": "2022-04-04T13:12:11.985033",
     "status": "completed"
    },
    "tags": []
   },
   "outputs": [
    {
     "name": "stdout",
     "output_type": "stream",
     "text": [
      "+-------+-----+\n",
      "|mobile |count|\n",
      "+-------+-----+\n",
      "|MI     |8    |\n",
      "|Apple  |7    |\n",
      "|Oppo   |7    |\n",
      "|Samsung|6    |\n",
      "|Vivo   |5    |\n",
      "+-------+-----+\n",
      "\n"
     ]
    }
   ],
   "source": [
    "#groupby ascending\n",
    "df.groupby('mobile').count().orderBy('count', ascending=False).show(5, False)"
   ]
  },
  {
   "cell_type": "code",
   "execution_count": 23,
   "id": "fc16daa5",
   "metadata": {
    "execution": {
     "iopub.execute_input": "2022-04-04T13:12:12.887182Z",
     "iopub.status.busy": "2022-04-04T13:12:12.884876Z",
     "iopub.status.idle": "2022-04-04T13:12:13.317229Z",
     "shell.execute_reply": "2022-04-04T13:12:13.316117Z",
     "shell.execute_reply.started": "2022-04-04T12:47:04.675504Z"
    },
    "papermill": {
     "duration": 0.605211,
     "end_time": "2022-04-04T13:12:13.317510",
     "exception": false,
     "start_time": "2022-04-04T13:12:12.712299",
     "status": "completed"
    },
    "tags": []
   },
   "outputs": [
    {
     "name": "stdout",
     "output_type": "stream",
     "text": [
      "+-------+------------------+------------------+------------------+------------------+-----------------------+------------------+\n",
      "|mobile |avg(ratings)      |avg(age)          |avg(experience)   |avg(family)       |avg(age_after_10_years)|avg(age_Double)   |\n",
      "+-------+------------------+------------------+------------------+------------------+-----------------------+------------------+\n",
      "|MI     |3.5               |30.125            |10.1875           |1.375             |40.125                 |30.125            |\n",
      "|Oppo   |2.857142857142857 |28.428571428571427|10.357142857142858|1.4285714285714286|38.42857142857143      |28.428571428571427|\n",
      "|Samsung|4.166666666666667 |28.666666666666668|8.666666666666666 |1.8333333333333333|38.666666666666664     |28.666666666666668|\n",
      "|Vivo   |4.2               |36.0              |11.4              |1.8               |46.0                   |36.0              |\n",
      "|Apple  |3.4285714285714284|30.571428571428573|11.0              |2.7142857142857144|40.57142857142857      |30.571428571428573|\n",
      "+-------+------------------+------------------+------------------+------------------+-----------------------+------------------+\n",
      "\n"
     ]
    }
   ],
   "source": [
    "#checking the mean\n",
    "df.groupby('mobile').mean().show(5, False)"
   ]
  },
  {
   "cell_type": "code",
   "execution_count": 24,
   "id": "9e90014f",
   "metadata": {
    "execution": {
     "iopub.execute_input": "2022-04-04T13:12:13.707494Z",
     "iopub.status.busy": "2022-04-04T13:12:13.706607Z",
     "iopub.status.idle": "2022-04-04T13:12:14.048691Z",
     "shell.execute_reply": "2022-04-04T13:12:14.049437Z",
     "shell.execute_reply.started": "2022-04-04T12:49:14.101722Z"
    },
    "papermill": {
     "duration": 0.50957,
     "end_time": "2022-04-04T13:12:14.049671",
     "exception": false,
     "start_time": "2022-04-04T13:12:13.540101",
     "status": "completed"
    },
    "tags": []
   },
   "outputs": [
    {
     "name": "stdout",
     "output_type": "stream",
     "text": [
      "+-------+------------+--------+---------------+-----------+-----------------------+---------------+\n",
      "|mobile |sum(ratings)|sum(age)|sum(experience)|sum(family)|sum(age_after_10_years)|sum(age_Double)|\n",
      "+-------+------------+--------+---------------+-----------+-----------------------+---------------+\n",
      "|MI     |28          |241     |81.5           |11         |321                    |241.0          |\n",
      "|Oppo   |20          |199     |72.5           |10         |269                    |199.0          |\n",
      "|Samsung|25          |172     |52.0           |11         |232                    |172.0          |\n",
      "|Vivo   |21          |180     |57.0           |9          |230                    |180.0          |\n",
      "|Apple  |24          |214     |77.0           |19         |284                    |214.0          |\n",
      "+-------+------------+--------+---------------+-----------+-----------------------+---------------+\n",
      "\n"
     ]
    }
   ],
   "source": [
    "#chekcing the sum\n",
    "df.groupby('mobile').sum().show(5, False)"
   ]
  },
  {
   "cell_type": "code",
   "execution_count": 25,
   "id": "bc5d8be9",
   "metadata": {
    "execution": {
     "iopub.execute_input": "2022-04-04T13:12:14.388686Z",
     "iopub.status.busy": "2022-04-04T13:12:14.387670Z",
     "iopub.status.idle": "2022-04-04T13:12:14.718581Z",
     "shell.execute_reply": "2022-04-04T13:12:14.717689Z",
     "shell.execute_reply.started": "2022-04-04T12:49:49.301052Z"
    },
    "papermill": {
     "duration": 0.496572,
     "end_time": "2022-04-04T13:12:14.718799",
     "exception": false,
     "start_time": "2022-04-04T13:12:14.222227",
     "status": "completed"
    },
    "tags": []
   },
   "outputs": [
    {
     "name": "stdout",
     "output_type": "stream",
     "text": [
      "+-------+------------+--------+---------------+-----------+-----------------------+---------------+\n",
      "|mobile |min(ratings)|min(age)|min(experience)|min(family)|min(age_after_10_years)|min(age_Double)|\n",
      "+-------+------------+--------+---------------+-----------+-----------------------+---------------+\n",
      "|MI     |1           |27      |2.5            |0          |37                     |27.0           |\n",
      "|Oppo   |2           |22      |6.0            |0          |32                     |22.0           |\n",
      "|Samsung|2           |22      |2.5            |0          |32                     |22.0           |\n",
      "|Vivo   |3           |32      |6.0            |0          |42                     |32.0           |\n",
      "|Apple  |3           |22      |2.5            |0          |32                     |22.0           |\n",
      "+-------+------------+--------+---------------+-----------+-----------------------+---------------+\n",
      "\n"
     ]
    }
   ],
   "source": [
    "#chekcing min\n",
    "df.groupBy('mobile').min().show(5, False)"
   ]
  },
  {
   "cell_type": "code",
   "execution_count": 26,
   "id": "a330aa2e",
   "metadata": {
    "execution": {
     "iopub.execute_input": "2022-04-04T13:12:15.070110Z",
     "iopub.status.busy": "2022-04-04T13:12:15.069317Z",
     "iopub.status.idle": "2022-04-04T13:12:15.357692Z",
     "shell.execute_reply": "2022-04-04T13:12:15.356362Z",
     "shell.execute_reply.started": "2022-04-04T12:50:14.521755Z"
    },
    "papermill": {
     "duration": 0.456239,
     "end_time": "2022-04-04T13:12:15.357908",
     "exception": false,
     "start_time": "2022-04-04T13:12:14.901669",
     "status": "completed"
    },
    "tags": []
   },
   "outputs": [
    {
     "name": "stdout",
     "output_type": "stream",
     "text": [
      "+-------+------------+--------+---------------+-----------+-----------------------+---------------+\n",
      "|mobile |max(ratings)|max(age)|max(experience)|max(family)|max(age_after_10_years)|max(age_Double)|\n",
      "+-------+------------+--------+---------------+-----------+-----------------------+---------------+\n",
      "|MI     |5           |42      |23.0           |5          |52                     |42.0           |\n",
      "|Oppo   |4           |42      |23.0           |2          |52                     |42.0           |\n",
      "|Samsung|5           |37      |23.0           |5          |47                     |37.0           |\n",
      "|Vivo   |5           |37      |23.0           |5          |47                     |37.0           |\n",
      "|Apple  |4           |37      |16.5           |5          |47                     |37.0           |\n",
      "+-------+------------+--------+---------------+-----------+-----------------------+---------------+\n",
      "\n"
     ]
    }
   ],
   "source": [
    "#chekcing max\n",
    "df.groupby('mobile').max().show(5, False)"
   ]
  },
  {
   "cell_type": "code",
   "execution_count": 27,
   "id": "df2e3be7",
   "metadata": {
    "execution": {
     "iopub.execute_input": "2022-04-04T13:12:15.856952Z",
     "iopub.status.busy": "2022-04-04T13:12:15.856189Z",
     "iopub.status.idle": "2022-04-04T13:12:16.120394Z",
     "shell.execute_reply": "2022-04-04T13:12:16.119568Z",
     "shell.execute_reply.started": "2022-04-04T12:51:07.776600Z"
    },
    "papermill": {
     "duration": 0.486774,
     "end_time": "2022-04-04T13:12:16.120609",
     "exception": false,
     "start_time": "2022-04-04T13:12:15.633835",
     "status": "completed"
    },
    "tags": []
   },
   "outputs": [
    {
     "name": "stdout",
     "output_type": "stream",
     "text": [
      "+-------+---------------+\n",
      "|mobile |sum(experience)|\n",
      "+-------+---------------+\n",
      "|MI     |81.5           |\n",
      "|Oppo   |72.5           |\n",
      "|Samsung|52.0           |\n",
      "|Vivo   |57.0           |\n",
      "|Apple  |77.0           |\n",
      "+-------+---------------+\n",
      "\n"
     ]
    }
   ],
   "source": [
    "#we can also use aggregation to check  \n",
    "df.groupby('mobile').agg({'experience':'sum'}).show(5, False)"
   ]
  },
  {
   "cell_type": "code",
   "execution_count": 28,
   "id": "465c366c",
   "metadata": {
    "execution": {
     "iopub.execute_input": "2022-04-04T13:12:16.479606Z",
     "iopub.status.busy": "2022-04-04T13:12:16.476939Z",
     "iopub.status.idle": "2022-04-04T13:12:17.483228Z",
     "shell.execute_reply": "2022-04-04T13:12:17.483997Z",
     "shell.execute_reply.started": "2022-04-04T13:06:43.269912Z"
    },
    "papermill": {
     "duration": 1.177634,
     "end_time": "2022-04-04T13:12:17.484263",
     "exception": false,
     "start_time": "2022-04-04T13:12:16.306629",
     "status": "completed"
    },
    "tags": []
   },
   "outputs": [
    {
     "name": "stderr",
     "output_type": "stream",
     "text": [
      "[Stage 43:>                                                         (0 + 1) / 1]\r"
     ]
    },
    {
     "name": "stdout",
     "output_type": "stream",
     "text": [
      "+-------+---+----------+------+-------+------------------+----------+-----------+\n",
      "|ratings|age|experience|family|mobile |age_after_10_years|age_Double|price_range|\n",
      "+-------+---+----------+------+-------+------------------+----------+-----------+\n",
      "|3      |32 |9.0       |3     |Vivo   |42                |32.0      |Low Price  |\n",
      "|3      |27 |13.0      |3     |Apple  |37                |27.0      |High Price |\n",
      "|4      |22 |2.5       |0     |Samsung|32                |22.0      |High Price |\n",
      "|4      |37 |16.5      |4     |Apple  |47                |37.0      |High Price |\n",
      "|5      |27 |9.0       |1     |MI     |37                |27.0      |Mid Price  |\n",
      "|4      |27 |9.0       |0     |Oppo   |37                |27.0      |Low Price  |\n",
      "|5      |37 |23.0      |5     |Vivo   |47                |37.0      |Low Price  |\n",
      "|5      |37 |23.0      |5     |Samsung|47                |37.0      |High Price |\n",
      "|3      |22 |2.5       |0     |Apple  |32                |22.0      |High Price |\n",
      "|3      |27 |6.0       |0     |MI     |37                |27.0      |Mid Price  |\n",
      "+-------+---+----------+------+-------+------------------+----------+-----------+\n",
      "only showing top 10 rows\n",
      "\n"
     ]
    },
    {
     "name": "stderr",
     "output_type": "stream",
     "text": [
      "                                                                                \r"
     ]
    }
   ],
   "source": [
    "#udf\n",
    "#this one is done in 3 steps\n",
    "# Step #1 write a trational python function\n",
    "def price_rangefunction(brand):\n",
    "    if brand in ['Samsung', 'Apple']:\n",
    "        return 'High Price'\n",
    "    elif brand =='MI':\n",
    "        return 'Mid Price'\n",
    "    else:\n",
    "        return 'Low Price'\n",
    "\n",
    "# Step #2 , create a UDF\n",
    "brand_udf = udf(price_rangefunction, StringType())\n",
    "\n",
    "#step #3, apply the udf to mobile column\n",
    "df.withColumn('price_range', brand_udf(df['mobile'])).show(10, False)\n"
   ]
  },
  {
   "cell_type": "code",
   "execution_count": null,
   "id": "30fd8fbf",
   "metadata": {
    "papermill": {
     "duration": 0.164834,
     "end_time": "2022-04-04T13:12:17.874766",
     "exception": false,
     "start_time": "2022-04-04T13:12:17.709932",
     "status": "completed"
    },
    "tags": []
   },
   "outputs": [],
   "source": []
  }
 ],
 "metadata": {
  "kernelspec": {
   "display_name": "Python 3",
   "language": "python",
   "name": "python3"
  },
  "language_info": {
   "codemirror_mode": {
    "name": "ipython",
    "version": 3
   },
   "file_extension": ".py",
   "mimetype": "text/x-python",
   "name": "python",
   "nbconvert_exporter": "python",
   "pygments_lexer": "ipython3",
   "version": "3.7.12"
  },
  "papermill": {
   "default_parameters": {},
   "duration": 92.685166,
   "end_time": "2022-04-04T13:12:18.751828",
   "environment_variables": {},
   "exception": null,
   "input_path": "__notebook__.ipynb",
   "output_path": "__notebook__.ipynb",
   "parameters": {},
   "start_time": "2022-04-04T13:10:46.066662",
   "version": "2.3.3"
  }
 },
 "nbformat": 4,
 "nbformat_minor": 5
}
