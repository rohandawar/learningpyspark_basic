{
 "cells": [
  {
   "cell_type": "code",
   "execution_count": 1,
   "id": "ee875b6f",
   "metadata": {
    "_cell_guid": "b1076dfc-b9ad-4769-8c92-a6c4dae69d19",
    "_uuid": "8f2839f25d086af736a60e9eeb907d3b93b6e0e5",
    "execution": {
     "iopub.execute_input": "2022-04-04T07:53:33.997229Z",
     "iopub.status.busy": "2022-04-04T07:53:33.995535Z",
     "iopub.status.idle": "2022-04-04T07:53:34.012713Z",
     "shell.execute_reply": "2022-04-04T07:53:34.013537Z",
     "shell.execute_reply.started": "2022-04-04T06:06:59.496804Z"
    },
    "papermill": {
     "duration": 0.037745,
     "end_time": "2022-04-04T07:53:34.013834",
     "exception": false,
     "start_time": "2022-04-04T07:53:33.976089",
     "status": "completed"
    },
    "tags": []
   },
   "outputs": [
    {
     "name": "stdout",
     "output_type": "stream",
     "text": [
      "/kaggle/input/pyspark-sample-dataset/sample_data.csv\n"
     ]
    }
   ],
   "source": [
    "# This Python 3 environment comes with many helpful analytics libraries installed\n",
    "# It is defined by the kaggle/python Docker image: https://github.com/kaggle/docker-python\n",
    "# For example, here's several helpful packages to load\n",
    "\n",
    "import numpy as np # linear algebra\n",
    "import pandas as pd # data processing, CSV file I/O (e.g. pd.read_csv)\n",
    "\n",
    "# Input data files are available in the read-only \"../input/\" directory\n",
    "# For example, running this (by clicking run or pressing Shift+Enter) will list all files under the input directory\n",
    "\n",
    "import os\n",
    "for dirname, _, filenames in os.walk('/kaggle/input'):\n",
    "    for filename in filenames:\n",
    "        print(os.path.join(dirname, filename))\n",
    "\n",
    "# You can write up to 20GB to the current directory (/kaggle/working/) that gets preserved as output when you create a version using \"Save & Run All\" \n",
    "# You can also write temporary files to /kaggle/temp/, but they won't be saved outside of the current session"
   ]
  },
  {
   "cell_type": "code",
   "execution_count": 2,
   "id": "d8eeeab1",
   "metadata": {
    "execution": {
     "iopub.execute_input": "2022-04-04T07:53:34.048353Z",
     "iopub.status.busy": "2022-04-04T07:53:34.047651Z",
     "iopub.status.idle": "2022-04-04T07:54:35.730859Z",
     "shell.execute_reply": "2022-04-04T07:54:35.730119Z",
     "shell.execute_reply.started": "2022-04-04T06:09:20.669641Z"
    },
    "papermill": {
     "duration": 61.70016,
     "end_time": "2022-04-04T07:54:35.731150",
     "exception": false,
     "start_time": "2022-04-04T07:53:34.030990",
     "status": "completed"
    },
    "tags": []
   },
   "outputs": [
    {
     "name": "stdout",
     "output_type": "stream",
     "text": [
      "Collecting findspark\r\n",
      "  Downloading findspark-2.0.1-py2.py3-none-any.whl (4.4 kB)\r\n",
      "Installing collected packages: findspark\r\n",
      "Successfully installed findspark-2.0.1\r\n",
      "\u001b[33mWARNING: Running pip as the 'root' user can result in broken permissions and conflicting behaviour with the system package manager. It is recommended to use a virtual environment instead: https://pip.pypa.io/warnings/venv\u001b[0m\r\n",
      "Collecting pyspark\r\n",
      "  Downloading pyspark-3.2.1.tar.gz (281.4 MB)\r\n",
      "     |████████████████████████████████| 281.4 MB 34 kB/s               \r\n",
      "\u001b[?25h  Preparing metadata (setup.py) ... \u001b[?25l-\b \b\\\b \bdone\r\n",
      "\u001b[?25hCollecting py4j==0.10.9.3\r\n",
      "  Downloading py4j-0.10.9.3-py2.py3-none-any.whl (198 kB)\r\n",
      "     |████████████████████████████████| 198 kB 34.0 MB/s            \r\n",
      "\u001b[?25hBuilding wheels for collected packages: pyspark\r\n",
      "  Building wheel for pyspark (setup.py) ... \u001b[?25l-\b \b\\\b \b|\b \b/\b \b-\b \b\\\b \b|\b \b/\b \b-\b \b\\\b \b|\b \b/\b \b-\b \b\\\b \b|\b \b/\b \b-\b \b\\\b \b|\b \b/\b \b-\b \b\\\b \b|\b \b/\b \b-\b \b\\\b \b|\b \b/\b \b-\b \b\\\b \b|\b \b/\b \b-\b \b\\\b \b|\b \b/\b \b-\b \b\\\b \b|\b \b/\b \b-\b \b\\\b \b|\b \b/\b \b-\b \b\\\b \b|\b \b/\b \b-\b \b\\\b \b|\b \b/\b \b-\b \b\\\b \b|\b \b/\b \b-\b \b\\\b \b|\b \b/\b \b-\b \b\\\b \b|\b \b/\b \b-\b \b\\\b \b|\b \b/\b \b-\b \b\\\b \b|\b \b/\b \b-\b \b\\\b \b|\b \bdone\r\n",
      "\u001b[?25h  Created wheel for pyspark: filename=pyspark-3.2.1-py2.py3-none-any.whl size=281853642 sha256=0e412ee99c968e27f78a7332e43c7671952e797f646f6ae4c42e7de8b73ea198\r\n",
      "  Stored in directory: /root/.cache/pip/wheels/9f/f5/07/7cd8017084dce4e93e84e92efd1e1d5334db05f2e83bcef74f\r\n",
      "Successfully built pyspark\r\n",
      "Installing collected packages: py4j, pyspark\r\n",
      "  Attempting uninstall: py4j\r\n",
      "    Found existing installation: py4j 0.10.9.4\r\n",
      "    Uninstalling py4j-0.10.9.4:\r\n",
      "      Successfully uninstalled py4j-0.10.9.4\r\n",
      "Successfully installed py4j-0.10.9.3 pyspark-3.2.1\r\n",
      "\u001b[33mWARNING: Running pip as the 'root' user can result in broken permissions and conflicting behaviour with the system package manager. It is recommended to use a virtual environment instead: https://pip.pypa.io/warnings/venv\u001b[0m\r\n"
     ]
    }
   ],
   "source": [
    "!pip install findspark\n",
    "!pip install pyspark"
   ]
  },
  {
   "cell_type": "code",
   "execution_count": 3,
   "id": "27e8b931",
   "metadata": {
    "execution": {
     "iopub.execute_input": "2022-04-04T07:54:36.054240Z",
     "iopub.status.busy": "2022-04-04T07:54:36.053571Z",
     "iopub.status.idle": "2022-04-04T07:54:36.109127Z",
     "shell.execute_reply": "2022-04-04T07:54:36.108594Z",
     "shell.execute_reply.started": "2022-04-04T06:10:38.400541Z"
    },
    "papermill": {
     "duration": 0.219421,
     "end_time": "2022-04-04T07:54:36.109276",
     "exception": false,
     "start_time": "2022-04-04T07:54:35.889855",
     "status": "completed"
    },
    "tags": []
   },
   "outputs": [],
   "source": [
    "import findspark\n",
    "findspark.init()\n",
    "import pyspark"
   ]
  },
  {
   "cell_type": "code",
   "execution_count": 4,
   "id": "c0aa7aa8",
   "metadata": {
    "execution": {
     "iopub.execute_input": "2022-04-04T07:54:36.421039Z",
     "iopub.status.busy": "2022-04-04T07:54:36.420415Z",
     "iopub.status.idle": "2022-04-04T07:54:42.750618Z",
     "shell.execute_reply": "2022-04-04T07:54:42.749388Z",
     "shell.execute_reply.started": "2022-04-04T06:11:32.582156Z"
    },
    "papermill": {
     "duration": 6.487505,
     "end_time": "2022-04-04T07:54:42.750863",
     "exception": false,
     "start_time": "2022-04-04T07:54:36.263358",
     "status": "completed"
    },
    "tags": []
   },
   "outputs": [
    {
     "name": "stderr",
     "output_type": "stream",
     "text": [
      "WARNING: An illegal reflective access operation has occurred\n",
      "WARNING: Illegal reflective access by org.apache.spark.unsafe.Platform (file:/opt/conda/lib/python3.7/site-packages/pyspark/jars/spark-unsafe_2.12-3.2.1.jar) to constructor java.nio.DirectByteBuffer(long,int)\n",
      "WARNING: Please consider reporting this to the maintainers of org.apache.spark.unsafe.Platform\n",
      "WARNING: Use --illegal-access=warn to enable warnings of further illegal reflective access operations\n",
      "WARNING: All illegal access operations will be denied in a future release\n",
      "Using Spark's default log4j profile: org/apache/spark/log4j-defaults.properties\n",
      "Setting default log level to \"WARN\".\n",
      "To adjust logging level use sc.setLogLevel(newLevel). For SparkR, use setLogLevel(newLevel).\n",
      "22/04/04 07:54:39 WARN NativeCodeLoader: Unable to load native-hadoop library for your platform... using builtin-java classes where applicable\n"
     ]
    }
   ],
   "source": [
    "from pyspark.sql import SparkSession\n",
    "spark = SparkSession.builder.appName('data_processing').getOrCreate()"
   ]
  },
  {
   "cell_type": "code",
   "execution_count": 5,
   "id": "48897300",
   "metadata": {
    "execution": {
     "iopub.execute_input": "2022-04-04T07:54:43.094882Z",
     "iopub.status.busy": "2022-04-04T07:54:43.094179Z",
     "iopub.status.idle": "2022-04-04T07:54:43.095842Z",
     "shell.execute_reply": "2022-04-04T07:54:43.096400Z",
     "shell.execute_reply.started": "2022-04-04T06:55:40.560044Z"
    },
    "papermill": {
     "duration": 0.16865,
     "end_time": "2022-04-04T07:54:43.096573",
     "exception": false,
     "start_time": "2022-04-04T07:54:42.927923",
     "status": "completed"
    },
    "tags": []
   },
   "outputs": [],
   "source": [
    "from pyspark.sql.types import StringType, DoubleType"
   ]
  },
  {
   "cell_type": "code",
   "execution_count": 6,
   "id": "0e79ce95",
   "metadata": {
    "execution": {
     "iopub.execute_input": "2022-04-04T07:54:43.403776Z",
     "iopub.status.busy": "2022-04-04T07:54:43.403069Z",
     "iopub.status.idle": "2022-04-04T07:54:49.658968Z",
     "shell.execute_reply": "2022-04-04T07:54:49.657951Z",
     "shell.execute_reply.started": "2022-04-04T06:14:06.584930Z"
    },
    "papermill": {
     "duration": 6.410168,
     "end_time": "2022-04-04T07:54:49.659245",
     "exception": false,
     "start_time": "2022-04-04T07:54:43.249077",
     "status": "completed"
    },
    "tags": []
   },
   "outputs": [
    {
     "name": "stderr",
     "output_type": "stream",
     "text": [
      "                                                                                \r"
     ]
    },
    {
     "name": "stdout",
     "output_type": "stream",
     "text": [
      "+-------+---+----------+------+-------+\n",
      "|ratings|age|experience|family| mobile|\n",
      "+-------+---+----------+------+-------+\n",
      "|      3| 32|       9.0|     3|   Vivo|\n",
      "|      3| 27|      13.0|     3|  Apple|\n",
      "|      4| 22|       2.5|     0|Samsung|\n",
      "|      4| 37|      16.5|     4|  Apple|\n",
      "|      5| 27|       9.0|     1|     MI|\n",
      "|      4| 27|       9.0|     0|   Oppo|\n",
      "|      5| 37|      23.0|     5|   Vivo|\n",
      "|      5| 37|      23.0|     5|Samsung|\n",
      "|      3| 22|       2.5|     0|  Apple|\n",
      "|      3| 27|       6.0|     0|     MI|\n",
      "|      2| 27|       6.0|     2|   Oppo|\n",
      "|      5| 27|       6.0|     2|Samsung|\n",
      "|      3| 37|      16.5|     5|  Apple|\n",
      "|      5| 27|       6.0|     0|     MI|\n",
      "|      4| 22|       6.0|     1|   Oppo|\n",
      "|      4| 37|       9.0|     2|Samsung|\n",
      "|      4| 27|       6.0|     1|  Apple|\n",
      "|      1| 37|      23.0|     5|     MI|\n",
      "|      2| 42|      23.0|     2|   Oppo|\n",
      "|      4| 37|       6.0|     0|   Vivo|\n",
      "+-------+---+----------+------+-------+\n",
      "only showing top 20 rows\n",
      "\n"
     ]
    }
   ],
   "source": [
    "df = spark.read.csv('../input/pyspark-sample-dataset', inferSchema=True, header=True)\n",
    "df.show()"
   ]
  },
  {
   "cell_type": "code",
   "execution_count": 7,
   "id": "b3d6d88c",
   "metadata": {
    "execution": {
     "iopub.execute_input": "2022-04-04T07:54:49.999350Z",
     "iopub.status.busy": "2022-04-04T07:54:49.998657Z",
     "iopub.status.idle": "2022-04-04T07:54:50.030786Z",
     "shell.execute_reply": "2022-04-04T07:54:50.031247Z",
     "shell.execute_reply.started": "2022-04-04T06:15:15.872185Z"
    },
    "papermill": {
     "duration": 0.194482,
     "end_time": "2022-04-04T07:54:50.031433",
     "exception": false,
     "start_time": "2022-04-04T07:54:49.836951",
     "status": "completed"
    },
    "tags": []
   },
   "outputs": [
    {
     "data": {
      "text/plain": [
       "['ratings', 'age', 'experience', 'family', 'mobile']"
      ]
     },
     "execution_count": 7,
     "metadata": {},
     "output_type": "execute_result"
    }
   ],
   "source": [
    "#check the columns\n",
    "df.columns"
   ]
  },
  {
   "cell_type": "code",
   "execution_count": 8,
   "id": "2c1d5d4f",
   "metadata": {
    "execution": {
     "iopub.execute_input": "2022-04-04T07:54:50.341604Z",
     "iopub.status.busy": "2022-04-04T07:54:50.341000Z",
     "iopub.status.idle": "2022-04-04T07:54:50.344673Z",
     "shell.execute_reply": "2022-04-04T07:54:50.344186Z",
     "shell.execute_reply.started": "2022-04-04T06:15:33.798598Z"
    },
    "papermill": {
     "duration": 0.159297,
     "end_time": "2022-04-04T07:54:50.344819",
     "exception": false,
     "start_time": "2022-04-04T07:54:50.185522",
     "status": "completed"
    },
    "tags": []
   },
   "outputs": [
    {
     "data": {
      "text/plain": [
       "5"
      ]
     },
     "execution_count": 8,
     "metadata": {},
     "output_type": "execute_result"
    }
   ],
   "source": [
    "# number of columns\n",
    "len(df.columns)"
   ]
  },
  {
   "cell_type": "code",
   "execution_count": 9,
   "id": "c16e42a4",
   "metadata": {
    "execution": {
     "iopub.execute_input": "2022-04-04T07:54:50.658857Z",
     "iopub.status.busy": "2022-04-04T07:54:50.658227Z",
     "iopub.status.idle": "2022-04-04T07:54:51.281821Z",
     "shell.execute_reply": "2022-04-04T07:54:51.280883Z",
     "shell.execute_reply.started": "2022-04-04T06:21:25.447128Z"
    },
    "papermill": {
     "duration": 0.782049,
     "end_time": "2022-04-04T07:54:51.282055",
     "exception": false,
     "start_time": "2022-04-04T07:54:50.500006",
     "status": "completed"
    },
    "tags": []
   },
   "outputs": [
    {
     "data": {
      "text/plain": [
       "33"
      ]
     },
     "execution_count": 9,
     "metadata": {},
     "output_type": "execute_result"
    }
   ],
   "source": [
    "#no of rows\n",
    "df.count()"
   ]
  },
  {
   "cell_type": "code",
   "execution_count": 10,
   "id": "3ae8d265",
   "metadata": {
    "execution": {
     "iopub.execute_input": "2022-04-04T07:54:51.662754Z",
     "iopub.status.busy": "2022-04-04T07:54:51.661744Z",
     "iopub.status.idle": "2022-04-04T07:54:51.879921Z",
     "shell.execute_reply": "2022-04-04T07:54:51.879262Z",
     "shell.execute_reply.started": "2022-04-04T06:39:21.915528Z"
    },
    "papermill": {
     "duration": 0.426208,
     "end_time": "2022-04-04T07:54:51.880066",
     "exception": false,
     "start_time": "2022-04-04T07:54:51.453858",
     "status": "completed"
    },
    "tags": []
   },
   "outputs": [
    {
     "name": "stdout",
     "output_type": "stream",
     "text": [
      "The shape of the dataframe is:(33,5)\n"
     ]
    }
   ],
   "source": [
    "#since in pyspark, there is no direct method to get the shape, we use the combination of the two,\n",
    "print('The shape of the dataframe is:({},{})'.format((df.count()),(len(df.columns))))"
   ]
  },
  {
   "cell_type": "code",
   "execution_count": 11,
   "id": "60ae6e38",
   "metadata": {
    "execution": {
     "iopub.execute_input": "2022-04-04T07:54:52.212894Z",
     "iopub.status.busy": "2022-04-04T07:54:52.212089Z",
     "iopub.status.idle": "2022-04-04T07:54:52.220043Z",
     "shell.execute_reply": "2022-04-04T07:54:52.220820Z",
     "shell.execute_reply.started": "2022-04-04T06:39:49.787504Z"
    },
    "papermill": {
     "duration": 0.171634,
     "end_time": "2022-04-04T07:54:52.221068",
     "exception": false,
     "start_time": "2022-04-04T07:54:52.049434",
     "status": "completed"
    },
    "tags": []
   },
   "outputs": [
    {
     "name": "stdout",
     "output_type": "stream",
     "text": [
      "root\n",
      " |-- ratings: integer (nullable = true)\n",
      " |-- age: integer (nullable = true)\n",
      " |-- experience: double (nullable = true)\n",
      " |-- family: integer (nullable = true)\n",
      " |-- mobile: string (nullable = true)\n",
      "\n"
     ]
    }
   ],
   "source": [
    "#the datatypes of the columns are as follows:\n",
    "df.printSchema()"
   ]
  },
  {
   "cell_type": "code",
   "execution_count": 12,
   "id": "c744ef82",
   "metadata": {
    "execution": {
     "iopub.execute_input": "2022-04-04T07:54:52.551204Z",
     "iopub.status.busy": "2022-04-04T07:54:52.550166Z",
     "iopub.status.idle": "2022-04-04T07:54:52.730888Z",
     "shell.execute_reply": "2022-04-04T07:54:52.731360Z",
     "shell.execute_reply.started": "2022-04-04T06:40:29.613158Z"
    },
    "papermill": {
     "duration": 0.346396,
     "end_time": "2022-04-04T07:54:52.731557",
     "exception": false,
     "start_time": "2022-04-04T07:54:52.385161",
     "status": "completed"
    },
    "tags": []
   },
   "outputs": [
    {
     "name": "stdout",
     "output_type": "stream",
     "text": [
      "+-------+---+----------+------+-------+\n",
      "|ratings|age|experience|family| mobile|\n",
      "+-------+---+----------+------+-------+\n",
      "|      3| 32|       9.0|     3|   Vivo|\n",
      "|      3| 27|      13.0|     3|  Apple|\n",
      "|      4| 22|       2.5|     0|Samsung|\n",
      "|      4| 37|      16.5|     4|  Apple|\n",
      "|      5| 27|       9.0|     1|     MI|\n",
      "+-------+---+----------+------+-------+\n",
      "only showing top 5 rows\n",
      "\n"
     ]
    }
   ],
   "source": [
    "#to display the first 5 rows\n",
    "df.show(5)"
   ]
  },
  {
   "cell_type": "code",
   "execution_count": 13,
   "id": "d803ccf2",
   "metadata": {
    "execution": {
     "iopub.execute_input": "2022-04-04T07:54:53.105806Z",
     "iopub.status.busy": "2022-04-04T07:54:53.104785Z",
     "iopub.status.idle": "2022-04-04T07:54:53.348049Z",
     "shell.execute_reply": "2022-04-04T07:54:53.349393Z",
     "shell.execute_reply.started": "2022-04-04T06:42:04.727461Z"
    },
    "papermill": {
     "duration": 0.415843,
     "end_time": "2022-04-04T07:54:53.349846",
     "exception": false,
     "start_time": "2022-04-04T07:54:52.934003",
     "status": "completed"
    },
    "tags": []
   },
   "outputs": [
    {
     "name": "stdout",
     "output_type": "stream",
     "text": [
      "+---+-------+\n",
      "|age| mobile|\n",
      "+---+-------+\n",
      "| 32|   Vivo|\n",
      "| 27|  Apple|\n",
      "| 22|Samsung|\n",
      "| 37|  Apple|\n",
      "| 27|     MI|\n",
      "+---+-------+\n",
      "only showing top 5 rows\n",
      "\n"
     ]
    }
   ],
   "source": [
    "#lets check only the 2 columns age & mobile, see only 5 rows\n",
    "df.select('age', 'mobile').show(5)"
   ]
  },
  {
   "cell_type": "code",
   "execution_count": 14,
   "id": "4cfd9891",
   "metadata": {
    "execution": {
     "iopub.execute_input": "2022-04-04T07:54:53.763768Z",
     "iopub.status.busy": "2022-04-04T07:54:53.763103Z",
     "iopub.status.idle": "2022-04-04T07:54:54.853207Z",
     "shell.execute_reply": "2022-04-04T07:54:54.852227Z",
     "shell.execute_reply.started": "2022-04-04T06:42:22.717891Z"
    },
    "papermill": {
     "duration": 1.257718,
     "end_time": "2022-04-04T07:54:54.853436",
     "exception": false,
     "start_time": "2022-04-04T07:54:53.595718",
     "status": "completed"
    },
    "tags": []
   },
   "outputs": [
    {
     "name": "stdout",
     "output_type": "stream",
     "text": [
      "+-------+------------------+------------------+------------------+------------------+------+\n",
      "|summary|           ratings|               age|        experience|            family|mobile|\n",
      "+-------+------------------+------------------+------------------+------------------+------+\n",
      "|  count|                33|                33|                33|                33|    33|\n",
      "|   mean|3.5757575757575757|30.484848484848484|10.303030303030303|1.8181818181818181|  null|\n",
      "| stddev|1.1188806636071336|  6.18527087180309| 6.770731351213326|1.8448330794164254|  null|\n",
      "|    min|                 1|                22|               2.5|                 0| Apple|\n",
      "|    max|                 5|                42|              23.0|                 5|  Vivo|\n",
      "+-------+------------------+------------------+------------------+------------------+------+\n",
      "\n"
     ]
    }
   ],
   "source": [
    "#summary stats\n",
    "df.describe().show()"
   ]
  },
  {
   "cell_type": "code",
   "execution_count": 15,
   "id": "980c05d3",
   "metadata": {
    "execution": {
     "iopub.execute_input": "2022-04-04T07:54:55.193138Z",
     "iopub.status.busy": "2022-04-04T07:54:55.192269Z",
     "iopub.status.idle": "2022-04-04T07:54:55.405310Z",
     "shell.execute_reply": "2022-04-04T07:54:55.404420Z",
     "shell.execute_reply.started": "2022-04-04T06:54:25.860316Z"
    },
    "papermill": {
     "duration": 0.38149,
     "end_time": "2022-04-04T07:54:55.405510",
     "exception": false,
     "start_time": "2022-04-04T07:54:55.024020",
     "status": "completed"
    },
    "tags": []
   },
   "outputs": [
    {
     "name": "stdout",
     "output_type": "stream",
     "text": [
      "+-------+---+----------+------+-------+------------------+\n",
      "|ratings|age|experience|family|mobile |age_after_10_years|\n",
      "+-------+---+----------+------+-------+------------------+\n",
      "|3      |32 |9.0       |3     |Vivo   |42                |\n",
      "|3      |27 |13.0      |3     |Apple  |37                |\n",
      "|4      |22 |2.5       |0     |Samsung|32                |\n",
      "|4      |37 |16.5      |4     |Apple  |47                |\n",
      "|5      |27 |9.0       |1     |MI     |37                |\n",
      "|4      |27 |9.0       |0     |Oppo   |37                |\n",
      "|5      |37 |23.0      |5     |Vivo   |47                |\n",
      "|5      |37 |23.0      |5     |Samsung|47                |\n",
      "|3      |22 |2.5       |0     |Apple  |32                |\n",
      "|3      |27 |6.0       |0     |MI     |37                |\n",
      "+-------+---+----------+------+-------+------------------+\n",
      "only showing top 10 rows\n",
      "\n"
     ]
    }
   ],
   "source": [
    "#add a new columns, which is the current column plus 10\n",
    "df = df.withColumn('age_after_10_years', (df['age']+10))\n",
    "df.show(10, False)"
   ]
  },
  {
   "cell_type": "code",
   "execution_count": 16,
   "id": "2255336e",
   "metadata": {
    "execution": {
     "iopub.execute_input": "2022-04-04T07:54:55.834135Z",
     "iopub.status.busy": "2022-04-04T07:54:55.833540Z",
     "iopub.status.idle": "2022-04-04T07:54:55.835502Z",
     "shell.execute_reply": "2022-04-04T07:54:55.834936Z"
    },
    "papermill": {
     "duration": 0.160727,
     "end_time": "2022-04-04T07:54:55.835636",
     "exception": false,
     "start_time": "2022-04-04T07:54:55.674909",
     "status": "completed"
    },
    "tags": []
   },
   "outputs": [],
   "source": [
    "#change the columns age dtype to double\n",
    "\n"
   ]
  }
 ],
 "metadata": {
  "kernelspec": {
   "display_name": "Python 3",
   "language": "python",
   "name": "python3"
  },
  "language_info": {
   "codemirror_mode": {
    "name": "ipython",
    "version": 3
   },
   "file_extension": ".py",
   "mimetype": "text/x-python",
   "name": "python",
   "nbconvert_exporter": "python",
   "pygments_lexer": "ipython3",
   "version": "3.7.12"
  },
  "papermill": {
   "default_parameters": {},
   "duration": 91.254556,
   "end_time": "2022-04-04T07:54:56.804241",
   "environment_variables": {},
   "exception": null,
   "input_path": "__notebook__.ipynb",
   "output_path": "__notebook__.ipynb",
   "parameters": {},
   "start_time": "2022-04-04T07:53:25.549685",
   "version": "2.3.3"
  }
 },
 "nbformat": 4,
 "nbformat_minor": 5
}
