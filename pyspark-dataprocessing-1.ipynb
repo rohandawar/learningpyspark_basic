{
 "cells": [
  {
   "cell_type": "code",
   "execution_count": 1,
   "id": "5c60337a",
   "metadata": {
    "_cell_guid": "b1076dfc-b9ad-4769-8c92-a6c4dae69d19",
    "_uuid": "8f2839f25d086af736a60e9eeb907d3b93b6e0e5",
    "execution": {
     "iopub.execute_input": "2022-04-04T15:29:58.131350Z",
     "iopub.status.busy": "2022-04-04T15:29:58.129570Z",
     "iopub.status.idle": "2022-04-04T15:29:58.151205Z",
     "shell.execute_reply": "2022-04-04T15:29:58.150339Z",
     "shell.execute_reply.started": "2022-04-04T12:16:37.021638Z"
    },
    "papermill": {
     "duration": 0.063575,
     "end_time": "2022-04-04T15:29:58.151378",
     "exception": false,
     "start_time": "2022-04-04T15:29:58.087803",
     "status": "completed"
    },
    "tags": []
   },
   "outputs": [
    {
     "name": "stdout",
     "output_type": "stream",
     "text": [
      "/kaggle/input/pyspark-sample-dataset/sample_data.csv\n"
     ]
    }
   ],
   "source": [
    "# This Python 3 environment comes with many helpful analytics libraries installed\n",
    "# It is defined by the kaggle/python Docker image: https://github.com/kaggle/docker-python\n",
    "# For example, here's several helpful packages to load\n",
    "\n",
    "import numpy as np # linear algebra\n",
    "import pandas as pd # data processing, CSV file I/O (e.g. pd.read_csv)\n",
    "\n",
    "# Input data files are available in the read-only \"../input/\" directory\n",
    "# For example, running this (by clicking run or pressing Shift+Enter) will list all files under the input directory\n",
    "\n",
    "import os\n",
    "for dirname, _, filenames in os.walk('/kaggle/input'):\n",
    "    for filename in filenames:\n",
    "        print(os.path.join(dirname, filename))\n",
    "\n",
    "# You can write up to 20GB to the current directory (/kaggle/working/) that gets preserved as output when you create a version using \"Save & Run All\" \n",
    "# You can also write temporary files to /kaggle/temp/, but they won't be saved outside of the current session"
   ]
  },
  {
   "cell_type": "code",
   "execution_count": 2,
   "id": "538202e1",
   "metadata": {
    "execution": {
     "iopub.execute_input": "2022-04-04T15:29:58.225263Z",
     "iopub.status.busy": "2022-04-04T15:29:58.224317Z",
     "iopub.status.idle": "2022-04-04T15:30:49.227105Z",
     "shell.execute_reply": "2022-04-04T15:30:49.226396Z",
     "shell.execute_reply.started": "2022-04-04T12:16:37.034901Z"
    },
    "papermill": {
     "duration": 51.041809,
     "end_time": "2022-04-04T15:30:49.227259",
     "exception": false,
     "start_time": "2022-04-04T15:29:58.185450",
     "status": "completed"
    },
    "tags": []
   },
   "outputs": [
    {
     "name": "stdout",
     "output_type": "stream",
     "text": [
      "Collecting findspark\r\n",
      "  Downloading findspark-2.0.1-py2.py3-none-any.whl (4.4 kB)\r\n",
      "Installing collected packages: findspark\r\n",
      "Successfully installed findspark-2.0.1\r\n",
      "\u001b[33mWARNING: Running pip as the 'root' user can result in broken permissions and conflicting behaviour with the system package manager. It is recommended to use a virtual environment instead: https://pip.pypa.io/warnings/venv\u001b[0m\r\n",
      "Collecting pyspark\r\n",
      "  Downloading pyspark-3.2.1.tar.gz (281.4 MB)\r\n",
      "     |████████████████████████████████| 281.4 MB 37 kB/s              \r\n",
      "\u001b[?25h  Preparing metadata (setup.py) ... \u001b[?25l-\b \bdone\r\n",
      "\u001b[?25hCollecting py4j==0.10.9.3\r\n",
      "  Downloading py4j-0.10.9.3-py2.py3-none-any.whl (198 kB)\r\n",
      "     |████████████████████████████████| 198 kB 72.9 MB/s            \r\n",
      "\u001b[?25hBuilding wheels for collected packages: pyspark\r\n",
      "  Building wheel for pyspark (setup.py) ... \u001b[?25l-\b \b\\\b \b|\b \b/\b \b-\b \b\\\b \b|\b \b/\b \b-\b \b\\\b \b|\b \b/\b \b-\b \b\\\b \b|\b \b/\b \b-\b \b\\\b \b|\b \b/\b \b-\b \b\\\b \b|\b \b/\b \b-\b \b\\\b \b|\b \b/\b \b-\b \b\\\b \b|\b \b/\b \b-\b \b\\\b \b|\b \b/\b \b-\b \b\\\b \b|\b \b/\b \b-\b \b\\\b \b|\b \b/\b \b-\b \b\\\b \b|\b \b/\b \b-\b \b\\\b \b|\b \b/\b \b-\b \b\\\b \b|\b \b/\b \bdone\r\n",
      "\u001b[?25h  Created wheel for pyspark: filename=pyspark-3.2.1-py2.py3-none-any.whl size=281853642 sha256=875abaecb61314767df308151aaaa9007022fcfff3c028ec5dd754e17df3056b\r\n",
      "  Stored in directory: /root/.cache/pip/wheels/9f/f5/07/7cd8017084dce4e93e84e92efd1e1d5334db05f2e83bcef74f\r\n",
      "Successfully built pyspark\r\n",
      "Installing collected packages: py4j, pyspark\r\n",
      "  Attempting uninstall: py4j\r\n",
      "    Found existing installation: py4j 0.10.9.4\r\n",
      "    Uninstalling py4j-0.10.9.4:\r\n",
      "      Successfully uninstalled py4j-0.10.9.4\r\n",
      "Successfully installed py4j-0.10.9.3 pyspark-3.2.1\r\n",
      "\u001b[33mWARNING: Running pip as the 'root' user can result in broken permissions and conflicting behaviour with the system package manager. It is recommended to use a virtual environment instead: https://pip.pypa.io/warnings/venv\u001b[0m\r\n"
     ]
    }
   ],
   "source": [
    "!pip install findspark\n",
    "!pip install pyspark"
   ]
  },
  {
   "cell_type": "code",
   "execution_count": 3,
   "id": "dd4483cd",
   "metadata": {
    "execution": {
     "iopub.execute_input": "2022-04-04T15:30:49.536149Z",
     "iopub.status.busy": "2022-04-04T15:30:49.535476Z",
     "iopub.status.idle": "2022-04-04T15:30:49.575921Z",
     "shell.execute_reply": "2022-04-04T15:30:49.575287Z",
     "shell.execute_reply.started": "2022-04-04T12:17:31.759161Z"
    },
    "papermill": {
     "duration": 0.19679,
     "end_time": "2022-04-04T15:30:49.576071",
     "exception": false,
     "start_time": "2022-04-04T15:30:49.379281",
     "status": "completed"
    },
    "tags": []
   },
   "outputs": [],
   "source": [
    "import findspark\n",
    "findspark.init()\n",
    "import pyspark"
   ]
  },
  {
   "cell_type": "code",
   "execution_count": 4,
   "id": "b0101fc8",
   "metadata": {
    "execution": {
     "iopub.execute_input": "2022-04-04T15:30:49.881495Z",
     "iopub.status.busy": "2022-04-04T15:30:49.880760Z",
     "iopub.status.idle": "2022-04-04T15:30:55.722596Z",
     "shell.execute_reply": "2022-04-04T15:30:55.721746Z",
     "shell.execute_reply.started": "2022-04-04T12:17:31.803248Z"
    },
    "papermill": {
     "duration": 5.997058,
     "end_time": "2022-04-04T15:30:55.722747",
     "exception": false,
     "start_time": "2022-04-04T15:30:49.725689",
     "status": "completed"
    },
    "tags": []
   },
   "outputs": [
    {
     "name": "stderr",
     "output_type": "stream",
     "text": [
      "WARNING: An illegal reflective access operation has occurred\n",
      "WARNING: Illegal reflective access by org.apache.spark.unsafe.Platform (file:/opt/conda/lib/python3.7/site-packages/pyspark/jars/spark-unsafe_2.12-3.2.1.jar) to constructor java.nio.DirectByteBuffer(long,int)\n",
      "WARNING: Please consider reporting this to the maintainers of org.apache.spark.unsafe.Platform\n",
      "WARNING: Use --illegal-access=warn to enable warnings of further illegal reflective access operations\n",
      "WARNING: All illegal access operations will be denied in a future release\n",
      "Using Spark's default log4j profile: org/apache/spark/log4j-defaults.properties\n",
      "Setting default log level to \"WARN\".\n",
      "To adjust logging level use sc.setLogLevel(newLevel). For SparkR, use setLogLevel(newLevel).\n",
      "22/04/04 15:30:52 WARN NativeCodeLoader: Unable to load native-hadoop library for your platform... using builtin-java classes where applicable\n"
     ]
    }
   ],
   "source": [
    "from pyspark.sql import SparkSession\n",
    "spark = SparkSession.builder.appName('data_processing').getOrCreate()"
   ]
  },
  {
   "cell_type": "code",
   "execution_count": 5,
   "id": "5357e03b",
   "metadata": {
    "execution": {
     "iopub.execute_input": "2022-04-04T15:30:56.085850Z",
     "iopub.status.busy": "2022-04-04T15:30:56.085163Z",
     "iopub.status.idle": "2022-04-04T15:30:56.089963Z",
     "shell.execute_reply": "2022-04-04T15:30:56.090557Z",
     "shell.execute_reply.started": "2022-04-04T13:21:44.462540Z"
    },
    "papermill": {
     "duration": 0.167599,
     "end_time": "2022-04-04T15:30:56.090723",
     "exception": false,
     "start_time": "2022-04-04T15:30:55.923124",
     "status": "completed"
    },
    "tags": []
   },
   "outputs": [],
   "source": [
    "from pyspark.sql.types import StringType, DoubleType, IntegerType\n",
    "from pyspark.sql.functions import udf\n",
    "from pyspark.sql.functions import pandas_udf"
   ]
  },
  {
   "cell_type": "code",
   "execution_count": 6,
   "id": "a781c5b4",
   "metadata": {
    "execution": {
     "iopub.execute_input": "2022-04-04T15:30:56.396334Z",
     "iopub.status.busy": "2022-04-04T15:30:56.395671Z",
     "iopub.status.idle": "2022-04-04T15:31:02.033305Z",
     "shell.execute_reply": "2022-04-04T15:31:02.032233Z",
     "shell.execute_reply.started": "2022-04-04T12:17:37.432724Z"
    },
    "papermill": {
     "duration": 5.793333,
     "end_time": "2022-04-04T15:31:02.033581",
     "exception": false,
     "start_time": "2022-04-04T15:30:56.240248",
     "status": "completed"
    },
    "tags": []
   },
   "outputs": [
    {
     "name": "stdout",
     "output_type": "stream",
     "text": [
      "+-------+---+----------+------+-------+\n",
      "|ratings|age|experience|family| mobile|\n",
      "+-------+---+----------+------+-------+\n",
      "|      3| 32|       9.0|     3|   Vivo|\n",
      "|      3| 27|      13.0|     3|  Apple|\n",
      "|      4| 22|       2.5|     0|Samsung|\n",
      "|      4| 37|      16.5|     4|  Apple|\n",
      "|      5| 27|       9.0|     1|     MI|\n",
      "|      4| 27|       9.0|     0|   Oppo|\n",
      "|      5| 37|      23.0|     5|   Vivo|\n",
      "|      5| 37|      23.0|     5|Samsung|\n",
      "|      3| 22|       2.5|     0|  Apple|\n",
      "|      3| 27|       6.0|     0|     MI|\n",
      "|      2| 27|       6.0|     2|   Oppo|\n",
      "|      5| 27|       6.0|     2|Samsung|\n",
      "|      3| 37|      16.5|     5|  Apple|\n",
      "|      5| 27|       6.0|     0|     MI|\n",
      "|      4| 22|       6.0|     1|   Oppo|\n",
      "|      4| 37|       9.0|     2|Samsung|\n",
      "|      4| 27|       6.0|     1|  Apple|\n",
      "|      1| 37|      23.0|     5|     MI|\n",
      "|      2| 42|      23.0|     2|   Oppo|\n",
      "|      4| 37|       6.0|     0|   Vivo|\n",
      "+-------+---+----------+------+-------+\n",
      "only showing top 20 rows\n",
      "\n"
     ]
    }
   ],
   "source": [
    "df = spark.read.csv('../input/pyspark-sample-dataset', inferSchema=True, header=True)\n",
    "df.show()"
   ]
  },
  {
   "cell_type": "code",
   "execution_count": 7,
   "id": "8ed25c84",
   "metadata": {
    "execution": {
     "iopub.execute_input": "2022-04-04T15:31:02.344911Z",
     "iopub.status.busy": "2022-04-04T15:31:02.343896Z",
     "iopub.status.idle": "2022-04-04T15:31:02.373483Z",
     "shell.execute_reply": "2022-04-04T15:31:02.373962Z",
     "shell.execute_reply.started": "2022-04-04T12:17:44.150937Z"
    },
    "papermill": {
     "duration": 0.186345,
     "end_time": "2022-04-04T15:31:02.374127",
     "exception": false,
     "start_time": "2022-04-04T15:31:02.187782",
     "status": "completed"
    },
    "tags": []
   },
   "outputs": [
    {
     "data": {
      "text/plain": [
       "['ratings', 'age', 'experience', 'family', 'mobile']"
      ]
     },
     "execution_count": 7,
     "metadata": {},
     "output_type": "execute_result"
    }
   ],
   "source": [
    "#check the columns\n",
    "df.columns"
   ]
  },
  {
   "cell_type": "code",
   "execution_count": 8,
   "id": "a3173afa",
   "metadata": {
    "execution": {
     "iopub.execute_input": "2022-04-04T15:31:02.680299Z",
     "iopub.status.busy": "2022-04-04T15:31:02.678230Z",
     "iopub.status.idle": "2022-04-04T15:31:02.683016Z",
     "shell.execute_reply": "2022-04-04T15:31:02.682483Z",
     "shell.execute_reply.started": "2022-04-04T12:17:44.191669Z"
    },
    "papermill": {
     "duration": 0.156909,
     "end_time": "2022-04-04T15:31:02.683145",
     "exception": false,
     "start_time": "2022-04-04T15:31:02.526236",
     "status": "completed"
    },
    "tags": []
   },
   "outputs": [
    {
     "data": {
      "text/plain": [
       "5"
      ]
     },
     "execution_count": 8,
     "metadata": {},
     "output_type": "execute_result"
    }
   ],
   "source": [
    "# number of columns\n",
    "len(df.columns)"
   ]
  },
  {
   "cell_type": "code",
   "execution_count": 9,
   "id": "b5a35561",
   "metadata": {
    "execution": {
     "iopub.execute_input": "2022-04-04T15:31:02.990984Z",
     "iopub.status.busy": "2022-04-04T15:31:02.990202Z",
     "iopub.status.idle": "2022-04-04T15:31:03.622075Z",
     "shell.execute_reply": "2022-04-04T15:31:03.620875Z",
     "shell.execute_reply.started": "2022-04-04T12:17:44.201548Z"
    },
    "papermill": {
     "duration": 0.788255,
     "end_time": "2022-04-04T15:31:03.622297",
     "exception": false,
     "start_time": "2022-04-04T15:31:02.834042",
     "status": "completed"
    },
    "tags": []
   },
   "outputs": [
    {
     "data": {
      "text/plain": [
       "33"
      ]
     },
     "execution_count": 9,
     "metadata": {},
     "output_type": "execute_result"
    }
   ],
   "source": [
    "#no of rows\n",
    "df.count()"
   ]
  },
  {
   "cell_type": "code",
   "execution_count": 10,
   "id": "633d5e37",
   "metadata": {
    "execution": {
     "iopub.execute_input": "2022-04-04T15:31:03.933550Z",
     "iopub.status.busy": "2022-04-04T15:31:03.932907Z",
     "iopub.status.idle": "2022-04-04T15:31:04.118106Z",
     "shell.execute_reply": "2022-04-04T15:31:04.118901Z",
     "shell.execute_reply.started": "2022-04-04T12:17:44.890554Z"
    },
    "papermill": {
     "duration": 0.341954,
     "end_time": "2022-04-04T15:31:04.119144",
     "exception": false,
     "start_time": "2022-04-04T15:31:03.777190",
     "status": "completed"
    },
    "tags": []
   },
   "outputs": [
    {
     "name": "stdout",
     "output_type": "stream",
     "text": [
      "The shape of the dataframe is:(33,5)\n"
     ]
    }
   ],
   "source": [
    "#since in pyspark, there is no direct method to get the shape, we use the combination of the two,\n",
    "print('The shape of the dataframe is:({},{})'.format((df.count()),(len(df.columns))))"
   ]
  },
  {
   "cell_type": "code",
   "execution_count": 11,
   "id": "87930e4e",
   "metadata": {
    "execution": {
     "iopub.execute_input": "2022-04-04T15:31:04.434321Z",
     "iopub.status.busy": "2022-04-04T15:31:04.433008Z",
     "iopub.status.idle": "2022-04-04T15:31:04.438909Z",
     "shell.execute_reply": "2022-04-04T15:31:04.439877Z",
     "shell.execute_reply.started": "2022-04-04T12:17:45.166280Z"
    },
    "papermill": {
     "duration": 0.162766,
     "end_time": "2022-04-04T15:31:04.440164",
     "exception": false,
     "start_time": "2022-04-04T15:31:04.277398",
     "status": "completed"
    },
    "tags": []
   },
   "outputs": [
    {
     "name": "stdout",
     "output_type": "stream",
     "text": [
      "root\n",
      " |-- ratings: integer (nullable = true)\n",
      " |-- age: integer (nullable = true)\n",
      " |-- experience: double (nullable = true)\n",
      " |-- family: integer (nullable = true)\n",
      " |-- mobile: string (nullable = true)\n",
      "\n"
     ]
    }
   ],
   "source": [
    "#the datatypes of the columns are as follows:\n",
    "df.printSchema()"
   ]
  },
  {
   "cell_type": "code",
   "execution_count": 12,
   "id": "20d22889",
   "metadata": {
    "execution": {
     "iopub.execute_input": "2022-04-04T15:31:04.761031Z",
     "iopub.status.busy": "2022-04-04T15:31:04.760020Z",
     "iopub.status.idle": "2022-04-04T15:31:04.888059Z",
     "shell.execute_reply": "2022-04-04T15:31:04.888585Z",
     "shell.execute_reply.started": "2022-04-04T12:17:45.180930Z"
    },
    "papermill": {
     "duration": 0.292965,
     "end_time": "2022-04-04T15:31:04.888770",
     "exception": false,
     "start_time": "2022-04-04T15:31:04.595805",
     "status": "completed"
    },
    "tags": []
   },
   "outputs": [
    {
     "name": "stdout",
     "output_type": "stream",
     "text": [
      "+-------+---+----------+------+-------+\n",
      "|ratings|age|experience|family| mobile|\n",
      "+-------+---+----------+------+-------+\n",
      "|      3| 32|       9.0|     3|   Vivo|\n",
      "|      3| 27|      13.0|     3|  Apple|\n",
      "|      4| 22|       2.5|     0|Samsung|\n",
      "|      4| 37|      16.5|     4|  Apple|\n",
      "|      5| 27|       9.0|     1|     MI|\n",
      "+-------+---+----------+------+-------+\n",
      "only showing top 5 rows\n",
      "\n"
     ]
    }
   ],
   "source": [
    "#to display the first 5 rows\n",
    "df.show(5)"
   ]
  },
  {
   "cell_type": "code",
   "execution_count": 13,
   "id": "10ab4b58",
   "metadata": {
    "execution": {
     "iopub.execute_input": "2022-04-04T15:31:05.200246Z",
     "iopub.status.busy": "2022-04-04T15:31:05.199276Z",
     "iopub.status.idle": "2022-04-04T15:31:05.464281Z",
     "shell.execute_reply": "2022-04-04T15:31:05.463254Z",
     "shell.execute_reply.started": "2022-04-04T12:17:45.366763Z"
    },
    "papermill": {
     "duration": 0.419428,
     "end_time": "2022-04-04T15:31:05.464495",
     "exception": false,
     "start_time": "2022-04-04T15:31:05.045067",
     "status": "completed"
    },
    "tags": []
   },
   "outputs": [
    {
     "name": "stdout",
     "output_type": "stream",
     "text": [
      "+---+-------+\n",
      "|age| mobile|\n",
      "+---+-------+\n",
      "| 32|   Vivo|\n",
      "| 27|  Apple|\n",
      "| 22|Samsung|\n",
      "| 37|  Apple|\n",
      "| 27|     MI|\n",
      "+---+-------+\n",
      "only showing top 5 rows\n",
      "\n"
     ]
    }
   ],
   "source": [
    "#lets check only the 2 columns age & mobile, see only 5 rows\n",
    "df.select('age', 'mobile').show(5)"
   ]
  },
  {
   "cell_type": "code",
   "execution_count": 14,
   "id": "c11297ea",
   "metadata": {
    "execution": {
     "iopub.execute_input": "2022-04-04T15:31:05.881776Z",
     "iopub.status.busy": "2022-04-04T15:31:05.881078Z",
     "iopub.status.idle": "2022-04-04T15:31:07.064240Z",
     "shell.execute_reply": "2022-04-04T15:31:07.063066Z",
     "shell.execute_reply.started": "2022-04-04T12:17:45.627320Z"
    },
    "papermill": {
     "duration": 1.341503,
     "end_time": "2022-04-04T15:31:07.064484",
     "exception": false,
     "start_time": "2022-04-04T15:31:05.722981",
     "status": "completed"
    },
    "tags": []
   },
   "outputs": [
    {
     "name": "stdout",
     "output_type": "stream",
     "text": [
      "+-------+------------------+------------------+------------------+------------------+------+\n",
      "|summary|           ratings|               age|        experience|            family|mobile|\n",
      "+-------+------------------+------------------+------------------+------------------+------+\n",
      "|  count|                33|                33|                33|                33|    33|\n",
      "|   mean|3.5757575757575757|30.484848484848484|10.303030303030303|1.8181818181818181|  null|\n",
      "| stddev|1.1188806636071336|  6.18527087180309| 6.770731351213326|1.8448330794164254|  null|\n",
      "|    min|                 1|                22|               2.5|                 0| Apple|\n",
      "|    max|                 5|                42|              23.0|                 5|  Vivo|\n",
      "+-------+------------------+------------------+------------------+------------------+------+\n",
      "\n"
     ]
    }
   ],
   "source": [
    "#summary stats\n",
    "df.describe().show()"
   ]
  },
  {
   "cell_type": "code",
   "execution_count": 15,
   "id": "53942959",
   "metadata": {
    "execution": {
     "iopub.execute_input": "2022-04-04T15:31:07.445047Z",
     "iopub.status.busy": "2022-04-04T15:31:07.444034Z",
     "iopub.status.idle": "2022-04-04T15:31:07.670701Z",
     "shell.execute_reply": "2022-04-04T15:31:07.669340Z",
     "shell.execute_reply.started": "2022-04-04T12:17:47.668716Z"
    },
    "papermill": {
     "duration": 0.39403,
     "end_time": "2022-04-04T15:31:07.670928",
     "exception": false,
     "start_time": "2022-04-04T15:31:07.276898",
     "status": "completed"
    },
    "tags": []
   },
   "outputs": [
    {
     "name": "stdout",
     "output_type": "stream",
     "text": [
      "+-------+---+----------+------+-------+------------------+\n",
      "|ratings|age|experience|family|mobile |age_after_10_years|\n",
      "+-------+---+----------+------+-------+------------------+\n",
      "|3      |32 |9.0       |3     |Vivo   |42                |\n",
      "|3      |27 |13.0      |3     |Apple  |37                |\n",
      "|4      |22 |2.5       |0     |Samsung|32                |\n",
      "|4      |37 |16.5      |4     |Apple  |47                |\n",
      "|5      |27 |9.0       |1     |MI     |37                |\n",
      "|4      |27 |9.0       |0     |Oppo   |37                |\n",
      "|5      |37 |23.0      |5     |Vivo   |47                |\n",
      "|5      |37 |23.0      |5     |Samsung|47                |\n",
      "|3      |22 |2.5       |0     |Apple  |32                |\n",
      "|3      |27 |6.0       |0     |MI     |37                |\n",
      "+-------+---+----------+------+-------+------------------+\n",
      "only showing top 10 rows\n",
      "\n"
     ]
    }
   ],
   "source": [
    "#add a new columns, which is the current column plus 10\n",
    "df = df.withColumn('age_after_10_years', (df['age']+10))\n",
    "df.show(10, False)"
   ]
  },
  {
   "cell_type": "code",
   "execution_count": 16,
   "id": "87bd3838",
   "metadata": {
    "execution": {
     "iopub.execute_input": "2022-04-04T15:31:08.024000Z",
     "iopub.status.busy": "2022-04-04T15:31:08.023002Z",
     "iopub.status.idle": "2022-04-04T15:31:08.183908Z",
     "shell.execute_reply": "2022-04-04T15:31:08.182896Z",
     "shell.execute_reply.started": "2022-04-04T12:17:48.001813Z"
    },
    "papermill": {
     "duration": 0.320961,
     "end_time": "2022-04-04T15:31:08.184110",
     "exception": false,
     "start_time": "2022-04-04T15:31:07.863149",
     "status": "completed"
    },
    "tags": []
   },
   "outputs": [
    {
     "name": "stdout",
     "output_type": "stream",
     "text": [
      "+-------+---+----------+------+-------+------------------+----------+\n",
      "|ratings|age|experience|family|mobile |age_after_10_years|age_Double|\n",
      "+-------+---+----------+------+-------+------------------+----------+\n",
      "|3      |32 |9.0       |3     |Vivo   |42                |32.0      |\n",
      "|3      |27 |13.0      |3     |Apple  |37                |27.0      |\n",
      "|4      |22 |2.5       |0     |Samsung|32                |22.0      |\n",
      "+-------+---+----------+------+-------+------------------+----------+\n",
      "only showing top 3 rows\n",
      "\n"
     ]
    }
   ],
   "source": [
    "#change the columns age dtype to double\n",
    "\n",
    "df = df.withColumn('age_Double', df['age'].cast(DoubleType()))\n",
    "df.show(3, False)"
   ]
  },
  {
   "cell_type": "code",
   "execution_count": 17,
   "id": "5cbb6ee0",
   "metadata": {
    "execution": {
     "iopub.execute_input": "2022-04-04T15:31:08.600788Z",
     "iopub.status.busy": "2022-04-04T15:31:08.599775Z",
     "iopub.status.idle": "2022-04-04T15:31:08.789804Z",
     "shell.execute_reply": "2022-04-04T15:31:08.788855Z",
     "shell.execute_reply.started": "2022-04-04T12:34:10.386207Z"
    },
    "papermill": {
     "duration": 0.355843,
     "end_time": "2022-04-04T15:31:08.790022",
     "exception": false,
     "start_time": "2022-04-04T15:31:08.434179",
     "status": "completed"
    },
    "tags": []
   },
   "outputs": [
    {
     "name": "stdout",
     "output_type": "stream",
     "text": [
      "+-------+---+----------+------+------+------------------+----------+\n",
      "|ratings|age|experience|family|mobile|age_after_10_years|age_Double|\n",
      "+-------+---+----------+------+------+------------------+----------+\n",
      "|3      |32 |9.0       |3     |Vivo  |42                |32.0      |\n",
      "|5      |37 |23.0      |5     |Vivo  |47                |37.0      |\n",
      "|4      |37 |6.0       |0     |Vivo  |47                |37.0      |\n",
      "|5      |37 |13.0      |1     |Vivo  |47                |37.0      |\n",
      "|4      |37 |6.0       |0     |Vivo  |47                |37.0      |\n",
      "+-------+---+----------+------+------+------------------+----------+\n",
      "\n"
     ]
    }
   ],
   "source": [
    "#Filter, there are 2 ways for filter\n",
    "#lets filter only Vivo\n",
    "df.filter(df['mobile']=='Vivo').show(5, False)"
   ]
  },
  {
   "cell_type": "code",
   "execution_count": 18,
   "id": "84073766",
   "metadata": {
    "execution": {
     "iopub.execute_input": "2022-04-04T15:31:09.157492Z",
     "iopub.status.busy": "2022-04-04T15:31:09.156760Z",
     "iopub.status.idle": "2022-04-04T15:31:09.414388Z",
     "shell.execute_reply": "2022-04-04T15:31:09.413329Z",
     "shell.execute_reply.started": "2022-04-04T12:37:45.122980Z"
    },
    "papermill": {
     "duration": 0.414203,
     "end_time": "2022-04-04T15:31:09.414643",
     "exception": false,
     "start_time": "2022-04-04T15:31:09.000440",
     "status": "completed"
    },
    "tags": []
   },
   "outputs": [
    {
     "name": "stdout",
     "output_type": "stream",
     "text": [
      "+-------+---+----------+------+------+------------------+----------+\n",
      "|ratings|age|experience|family|mobile|age_after_10_years|age_Double|\n",
      "+-------+---+----------+------+------+------------------+----------+\n",
      "|      5| 37|      23.0|     5|  Vivo|                47|      37.0|\n",
      "|      5| 37|      13.0|     1|  Vivo|                47|      37.0|\n",
      "+-------+---+----------+------+------+------------------+----------+\n",
      "\n"
     ]
    }
   ],
   "source": [
    "#adding 2 filter conditions--method#1\n",
    "df.filter(df['mobile']=='Vivo').filter(df['experience']>10).show()"
   ]
  },
  {
   "cell_type": "code",
   "execution_count": 19,
   "id": "8444c821",
   "metadata": {
    "execution": {
     "iopub.execute_input": "2022-04-04T15:31:09.744964Z",
     "iopub.status.busy": "2022-04-04T15:31:09.742560Z",
     "iopub.status.idle": "2022-04-04T15:31:09.932974Z",
     "shell.execute_reply": "2022-04-04T15:31:09.934310Z",
     "shell.execute_reply.started": "2022-04-04T12:39:30.911087Z"
    },
    "papermill": {
     "duration": 0.351853,
     "end_time": "2022-04-04T15:31:09.934609",
     "exception": false,
     "start_time": "2022-04-04T15:31:09.582756",
     "status": "completed"
    },
    "tags": []
   },
   "outputs": [
    {
     "name": "stdout",
     "output_type": "stream",
     "text": [
      "+-------+---+----------+------+------+------------------+----------+\n",
      "|ratings|age|experience|family|mobile|age_after_10_years|age_Double|\n",
      "+-------+---+----------+------+------+------------------+----------+\n",
      "|      5| 37|      23.0|     5|  Vivo|                47|      37.0|\n",
      "|      5| 37|      13.0|     1|  Vivo|                47|      37.0|\n",
      "+-------+---+----------+------+------+------------------+----------+\n",
      "\n"
     ]
    }
   ],
   "source": [
    "#method #2, 2 conditions in one row.\n",
    "df.filter((df['mobile']=='Vivo') & (df['experience'] >10)).show()"
   ]
  },
  {
   "cell_type": "code",
   "execution_count": 20,
   "id": "c1819c0b",
   "metadata": {
    "execution": {
     "iopub.execute_input": "2022-04-04T15:31:10.253590Z",
     "iopub.status.busy": "2022-04-04T15:31:10.252469Z",
     "iopub.status.idle": "2022-04-04T15:31:10.665110Z",
     "shell.execute_reply": "2022-04-04T15:31:10.664085Z",
     "shell.execute_reply.started": "2022-04-04T12:42:11.888360Z"
    },
    "papermill": {
     "duration": 0.573334,
     "end_time": "2022-04-04T15:31:10.665320",
     "exception": false,
     "start_time": "2022-04-04T15:31:10.091986",
     "status": "completed"
    },
    "tags": []
   },
   "outputs": [
    {
     "name": "stdout",
     "output_type": "stream",
     "text": [
      "+-------+\n",
      "| mobile|\n",
      "+-------+\n",
      "|     MI|\n",
      "|   Oppo|\n",
      "|Samsung|\n",
      "|   Vivo|\n",
      "|  Apple|\n",
      "+-------+\n",
      "\n"
     ]
    }
   ],
   "source": [
    "#checking distinct values in column\n",
    "df.select('mobile').distinct().show()"
   ]
  },
  {
   "cell_type": "code",
   "execution_count": 21,
   "id": "110012d0",
   "metadata": {
    "execution": {
     "iopub.execute_input": "2022-04-04T15:31:11.041727Z",
     "iopub.status.busy": "2022-04-04T15:31:11.040620Z",
     "iopub.status.idle": "2022-04-04T15:31:11.397380Z",
     "shell.execute_reply": "2022-04-04T15:31:11.396597Z",
     "shell.execute_reply.started": "2022-04-04T12:42:43.911282Z"
    },
    "papermill": {
     "duration": 0.515862,
     "end_time": "2022-04-04T15:31:11.397616",
     "exception": false,
     "start_time": "2022-04-04T15:31:10.881754",
     "status": "completed"
    },
    "tags": []
   },
   "outputs": [
    {
     "name": "stdout",
     "output_type": "stream",
     "text": [
      "+-------+-----+\n",
      "|mobile |count|\n",
      "+-------+-----+\n",
      "|MI     |8    |\n",
      "|Oppo   |7    |\n",
      "|Samsung|6    |\n",
      "|Vivo   |5    |\n",
      "|Apple  |7    |\n",
      "+-------+-----+\n",
      "\n"
     ]
    }
   ],
   "source": [
    "#grouping the data\n",
    "df.groupby('mobile').count().show(5, False)"
   ]
  },
  {
   "cell_type": "code",
   "execution_count": 22,
   "id": "b32e91ba",
   "metadata": {
    "execution": {
     "iopub.execute_input": "2022-04-04T15:31:11.787122Z",
     "iopub.status.busy": "2022-04-04T15:31:11.786500Z",
     "iopub.status.idle": "2022-04-04T15:31:12.107994Z",
     "shell.execute_reply": "2022-04-04T15:31:12.107329Z",
     "shell.execute_reply.started": "2022-04-04T12:46:13.238934Z"
    },
    "papermill": {
     "duration": 0.489537,
     "end_time": "2022-04-04T15:31:12.108135",
     "exception": false,
     "start_time": "2022-04-04T15:31:11.618598",
     "status": "completed"
    },
    "tags": []
   },
   "outputs": [
    {
     "name": "stdout",
     "output_type": "stream",
     "text": [
      "+-------+-----+\n",
      "|mobile |count|\n",
      "+-------+-----+\n",
      "|MI     |8    |\n",
      "|Apple  |7    |\n",
      "|Oppo   |7    |\n",
      "|Samsung|6    |\n",
      "|Vivo   |5    |\n",
      "+-------+-----+\n",
      "\n"
     ]
    }
   ],
   "source": [
    "#groupby ascending\n",
    "df.groupby('mobile').count().orderBy('count', ascending=False).show(5, False)"
   ]
  },
  {
   "cell_type": "code",
   "execution_count": 23,
   "id": "634ac00d",
   "metadata": {
    "execution": {
     "iopub.execute_input": "2022-04-04T15:31:12.452589Z",
     "iopub.status.busy": "2022-04-04T15:31:12.451613Z",
     "iopub.status.idle": "2022-04-04T15:31:12.934103Z",
     "shell.execute_reply": "2022-04-04T15:31:12.934939Z",
     "shell.execute_reply.started": "2022-04-04T12:47:04.675504Z"
    },
    "papermill": {
     "duration": 0.651509,
     "end_time": "2022-04-04T15:31:12.935212",
     "exception": false,
     "start_time": "2022-04-04T15:31:12.283703",
     "status": "completed"
    },
    "tags": []
   },
   "outputs": [
    {
     "name": "stdout",
     "output_type": "stream",
     "text": [
      "+-------+------------------+------------------+------------------+------------------+-----------------------+------------------+\n",
      "|mobile |avg(ratings)      |avg(age)          |avg(experience)   |avg(family)       |avg(age_after_10_years)|avg(age_Double)   |\n",
      "+-------+------------------+------------------+------------------+------------------+-----------------------+------------------+\n",
      "|MI     |3.5               |30.125            |10.1875           |1.375             |40.125                 |30.125            |\n",
      "|Oppo   |2.857142857142857 |28.428571428571427|10.357142857142858|1.4285714285714286|38.42857142857143      |28.428571428571427|\n",
      "|Samsung|4.166666666666667 |28.666666666666668|8.666666666666666 |1.8333333333333333|38.666666666666664     |28.666666666666668|\n",
      "|Vivo   |4.2               |36.0              |11.4              |1.8               |46.0                   |36.0              |\n",
      "|Apple  |3.4285714285714284|30.571428571428573|11.0              |2.7142857142857144|40.57142857142857      |30.571428571428573|\n",
      "+-------+------------------+------------------+------------------+------------------+-----------------------+------------------+\n",
      "\n"
     ]
    }
   ],
   "source": [
    "#checking the mean\n",
    "df.groupby('mobile').mean().show(5, False)"
   ]
  },
  {
   "cell_type": "code",
   "execution_count": 24,
   "id": "5543ee4c",
   "metadata": {
    "execution": {
     "iopub.execute_input": "2022-04-04T15:31:13.255970Z",
     "iopub.status.busy": "2022-04-04T15:31:13.255074Z",
     "iopub.status.idle": "2022-04-04T15:31:13.613637Z",
     "shell.execute_reply": "2022-04-04T15:31:13.612636Z",
     "shell.execute_reply.started": "2022-04-04T12:49:14.101722Z"
    },
    "papermill": {
     "duration": 0.520306,
     "end_time": "2022-04-04T15:31:13.613840",
     "exception": false,
     "start_time": "2022-04-04T15:31:13.093534",
     "status": "completed"
    },
    "tags": []
   },
   "outputs": [
    {
     "name": "stdout",
     "output_type": "stream",
     "text": [
      "+-------+------------+--------+---------------+-----------+-----------------------+---------------+\n",
      "|mobile |sum(ratings)|sum(age)|sum(experience)|sum(family)|sum(age_after_10_years)|sum(age_Double)|\n",
      "+-------+------------+--------+---------------+-----------+-----------------------+---------------+\n",
      "|MI     |28          |241     |81.5           |11         |321                    |241.0          |\n",
      "|Oppo   |20          |199     |72.5           |10         |269                    |199.0          |\n",
      "|Samsung|25          |172     |52.0           |11         |232                    |172.0          |\n",
      "|Vivo   |21          |180     |57.0           |9          |230                    |180.0          |\n",
      "|Apple  |24          |214     |77.0           |19         |284                    |214.0          |\n",
      "+-------+------------+--------+---------------+-----------+-----------------------+---------------+\n",
      "\n"
     ]
    }
   ],
   "source": [
    "#chekcing the sum\n",
    "df.groupby('mobile').sum().show(5, False)"
   ]
  },
  {
   "cell_type": "code",
   "execution_count": 25,
   "id": "1e88aee2",
   "metadata": {
    "execution": {
     "iopub.execute_input": "2022-04-04T15:31:13.974922Z",
     "iopub.status.busy": "2022-04-04T15:31:13.974157Z",
     "iopub.status.idle": "2022-04-04T15:31:14.305689Z",
     "shell.execute_reply": "2022-04-04T15:31:14.306551Z",
     "shell.execute_reply.started": "2022-04-04T12:49:49.301052Z"
    },
    "papermill": {
     "duration": 0.495054,
     "end_time": "2022-04-04T15:31:14.306792",
     "exception": false,
     "start_time": "2022-04-04T15:31:13.811738",
     "status": "completed"
    },
    "tags": []
   },
   "outputs": [
    {
     "name": "stdout",
     "output_type": "stream",
     "text": [
      "+-------+------------+--------+---------------+-----------+-----------------------+---------------+\n",
      "|mobile |min(ratings)|min(age)|min(experience)|min(family)|min(age_after_10_years)|min(age_Double)|\n",
      "+-------+------------+--------+---------------+-----------+-----------------------+---------------+\n",
      "|MI     |1           |27      |2.5            |0          |37                     |27.0           |\n",
      "|Oppo   |2           |22      |6.0            |0          |32                     |22.0           |\n",
      "|Samsung|2           |22      |2.5            |0          |32                     |22.0           |\n",
      "|Vivo   |3           |32      |6.0            |0          |42                     |32.0           |\n",
      "|Apple  |3           |22      |2.5            |0          |32                     |22.0           |\n",
      "+-------+------------+--------+---------------+-----------+-----------------------+---------------+\n",
      "\n"
     ]
    }
   ],
   "source": [
    "#chekcing min\n",
    "df.groupBy('mobile').min().show(5, False)"
   ]
  },
  {
   "cell_type": "code",
   "execution_count": 26,
   "id": "58a63821",
   "metadata": {
    "execution": {
     "iopub.execute_input": "2022-04-04T15:31:14.693613Z",
     "iopub.status.busy": "2022-04-04T15:31:14.692450Z",
     "iopub.status.idle": "2022-04-04T15:31:14.991156Z",
     "shell.execute_reply": "2022-04-04T15:31:14.992223Z",
     "shell.execute_reply.started": "2022-04-04T12:50:14.521755Z"
    },
    "papermill": {
     "duration": 0.49738,
     "end_time": "2022-04-04T15:31:14.992566",
     "exception": false,
     "start_time": "2022-04-04T15:31:14.495186",
     "status": "completed"
    },
    "tags": []
   },
   "outputs": [
    {
     "name": "stdout",
     "output_type": "stream",
     "text": [
      "+-------+------------+--------+---------------+-----------+-----------------------+---------------+\n",
      "|mobile |max(ratings)|max(age)|max(experience)|max(family)|max(age_after_10_years)|max(age_Double)|\n",
      "+-------+------------+--------+---------------+-----------+-----------------------+---------------+\n",
      "|MI     |5           |42      |23.0           |5          |52                     |42.0           |\n",
      "|Oppo   |4           |42      |23.0           |2          |52                     |42.0           |\n",
      "|Samsung|5           |37      |23.0           |5          |47                     |37.0           |\n",
      "|Vivo   |5           |37      |23.0           |5          |47                     |37.0           |\n",
      "|Apple  |4           |37      |16.5           |5          |47                     |37.0           |\n",
      "+-------+------------+--------+---------------+-----------+-----------------------+---------------+\n",
      "\n"
     ]
    }
   ],
   "source": [
    "#chekcing max\n",
    "df.groupby('mobile').max().show(5, False)"
   ]
  },
  {
   "cell_type": "code",
   "execution_count": 27,
   "id": "33ec8a2a",
   "metadata": {
    "execution": {
     "iopub.execute_input": "2022-04-04T15:31:15.315622Z",
     "iopub.status.busy": "2022-04-04T15:31:15.314973Z",
     "iopub.status.idle": "2022-04-04T15:31:15.671587Z",
     "shell.execute_reply": "2022-04-04T15:31:15.670775Z",
     "shell.execute_reply.started": "2022-04-04T12:51:07.776600Z"
    },
    "papermill": {
     "duration": 0.519435,
     "end_time": "2022-04-04T15:31:15.671791",
     "exception": false,
     "start_time": "2022-04-04T15:31:15.152356",
     "status": "completed"
    },
    "tags": []
   },
   "outputs": [
    {
     "name": "stdout",
     "output_type": "stream",
     "text": [
      "+-------+---------------+\n",
      "|mobile |sum(experience)|\n",
      "+-------+---------------+\n",
      "|MI     |81.5           |\n",
      "|Oppo   |72.5           |\n",
      "|Samsung|52.0           |\n",
      "|Vivo   |57.0           |\n",
      "|Apple  |77.0           |\n",
      "+-------+---------------+\n",
      "\n"
     ]
    }
   ],
   "source": [
    "#we can also use aggregation to check  \n",
    "df.groupby('mobile').agg({'experience':'sum'}).show(5, False)"
   ]
  },
  {
   "cell_type": "code",
   "execution_count": 28,
   "id": "14d9bab5",
   "metadata": {
    "execution": {
     "iopub.execute_input": "2022-04-04T15:31:16.089965Z",
     "iopub.status.busy": "2022-04-04T15:31:16.088892Z",
     "iopub.status.idle": "2022-04-04T15:31:17.084123Z",
     "shell.execute_reply": "2022-04-04T15:31:17.083280Z",
     "shell.execute_reply.started": "2022-04-04T13:06:43.269912Z"
    },
    "papermill": {
     "duration": 1.162416,
     "end_time": "2022-04-04T15:31:17.084399",
     "exception": false,
     "start_time": "2022-04-04T15:31:15.921983",
     "status": "completed"
    },
    "tags": []
   },
   "outputs": [
    {
     "name": "stderr",
     "output_type": "stream",
     "text": [
      "[Stage 43:>                                                         (0 + 1) / 1]\r"
     ]
    },
    {
     "name": "stdout",
     "output_type": "stream",
     "text": [
      "+-------+---+----------+------+-------+------------------+----------+-----------+\n",
      "|ratings|age|experience|family|mobile |age_after_10_years|age_Double|price_range|\n",
      "+-------+---+----------+------+-------+------------------+----------+-----------+\n",
      "|3      |32 |9.0       |3     |Vivo   |42                |32.0      |Low Price  |\n",
      "|3      |27 |13.0      |3     |Apple  |37                |27.0      |High Price |\n",
      "|4      |22 |2.5       |0     |Samsung|32                |22.0      |High Price |\n",
      "|4      |37 |16.5      |4     |Apple  |47                |37.0      |High Price |\n",
      "|5      |27 |9.0       |1     |MI     |37                |27.0      |Mid Price  |\n",
      "|4      |27 |9.0       |0     |Oppo   |37                |27.0      |Low Price  |\n",
      "|5      |37 |23.0      |5     |Vivo   |47                |37.0      |Low Price  |\n",
      "|5      |37 |23.0      |5     |Samsung|47                |37.0      |High Price |\n",
      "|3      |22 |2.5       |0     |Apple  |32                |22.0      |High Price |\n",
      "|3      |27 |6.0       |0     |MI     |37                |27.0      |Mid Price  |\n",
      "+-------+---+----------+------+-------+------------------+----------+-----------+\n",
      "only showing top 10 rows\n",
      "\n"
     ]
    },
    {
     "name": "stderr",
     "output_type": "stream",
     "text": [
      "                                                                                \r"
     ]
    }
   ],
   "source": [
    "#udf\n",
    "#this one is done in 3 steps\n",
    "# Step #1 write a trational python function\n",
    "def price_rangefunction(brand):\n",
    "    if brand in ['Samsung', 'Apple']:\n",
    "        return 'High Price'\n",
    "    elif brand =='MI':\n",
    "        return 'Mid Price'\n",
    "    else:\n",
    "        return 'Low Price'\n",
    "\n",
    "# Step #2 , create a UDF\n",
    "brand_udf = udf(price_rangefunction, StringType())\n",
    "\n",
    "#step #3, apply the udf to mobile column\n",
    "df.withColumn('price_range', brand_udf(df['mobile'])).show(10, False)\n"
   ]
  },
  {
   "cell_type": "code",
   "execution_count": 29,
   "id": "e8850056",
   "metadata": {
    "execution": {
     "iopub.execute_input": "2022-04-04T15:31:17.444599Z",
     "iopub.status.busy": "2022-04-04T15:31:17.443881Z",
     "iopub.status.idle": "2022-04-04T15:31:17.586806Z",
     "shell.execute_reply": "2022-04-04T15:31:17.585794Z",
     "shell.execute_reply.started": "2022-04-04T13:17:37.237191Z"
    },
    "papermill": {
     "duration": 0.31203,
     "end_time": "2022-04-04T15:31:17.587003",
     "exception": false,
     "start_time": "2022-04-04T15:31:17.274973",
     "status": "completed"
    },
    "tags": []
   },
   "outputs": [
    {
     "name": "stdout",
     "output_type": "stream",
     "text": [
      "+-------+---+----------+------+-------+------------------+----------+---------+\n",
      "|ratings|age|experience|family|mobile |age_after_10_years|age_Double|age_group|\n",
      "+-------+---+----------+------+-------+------------------+----------+---------+\n",
      "|3      |32 |9.0       |3     |Vivo   |42                |32.0      |senior   |\n",
      "|3      |27 |13.0      |3     |Apple  |37                |27.0      |young    |\n",
      "|4      |22 |2.5       |0     |Samsung|32                |22.0      |young    |\n",
      "|4      |37 |16.5      |4     |Apple  |47                |37.0      |senior   |\n",
      "|5      |27 |9.0       |1     |MI     |37                |27.0      |young    |\n",
      "|4      |27 |9.0       |0     |Oppo   |37                |27.0      |young    |\n",
      "|5      |37 |23.0      |5     |Vivo   |47                |37.0      |senior   |\n",
      "|5      |37 |23.0      |5     |Samsung|47                |37.0      |senior   |\n",
      "|3      |22 |2.5       |0     |Apple  |32                |22.0      |young    |\n",
      "|3      |27 |6.0       |0     |MI     |37                |27.0      |young    |\n",
      "+-------+---+----------+------+-------+------------------+----------+---------+\n",
      "only showing top 10 rows\n",
      "\n"
     ]
    }
   ],
   "source": [
    "#using lamda function\n",
    "age_udf = udf(lambda age: \"young\" if age <= 30 else \"senior\", StringType())\n",
    "df.withColumn(\"age_group\", age_udf(df.age)).show(10, False)\n"
   ]
  },
  {
   "cell_type": "code",
   "execution_count": 30,
   "id": "5400fa43",
   "metadata": {
    "execution": {
     "iopub.execute_input": "2022-04-04T15:31:17.930165Z",
     "iopub.status.busy": "2022-04-04T15:31:17.929551Z",
     "iopub.status.idle": "2022-04-04T15:31:17.932289Z",
     "shell.execute_reply": "2022-04-04T15:31:17.931746Z",
     "shell.execute_reply.started": "2022-04-04T13:22:41.849647Z"
    },
    "papermill": {
     "duration": 0.165348,
     "end_time": "2022-04-04T15:31:17.932446",
     "exception": false,
     "start_time": "2022-04-04T15:31:17.767098",
     "status": "completed"
    },
    "tags": []
   },
   "outputs": [],
   "source": [
    "#using Pnadas udf\n",
    "def remainaing_yrs(age):\n",
    "    return (100-age)\n",
    "    \n",
    "    \n",
    "lenght_udf = pandas_udf(remainaing_yrs, IntegerType())"
   ]
  },
  {
   "cell_type": "code",
   "execution_count": null,
   "id": "734ae8d6",
   "metadata": {
    "papermill": {
     "duration": 0.158163,
     "end_time": "2022-04-04T15:31:18.246993",
     "exception": false,
     "start_time": "2022-04-04T15:31:18.088830",
     "status": "completed"
    },
    "tags": []
   },
   "outputs": [],
   "source": []
  }
 ],
 "metadata": {
  "kernelspec": {
   "display_name": "Python 3",
   "language": "python",
   "name": "python3"
  },
  "language_info": {
   "codemirror_mode": {
    "name": "ipython",
    "version": 3
   },
   "file_extension": ".py",
   "mimetype": "text/x-python",
   "name": "python",
   "nbconvert_exporter": "python",
   "pygments_lexer": "ipython3",
   "version": "3.7.12"
  },
  "papermill": {
   "default_parameters": {},
   "duration": 90.685669,
   "end_time": "2022-04-04T15:31:19.015053",
   "environment_variables": {},
   "exception": null,
   "input_path": "__notebook__.ipynb",
   "output_path": "__notebook__.ipynb",
   "parameters": {},
   "start_time": "2022-04-04T15:29:48.329384",
   "version": "2.3.3"
  }
 },
 "nbformat": 4,
 "nbformat_minor": 5
}
