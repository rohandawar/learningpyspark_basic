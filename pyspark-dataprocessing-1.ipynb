{
 "cells": [
  {
   "cell_type": "code",
   "execution_count": 1,
   "id": "aa518d9e",
   "metadata": {
    "_cell_guid": "b1076dfc-b9ad-4769-8c92-a6c4dae69d19",
    "_uuid": "8f2839f25d086af736a60e9eeb907d3b93b6e0e5",
    "execution": {
     "iopub.execute_input": "2022-04-06T08:28:35.869626Z",
     "iopub.status.busy": "2022-04-06T08:28:35.868918Z",
     "iopub.status.idle": "2022-04-06T08:28:35.887021Z",
     "shell.execute_reply": "2022-04-06T08:28:35.887565Z",
     "shell.execute_reply.started": "2022-04-06T08:00:09.996875Z"
    },
    "papermill": {
     "duration": 0.068013,
     "end_time": "2022-04-06T08:28:35.887878",
     "exception": false,
     "start_time": "2022-04-06T08:28:35.819865",
     "status": "completed"
    },
    "tags": []
   },
   "outputs": [
    {
     "name": "stdout",
     "output_type": "stream",
     "text": [
      "/kaggle/input/pyspark-sample-dataset/sample_data.csv\n"
     ]
    }
   ],
   "source": [
    "# This Python 3 environment comes with many helpful analytics libraries installed\n",
    "# It is defined by the kaggle/python Docker image: https://github.com/kaggle/docker-python\n",
    "# For example, here's several helpful packages to load\n",
    "\n",
    "import numpy as np # linear algebra\n",
    "import pandas as pd # data processing, CSV file I/O (e.g. pd.read_csv)\n",
    "\n",
    "# Input data files are available in the read-only \"../input/\" directory\n",
    "# For example, running this (by clicking run or pressing Shift+Enter) will list all files under the input directory\n",
    "\n",
    "import os\n",
    "for dirname, _, filenames in os.walk('/kaggle/input'):\n",
    "    for filename in filenames:\n",
    "        print(os.path.join(dirname, filename))\n",
    "\n",
    "# You can write up to 20GB to the current directory (/kaggle/working/) that gets preserved as output when you create a version using \"Save & Run All\" \n",
    "# You can also write temporary files to /kaggle/temp/, but they won't be saved outside of the current session"
   ]
  },
  {
   "cell_type": "code",
   "execution_count": 2,
   "id": "5db5b8de",
   "metadata": {
    "execution": {
     "iopub.execute_input": "2022-04-06T08:28:35.965365Z",
     "iopub.status.busy": "2022-04-06T08:28:35.964625Z",
     "iopub.status.idle": "2022-04-06T08:29:31.807872Z",
     "shell.execute_reply": "2022-04-06T08:29:31.807191Z",
     "shell.execute_reply.started": "2022-04-06T08:00:10.039693Z"
    },
    "papermill": {
     "duration": 55.883891,
     "end_time": "2022-04-06T08:29:31.808023",
     "exception": false,
     "start_time": "2022-04-06T08:28:35.924132",
     "status": "completed"
    },
    "tags": []
   },
   "outputs": [
    {
     "name": "stdout",
     "output_type": "stream",
     "text": [
      "Collecting findspark\r\n",
      "  Downloading findspark-2.0.1-py2.py3-none-any.whl (4.4 kB)\r\n",
      "Installing collected packages: findspark\r\n",
      "Successfully installed findspark-2.0.1\r\n",
      "\u001b[33mWARNING: Running pip as the 'root' user can result in broken permissions and conflicting behaviour with the system package manager. It is recommended to use a virtual environment instead: https://pip.pypa.io/warnings/venv\u001b[0m\r\n",
      "Collecting pyspark\r\n",
      "  Downloading pyspark-3.2.1.tar.gz (281.4 MB)\r\n",
      "     |████████████████████████████████| 281.4 MB 28 kB/s              \r\n",
      "\u001b[?25h  Preparing metadata (setup.py) ... \u001b[?25l-\b \b\\\b \bdone\r\n",
      "\u001b[?25hCollecting py4j==0.10.9.3\r\n",
      "  Downloading py4j-0.10.9.3-py2.py3-none-any.whl (198 kB)\r\n",
      "     |████████████████████████████████| 198 kB 62.9 MB/s            \r\n",
      "\u001b[?25hBuilding wheels for collected packages: pyspark\r\n",
      "  Building wheel for pyspark (setup.py) ... \u001b[?25l-\b \b\\\b \b|\b \b/\b \b-\b \b\\\b \b|\b \b/\b \b-\b \b\\\b \b|\b \b/\b \b-\b \b\\\b \b|\b \b/\b \b-\b \b\\\b \b|\b \b/\b \b-\b \b\\\b \b|\b \b/\b \b-\b \b\\\b \b|\b \b/\b \b-\b \b\\\b \b|\b \b/\b \b-\b \b\\\b \b|\b \b/\b \b-\b \b\\\b \b|\b \b/\b \b-\b \b\\\b \b|\b \b/\b \b-\b \b\\\b \b|\b \b/\b \b-\b \b\\\b \b|\b \b/\b \b-\b \b\\\b \b|\b \b/\b \b-\b \b\\\b \b|\b \b/\b \bdone\r\n",
      "\u001b[?25h  Created wheel for pyspark: filename=pyspark-3.2.1-py2.py3-none-any.whl size=281853642 sha256=978be37bbc450be337ba84a8531410ee67ee1f404ec316ae21d045568413521c\r\n",
      "  Stored in directory: /root/.cache/pip/wheels/9f/f5/07/7cd8017084dce4e93e84e92efd1e1d5334db05f2e83bcef74f\r\n",
      "Successfully built pyspark\r\n",
      "Installing collected packages: py4j, pyspark\r\n",
      "  Attempting uninstall: py4j\r\n",
      "    Found existing installation: py4j 0.10.9.4\r\n",
      "    Uninstalling py4j-0.10.9.4:\r\n",
      "      Successfully uninstalled py4j-0.10.9.4\r\n",
      "Successfully installed py4j-0.10.9.3 pyspark-3.2.1\r\n",
      "\u001b[33mWARNING: Running pip as the 'root' user can result in broken permissions and conflicting behaviour with the system package manager. It is recommended to use a virtual environment instead: https://pip.pypa.io/warnings/venv\u001b[0m\r\n"
     ]
    }
   ],
   "source": [
    "!pip install findspark\n",
    "!pip install pyspark"
   ]
  },
  {
   "cell_type": "code",
   "execution_count": 3,
   "id": "a36c6d8a",
   "metadata": {
    "execution": {
     "iopub.execute_input": "2022-04-06T08:29:32.160810Z",
     "iopub.status.busy": "2022-04-06T08:29:32.159327Z",
     "iopub.status.idle": "2022-04-06T08:29:32.204417Z",
     "shell.execute_reply": "2022-04-06T08:29:32.203803Z",
     "shell.execute_reply.started": "2022-04-06T08:01:07.503820Z"
    },
    "papermill": {
     "duration": 0.223389,
     "end_time": "2022-04-06T08:29:32.204569",
     "exception": false,
     "start_time": "2022-04-06T08:29:31.981180",
     "status": "completed"
    },
    "tags": []
   },
   "outputs": [],
   "source": [
    "import findspark\n",
    "findspark.init()\n",
    "import pyspark"
   ]
  },
  {
   "cell_type": "code",
   "execution_count": 4,
   "id": "f354c769",
   "metadata": {
    "execution": {
     "iopub.execute_input": "2022-04-06T08:29:32.550974Z",
     "iopub.status.busy": "2022-04-06T08:29:32.550342Z",
     "iopub.status.idle": "2022-04-06T08:29:39.138580Z",
     "shell.execute_reply": "2022-04-06T08:29:39.137362Z",
     "shell.execute_reply.started": "2022-04-06T08:01:07.571158Z"
    },
    "papermill": {
     "duration": 6.763979,
     "end_time": "2022-04-06T08:29:39.138796",
     "exception": false,
     "start_time": "2022-04-06T08:29:32.374817",
     "status": "completed"
    },
    "tags": []
   },
   "outputs": [
    {
     "name": "stderr",
     "output_type": "stream",
     "text": [
      "WARNING: An illegal reflective access operation has occurred\n",
      "WARNING: Illegal reflective access by org.apache.spark.unsafe.Platform (file:/opt/conda/lib/python3.7/site-packages/pyspark/jars/spark-unsafe_2.12-3.2.1.jar) to constructor java.nio.DirectByteBuffer(long,int)\n",
      "WARNING: Please consider reporting this to the maintainers of org.apache.spark.unsafe.Platform\n",
      "WARNING: Use --illegal-access=warn to enable warnings of further illegal reflective access operations\n",
      "WARNING: All illegal access operations will be denied in a future release\n",
      "Using Spark's default log4j profile: org/apache/spark/log4j-defaults.properties\n",
      "Setting default log level to \"WARN\".\n",
      "To adjust logging level use sc.setLogLevel(newLevel). For SparkR, use setLogLevel(newLevel).\n",
      "22/04/06 08:29:35 WARN NativeCodeLoader: Unable to load native-hadoop library for your platform... using builtin-java classes where applicable\n"
     ]
    }
   ],
   "source": [
    "from pyspark.sql import SparkSession\n",
    "spark = SparkSession.builder.appName('data_processing').getOrCreate()"
   ]
  },
  {
   "cell_type": "code",
   "execution_count": 5,
   "id": "030f1780",
   "metadata": {
    "execution": {
     "iopub.execute_input": "2022-04-06T08:29:39.494896Z",
     "iopub.status.busy": "2022-04-06T08:29:39.494247Z",
     "iopub.status.idle": "2022-04-06T08:29:39.500437Z",
     "shell.execute_reply": "2022-04-06T08:29:39.499813Z",
     "shell.execute_reply.started": "2022-04-06T08:01:14.067230Z"
    },
    "papermill": {
     "duration": 0.185661,
     "end_time": "2022-04-06T08:29:39.500578",
     "exception": false,
     "start_time": "2022-04-06T08:29:39.314917",
     "status": "completed"
    },
    "tags": []
   },
   "outputs": [],
   "source": [
    "from pyspark.sql.types import StringType, DoubleType, IntegerType\n",
    "from pyspark.sql.functions import udf\n",
    "from pyspark.sql.functions import pandas_udf"
   ]
  },
  {
   "cell_type": "code",
   "execution_count": 6,
   "id": "3d3854f5",
   "metadata": {
    "execution": {
     "iopub.execute_input": "2022-04-06T08:29:39.845519Z",
     "iopub.status.busy": "2022-04-06T08:29:39.843435Z",
     "iopub.status.idle": "2022-04-06T08:29:46.611418Z",
     "shell.execute_reply": "2022-04-06T08:29:46.612156Z",
     "shell.execute_reply.started": "2022-04-06T08:01:14.081413Z"
    },
    "papermill": {
     "duration": 6.940846,
     "end_time": "2022-04-06T08:29:46.612413",
     "exception": false,
     "start_time": "2022-04-06T08:29:39.671567",
     "status": "completed"
    },
    "tags": []
   },
   "outputs": [
    {
     "name": "stderr",
     "output_type": "stream",
     "text": [
      "                                                                                \r"
     ]
    },
    {
     "name": "stdout",
     "output_type": "stream",
     "text": [
      "+-------+---+----------+------+-------+\n",
      "|ratings|age|experience|family| mobile|\n",
      "+-------+---+----------+------+-------+\n",
      "|      3| 32|       9.0|     3|   Vivo|\n",
      "|      3| 27|      13.0|     3|  Apple|\n",
      "|      4| 22|       2.5|     0|Samsung|\n",
      "|      4| 37|      16.5|     4|  Apple|\n",
      "|      5| 27|       9.0|     1|     MI|\n",
      "|      4| 27|       9.0|     0|   Oppo|\n",
      "|      5| 37|      23.0|     5|   Vivo|\n",
      "|      5| 37|      23.0|     5|Samsung|\n",
      "|      3| 22|       2.5|     0|  Apple|\n",
      "|      3| 27|       6.0|     0|     MI|\n",
      "|      2| 27|       6.0|     2|   Oppo|\n",
      "|      5| 27|       6.0|     2|Samsung|\n",
      "|      3| 37|      16.5|     5|  Apple|\n",
      "|      5| 27|       6.0|     0|     MI|\n",
      "|      4| 22|       6.0|     1|   Oppo|\n",
      "|      4| 37|       9.0|     2|Samsung|\n",
      "|      4| 27|       6.0|     1|  Apple|\n",
      "|      1| 37|      23.0|     5|     MI|\n",
      "|      2| 42|      23.0|     2|   Oppo|\n",
      "|      4| 37|       6.0|     0|   Vivo|\n",
      "+-------+---+----------+------+-------+\n",
      "only showing top 20 rows\n",
      "\n"
     ]
    }
   ],
   "source": [
    "df = spark.read.csv('../input/pyspark-sample-dataset', inferSchema=True, header=True)\n",
    "df.show()"
   ]
  },
  {
   "cell_type": "code",
   "execution_count": 7,
   "id": "d2d9618d",
   "metadata": {
    "execution": {
     "iopub.execute_input": "2022-04-06T08:29:46.965714Z",
     "iopub.status.busy": "2022-04-06T08:29:46.964954Z",
     "iopub.status.idle": "2022-04-06T08:29:46.999379Z",
     "shell.execute_reply": "2022-04-06T08:29:47.000165Z",
     "shell.execute_reply.started": "2022-04-06T08:01:20.284373Z"
    },
    "papermill": {
     "duration": 0.213734,
     "end_time": "2022-04-06T08:29:47.000513",
     "exception": false,
     "start_time": "2022-04-06T08:29:46.786779",
     "status": "completed"
    },
    "tags": []
   },
   "outputs": [
    {
     "data": {
      "text/plain": [
       "['ratings', 'age', 'experience', 'family', 'mobile']"
      ]
     },
     "execution_count": 7,
     "metadata": {},
     "output_type": "execute_result"
    }
   ],
   "source": [
    "#check the columns\n",
    "df.columns"
   ]
  },
  {
   "cell_type": "code",
   "execution_count": 8,
   "id": "da5efb00",
   "metadata": {
    "execution": {
     "iopub.execute_input": "2022-04-06T08:29:47.352086Z",
     "iopub.status.busy": "2022-04-06T08:29:47.351260Z",
     "iopub.status.idle": "2022-04-06T08:29:47.354486Z",
     "shell.execute_reply": "2022-04-06T08:29:47.354975Z",
     "shell.execute_reply.started": "2022-04-06T08:01:20.321045Z"
    },
    "papermill": {
     "duration": 0.179904,
     "end_time": "2022-04-06T08:29:47.355142",
     "exception": false,
     "start_time": "2022-04-06T08:29:47.175238",
     "status": "completed"
    },
    "tags": []
   },
   "outputs": [
    {
     "data": {
      "text/plain": [
       "5"
      ]
     },
     "execution_count": 8,
     "metadata": {},
     "output_type": "execute_result"
    }
   ],
   "source": [
    "# number of columns\n",
    "len(df.columns)"
   ]
  },
  {
   "cell_type": "code",
   "execution_count": 9,
   "id": "816ce4f2",
   "metadata": {
    "execution": {
     "iopub.execute_input": "2022-04-06T08:29:47.704844Z",
     "iopub.status.busy": "2022-04-06T08:29:47.702738Z",
     "iopub.status.idle": "2022-04-06T08:29:48.754299Z",
     "shell.execute_reply": "2022-04-06T08:29:48.753021Z",
     "shell.execute_reply.started": "2022-04-06T08:01:20.885256Z"
    },
    "papermill": {
     "duration": 1.228667,
     "end_time": "2022-04-06T08:29:48.754571",
     "exception": false,
     "start_time": "2022-04-06T08:29:47.525904",
     "status": "completed"
    },
    "tags": []
   },
   "outputs": [
    {
     "data": {
      "text/plain": [
       "33"
      ]
     },
     "execution_count": 9,
     "metadata": {},
     "output_type": "execute_result"
    }
   ],
   "source": [
    "#no of rows\n",
    "df.count()"
   ]
  },
  {
   "cell_type": "code",
   "execution_count": 10,
   "id": "4f273ee5",
   "metadata": {
    "execution": {
     "iopub.execute_input": "2022-04-06T08:29:49.153792Z",
     "iopub.status.busy": "2022-04-06T08:29:49.152829Z",
     "iopub.status.idle": "2022-04-06T08:29:49.404570Z",
     "shell.execute_reply": "2022-04-06T08:29:49.405413Z",
     "shell.execute_reply.started": "2022-04-06T08:01:21.568766Z"
    },
    "papermill": {
     "duration": 0.433348,
     "end_time": "2022-04-06T08:29:49.405665",
     "exception": false,
     "start_time": "2022-04-06T08:29:48.972317",
     "status": "completed"
    },
    "tags": []
   },
   "outputs": [
    {
     "name": "stdout",
     "output_type": "stream",
     "text": [
      "The shape of the dataframe is:(33,5)\n"
     ]
    }
   ],
   "source": [
    "#since in pyspark, there is no direct method to get the shape, we use the combination of the two,\n",
    "print('The shape of the dataframe is:({},{})'.format((df.count()),(len(df.columns))))"
   ]
  },
  {
   "cell_type": "code",
   "execution_count": 11,
   "id": "4825cf32",
   "metadata": {
    "execution": {
     "iopub.execute_input": "2022-04-06T08:29:49.773330Z",
     "iopub.status.busy": "2022-04-06T08:29:49.772331Z",
     "iopub.status.idle": "2022-04-06T08:29:49.778024Z",
     "shell.execute_reply": "2022-04-06T08:29:49.777286Z",
     "shell.execute_reply.started": "2022-04-06T08:01:21.827641Z"
    },
    "papermill": {
     "duration": 0.191425,
     "end_time": "2022-04-06T08:29:49.778250",
     "exception": false,
     "start_time": "2022-04-06T08:29:49.586825",
     "status": "completed"
    },
    "tags": []
   },
   "outputs": [
    {
     "name": "stdout",
     "output_type": "stream",
     "text": [
      "root\n",
      " |-- ratings: integer (nullable = true)\n",
      " |-- age: integer (nullable = true)\n",
      " |-- experience: double (nullable = true)\n",
      " |-- family: integer (nullable = true)\n",
      " |-- mobile: string (nullable = true)\n",
      "\n"
     ]
    }
   ],
   "source": [
    "#the datatypes of the columns are as follows:\n",
    "df.printSchema()"
   ]
  },
  {
   "cell_type": "code",
   "execution_count": 12,
   "id": "6aadc5c6",
   "metadata": {
    "execution": {
     "iopub.execute_input": "2022-04-06T08:29:50.139687Z",
     "iopub.status.busy": "2022-04-06T08:29:50.138647Z",
     "iopub.status.idle": "2022-04-06T08:29:50.301328Z",
     "shell.execute_reply": "2022-04-06T08:29:50.299543Z",
     "shell.execute_reply.started": "2022-04-06T08:01:21.838368Z"
    },
    "papermill": {
     "duration": 0.345727,
     "end_time": "2022-04-06T08:29:50.301693",
     "exception": false,
     "start_time": "2022-04-06T08:29:49.955966",
     "status": "completed"
    },
    "tags": []
   },
   "outputs": [
    {
     "name": "stdout",
     "output_type": "stream",
     "text": [
      "+-------+---+----------+------+-------+\n",
      "|ratings|age|experience|family| mobile|\n",
      "+-------+---+----------+------+-------+\n",
      "|      3| 32|       9.0|     3|   Vivo|\n",
      "|      3| 27|      13.0|     3|  Apple|\n",
      "|      4| 22|       2.5|     0|Samsung|\n",
      "|      4| 37|      16.5|     4|  Apple|\n",
      "|      5| 27|       9.0|     1|     MI|\n",
      "+-------+---+----------+------+-------+\n",
      "only showing top 5 rows\n",
      "\n"
     ]
    }
   ],
   "source": [
    "#to display the first 5 rows\n",
    "df.show(5)"
   ]
  },
  {
   "cell_type": "code",
   "execution_count": 13,
   "id": "cb69d955",
   "metadata": {
    "execution": {
     "iopub.execute_input": "2022-04-06T08:29:50.679457Z",
     "iopub.status.busy": "2022-04-06T08:29:50.678519Z",
     "iopub.status.idle": "2022-04-06T08:29:51.077522Z",
     "shell.execute_reply": "2022-04-06T08:29:51.076425Z",
     "shell.execute_reply.started": "2022-04-06T08:01:22.046145Z"
    },
    "papermill": {
     "duration": 0.580934,
     "end_time": "2022-04-06T08:29:51.077771",
     "exception": false,
     "start_time": "2022-04-06T08:29:50.496837",
     "status": "completed"
    },
    "tags": []
   },
   "outputs": [
    {
     "name": "stdout",
     "output_type": "stream",
     "text": [
      "+---+-------+\n",
      "|age| mobile|\n",
      "+---+-------+\n",
      "| 32|   Vivo|\n",
      "| 27|  Apple|\n",
      "| 22|Samsung|\n",
      "| 37|  Apple|\n",
      "| 27|     MI|\n",
      "+---+-------+\n",
      "only showing top 5 rows\n",
      "\n"
     ]
    }
   ],
   "source": [
    "#lets check only the 2 columns age & mobile, see only 5 rows\n",
    "df.select('age', 'mobile').show(5)"
   ]
  },
  {
   "cell_type": "code",
   "execution_count": 14,
   "id": "24bc1321",
   "metadata": {
    "execution": {
     "iopub.execute_input": "2022-04-06T08:29:51.468249Z",
     "iopub.status.busy": "2022-04-06T08:29:51.467550Z",
     "iopub.status.idle": "2022-04-06T08:29:52.827236Z",
     "shell.execute_reply": "2022-04-06T08:29:52.828100Z",
     "shell.execute_reply.started": "2022-04-06T08:01:22.421190Z"
    },
    "papermill": {
     "duration": 1.540468,
     "end_time": "2022-04-06T08:29:52.828415",
     "exception": false,
     "start_time": "2022-04-06T08:29:51.287947",
     "status": "completed"
    },
    "tags": []
   },
   "outputs": [
    {
     "name": "stdout",
     "output_type": "stream",
     "text": [
      "+-------+------------------+------------------+------------------+------------------+------+\n",
      "|summary|           ratings|               age|        experience|            family|mobile|\n",
      "+-------+------------------+------------------+------------------+------------------+------+\n",
      "|  count|                33|                33|                33|                33|    33|\n",
      "|   mean|3.5757575757575757|30.484848484848484|10.303030303030303|1.8181818181818181|  null|\n",
      "| stddev|1.1188806636071336|  6.18527087180309| 6.770731351213326|1.8448330794164254|  null|\n",
      "|    min|                 1|                22|               2.5|                 0| Apple|\n",
      "|    max|                 5|                42|              23.0|                 5|  Vivo|\n",
      "+-------+------------------+------------------+------------------+------------------+------+\n",
      "\n"
     ]
    }
   ],
   "source": [
    "#summary stats\n",
    "df.describe().show()"
   ]
  },
  {
   "cell_type": "code",
   "execution_count": 15,
   "id": "7c1b1676",
   "metadata": {
    "execution": {
     "iopub.execute_input": "2022-04-06T08:29:53.880353Z",
     "iopub.status.busy": "2022-04-06T08:29:53.879436Z",
     "iopub.status.idle": "2022-04-06T08:29:54.172610Z",
     "shell.execute_reply": "2022-04-06T08:29:54.171098Z",
     "shell.execute_reply.started": "2022-04-06T08:01:23.613440Z"
    },
    "papermill": {
     "duration": 1.085052,
     "end_time": "2022-04-06T08:29:54.172976",
     "exception": false,
     "start_time": "2022-04-06T08:29:53.087924",
     "status": "completed"
    },
    "tags": []
   },
   "outputs": [
    {
     "name": "stdout",
     "output_type": "stream",
     "text": [
      "+-------+---+----------+------+-------+------------------+\n",
      "|ratings|age|experience|family|mobile |age_after_10_years|\n",
      "+-------+---+----------+------+-------+------------------+\n",
      "|3      |32 |9.0       |3     |Vivo   |42                |\n",
      "|3      |27 |13.0      |3     |Apple  |37                |\n",
      "|4      |22 |2.5       |0     |Samsung|32                |\n",
      "|4      |37 |16.5      |4     |Apple  |47                |\n",
      "|5      |27 |9.0       |1     |MI     |37                |\n",
      "|4      |27 |9.0       |0     |Oppo   |37                |\n",
      "|5      |37 |23.0      |5     |Vivo   |47                |\n",
      "|5      |37 |23.0      |5     |Samsung|47                |\n",
      "|3      |22 |2.5       |0     |Apple  |32                |\n",
      "|3      |27 |6.0       |0     |MI     |37                |\n",
      "+-------+---+----------+------+-------+------------------+\n",
      "only showing top 10 rows\n",
      "\n"
     ]
    }
   ],
   "source": [
    "#add a new columns, which is the current column plus 10\n",
    "df = df.withColumn('age_after_10_years', (df['age']+10))\n",
    "df.show(10, False)"
   ]
  },
  {
   "cell_type": "code",
   "execution_count": 16,
   "id": "7008b7b8",
   "metadata": {
    "execution": {
     "iopub.execute_input": "2022-04-06T08:29:54.657762Z",
     "iopub.status.busy": "2022-04-06T08:29:54.656978Z",
     "iopub.status.idle": "2022-04-06T08:29:54.898293Z",
     "shell.execute_reply": "2022-04-06T08:29:54.899271Z",
     "shell.execute_reply.started": "2022-04-06T08:01:23.868690Z"
    },
    "papermill": {
     "duration": 0.449773,
     "end_time": "2022-04-06T08:29:54.899529",
     "exception": false,
     "start_time": "2022-04-06T08:29:54.449756",
     "status": "completed"
    },
    "tags": []
   },
   "outputs": [
    {
     "name": "stdout",
     "output_type": "stream",
     "text": [
      "+-------+---+----------+------+-------+------------------+----------+\n",
      "|ratings|age|experience|family|mobile |age_after_10_years|age_Double|\n",
      "+-------+---+----------+------+-------+------------------+----------+\n",
      "|3      |32 |9.0       |3     |Vivo   |42                |32.0      |\n",
      "|3      |27 |13.0      |3     |Apple  |37                |27.0      |\n",
      "|4      |22 |2.5       |0     |Samsung|32                |22.0      |\n",
      "+-------+---+----------+------+-------+------------------+----------+\n",
      "only showing top 3 rows\n",
      "\n"
     ]
    }
   ],
   "source": [
    "#change the columns age dtype to double\n",
    "\n",
    "df = df.withColumn('age_Double', df['age'].cast(DoubleType()))\n",
    "df.show(3, False)"
   ]
  },
  {
   "cell_type": "code",
   "execution_count": 17,
   "id": "dbb496d1",
   "metadata": {
    "execution": {
     "iopub.execute_input": "2022-04-06T08:29:55.282609Z",
     "iopub.status.busy": "2022-04-06T08:29:55.281527Z",
     "iopub.status.idle": "2022-04-06T08:29:55.589950Z",
     "shell.execute_reply": "2022-04-06T08:29:55.588941Z",
     "shell.execute_reply.started": "2022-04-06T08:01:24.073870Z"
    },
    "papermill": {
     "duration": 0.49025,
     "end_time": "2022-04-06T08:29:55.590166",
     "exception": false,
     "start_time": "2022-04-06T08:29:55.099916",
     "status": "completed"
    },
    "tags": []
   },
   "outputs": [
    {
     "name": "stdout",
     "output_type": "stream",
     "text": [
      "+-------+---+----------+------+------+------------------+----------+\n",
      "|ratings|age|experience|family|mobile|age_after_10_years|age_Double|\n",
      "+-------+---+----------+------+------+------------------+----------+\n",
      "|3      |32 |9.0       |3     |Vivo  |42                |32.0      |\n",
      "|5      |37 |23.0      |5     |Vivo  |47                |37.0      |\n",
      "|4      |37 |6.0       |0     |Vivo  |47                |37.0      |\n",
      "|5      |37 |13.0      |1     |Vivo  |47                |37.0      |\n",
      "|4      |37 |6.0       |0     |Vivo  |47                |37.0      |\n",
      "+-------+---+----------+------+------+------------------+----------+\n",
      "\n"
     ]
    }
   ],
   "source": [
    "#Filter, there are 2 ways for filter\n",
    "#lets filter only Vivo\n",
    "df.filter(df['mobile']=='Vivo').show(5, False)"
   ]
  },
  {
   "cell_type": "code",
   "execution_count": 18,
   "id": "0f6f4732",
   "metadata": {
    "execution": {
     "iopub.execute_input": "2022-04-06T08:29:55.981566Z",
     "iopub.status.busy": "2022-04-06T08:29:55.980555Z",
     "iopub.status.idle": "2022-04-06T08:29:56.283489Z",
     "shell.execute_reply": "2022-04-06T08:29:56.282620Z",
     "shell.execute_reply.started": "2022-04-06T08:01:24.351704Z"
    },
    "papermill": {
     "duration": 0.481808,
     "end_time": "2022-04-06T08:29:56.283693",
     "exception": false,
     "start_time": "2022-04-06T08:29:55.801885",
     "status": "completed"
    },
    "tags": []
   },
   "outputs": [
    {
     "name": "stdout",
     "output_type": "stream",
     "text": [
      "+-------+---+----------+------+------+------------------+----------+\n",
      "|ratings|age|experience|family|mobile|age_after_10_years|age_Double|\n",
      "+-------+---+----------+------+------+------------------+----------+\n",
      "|      5| 37|      23.0|     5|  Vivo|                47|      37.0|\n",
      "|      5| 37|      13.0|     1|  Vivo|                47|      37.0|\n",
      "+-------+---+----------+------+------+------------------+----------+\n",
      "\n"
     ]
    }
   ],
   "source": [
    "#adding 2 filter conditions--method#1\n",
    "df.filter(df['mobile']=='Vivo').filter(df['experience']>10).show()"
   ]
  },
  {
   "cell_type": "code",
   "execution_count": 19,
   "id": "7e33d577",
   "metadata": {
    "execution": {
     "iopub.execute_input": "2022-04-06T08:29:56.848960Z",
     "iopub.status.busy": "2022-04-06T08:29:56.847979Z",
     "iopub.status.idle": "2022-04-06T08:29:57.035051Z",
     "shell.execute_reply": "2022-04-06T08:29:57.036589Z",
     "shell.execute_reply.started": "2022-04-06T08:01:24.595959Z"
    },
    "papermill": {
     "duration": 0.470967,
     "end_time": "2022-04-06T08:29:57.037040",
     "exception": false,
     "start_time": "2022-04-06T08:29:56.566073",
     "status": "completed"
    },
    "tags": []
   },
   "outputs": [
    {
     "name": "stdout",
     "output_type": "stream",
     "text": [
      "+-------+---+----------+------+------+------------------+----------+\n",
      "|ratings|age|experience|family|mobile|age_after_10_years|age_Double|\n",
      "+-------+---+----------+------+------+------------------+----------+\n",
      "|      5| 37|      23.0|     5|  Vivo|                47|      37.0|\n",
      "|      5| 37|      13.0|     1|  Vivo|                47|      37.0|\n",
      "+-------+---+----------+------+------+------------------+----------+\n",
      "\n"
     ]
    }
   ],
   "source": [
    "#method #2, 2 conditions in one row.\n",
    "df.filter((df['mobile']=='Vivo') & (df['experience'] >10)).show()"
   ]
  },
  {
   "cell_type": "code",
   "execution_count": 20,
   "id": "9479b183",
   "metadata": {
    "execution": {
     "iopub.execute_input": "2022-04-06T08:29:57.480297Z",
     "iopub.status.busy": "2022-04-06T08:29:57.479574Z",
     "iopub.status.idle": "2022-04-06T08:29:57.915799Z",
     "shell.execute_reply": "2022-04-06T08:29:57.913993Z",
     "shell.execute_reply.started": "2022-04-06T08:01:24.771117Z"
    },
    "papermill": {
     "duration": 0.616431,
     "end_time": "2022-04-06T08:29:57.916183",
     "exception": false,
     "start_time": "2022-04-06T08:29:57.299752",
     "status": "completed"
    },
    "tags": []
   },
   "outputs": [
    {
     "name": "stdout",
     "output_type": "stream",
     "text": [
      "+-------+\n",
      "| mobile|\n",
      "+-------+\n",
      "|     MI|\n",
      "|   Oppo|\n",
      "|Samsung|\n",
      "|   Vivo|\n",
      "|  Apple|\n",
      "+-------+\n",
      "\n"
     ]
    }
   ],
   "source": [
    "#checking distinct values in column\n",
    "df.select('mobile').distinct().show()"
   ]
  },
  {
   "cell_type": "code",
   "execution_count": 21,
   "id": "e100a058",
   "metadata": {
    "execution": {
     "iopub.execute_input": "2022-04-06T08:29:58.332088Z",
     "iopub.status.busy": "2022-04-06T08:29:58.331066Z",
     "iopub.status.idle": "2022-04-06T08:29:58.853682Z",
     "shell.execute_reply": "2022-04-06T08:29:58.853077Z",
     "shell.execute_reply.started": "2022-04-06T08:01:25.140103Z"
    },
    "papermill": {
     "duration": 0.702605,
     "end_time": "2022-04-06T08:29:58.853847",
     "exception": false,
     "start_time": "2022-04-06T08:29:58.151242",
     "status": "completed"
    },
    "tags": []
   },
   "outputs": [
    {
     "name": "stdout",
     "output_type": "stream",
     "text": [
      "+-------+-----+\n",
      "|mobile |count|\n",
      "+-------+-----+\n",
      "|MI     |8    |\n",
      "|Oppo   |7    |\n",
      "|Samsung|6    |\n",
      "|Vivo   |5    |\n",
      "|Apple  |7    |\n",
      "+-------+-----+\n",
      "\n"
     ]
    }
   ],
   "source": [
    "#grouping the data\n",
    "df.groupby('mobile').count().show(5, False)"
   ]
  },
  {
   "cell_type": "code",
   "execution_count": 22,
   "id": "ea199c68",
   "metadata": {
    "execution": {
     "iopub.execute_input": "2022-04-06T08:29:59.226292Z",
     "iopub.status.busy": "2022-04-06T08:29:59.225564Z",
     "iopub.status.idle": "2022-04-06T08:29:59.648513Z",
     "shell.execute_reply": "2022-04-06T08:29:59.649298Z",
     "shell.execute_reply.started": "2022-04-06T08:01:25.541303Z"
    },
    "papermill": {
     "duration": 0.612844,
     "end_time": "2022-04-06T08:29:59.649546",
     "exception": false,
     "start_time": "2022-04-06T08:29:59.036702",
     "status": "completed"
    },
    "tags": []
   },
   "outputs": [
    {
     "name": "stdout",
     "output_type": "stream",
     "text": [
      "+-------+-----+\n",
      "|mobile |count|\n",
      "+-------+-----+\n",
      "|MI     |8    |\n",
      "|Apple  |7    |\n",
      "|Oppo   |7    |\n",
      "|Samsung|6    |\n",
      "|Vivo   |5    |\n",
      "+-------+-----+\n",
      "\n"
     ]
    }
   ],
   "source": [
    "#groupby ascending\n",
    "df.groupby('mobile').count().orderBy('count', ascending=False).show(5, False)"
   ]
  },
  {
   "cell_type": "code",
   "execution_count": 23,
   "id": "07231f44",
   "metadata": {
    "execution": {
     "iopub.execute_input": "2022-04-06T08:30:00.052903Z",
     "iopub.status.busy": "2022-04-06T08:30:00.052240Z",
     "iopub.status.idle": "2022-04-06T08:30:00.497160Z",
     "shell.execute_reply": "2022-04-06T08:30:00.498641Z",
     "shell.execute_reply.started": "2022-04-06T08:01:25.954971Z"
    },
    "papermill": {
     "duration": 0.629764,
     "end_time": "2022-04-06T08:30:00.499088",
     "exception": false,
     "start_time": "2022-04-06T08:29:59.869324",
     "status": "completed"
    },
    "tags": []
   },
   "outputs": [
    {
     "name": "stdout",
     "output_type": "stream",
     "text": [
      "+-------+------------------+------------------+------------------+------------------+-----------------------+------------------+\n",
      "|mobile |avg(ratings)      |avg(age)          |avg(experience)   |avg(family)       |avg(age_after_10_years)|avg(age_Double)   |\n",
      "+-------+------------------+------------------+------------------+------------------+-----------------------+------------------+\n",
      "|MI     |3.5               |30.125            |10.1875           |1.375             |40.125                 |30.125            |\n",
      "|Oppo   |2.857142857142857 |28.428571428571427|10.357142857142858|1.4285714285714286|38.42857142857143      |28.428571428571427|\n",
      "|Samsung|4.166666666666667 |28.666666666666668|8.666666666666666 |1.8333333333333333|38.666666666666664     |28.666666666666668|\n",
      "|Vivo   |4.2               |36.0              |11.4              |1.8               |46.0                   |36.0              |\n",
      "|Apple  |3.4285714285714284|30.571428571428573|11.0              |2.7142857142857144|40.57142857142857      |30.571428571428573|\n",
      "+-------+------------------+------------------+------------------+------------------+-----------------------+------------------+\n",
      "\n"
     ]
    }
   ],
   "source": [
    "#checking the mean\n",
    "df.groupby('mobile').mean().show(5, False)"
   ]
  },
  {
   "cell_type": "code",
   "execution_count": 24,
   "id": "4e7063fc",
   "metadata": {
    "execution": {
     "iopub.execute_input": "2022-04-06T08:30:00.893492Z",
     "iopub.status.busy": "2022-04-06T08:30:00.891925Z",
     "iopub.status.idle": "2022-04-06T08:30:01.295871Z",
     "shell.execute_reply": "2022-04-06T08:30:01.294924Z",
     "shell.execute_reply.started": "2022-04-06T08:01:26.414054Z"
    },
    "papermill": {
     "duration": 0.586531,
     "end_time": "2022-04-06T08:30:01.296084",
     "exception": false,
     "start_time": "2022-04-06T08:30:00.709553",
     "status": "completed"
    },
    "tags": []
   },
   "outputs": [
    {
     "name": "stdout",
     "output_type": "stream",
     "text": [
      "+-------+------------+--------+---------------+-----------+-----------------------+---------------+\n",
      "|mobile |sum(ratings)|sum(age)|sum(experience)|sum(family)|sum(age_after_10_years)|sum(age_Double)|\n",
      "+-------+------------+--------+---------------+-----------+-----------------------+---------------+\n",
      "|MI     |28          |241     |81.5           |11         |321                    |241.0          |\n",
      "|Oppo   |20          |199     |72.5           |10         |269                    |199.0          |\n",
      "|Samsung|25          |172     |52.0           |11         |232                    |172.0          |\n",
      "|Vivo   |21          |180     |57.0           |9          |230                    |180.0          |\n",
      "|Apple  |24          |214     |77.0           |19         |284                    |214.0          |\n",
      "+-------+------------+--------+---------------+-----------+-----------------------+---------------+\n",
      "\n"
     ]
    }
   ],
   "source": [
    "#chekcing the sum\n",
    "df.groupby('mobile').sum().show(5, False)"
   ]
  },
  {
   "cell_type": "code",
   "execution_count": 25,
   "id": "375856dd",
   "metadata": {
    "execution": {
     "iopub.execute_input": "2022-04-06T08:30:01.707878Z",
     "iopub.status.busy": "2022-04-06T08:30:01.707082Z",
     "iopub.status.idle": "2022-04-06T08:30:02.215754Z",
     "shell.execute_reply": "2022-04-06T08:30:02.216634Z",
     "shell.execute_reply.started": "2022-04-06T08:01:26.777804Z"
    },
    "papermill": {
     "duration": 0.697902,
     "end_time": "2022-04-06T08:30:02.216921",
     "exception": false,
     "start_time": "2022-04-06T08:30:01.519019",
     "status": "completed"
    },
    "tags": []
   },
   "outputs": [
    {
     "name": "stdout",
     "output_type": "stream",
     "text": [
      "+-------+------------+--------+---------------+-----------+-----------------------+---------------+\n",
      "|mobile |min(ratings)|min(age)|min(experience)|min(family)|min(age_after_10_years)|min(age_Double)|\n",
      "+-------+------------+--------+---------------+-----------+-----------------------+---------------+\n",
      "|MI     |1           |27      |2.5            |0          |37                     |27.0           |\n",
      "|Oppo   |2           |22      |6.0            |0          |32                     |22.0           |\n",
      "|Samsung|2           |22      |2.5            |0          |32                     |22.0           |\n",
      "|Vivo   |3           |32      |6.0            |0          |42                     |32.0           |\n",
      "|Apple  |3           |22      |2.5            |0          |32                     |22.0           |\n",
      "+-------+------------+--------+---------------+-----------+-----------------------+---------------+\n",
      "\n"
     ]
    }
   ],
   "source": [
    "#chekcing min\n",
    "df.groupBy('mobile').min().show(5, False)"
   ]
  },
  {
   "cell_type": "code",
   "execution_count": 26,
   "id": "65c4515c",
   "metadata": {
    "execution": {
     "iopub.execute_input": "2022-04-06T08:30:02.731095Z",
     "iopub.status.busy": "2022-04-06T08:30:02.729912Z",
     "iopub.status.idle": "2022-04-06T08:30:03.128726Z",
     "shell.execute_reply": "2022-04-06T08:30:03.127358Z",
     "shell.execute_reply.started": "2022-04-06T08:01:27.273385Z"
    },
    "papermill": {
     "duration": 0.607324,
     "end_time": "2022-04-06T08:30:03.129048",
     "exception": false,
     "start_time": "2022-04-06T08:30:02.521724",
     "status": "completed"
    },
    "tags": []
   },
   "outputs": [
    {
     "name": "stdout",
     "output_type": "stream",
     "text": [
      "+-------+------------+--------+---------------+-----------+-----------------------+---------------+\n",
      "|mobile |max(ratings)|max(age)|max(experience)|max(family)|max(age_after_10_years)|max(age_Double)|\n",
      "+-------+------------+--------+---------------+-----------+-----------------------+---------------+\n",
      "|MI     |5           |42      |23.0           |5          |52                     |42.0           |\n",
      "|Oppo   |4           |42      |23.0           |2          |52                     |42.0           |\n",
      "|Samsung|5           |37      |23.0           |5          |47                     |37.0           |\n",
      "|Vivo   |5           |37      |23.0           |5          |47                     |37.0           |\n",
      "|Apple  |4           |37      |16.5           |5          |47                     |37.0           |\n",
      "+-------+------------+--------+---------------+-----------+-----------------------+---------------+\n",
      "\n"
     ]
    }
   ],
   "source": [
    "#chekcing max\n",
    "df.groupby('mobile').max().show(5, False)"
   ]
  },
  {
   "cell_type": "code",
   "execution_count": 27,
   "id": "0c394e88",
   "metadata": {
    "execution": {
     "iopub.execute_input": "2022-04-06T08:30:03.584521Z",
     "iopub.status.busy": "2022-04-06T08:30:03.583506Z",
     "iopub.status.idle": "2022-04-06T08:30:03.943056Z",
     "shell.execute_reply": "2022-04-06T08:30:03.944023Z",
     "shell.execute_reply.started": "2022-04-06T08:01:27.617700Z"
    },
    "papermill": {
     "duration": 0.612855,
     "end_time": "2022-04-06T08:30:03.944411",
     "exception": false,
     "start_time": "2022-04-06T08:30:03.331556",
     "status": "completed"
    },
    "tags": []
   },
   "outputs": [
    {
     "name": "stdout",
     "output_type": "stream",
     "text": [
      "+-------+---------------+\n",
      "|mobile |sum(experience)|\n",
      "+-------+---------------+\n",
      "|MI     |81.5           |\n",
      "|Oppo   |72.5           |\n",
      "|Samsung|52.0           |\n",
      "|Vivo   |57.0           |\n",
      "|Apple  |77.0           |\n",
      "+-------+---------------+\n",
      "\n"
     ]
    }
   ],
   "source": [
    "#we can also use aggregation to check  \n",
    "df.groupby('mobile').agg({'experience':'sum'}).show(5, False)"
   ]
  },
  {
   "cell_type": "code",
   "execution_count": 28,
   "id": "74d04a33",
   "metadata": {
    "execution": {
     "iopub.execute_input": "2022-04-06T08:30:04.340009Z",
     "iopub.status.busy": "2022-04-06T08:30:04.339166Z",
     "iopub.status.idle": "2022-04-06T08:30:05.429714Z",
     "shell.execute_reply": "2022-04-06T08:30:05.428657Z",
     "shell.execute_reply.started": "2022-04-06T08:01:27.891254Z"
    },
    "papermill": {
     "duration": 1.280211,
     "end_time": "2022-04-06T08:30:05.429938",
     "exception": false,
     "start_time": "2022-04-06T08:30:04.149727",
     "status": "completed"
    },
    "tags": []
   },
   "outputs": [
    {
     "name": "stderr",
     "output_type": "stream",
     "text": [
      "[Stage 43:>                                                         (0 + 1) / 1]\r"
     ]
    },
    {
     "name": "stdout",
     "output_type": "stream",
     "text": [
      "+-------+---+----------+------+-------+------------------+----------+-----------+\n",
      "|ratings|age|experience|family|mobile |age_after_10_years|age_Double|price_range|\n",
      "+-------+---+----------+------+-------+------------------+----------+-----------+\n",
      "|3      |32 |9.0       |3     |Vivo   |42                |32.0      |Low Price  |\n",
      "|3      |27 |13.0      |3     |Apple  |37                |27.0      |High Price |\n",
      "|4      |22 |2.5       |0     |Samsung|32                |22.0      |High Price |\n",
      "|4      |37 |16.5      |4     |Apple  |47                |37.0      |High Price |\n",
      "|5      |27 |9.0       |1     |MI     |37                |27.0      |Mid Price  |\n",
      "|4      |27 |9.0       |0     |Oppo   |37                |27.0      |Low Price  |\n",
      "|5      |37 |23.0      |5     |Vivo   |47                |37.0      |Low Price  |\n",
      "|5      |37 |23.0      |5     |Samsung|47                |37.0      |High Price |\n",
      "|3      |22 |2.5       |0     |Apple  |32                |22.0      |High Price |\n",
      "|3      |27 |6.0       |0     |MI     |37                |27.0      |Mid Price  |\n",
      "+-------+---+----------+------+-------+------------------+----------+-----------+\n",
      "only showing top 10 rows\n",
      "\n"
     ]
    },
    {
     "name": "stderr",
     "output_type": "stream",
     "text": [
      "                                                                                \r"
     ]
    }
   ],
   "source": [
    "#udf\n",
    "#this one is done in 3 steps\n",
    "# Step #1 write a trational python function\n",
    "def price_rangefunction(brand):\n",
    "    if brand in ['Samsung', 'Apple']:\n",
    "        return 'High Price'\n",
    "    elif brand =='MI':\n",
    "        return 'Mid Price'\n",
    "    else:\n",
    "        return 'Low Price'\n",
    "\n",
    "# Step #2 , create a UDF\n",
    "brand_udf = udf(price_rangefunction, StringType())\n",
    "\n",
    "#step #3, apply the udf to mobile column\n",
    "df.withColumn('price_range', brand_udf(df['mobile'])).show(10, False)\n"
   ]
  },
  {
   "cell_type": "code",
   "execution_count": 29,
   "id": "8389dc0e",
   "metadata": {
    "execution": {
     "iopub.execute_input": "2022-04-06T08:30:05.925086Z",
     "iopub.status.busy": "2022-04-06T08:30:05.924010Z",
     "iopub.status.idle": "2022-04-06T08:30:06.206984Z",
     "shell.execute_reply": "2022-04-06T08:30:06.207868Z",
     "shell.execute_reply.started": "2022-04-06T08:01:28.813061Z"
    },
    "papermill": {
     "duration": 0.485958,
     "end_time": "2022-04-06T08:30:06.208123",
     "exception": false,
     "start_time": "2022-04-06T08:30:05.722165",
     "status": "completed"
    },
    "tags": []
   },
   "outputs": [
    {
     "name": "stdout",
     "output_type": "stream",
     "text": [
      "+-------+---+----------+------+-------+------------------+----------+---------+\n",
      "|ratings|age|experience|family|mobile |age_after_10_years|age_Double|age_group|\n",
      "+-------+---+----------+------+-------+------------------+----------+---------+\n",
      "|3      |32 |9.0       |3     |Vivo   |42                |32.0      |senior   |\n",
      "|3      |27 |13.0      |3     |Apple  |37                |27.0      |young    |\n",
      "|4      |22 |2.5       |0     |Samsung|32                |22.0      |young    |\n",
      "|4      |37 |16.5      |4     |Apple  |47                |37.0      |senior   |\n",
      "|5      |27 |9.0       |1     |MI     |37                |27.0      |young    |\n",
      "|4      |27 |9.0       |0     |Oppo   |37                |27.0      |young    |\n",
      "|5      |37 |23.0      |5     |Vivo   |47                |37.0      |senior   |\n",
      "|5      |37 |23.0      |5     |Samsung|47                |37.0      |senior   |\n",
      "|3      |22 |2.5       |0     |Apple  |32                |22.0      |young    |\n",
      "|3      |27 |6.0       |0     |MI     |37                |27.0      |young    |\n",
      "+-------+---+----------+------+-------+------------------+----------+---------+\n",
      "only showing top 10 rows\n",
      "\n"
     ]
    }
   ],
   "source": [
    "#using lamda function\n",
    "age_udf = udf(lambda age: \"young\" if age <= 30 else \"senior\", StringType())\n",
    "df.withColumn(\"age_group\", age_udf(df.age)).show(10, False)\n"
   ]
  },
  {
   "cell_type": "code",
   "execution_count": 30,
   "id": "ad4438c5",
   "metadata": {
    "execution": {
     "iopub.execute_input": "2022-04-06T08:30:06.590128Z",
     "iopub.status.busy": "2022-04-06T08:30:06.589047Z",
     "iopub.status.idle": "2022-04-06T08:30:06.590979Z",
     "shell.execute_reply": "2022-04-06T08:30:06.591624Z",
     "shell.execute_reply.started": "2022-04-06T08:01:29.064985Z"
    },
    "papermill": {
     "duration": 0.192655,
     "end_time": "2022-04-06T08:30:06.591812",
     "exception": false,
     "start_time": "2022-04-06T08:30:06.399157",
     "status": "completed"
    },
    "tags": []
   },
   "outputs": [],
   "source": [
    "#using Pnadas udf\n",
    "def remainaing_yrs(age):\n",
    "    return (100-age)\n",
    "    \n",
    "    \n",
    "lenght_udf = pandas_udf(remainaing_yrs, IntegerType())"
   ]
  },
  {
   "cell_type": "code",
   "execution_count": 31,
   "id": "25c2d111",
   "metadata": {
    "execution": {
     "iopub.execute_input": "2022-04-06T08:30:06.962358Z",
     "iopub.status.busy": "2022-04-06T08:30:06.961628Z",
     "iopub.status.idle": "2022-04-06T08:30:07.954866Z",
     "shell.execute_reply": "2022-04-06T08:30:07.953822Z",
     "shell.execute_reply.started": "2022-04-06T08:02:42.266546Z"
    },
    "papermill": {
     "duration": 1.182121,
     "end_time": "2022-04-06T08:30:07.955114",
     "exception": false,
     "start_time": "2022-04-06T08:30:06.772993",
     "status": "completed"
    },
    "tags": []
   },
   "outputs": [
    {
     "name": "stderr",
     "output_type": "stream",
     "text": [
      "[Stage 45:>                                                         (0 + 1) / 1]\r"
     ]
    },
    {
     "name": "stdout",
     "output_type": "stream",
     "text": [
      "+-------+---+----------+------+-------+------------------+----------+--------+\n",
      "|ratings|age|experience|family|mobile |age_after_10_years|age_Double|yrs_left|\n",
      "+-------+---+----------+------+-------+------------------+----------+--------+\n",
      "|3      |32 |9.0       |3     |Vivo   |42                |32.0      |68      |\n",
      "|3      |27 |13.0      |3     |Apple  |37                |27.0      |73      |\n",
      "|4      |22 |2.5       |0     |Samsung|32                |22.0      |78      |\n",
      "|4      |37 |16.5      |4     |Apple  |47                |37.0      |63      |\n",
      "|5      |27 |9.0       |1     |MI     |37                |27.0      |73      |\n",
      "|4      |27 |9.0       |0     |Oppo   |37                |27.0      |73      |\n",
      "|5      |37 |23.0      |5     |Vivo   |47                |37.0      |63      |\n",
      "|5      |37 |23.0      |5     |Samsung|47                |37.0      |63      |\n",
      "|3      |22 |2.5       |0     |Apple  |32                |22.0      |78      |\n",
      "|3      |27 |6.0       |0     |MI     |37                |27.0      |73      |\n",
      "+-------+---+----------+------+-------+------------------+----------+--------+\n",
      "only showing top 10 rows\n",
      "\n"
     ]
    },
    {
     "name": "stderr",
     "output_type": "stream",
     "text": [
      "                                                                                \r"
     ]
    }
   ],
   "source": [
    "df.withColumn(\"yrs_left\", lenght_udf(df['age'])).show(10, False)\n"
   ]
  },
  {
   "cell_type": "code",
   "execution_count": 32,
   "id": "52fda9d4",
   "metadata": {
    "execution": {
     "iopub.execute_input": "2022-04-06T08:30:08.344521Z",
     "iopub.status.busy": "2022-04-06T08:30:08.341964Z",
     "iopub.status.idle": "2022-04-06T08:30:08.347070Z",
     "shell.execute_reply": "2022-04-06T08:30:08.346412Z",
     "shell.execute_reply.started": "2022-04-06T08:03:49.827580Z"
    },
    "papermill": {
     "duration": 0.198499,
     "end_time": "2022-04-06T08:30:08.347253",
     "exception": false,
     "start_time": "2022-04-06T08:30:08.148754",
     "status": "completed"
    },
    "tags": []
   },
   "outputs": [],
   "source": [
    "#pandas udf using multiple columns\n",
    "def prod(rating,exp):\n",
    "    x=rating*exp\n",
    "    return x\n",
    "\n",
    "prod_udf = pandas_udf(prod, DoubleType())"
   ]
  },
  {
   "cell_type": "code",
   "execution_count": 33,
   "id": "c4f99614",
   "metadata": {
    "execution": {
     "iopub.execute_input": "2022-04-06T08:30:08.730399Z",
     "iopub.status.busy": "2022-04-06T08:30:08.729675Z",
     "iopub.status.idle": "2022-04-06T08:30:09.418180Z",
     "shell.execute_reply": "2022-04-06T08:30:09.417499Z",
     "shell.execute_reply.started": "2022-04-06T08:04:37.203393Z"
    },
    "papermill": {
     "duration": 0.878787,
     "end_time": "2022-04-06T08:30:09.418382",
     "exception": false,
     "start_time": "2022-04-06T08:30:08.539595",
     "status": "completed"
    },
    "tags": []
   },
   "outputs": [
    {
     "name": "stdout",
     "output_type": "stream",
     "text": [
      "+-------+---+----------+------+-------+------------------+----------+-------+\n",
      "|ratings|age|experience|family|mobile |age_after_10_years|age_Double|product|\n",
      "+-------+---+----------+------+-------+------------------+----------+-------+\n",
      "|3      |32 |9.0       |3     |Vivo   |42                |32.0      |27.0   |\n",
      "|3      |27 |13.0      |3     |Apple  |37                |27.0      |39.0   |\n",
      "|4      |22 |2.5       |0     |Samsung|32                |22.0      |10.0   |\n",
      "|4      |37 |16.5      |4     |Apple  |47                |37.0      |66.0   |\n",
      "|5      |27 |9.0       |1     |MI     |37                |27.0      |45.0   |\n",
      "|4      |27 |9.0       |0     |Oppo   |37                |27.0      |36.0   |\n",
      "|5      |37 |23.0      |5     |Vivo   |47                |37.0      |115.0  |\n",
      "|5      |37 |23.0      |5     |Samsung|47                |37.0      |115.0  |\n",
      "|3      |22 |2.5       |0     |Apple  |32                |22.0      |7.5    |\n",
      "|3      |27 |6.0       |0     |MI     |37                |27.0      |18.0   |\n",
      "+-------+---+----------+------+-------+------------------+----------+-------+\n",
      "only showing top 10 rows\n",
      "\n"
     ]
    }
   ],
   "source": [
    "df.withColumn(\"product\", prod_udf(df['ratings'], df['experience'])).show(10, False)"
   ]
  },
  {
   "cell_type": "code",
   "execution_count": 34,
   "id": "ee6cf169",
   "metadata": {
    "execution": {
     "iopub.execute_input": "2022-04-06T08:30:09.788927Z",
     "iopub.status.busy": "2022-04-06T08:30:09.788235Z",
     "iopub.status.idle": "2022-04-06T08:30:09.939901Z",
     "shell.execute_reply": "2022-04-06T08:30:09.938148Z",
     "shell.execute_reply.started": "2022-04-06T08:28:02.405516Z"
    },
    "papermill": {
     "duration": 0.340403,
     "end_time": "2022-04-06T08:30:09.940326",
     "exception": false,
     "start_time": "2022-04-06T08:30:09.599923",
     "status": "completed"
    },
    "tags": []
   },
   "outputs": [
    {
     "name": "stdout",
     "output_type": "stream",
     "text": [
      "+-------+---+----------+------+------------------+----------+\n",
      "|ratings|age|experience|family|age_after_10_years|age_Double|\n",
      "+-------+---+----------+------+------------------+----------+\n",
      "|3      |32 |9.0       |3     |42                |32.0      |\n",
      "|3      |27 |13.0      |3     |37                |27.0      |\n",
      "|4      |22 |2.5       |0     |32                |22.0      |\n",
      "|4      |37 |16.5      |4     |47                |37.0      |\n",
      "|5      |27 |9.0       |1     |37                |27.0      |\n",
      "|4      |27 |9.0       |0     |37                |27.0      |\n",
      "|5      |37 |23.0      |5     |47                |37.0      |\n",
      "|5      |37 |23.0      |5     |47                |37.0      |\n",
      "|3      |22 |2.5       |0     |32                |22.0      |\n",
      "|3      |27 |6.0       |0     |37                |27.0      |\n",
      "+-------+---+----------+------+------------------+----------+\n",
      "only showing top 10 rows\n",
      "\n"
     ]
    }
   ],
   "source": [
    "#delete the columns\n",
    "df_new = df.drop('mobile')\n",
    "df_new.show(10, False)"
   ]
  },
  {
   "cell_type": "code",
   "execution_count": null,
   "id": "50826652",
   "metadata": {
    "papermill": {
     "duration": 0.180367,
     "end_time": "2022-04-06T08:30:10.303558",
     "exception": false,
     "start_time": "2022-04-06T08:30:10.123191",
     "status": "completed"
    },
    "tags": []
   },
   "outputs": [],
   "source": []
  }
 ],
 "metadata": {
  "kernelspec": {
   "display_name": "Python 3",
   "language": "python",
   "name": "python3"
  },
  "language_info": {
   "codemirror_mode": {
    "name": "ipython",
    "version": 3
   },
   "file_extension": ".py",
   "mimetype": "text/x-python",
   "name": "python",
   "nbconvert_exporter": "python",
   "pygments_lexer": "ipython3",
   "version": "3.7.12"
  },
  "papermill": {
   "default_parameters": {},
   "duration": 105.361416,
   "end_time": "2022-04-06T08:30:11.300656",
   "environment_variables": {},
   "exception": null,
   "input_path": "__notebook__.ipynb",
   "output_path": "__notebook__.ipynb",
   "parameters": {},
   "start_time": "2022-04-06T08:28:25.939240",
   "version": "2.3.3"
  }
 },
 "nbformat": 4,
 "nbformat_minor": 5
}
