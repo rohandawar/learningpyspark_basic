{
 "cells": [
  {
   "cell_type": "code",
   "execution_count": 1,
   "id": "5f8cbe41",
   "metadata": {
    "_cell_guid": "b1076dfc-b9ad-4769-8c92-a6c4dae69d19",
    "_uuid": "8f2839f25d086af736a60e9eeb907d3b93b6e0e5",
    "execution": {
     "iopub.execute_input": "2022-04-26T05:25:24.935696Z",
     "iopub.status.busy": "2022-04-26T05:25:24.935183Z",
     "iopub.status.idle": "2022-04-26T05:25:24.957307Z",
     "shell.execute_reply": "2022-04-26T05:25:24.955892Z"
    },
    "papermill": {
     "duration": 0.050524,
     "end_time": "2022-04-26T05:25:24.960107",
     "exception": false,
     "start_time": "2022-04-26T05:25:24.909583",
     "status": "completed"
    },
    "tags": []
   },
   "outputs": [
    {
     "name": "stdout",
     "output_type": "stream",
     "text": [
      "/kaggle/input/movie-ratings/movie_ratings_df.csv\n"
     ]
    }
   ],
   "source": [
    "# This Python 3 environment comes with many helpful analytics libraries installed\n",
    "# It is defined by the kaggle/python Docker image: https://github.com/kaggle/docker-python\n",
    "# For example, here's several helpful packages to load\n",
    "\n",
    "import numpy as np # linear algebra\n",
    "import pandas as pd # data processing, CSV file I/O (e.g. pd.read_csv)\n",
    "\n",
    "# Input data files are available in the read-only \"../input/\" directory\n",
    "# For example, running this (by clicking run or pressing Shift+Enter) will list all files under the input directory\n",
    "\n",
    "import os\n",
    "for dirname, _, filenames in os.walk('/kaggle/input'):\n",
    "    for filename in filenames:\n",
    "        print(os.path.join(dirname, filename))\n",
    "\n",
    "# You can write up to 20GB to the current directory (/kaggle/working/) that gets preserved as output when you create a version using \"Save & Run All\" \n",
    "# You can also write temporary files to /kaggle/temp/, but they won't be saved outside of the current session"
   ]
  },
  {
   "cell_type": "code",
   "execution_count": 2,
   "id": "eaebce4c",
   "metadata": {
    "execution": {
     "iopub.execute_input": "2022-04-26T05:25:25.021494Z",
     "iopub.status.busy": "2022-04-26T05:25:25.020478Z",
     "iopub.status.idle": "2022-04-26T05:26:25.082561Z",
     "shell.execute_reply": "2022-04-26T05:26:25.081215Z"
    },
    "papermill": {
     "duration": 60.096797,
     "end_time": "2022-04-26T05:26:25.085549",
     "exception": false,
     "start_time": "2022-04-26T05:25:24.988752",
     "status": "completed"
    },
    "tags": []
   },
   "outputs": [
    {
     "name": "stdout",
     "output_type": "stream",
     "text": [
      "Collecting findspark\r\n",
      "  Downloading findspark-2.0.1-py2.py3-none-any.whl (4.4 kB)\r\n",
      "Installing collected packages: findspark\r\n",
      "Successfully installed findspark-2.0.1\r\n",
      "\u001b[33mWARNING: Running pip as the 'root' user can result in broken permissions and conflicting behaviour with the system package manager. It is recommended to use a virtual environment instead: https://pip.pypa.io/warnings/venv\u001b[0m\u001b[33m\r\n",
      "\u001b[0mCollecting pyspark\r\n",
      "  Downloading pyspark-3.2.1.tar.gz (281.4 MB)\r\n",
      "\u001b[2K     \u001b[90m━━━━━━━━━━━━━━━━━━━━━━━━━━━━━━━━━━━━━━━\u001b[0m \u001b[32m281.4/281.4 MB\u001b[0m \u001b[31m4.3 MB/s\u001b[0m eta \u001b[36m0:00:00\u001b[0m\r\n",
      "\u001b[?25h  Preparing metadata (setup.py) ... \u001b[?25l-\b \b\\\b \bdone\r\n",
      "\u001b[?25hCollecting py4j==0.10.9.3\r\n",
      "  Downloading py4j-0.10.9.3-py2.py3-none-any.whl (198 kB)\r\n",
      "\u001b[2K     \u001b[90m━━━━━━━━━━━━━━━━━━━━━━━━━━━━━━━━━━━━━━━\u001b[0m \u001b[32m199.0/199.0 KB\u001b[0m \u001b[31m2.5 MB/s\u001b[0m eta \u001b[36m0:00:00\u001b[0m\r\n",
      "\u001b[?25hBuilding wheels for collected packages: pyspark\r\n",
      "  Building wheel for pyspark (setup.py) ... \u001b[?25l-\b \b\\\b \b|\b \b/\b \b-\b \b\\\b \b|\b \b/\b \b-\b \b\\\b \b|\b \b/\b \b-\b \b\\\b \b|\b \b/\b \b-\b \b\\\b \b|\b \b/\b \b-\b \b\\\b \b|\b \b/\b \b-\b \b\\\b \b|\b \b/\b \b-\b \b\\\b \b|\b \b/\b \b-\b \b\\\b \b|\b \b/\b \b-\b \b\\\b \b|\b \b/\b \b-\b \b\\\b \b|\b \b/\b \b-\b \b\\\b \b|\b \b/\b \b-\b \b\\\b \b|\b \b/\b \b-\b \b\\\b \b|\b \b/\b \b-\b \b\\\b \b|\b \b/\b \b-\b \b\\\b \b|\b \b/\b \b-\b \b\\\b \bdone\r\n",
      "\u001b[?25h  Created wheel for pyspark: filename=pyspark-3.2.1-py2.py3-none-any.whl size=281853642 sha256=140243f33270f4dbbaf6e194b85c7c29f49e2f906004db592eab2b6635202e93\r\n",
      "  Stored in directory: /root/.cache/pip/wheels/9f/f5/07/7cd8017084dce4e93e84e92efd1e1d5334db05f2e83bcef74f\r\n",
      "Successfully built pyspark\r\n",
      "Installing collected packages: py4j, pyspark\r\n",
      "  Attempting uninstall: py4j\r\n",
      "    Found existing installation: py4j 0.10.9.5\r\n",
      "    Uninstalling py4j-0.10.9.5:\r\n",
      "      Successfully uninstalled py4j-0.10.9.5\r\n",
      "Successfully installed py4j-0.10.9.3 pyspark-3.2.1\r\n",
      "\u001b[33mWARNING: Running pip as the 'root' user can result in broken permissions and conflicting behaviour with the system package manager. It is recommended to use a virtual environment instead: https://pip.pypa.io/warnings/venv\u001b[0m\u001b[33m\r\n",
      "\u001b[0m"
     ]
    }
   ],
   "source": [
    "!pip install findspark\n",
    "!pip install pyspark"
   ]
  },
  {
   "cell_type": "code",
   "execution_count": 3,
   "id": "0ef02302",
   "metadata": {
    "execution": {
     "iopub.execute_input": "2022-04-26T05:26:25.254400Z",
     "iopub.status.busy": "2022-04-26T05:26:25.253829Z",
     "iopub.status.idle": "2022-04-26T05:26:31.997459Z",
     "shell.execute_reply": "2022-04-26T05:26:31.996356Z"
    },
    "papermill": {
     "duration": 6.834796,
     "end_time": "2022-04-26T05:26:32.001344",
     "exception": false,
     "start_time": "2022-04-26T05:26:25.166548",
     "status": "completed"
    },
    "tags": []
   },
   "outputs": [
    {
     "name": "stderr",
     "output_type": "stream",
     "text": [
      "WARNING: An illegal reflective access operation has occurred\n",
      "WARNING: Illegal reflective access by org.apache.spark.unsafe.Platform (file:/opt/conda/lib/python3.7/site-packages/pyspark/jars/spark-unsafe_2.12-3.2.1.jar) to constructor java.nio.DirectByteBuffer(long,int)\n",
      "WARNING: Please consider reporting this to the maintainers of org.apache.spark.unsafe.Platform\n",
      "WARNING: Use --illegal-access=warn to enable warnings of further illegal reflective access operations\n",
      "WARNING: All illegal access operations will be denied in a future release\n",
      "Using Spark's default log4j profile: org/apache/spark/log4j-defaults.properties\n",
      "Setting default log level to \"WARN\".\n",
      "To adjust logging level use sc.setLogLevel(newLevel). For SparkR, use setLogLevel(newLevel).\n",
      "22/04/26 05:26:28 WARN NativeCodeLoader: Unable to load native-hadoop library for your platform... using builtin-java classes where applicable\n"
     ]
    }
   ],
   "source": [
    "#import spark session\n",
    "from pyspark.sql import SparkSession\n",
    "spark = SparkSession.builder.appName('recom_sys').getOrCreate()"
   ]
  },
  {
   "cell_type": "code",
   "execution_count": 4,
   "id": "76f5033a",
   "metadata": {
    "execution": {
     "iopub.execute_input": "2022-04-26T05:26:32.174907Z",
     "iopub.status.busy": "2022-04-26T05:26:32.174005Z",
     "iopub.status.idle": "2022-04-26T05:26:32.344727Z",
     "shell.execute_reply": "2022-04-26T05:26:32.343937Z"
    },
    "papermill": {
     "duration": 0.257803,
     "end_time": "2022-04-26T05:26:32.347175",
     "exception": false,
     "start_time": "2022-04-26T05:26:32.089372",
     "status": "completed"
    },
    "tags": []
   },
   "outputs": [],
   "source": [
    "#import libs\n",
    "from pyspark.ml.feature import VectorAssembler\n",
    "from pyspark.sql.functions import *\n",
    "from pyspark.ml.feature import StringIndexer\n",
    "from pyspark.ml.feature import IndexToString\n",
    "from pyspark.ml.recommendation import ALS"
   ]
  },
  {
   "cell_type": "code",
   "execution_count": 5,
   "id": "72c641e9",
   "metadata": {
    "execution": {
     "iopub.execute_input": "2022-04-26T05:26:32.512758Z",
     "iopub.status.busy": "2022-04-26T05:26:32.512143Z",
     "iopub.status.idle": "2022-04-26T05:26:39.354161Z",
     "shell.execute_reply": "2022-04-26T05:26:39.353221Z"
    },
    "papermill": {
     "duration": 6.928213,
     "end_time": "2022-04-26T05:26:39.357319",
     "exception": false,
     "start_time": "2022-04-26T05:26:32.429106",
     "status": "completed"
    },
    "tags": []
   },
   "outputs": [
    {
     "name": "stderr",
     "output_type": "stream",
     "text": [
      "                                                                                \r"
     ]
    },
    {
     "name": "stdout",
     "output_type": "stream",
     "text": [
      "+------+------------+------+\n",
      "|userId|       title|rating|\n",
      "+------+------------+------+\n",
      "|   196|Kolya (1996)|     3|\n",
      "+------+------------+------+\n",
      "only showing top 1 row\n",
      "\n"
     ]
    }
   ],
   "source": [
    "#read the dataset\n",
    "df = spark.read.csv('/kaggle/input/movie-ratings/movie_ratings_df.csv', header=True, inferSchema=True)\n",
    "df.show(1)\n"
   ]
  },
  {
   "cell_type": "code",
   "execution_count": 6,
   "id": "9971d9a6",
   "metadata": {
    "execution": {
     "iopub.execute_input": "2022-04-26T05:26:39.559476Z",
     "iopub.status.busy": "2022-04-26T05:26:39.559087Z",
     "iopub.status.idle": "2022-04-26T05:26:40.513290Z",
     "shell.execute_reply": "2022-04-26T05:26:40.512592Z"
    },
    "papermill": {
     "duration": 1.042056,
     "end_time": "2022-04-26T05:26:40.516248",
     "exception": false,
     "start_time": "2022-04-26T05:26:39.474192",
     "status": "completed"
    },
    "tags": []
   },
   "outputs": [
    {
     "name": "stdout",
     "output_type": "stream",
     "text": [
      "(100000, 3)\n"
     ]
    }
   ],
   "source": [
    "#shape of data\n",
    "print(((df.count()), len(df.columns)))"
   ]
  },
  {
   "cell_type": "code",
   "execution_count": 7,
   "id": "9857c675",
   "metadata": {
    "execution": {
     "iopub.execute_input": "2022-04-26T05:26:40.690233Z",
     "iopub.status.busy": "2022-04-26T05:26:40.689383Z",
     "iopub.status.idle": "2022-04-26T05:26:40.697334Z",
     "shell.execute_reply": "2022-04-26T05:26:40.696113Z"
    },
    "papermill": {
     "duration": 0.093978,
     "end_time": "2022-04-26T05:26:40.699644",
     "exception": false,
     "start_time": "2022-04-26T05:26:40.605666",
     "status": "completed"
    },
    "tags": []
   },
   "outputs": [
    {
     "name": "stdout",
     "output_type": "stream",
     "text": [
      "root\n",
      " |-- userId: integer (nullable = true)\n",
      " |-- title: string (nullable = true)\n",
      " |-- rating: integer (nullable = true)\n",
      "\n"
     ]
    }
   ],
   "source": [
    "df.printSchema()"
   ]
  },
  {
   "cell_type": "code",
   "execution_count": 8,
   "id": "4b57ae70",
   "metadata": {
    "execution": {
     "iopub.execute_input": "2022-04-26T05:26:40.874015Z",
     "iopub.status.busy": "2022-04-26T05:26:40.873301Z",
     "iopub.status.idle": "2022-04-26T05:26:41.682467Z",
     "shell.execute_reply": "2022-04-26T05:26:41.681550Z"
    },
    "papermill": {
     "duration": 0.902455,
     "end_time": "2022-04-26T05:26:41.686852",
     "exception": false,
     "start_time": "2022-04-26T05:26:40.784397",
     "status": "completed"
    },
    "tags": []
   },
   "outputs": [
    {
     "name": "stdout",
     "output_type": "stream",
     "text": [
      "+------+-----------------------------------+------+\n",
      "|userId|title                              |rating|\n",
      "+------+-----------------------------------+------+\n",
      "|698   |Casablanca (1942)                  |3     |\n",
      "|409   |Clueless (1995)                    |3     |\n",
      "|194   |Fargo (1996)                       |4     |\n",
      "|62    |Long Kiss Goodnight, The (1996)    |3     |\n",
      "|648   |Shining, The (1980)                |2     |\n",
      "|13    |Amityville: A New Generation (1993)|1     |\n",
      "|255   |Jaws 2 (1978)                      |3     |\n",
      "|389   |Flintstones, The (1994)            |2     |\n",
      "|416   |Mother Night (1996)                |4     |\n",
      "|653   |Fish Called Wanda, A (1988)        |2     |\n",
      "+------+-----------------------------------+------+\n",
      "only showing top 10 rows\n",
      "\n"
     ]
    }
   ],
   "source": [
    "df.orderBy(rand()).show(10,False)"
   ]
  },
  {
   "cell_type": "code",
   "execution_count": 9,
   "id": "54488818",
   "metadata": {
    "execution": {
     "iopub.execute_input": "2022-04-26T05:26:41.863244Z",
     "iopub.status.busy": "2022-04-26T05:26:41.862974Z",
     "iopub.status.idle": "2022-04-26T05:26:43.378473Z",
     "shell.execute_reply": "2022-04-26T05:26:43.377693Z"
    },
    "papermill": {
     "duration": 1.612708,
     "end_time": "2022-04-26T05:26:43.386870",
     "exception": false,
     "start_time": "2022-04-26T05:26:41.774162",
     "status": "completed"
    },
    "tags": []
   },
   "outputs": [
    {
     "name": "stderr",
     "output_type": "stream",
     "text": [
      "[Stage 7:>                                                          (0 + 1) / 1]\r"
     ]
    },
    {
     "name": "stdout",
     "output_type": "stream",
     "text": [
      "+------+-----+\n",
      "|userid|count|\n",
      "+------+-----+\n",
      "|405   |737  |\n",
      "|655   |685  |\n",
      "|13    |636  |\n",
      "|450   |540  |\n",
      "|276   |518  |\n",
      "|416   |493  |\n",
      "|537   |490  |\n",
      "|303   |484  |\n",
      "|234   |480  |\n",
      "|393   |448  |\n",
      "+------+-----+\n",
      "only showing top 10 rows\n",
      "\n"
     ]
    },
    {
     "name": "stderr",
     "output_type": "stream",
     "text": [
      "                                                                                \r"
     ]
    }
   ],
   "source": [
    "#checking the ratings per user\n",
    "df.groupby('userid').count().orderBy('count', ascending=False).show(10,False)"
   ]
  },
  {
   "cell_type": "code",
   "execution_count": 10,
   "id": "3de46bdb",
   "metadata": {
    "execution": {
     "iopub.execute_input": "2022-04-26T05:26:43.582723Z",
     "iopub.status.busy": "2022-04-26T05:26:43.582300Z",
     "iopub.status.idle": "2022-04-26T05:26:44.142572Z",
     "shell.execute_reply": "2022-04-26T05:26:44.141628Z"
    },
    "papermill": {
     "duration": 0.65201,
     "end_time": "2022-04-26T05:26:44.146299",
     "exception": false,
     "start_time": "2022-04-26T05:26:43.494289",
     "status": "completed"
    },
    "tags": []
   },
   "outputs": [
    {
     "name": "stdout",
     "output_type": "stream",
     "text": [
      "+------+-----+\n",
      "|userid|count|\n",
      "+------+-----+\n",
      "|19    |20   |\n",
      "|143   |20   |\n",
      "|309   |20   |\n",
      "|34    |20   |\n",
      "|202   |20   |\n",
      "|732   |20   |\n",
      "|441   |20   |\n",
      "|685   |20   |\n",
      "|824   |20   |\n",
      "|631   |20   |\n",
      "+------+-----+\n",
      "only showing top 10 rows\n",
      "\n"
     ]
    }
   ],
   "source": [
    "#checking the ratings per user\n",
    "df.groupby('userid').count().orderBy('count', ascending=True).show(10,False)"
   ]
  },
  {
   "cell_type": "code",
   "execution_count": 11,
   "id": "0355e44b",
   "metadata": {
    "execution": {
     "iopub.execute_input": "2022-04-26T05:26:44.371937Z",
     "iopub.status.busy": "2022-04-26T05:26:44.371659Z",
     "iopub.status.idle": "2022-04-26T05:26:45.189146Z",
     "shell.execute_reply": "2022-04-26T05:26:45.188256Z"
    },
    "papermill": {
     "duration": 0.913292,
     "end_time": "2022-04-26T05:26:45.192473",
     "exception": false,
     "start_time": "2022-04-26T05:26:44.279181",
     "status": "completed"
    },
    "tags": []
   },
   "outputs": [
    {
     "name": "stdout",
     "output_type": "stream",
     "text": [
      "+-----------------------------+-----+\n",
      "|Title                        |count|\n",
      "+-----------------------------+-----+\n",
      "|Star Wars (1977)             |583  |\n",
      "|Contact (1997)               |509  |\n",
      "|Fargo (1996)                 |508  |\n",
      "|Return of the Jedi (1983)    |507  |\n",
      "|Liar Liar (1997)             |485  |\n",
      "|English Patient, The (1996)  |481  |\n",
      "|Scream (1996)                |478  |\n",
      "|Toy Story (1995)             |452  |\n",
      "|Air Force One (1997)         |431  |\n",
      "|Independence Day (ID4) (1996)|429  |\n",
      "+-----------------------------+-----+\n",
      "only showing top 10 rows\n",
      "\n"
     ]
    }
   ],
   "source": [
    "#movies that is most rated\n",
    "df.groupby('Title').count().orderBy('count', ascending=False).show(10, False)"
   ]
  },
  {
   "cell_type": "code",
   "execution_count": 12,
   "id": "1e5cbfff",
   "metadata": {
    "execution": {
     "iopub.execute_input": "2022-04-26T05:26:45.372855Z",
     "iopub.status.busy": "2022-04-26T05:26:45.372512Z",
     "iopub.status.idle": "2022-04-26T05:26:45.980355Z",
     "shell.execute_reply": "2022-04-26T05:26:45.979448Z"
    },
    "papermill": {
     "duration": 0.700491,
     "end_time": "2022-04-26T05:26:45.983764",
     "exception": false,
     "start_time": "2022-04-26T05:26:45.283273",
     "status": "completed"
    },
    "tags": []
   },
   "outputs": [
    {
     "name": "stdout",
     "output_type": "stream",
     "text": [
      "+------------------------------------------+-----+\n",
      "|Title                                     |count|\n",
      "+------------------------------------------+-----+\n",
      "|Modern Affair, A (1995)                   |1    |\n",
      "|Tigrero: A Film That Was Never Made (1994)|1    |\n",
      "|JLG/JLG - autoportrait de d�cembre (1994) |1    |\n",
      "|Target (1995)                             |1    |\n",
      "|Vie est belle, La (Life is Rosey) (1987)  |1    |\n",
      "|Fear, The (1995)                          |1    |\n",
      "|Next Step, The (1995)                     |1    |\n",
      "|Mad Dog Time (1996)                       |1    |\n",
      "|Leopard Son, The (1996)                   |1    |\n",
      "|Lashou shentan (1992)                     |1    |\n",
      "+------------------------------------------+-----+\n",
      "only showing top 10 rows\n",
      "\n"
     ]
    }
   ],
   "source": [
    "#least rated movie\n",
    "df.groupby('Title').count().orderBy('count', ascending=True).show(10, False)"
   ]
  },
  {
   "cell_type": "code",
   "execution_count": 13,
   "id": "29d3c074",
   "metadata": {
    "execution": {
     "iopub.execute_input": "2022-04-26T05:26:46.241865Z",
     "iopub.status.busy": "2022-04-26T05:26:46.241536Z",
     "iopub.status.idle": "2022-04-26T05:26:47.612934Z",
     "shell.execute_reply": "2022-04-26T05:26:47.612017Z"
    },
    "papermill": {
     "duration": 1.489575,
     "end_time": "2022-04-26T05:26:47.616061",
     "exception": false,
     "start_time": "2022-04-26T05:26:46.126486",
     "status": "completed"
    },
    "tags": []
   },
   "outputs": [
    {
     "name": "stderr",
     "output_type": "stream",
     "text": [
      "                                                                                \r"
     ]
    }
   ],
   "source": [
    "stringIndexer = StringIndexer(inputCol='title', outputCol='title_new').fit(df)\n",
    "#model = stringIndexer.fit(df)\n",
    "indexed = stringIndexer.transform(df)"
   ]
  },
  {
   "cell_type": "code",
   "execution_count": 14,
   "id": "b0d44fab",
   "metadata": {
    "execution": {
     "iopub.execute_input": "2022-04-26T05:26:47.820344Z",
     "iopub.status.busy": "2022-04-26T05:26:47.820069Z",
     "iopub.status.idle": "2022-04-26T05:26:48.092680Z",
     "shell.execute_reply": "2022-04-26T05:26:48.091742Z"
    },
    "papermill": {
     "duration": 0.364101,
     "end_time": "2022-04-26T05:26:48.096075",
     "exception": false,
     "start_time": "2022-04-26T05:26:47.731974",
     "status": "completed"
    },
    "tags": []
   },
   "outputs": [
    {
     "name": "stdout",
     "output_type": "stream",
     "text": [
      "+------+------------+------+---------+\n",
      "|userId|       title|rating|title_new|\n",
      "+------+------------+------+---------+\n",
      "|   196|Kolya (1996)|     3|    287.0|\n",
      "|    63|Kolya (1996)|     3|    287.0|\n",
      "|   226|Kolya (1996)|     5|    287.0|\n",
      "|   154|Kolya (1996)|     3|    287.0|\n",
      "|   306|Kolya (1996)|     5|    287.0|\n",
      "|   296|Kolya (1996)|     4|    287.0|\n",
      "|    34|Kolya (1996)|     5|    287.0|\n",
      "|   271|Kolya (1996)|     4|    287.0|\n",
      "|   201|Kolya (1996)|     4|    287.0|\n",
      "|   209|Kolya (1996)|     4|    287.0|\n",
      "+------+------------+------+---------+\n",
      "only showing top 10 rows\n",
      "\n"
     ]
    }
   ],
   "source": [
    "indexed.show(10)"
   ]
  },
  {
   "cell_type": "code",
   "execution_count": 15,
   "id": "baa8e21c",
   "metadata": {
    "execution": {
     "iopub.execute_input": "2022-04-26T05:26:48.285891Z",
     "iopub.status.busy": "2022-04-26T05:26:48.285591Z",
     "iopub.status.idle": "2022-04-26T05:26:49.101130Z",
     "shell.execute_reply": "2022-04-26T05:26:49.099434Z"
    },
    "papermill": {
     "duration": 0.908794,
     "end_time": "2022-04-26T05:26:49.105370",
     "exception": false,
     "start_time": "2022-04-26T05:26:48.196576",
     "status": "completed"
    },
    "tags": []
   },
   "outputs": [
    {
     "name": "stdout",
     "output_type": "stream",
     "text": [
      "+---------+-----+\n",
      "|title_new|count|\n",
      "+---------+-----+\n",
      "|0.0      |583  |\n",
      "|1.0      |509  |\n",
      "|2.0      |508  |\n",
      "|3.0      |507  |\n",
      "|4.0      |485  |\n",
      "|5.0      |481  |\n",
      "|6.0      |478  |\n",
      "|7.0      |452  |\n",
      "|8.0      |431  |\n",
      "|9.0      |429  |\n",
      "+---------+-----+\n",
      "only showing top 10 rows\n",
      "\n"
     ]
    }
   ],
   "source": [
    "indexed.groupby('title_new').count().orderBy('count',ascending=False).show(10,False)"
   ]
  },
  {
   "cell_type": "code",
   "execution_count": 16,
   "id": "4e4295f3",
   "metadata": {
    "execution": {
     "iopub.execute_input": "2022-04-26T05:26:49.287669Z",
     "iopub.status.busy": "2022-04-26T05:26:49.287370Z",
     "iopub.status.idle": "2022-04-26T05:26:49.312466Z",
     "shell.execute_reply": "2022-04-26T05:26:49.311803Z"
    },
    "papermill": {
     "duration": 0.116335,
     "end_time": "2022-04-26T05:26:49.314640",
     "exception": false,
     "start_time": "2022-04-26T05:26:49.198305",
     "status": "completed"
    },
    "tags": []
   },
   "outputs": [],
   "source": [
    "traindf,testdf = indexed.randomSplit([0.75,0.25], seed=1)\n"
   ]
  },
  {
   "cell_type": "code",
   "execution_count": 17,
   "id": "23caed7b",
   "metadata": {
    "execution": {
     "iopub.execute_input": "2022-04-26T05:26:49.491228Z",
     "iopub.status.busy": "2022-04-26T05:26:49.490543Z",
     "iopub.status.idle": "2022-04-26T05:26:50.557415Z",
     "shell.execute_reply": "2022-04-26T05:26:50.555704Z"
    },
    "papermill": {
     "duration": 1.159187,
     "end_time": "2022-04-26T05:26:50.561289",
     "exception": false,
     "start_time": "2022-04-26T05:26:49.402102",
     "status": "completed"
    },
    "tags": []
   },
   "outputs": [
    {
     "name": "stderr",
     "output_type": "stream",
     "text": [
      "[Stage 26:>                                                         (0 + 1) / 1]\r"
     ]
    },
    {
     "name": "stdout",
     "output_type": "stream",
     "text": [
      "(74839, 4)\n"
     ]
    },
    {
     "name": "stderr",
     "output_type": "stream",
     "text": [
      "                                                                                \r"
     ]
    }
   ],
   "source": [
    "print(((traindf.count()), len(traindf.columns)))"
   ]
  },
  {
   "cell_type": "code",
   "execution_count": 18,
   "id": "2a7d32b0",
   "metadata": {
    "execution": {
     "iopub.execute_input": "2022-04-26T05:26:50.742763Z",
     "iopub.status.busy": "2022-04-26T05:26:50.742222Z",
     "iopub.status.idle": "2022-04-26T05:26:51.517763Z",
     "shell.execute_reply": "2022-04-26T05:26:51.517068Z"
    },
    "papermill": {
     "duration": 0.870963,
     "end_time": "2022-04-26T05:26:51.522722",
     "exception": false,
     "start_time": "2022-04-26T05:26:50.651759",
     "status": "completed"
    },
    "tags": []
   },
   "outputs": [
    {
     "name": "stdout",
     "output_type": "stream",
     "text": [
      "(25161, 4)\n"
     ]
    },
    {
     "name": "stderr",
     "output_type": "stream",
     "text": [
      "                                                                                \r"
     ]
    }
   ],
   "source": [
    "print(((testdf.count()), len(testdf.columns)))"
   ]
  },
  {
   "cell_type": "code",
   "execution_count": 19,
   "id": "fa665dfa",
   "metadata": {
    "execution": {
     "iopub.execute_input": "2022-04-26T05:26:51.710635Z",
     "iopub.status.busy": "2022-04-26T05:26:51.709724Z",
     "iopub.status.idle": "2022-04-26T05:27:02.185563Z",
     "shell.execute_reply": "2022-04-26T05:27:02.184574Z"
    },
    "papermill": {
     "duration": 10.570081,
     "end_time": "2022-04-26T05:27:02.189521",
     "exception": false,
     "start_time": "2022-04-26T05:26:51.619440",
     "status": "completed"
    },
    "tags": []
   },
   "outputs": [
    {
     "name": "stderr",
     "output_type": "stream",
     "text": [
      "                                                                                \r"
     ]
    }
   ],
   "source": [
    "rec= ALS(maxIter=10,regParam=0.01, userCol='userId', itemCol='title_new',ratingCol='rating', nonnegative=True,coldStartStrategy=\"drop\")\n",
    "rec_model = rec.fit(traindf)"
   ]
  },
  {
   "cell_type": "code",
   "execution_count": 20,
   "id": "106b630d",
   "metadata": {
    "execution": {
     "iopub.execute_input": "2022-04-26T05:27:02.382424Z",
     "iopub.status.busy": "2022-04-26T05:27:02.382133Z",
     "iopub.status.idle": "2022-04-26T05:27:09.437783Z",
     "shell.execute_reply": "2022-04-26T05:27:09.437040Z"
    },
    "papermill": {
     "duration": 7.153006,
     "end_time": "2022-04-26T05:27:09.440848",
     "exception": false,
     "start_time": "2022-04-26T05:27:02.287842",
     "status": "completed"
    },
    "tags": []
   },
   "outputs": [
    {
     "name": "stderr",
     "output_type": "stream",
     "text": [
      "                                                                                \r"
     ]
    }
   ],
   "source": [
    "rec_model = rec.fit(traindf)"
   ]
  }
 ],
 "metadata": {
  "kernelspec": {
   "display_name": "Python 3",
   "language": "python",
   "name": "python3"
  },
  "language_info": {
   "codemirror_mode": {
    "name": "ipython",
    "version": 3
   },
   "file_extension": ".py",
   "mimetype": "text/x-python",
   "name": "python",
   "nbconvert_exporter": "python",
   "pygments_lexer": "ipython3",
   "version": "3.7.12"
  },
  "papermill": {
   "default_parameters": {},
   "duration": 116.741983,
   "end_time": "2022-04-26T05:27:12.159107",
   "environment_variables": {},
   "exception": null,
   "input_path": "__notebook__.ipynb",
   "output_path": "__notebook__.ipynb",
   "parameters": {},
   "start_time": "2022-04-26T05:25:15.417124",
   "version": "2.3.4"
  }
 },
 "nbformat": 4,
 "nbformat_minor": 5
}
