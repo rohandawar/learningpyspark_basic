{
 "cells": [
  {
   "cell_type": "code",
   "execution_count": 1,
   "id": "0497abd2",
   "metadata": {
    "_cell_guid": "b1076dfc-b9ad-4769-8c92-a6c4dae69d19",
    "_uuid": "8f2839f25d086af736a60e9eeb907d3b93b6e0e5",
    "execution": {
     "iopub.execute_input": "2022-04-25T13:17:42.748219Z",
     "iopub.status.busy": "2022-04-25T13:17:42.747755Z",
     "iopub.status.idle": "2022-04-25T13:17:42.768681Z",
     "shell.execute_reply": "2022-04-25T13:17:42.767377Z"
    },
    "papermill": {
     "duration": 0.046905,
     "end_time": "2022-04-25T13:17:42.771001",
     "exception": false,
     "start_time": "2022-04-25T13:17:42.724096",
     "status": "completed"
    },
    "tags": []
   },
   "outputs": [
    {
     "name": "stdout",
     "output_type": "stream",
     "text": [
      "/kaggle/input/movie-ratings/movie_ratings_df.csv\n"
     ]
    }
   ],
   "source": [
    "# This Python 3 environment comes with many helpful analytics libraries installed\n",
    "# It is defined by the kaggle/python Docker image: https://github.com/kaggle/docker-python\n",
    "# For example, here's several helpful packages to load\n",
    "\n",
    "import numpy as np # linear algebra\n",
    "import pandas as pd # data processing, CSV file I/O (e.g. pd.read_csv)\n",
    "\n",
    "# Input data files are available in the read-only \"../input/\" directory\n",
    "# For example, running this (by clicking run or pressing Shift+Enter) will list all files under the input directory\n",
    "\n",
    "import os\n",
    "for dirname, _, filenames in os.walk('/kaggle/input'):\n",
    "    for filename in filenames:\n",
    "        print(os.path.join(dirname, filename))\n",
    "\n",
    "# You can write up to 20GB to the current directory (/kaggle/working/) that gets preserved as output when you create a version using \"Save & Run All\" \n",
    "# You can also write temporary files to /kaggle/temp/, but they won't be saved outside of the current session"
   ]
  },
  {
   "cell_type": "code",
   "execution_count": 2,
   "id": "155835b7",
   "metadata": {
    "execution": {
     "iopub.execute_input": "2022-04-25T13:17:42.817200Z",
     "iopub.status.busy": "2022-04-25T13:17:42.816450Z",
     "iopub.status.idle": "2022-04-25T13:18:42.002750Z",
     "shell.execute_reply": "2022-04-25T13:18:42.001659Z"
    },
    "papermill": {
     "duration": 59.212102,
     "end_time": "2022-04-25T13:18:42.005265",
     "exception": false,
     "start_time": "2022-04-25T13:17:42.793163",
     "status": "completed"
    },
    "tags": []
   },
   "outputs": [
    {
     "name": "stdout",
     "output_type": "stream",
     "text": [
      "Collecting findspark\r\n",
      "  Downloading findspark-2.0.1-py2.py3-none-any.whl (4.4 kB)\r\n",
      "Installing collected packages: findspark\r\n",
      "Successfully installed findspark-2.0.1\r\n",
      "\u001b[33mWARNING: Running pip as the 'root' user can result in broken permissions and conflicting behaviour with the system package manager. It is recommended to use a virtual environment instead: https://pip.pypa.io/warnings/venv\u001b[0m\u001b[33m\r\n",
      "\u001b[0mCollecting pyspark\r\n",
      "  Downloading pyspark-3.2.1.tar.gz (281.4 MB)\r\n",
      "\u001b[2K     \u001b[90m━━━━━━━━━━━━━━━━━━━━━━━━━━━━━━━━━━━━━━━\u001b[0m \u001b[32m281.4/281.4 MB\u001b[0m \u001b[31m4.0 MB/s\u001b[0m eta \u001b[36m0:00:00\u001b[0m\r\n",
      "\u001b[?25h  Preparing metadata (setup.py) ... \u001b[?25l-\b \b\\\b \bdone\r\n",
      "\u001b[?25hCollecting py4j==0.10.9.3\r\n",
      "  Downloading py4j-0.10.9.3-py2.py3-none-any.whl (198 kB)\r\n",
      "\u001b[2K     \u001b[90m━━━━━━━━━━━━━━━━━━━━━━━━━━━━━━━━━━━━━━\u001b[0m \u001b[32m199.0/199.0 KB\u001b[0m \u001b[31m15.0 MB/s\u001b[0m eta \u001b[36m0:00:00\u001b[0m\r\n",
      "\u001b[?25hBuilding wheels for collected packages: pyspark\r\n",
      "  Building wheel for pyspark (setup.py) ... \u001b[?25l-\b \b\\\b \b|\b \b/\b \b-\b \b\\\b \b|\b \b/\b \b-\b \b\\\b \b|\b \b/\b \b-\b \b\\\b \b|\b \b/\b \b-\b \b\\\b \b|\b \b/\b \b-\b \b\\\b \b|\b \b/\b \b-\b \b\\\b \b|\b \b/\b \b-\b \b\\\b \b|\b \b/\b \b-\b \b\\\b \b|\b \b/\b \b-\b \b\\\b \b|\b \b/\b \b-\b \b\\\b \b|\b \b/\b \b-\b \b\\\b \b|\b \b/\b \b-\b \b\\\b \b|\b \b/\b \b-\b \b\\\b \b|\b \b/\b \b-\b \b\\\b \b|\b \bdone\r\n",
      "\u001b[?25h  Created wheel for pyspark: filename=pyspark-3.2.1-py2.py3-none-any.whl size=281853642 sha256=2046176c025979c24abb9b36a02d1f2f975d8163f87f611af29213f6236f2f15\r\n",
      "  Stored in directory: /root/.cache/pip/wheels/9f/f5/07/7cd8017084dce4e93e84e92efd1e1d5334db05f2e83bcef74f\r\n",
      "Successfully built pyspark\r\n",
      "Installing collected packages: py4j, pyspark\r\n",
      "  Attempting uninstall: py4j\r\n",
      "    Found existing installation: py4j 0.10.9.5\r\n",
      "    Uninstalling py4j-0.10.9.5:\r\n",
      "      Successfully uninstalled py4j-0.10.9.5\r\n",
      "Successfully installed py4j-0.10.9.3 pyspark-3.2.1\r\n",
      "\u001b[33mWARNING: Running pip as the 'root' user can result in broken permissions and conflicting behaviour with the system package manager. It is recommended to use a virtual environment instead: https://pip.pypa.io/warnings/venv\u001b[0m\u001b[33m\r\n",
      "\u001b[0m"
     ]
    }
   ],
   "source": [
    "!pip install findspark\n",
    "!pip install pyspark"
   ]
  },
  {
   "cell_type": "code",
   "execution_count": 3,
   "id": "42729f71",
   "metadata": {
    "execution": {
     "iopub.execute_input": "2022-04-25T13:18:42.213495Z",
     "iopub.status.busy": "2022-04-25T13:18:42.212812Z",
     "iopub.status.idle": "2022-04-25T13:18:48.454151Z",
     "shell.execute_reply": "2022-04-25T13:18:48.453106Z"
    },
    "papermill": {
     "duration": 6.346979,
     "end_time": "2022-04-25T13:18:48.458026",
     "exception": false,
     "start_time": "2022-04-25T13:18:42.111047",
     "status": "completed"
    },
    "tags": []
   },
   "outputs": [
    {
     "name": "stderr",
     "output_type": "stream",
     "text": [
      "WARNING: An illegal reflective access operation has occurred\n",
      "WARNING: Illegal reflective access by org.apache.spark.unsafe.Platform (file:/opt/conda/lib/python3.7/site-packages/pyspark/jars/spark-unsafe_2.12-3.2.1.jar) to constructor java.nio.DirectByteBuffer(long,int)\n",
      "WARNING: Please consider reporting this to the maintainers of org.apache.spark.unsafe.Platform\n",
      "WARNING: Use --illegal-access=warn to enable warnings of further illegal reflective access operations\n",
      "WARNING: All illegal access operations will be denied in a future release\n",
      "Using Spark's default log4j profile: org/apache/spark/log4j-defaults.properties\n",
      "Setting default log level to \"WARN\".\n",
      "To adjust logging level use sc.setLogLevel(newLevel). For SparkR, use setLogLevel(newLevel).\n",
      "22/04/25 13:18:45 WARN NativeCodeLoader: Unable to load native-hadoop library for your platform... using builtin-java classes where applicable\n"
     ]
    }
   ],
   "source": [
    "#import spark session\n",
    "from pyspark.sql import SparkSession\n",
    "spark = SparkSession.builder.appName('recom_sys').getOrCreate()"
   ]
  },
  {
   "cell_type": "code",
   "execution_count": 4,
   "id": "c6d21cb1",
   "metadata": {
    "execution": {
     "iopub.execute_input": "2022-04-25T13:18:48.671016Z",
     "iopub.status.busy": "2022-04-25T13:18:48.670699Z",
     "iopub.status.idle": "2022-04-25T13:18:48.826290Z",
     "shell.execute_reply": "2022-04-25T13:18:48.825491Z"
    },
    "papermill": {
     "duration": 0.262862,
     "end_time": "2022-04-25T13:18:48.828754",
     "exception": false,
     "start_time": "2022-04-25T13:18:48.565892",
     "status": "completed"
    },
    "tags": []
   },
   "outputs": [],
   "source": [
    "#import libs\n",
    "from pyspark.ml.feature import VectorAssembler\n",
    "from pyspark.sql.functions import *\n",
    "from pyspark.ml.feature import StringIndexer\n",
    "from pyspark.ml.feature import IndexToString\n",
    "from pyspark.ml.recommendation import ALS"
   ]
  },
  {
   "cell_type": "code",
   "execution_count": 5,
   "id": "5ee4afa7",
   "metadata": {
    "execution": {
     "iopub.execute_input": "2022-04-25T13:18:49.043748Z",
     "iopub.status.busy": "2022-04-25T13:18:49.042722Z",
     "iopub.status.idle": "2022-04-25T13:18:55.777533Z",
     "shell.execute_reply": "2022-04-25T13:18:55.776131Z"
    },
    "papermill": {
     "duration": 6.849266,
     "end_time": "2022-04-25T13:18:55.782323",
     "exception": false,
     "start_time": "2022-04-25T13:18:48.933057",
     "status": "completed"
    },
    "tags": []
   },
   "outputs": [
    {
     "name": "stderr",
     "output_type": "stream",
     "text": [
      "                                                                                \r"
     ]
    },
    {
     "name": "stdout",
     "output_type": "stream",
     "text": [
      "+------+------------+------+\n",
      "|userId|       title|rating|\n",
      "+------+------------+------+\n",
      "|   196|Kolya (1996)|     3|\n",
      "+------+------------+------+\n",
      "only showing top 1 row\n",
      "\n"
     ]
    }
   ],
   "source": [
    "#read the dataset\n",
    "df = spark.read.csv('/kaggle/input/movie-ratings/movie_ratings_df.csv', header=True, inferSchema=True)\n",
    "df.show(1)\n"
   ]
  },
  {
   "cell_type": "code",
   "execution_count": 6,
   "id": "35debc75",
   "metadata": {
    "execution": {
     "iopub.execute_input": "2022-04-25T13:18:56.040602Z",
     "iopub.status.busy": "2022-04-25T13:18:56.040311Z",
     "iopub.status.idle": "2022-04-25T13:18:56.832342Z",
     "shell.execute_reply": "2022-04-25T13:18:56.831478Z"
    },
    "papermill": {
     "duration": 0.903335,
     "end_time": "2022-04-25T13:18:56.835646",
     "exception": false,
     "start_time": "2022-04-25T13:18:55.932311",
     "status": "completed"
    },
    "tags": []
   },
   "outputs": [
    {
     "name": "stdout",
     "output_type": "stream",
     "text": [
      "(100000, 3)\n"
     ]
    }
   ],
   "source": [
    "#shape of data\n",
    "print(((df.count()), len(df.columns)))"
   ]
  },
  {
   "cell_type": "code",
   "execution_count": 7,
   "id": "e48cbd88",
   "metadata": {
    "execution": {
     "iopub.execute_input": "2022-04-25T13:18:57.125029Z",
     "iopub.status.busy": "2022-04-25T13:18:57.124756Z",
     "iopub.status.idle": "2022-04-25T13:18:57.131751Z",
     "shell.execute_reply": "2022-04-25T13:18:57.130664Z"
    },
    "papermill": {
     "duration": 0.12922,
     "end_time": "2022-04-25T13:18:57.134264",
     "exception": false,
     "start_time": "2022-04-25T13:18:57.005044",
     "status": "completed"
    },
    "tags": []
   },
   "outputs": [
    {
     "name": "stdout",
     "output_type": "stream",
     "text": [
      "root\n",
      " |-- userId: integer (nullable = true)\n",
      " |-- title: string (nullable = true)\n",
      " |-- rating: integer (nullable = true)\n",
      "\n"
     ]
    }
   ],
   "source": [
    "df.printSchema()"
   ]
  },
  {
   "cell_type": "code",
   "execution_count": 8,
   "id": "b64684a6",
   "metadata": {
    "execution": {
     "iopub.execute_input": "2022-04-25T13:18:57.346292Z",
     "iopub.status.busy": "2022-04-25T13:18:57.345875Z",
     "iopub.status.idle": "2022-04-25T13:18:58.221358Z",
     "shell.execute_reply": "2022-04-25T13:18:58.220464Z"
    },
    "papermill": {
     "duration": 0.984902,
     "end_time": "2022-04-25T13:18:58.224655",
     "exception": false,
     "start_time": "2022-04-25T13:18:57.239753",
     "status": "completed"
    },
    "tags": []
   },
   "outputs": [
    {
     "name": "stdout",
     "output_type": "stream",
     "text": [
      "+------+-------------------------------+------+\n",
      "|userId|title                          |rating|\n",
      "+------+-------------------------------+------+\n",
      "|537   |Mary Poppins (1964)            |2     |\n",
      "|566   |Blade Runner (1982)            |4     |\n",
      "|330   |Hercules (1997)                |4     |\n",
      "|918   |Paris Is Burning (1990)        |4     |\n",
      "|148   |Empire Strikes Back, The (1980)|5     |\n",
      "|178   |North by Northwest (1959)      |3     |\n",
      "|474   |Christmas Carol, A (1938)      |4     |\n",
      "|380   |Night on Earth (1991)          |3     |\n",
      "|200   |Forrest Gump (1994)            |5     |\n",
      "|753   |Kolya (1996)                   |4     |\n",
      "+------+-------------------------------+------+\n",
      "only showing top 10 rows\n",
      "\n"
     ]
    }
   ],
   "source": [
    "df.orderBy(rand()).show(10,False)"
   ]
  },
  {
   "cell_type": "code",
   "execution_count": 9,
   "id": "2d9f522a",
   "metadata": {
    "execution": {
     "iopub.execute_input": "2022-04-25T13:18:58.471460Z",
     "iopub.status.busy": "2022-04-25T13:18:58.470257Z",
     "iopub.status.idle": "2022-04-25T13:18:59.644931Z",
     "shell.execute_reply": "2022-04-25T13:18:59.644048Z"
    },
    "papermill": {
     "duration": 1.294089,
     "end_time": "2022-04-25T13:18:59.651668",
     "exception": false,
     "start_time": "2022-04-25T13:18:58.357579",
     "status": "completed"
    },
    "tags": []
   },
   "outputs": [
    {
     "name": "stderr",
     "output_type": "stream",
     "text": [
      "[Stage 7:>                                                          (0 + 1) / 1]\r"
     ]
    },
    {
     "name": "stdout",
     "output_type": "stream",
     "text": [
      "+------+-----+\n",
      "|userid|count|\n",
      "+------+-----+\n",
      "|405   |737  |\n",
      "|655   |685  |\n",
      "|13    |636  |\n",
      "|450   |540  |\n",
      "|276   |518  |\n",
      "|416   |493  |\n",
      "|537   |490  |\n",
      "|303   |484  |\n",
      "|234   |480  |\n",
      "|393   |448  |\n",
      "+------+-----+\n",
      "only showing top 10 rows\n",
      "\n"
     ]
    },
    {
     "name": "stderr",
     "output_type": "stream",
     "text": [
      "                                                                                \r"
     ]
    }
   ],
   "source": [
    "#checking the ratings per user\n",
    "df.groupby('userid').count().orderBy('count', ascending=False).show(10,False)"
   ]
  },
  {
   "cell_type": "code",
   "execution_count": 10,
   "id": "cc5ca307",
   "metadata": {
    "execution": {
     "iopub.execute_input": "2022-04-25T13:18:59.945460Z",
     "iopub.status.busy": "2022-04-25T13:18:59.945042Z",
     "iopub.status.idle": "2022-04-25T13:19:00.585262Z",
     "shell.execute_reply": "2022-04-25T13:19:00.584332Z"
    },
    "papermill": {
     "duration": 0.773901,
     "end_time": "2022-04-25T13:19:00.590740",
     "exception": false,
     "start_time": "2022-04-25T13:18:59.816839",
     "status": "completed"
    },
    "tags": []
   },
   "outputs": [
    {
     "name": "stdout",
     "output_type": "stream",
     "text": [
      "+------+-----+\n",
      "|userid|count|\n",
      "+------+-----+\n",
      "|19    |20   |\n",
      "|143   |20   |\n",
      "|309   |20   |\n",
      "|34    |20   |\n",
      "|202   |20   |\n",
      "|732   |20   |\n",
      "|441   |20   |\n",
      "|685   |20   |\n",
      "|824   |20   |\n",
      "|631   |20   |\n",
      "+------+-----+\n",
      "only showing top 10 rows\n",
      "\n"
     ]
    }
   ],
   "source": [
    "#checking the ratings per user\n",
    "df.groupby('userid').count().orderBy('count', ascending=True).show(10,False)"
   ]
  },
  {
   "cell_type": "code",
   "execution_count": 11,
   "id": "ddfa1ab9",
   "metadata": {
    "execution": {
     "iopub.execute_input": "2022-04-25T13:19:00.834379Z",
     "iopub.status.busy": "2022-04-25T13:19:00.834109Z",
     "iopub.status.idle": "2022-04-25T13:19:01.586152Z",
     "shell.execute_reply": "2022-04-25T13:19:01.584796Z"
    },
    "papermill": {
     "duration": 0.863714,
     "end_time": "2022-04-25T13:19:01.589765",
     "exception": false,
     "start_time": "2022-04-25T13:19:00.726051",
     "status": "completed"
    },
    "tags": []
   },
   "outputs": [
    {
     "name": "stdout",
     "output_type": "stream",
     "text": [
      "+-----------------------------+-----+\n",
      "|Title                        |count|\n",
      "+-----------------------------+-----+\n",
      "|Star Wars (1977)             |583  |\n",
      "|Contact (1997)               |509  |\n",
      "|Fargo (1996)                 |508  |\n",
      "|Return of the Jedi (1983)    |507  |\n",
      "|Liar Liar (1997)             |485  |\n",
      "|English Patient, The (1996)  |481  |\n",
      "|Scream (1996)                |478  |\n",
      "|Toy Story (1995)             |452  |\n",
      "|Air Force One (1997)         |431  |\n",
      "|Independence Day (ID4) (1996)|429  |\n",
      "+-----------------------------+-----+\n",
      "only showing top 10 rows\n",
      "\n"
     ]
    }
   ],
   "source": [
    "#movies that is most rated\n",
    "df.groupby('Title').count().orderBy('count', ascending=False).show(10, False)"
   ]
  },
  {
   "cell_type": "code",
   "execution_count": 12,
   "id": "3db966a8",
   "metadata": {
    "execution": {
     "iopub.execute_input": "2022-04-25T13:19:01.927518Z",
     "iopub.status.busy": "2022-04-25T13:19:01.927209Z",
     "iopub.status.idle": "2022-04-25T13:19:02.519838Z",
     "shell.execute_reply": "2022-04-25T13:19:02.518438Z"
    },
    "papermill": {
     "duration": 0.764675,
     "end_time": "2022-04-25T13:19:02.523653",
     "exception": false,
     "start_time": "2022-04-25T13:19:01.758978",
     "status": "completed"
    },
    "tags": []
   },
   "outputs": [
    {
     "name": "stdout",
     "output_type": "stream",
     "text": [
      "+------------------------------------------+-----+\n",
      "|Title                                     |count|\n",
      "+------------------------------------------+-----+\n",
      "|Modern Affair, A (1995)                   |1    |\n",
      "|Tigrero: A Film That Was Never Made (1994)|1    |\n",
      "|JLG/JLG - autoportrait de d�cembre (1994) |1    |\n",
      "|Target (1995)                             |1    |\n",
      "|Vie est belle, La (Life is Rosey) (1987)  |1    |\n",
      "|Fear, The (1995)                          |1    |\n",
      "|Next Step, The (1995)                     |1    |\n",
      "|Mad Dog Time (1996)                       |1    |\n",
      "|Leopard Son, The (1996)                   |1    |\n",
      "|Lashou shentan (1992)                     |1    |\n",
      "+------------------------------------------+-----+\n",
      "only showing top 10 rows\n",
      "\n"
     ]
    }
   ],
   "source": [
    "#least rated movie\n",
    "df.groupby('Title').count().orderBy('count', ascending=True).show(10, False)"
   ]
  },
  {
   "cell_type": "code",
   "execution_count": 13,
   "id": "1a39ec1c",
   "metadata": {
    "execution": {
     "iopub.execute_input": "2022-04-25T13:19:02.812978Z",
     "iopub.status.busy": "2022-04-25T13:19:02.812685Z",
     "iopub.status.idle": "2022-04-25T13:19:04.016114Z",
     "shell.execute_reply": "2022-04-25T13:19:04.015138Z"
    },
    "papermill": {
     "duration": 1.337538,
     "end_time": "2022-04-25T13:19:04.019626",
     "exception": false,
     "start_time": "2022-04-25T13:19:02.682088",
     "status": "completed"
    },
    "tags": []
   },
   "outputs": [
    {
     "name": "stderr",
     "output_type": "stream",
     "text": [
      "                                                                                \r"
     ]
    }
   ],
   "source": [
    "stringIndexer = StringIndexer(inputCol='title', outputCol='title_new').fit(df)\n",
    "#model = stringIndexer.fit(df)\n",
    "indexed = stringIndexer.transform(df)"
   ]
  },
  {
   "cell_type": "code",
   "execution_count": 14,
   "id": "4c25aef6",
   "metadata": {
    "execution": {
     "iopub.execute_input": "2022-04-25T13:19:04.244357Z",
     "iopub.status.busy": "2022-04-25T13:19:04.244075Z",
     "iopub.status.idle": "2022-04-25T13:19:04.481236Z",
     "shell.execute_reply": "2022-04-25T13:19:04.480320Z"
    },
    "papermill": {
     "duration": 0.352207,
     "end_time": "2022-04-25T13:19:04.486304",
     "exception": false,
     "start_time": "2022-04-25T13:19:04.134097",
     "status": "completed"
    },
    "tags": []
   },
   "outputs": [
    {
     "name": "stdout",
     "output_type": "stream",
     "text": [
      "+------+------------+------+---------+\n",
      "|userId|       title|rating|title_new|\n",
      "+------+------------+------+---------+\n",
      "|   196|Kolya (1996)|     3|    287.0|\n",
      "|    63|Kolya (1996)|     3|    287.0|\n",
      "|   226|Kolya (1996)|     5|    287.0|\n",
      "|   154|Kolya (1996)|     3|    287.0|\n",
      "|   306|Kolya (1996)|     5|    287.0|\n",
      "|   296|Kolya (1996)|     4|    287.0|\n",
      "|    34|Kolya (1996)|     5|    287.0|\n",
      "|   271|Kolya (1996)|     4|    287.0|\n",
      "|   201|Kolya (1996)|     4|    287.0|\n",
      "|   209|Kolya (1996)|     4|    287.0|\n",
      "+------+------------+------+---------+\n",
      "only showing top 10 rows\n",
      "\n"
     ]
    }
   ],
   "source": [
    "indexed.show(10)"
   ]
  },
  {
   "cell_type": "code",
   "execution_count": 15,
   "id": "8068ca26",
   "metadata": {
    "execution": {
     "iopub.execute_input": "2022-04-25T13:19:04.734496Z",
     "iopub.status.busy": "2022-04-25T13:19:04.733974Z",
     "iopub.status.idle": "2022-04-25T13:19:05.602632Z",
     "shell.execute_reply": "2022-04-25T13:19:05.600731Z"
    },
    "papermill": {
     "duration": 0.981604,
     "end_time": "2022-04-25T13:19:05.607330",
     "exception": false,
     "start_time": "2022-04-25T13:19:04.625726",
     "status": "completed"
    },
    "tags": []
   },
   "outputs": [
    {
     "name": "stdout",
     "output_type": "stream",
     "text": [
      "+---------+-----+\n",
      "|title_new|count|\n",
      "+---------+-----+\n",
      "|0.0      |583  |\n",
      "|1.0      |509  |\n",
      "|2.0      |508  |\n",
      "|3.0      |507  |\n",
      "|4.0      |485  |\n",
      "|5.0      |481  |\n",
      "|6.0      |478  |\n",
      "|7.0      |452  |\n",
      "|8.0      |431  |\n",
      "|9.0      |429  |\n",
      "+---------+-----+\n",
      "only showing top 10 rows\n",
      "\n"
     ]
    }
   ],
   "source": [
    "indexed.groupby('title_new').count().orderBy('count',ascending=False).show(10,False)"
   ]
  },
  {
   "cell_type": "code",
   "execution_count": 16,
   "id": "6137b6e0",
   "metadata": {
    "execution": {
     "iopub.execute_input": "2022-04-25T13:19:05.856687Z",
     "iopub.status.busy": "2022-04-25T13:19:05.856418Z",
     "iopub.status.idle": "2022-04-25T13:19:05.877924Z",
     "shell.execute_reply": "2022-04-25T13:19:05.877253Z"
    },
    "papermill": {
     "duration": 0.133819,
     "end_time": "2022-04-25T13:19:05.880518",
     "exception": false,
     "start_time": "2022-04-25T13:19:05.746699",
     "status": "completed"
    },
    "tags": []
   },
   "outputs": [],
   "source": [
    "traindf,testdf = indexed.randomSplit([0.75,0.25], seed=1)\n"
   ]
  },
  {
   "cell_type": "code",
   "execution_count": 17,
   "id": "f3b05eec",
   "metadata": {
    "execution": {
     "iopub.execute_input": "2022-04-25T13:19:06.098975Z",
     "iopub.status.busy": "2022-04-25T13:19:06.098649Z",
     "iopub.status.idle": "2022-04-25T13:19:07.073940Z",
     "shell.execute_reply": "2022-04-25T13:19:07.072171Z"
    },
    "papermill": {
     "duration": 1.090875,
     "end_time": "2022-04-25T13:19:07.079339",
     "exception": false,
     "start_time": "2022-04-25T13:19:05.988464",
     "status": "completed"
    },
    "tags": []
   },
   "outputs": [
    {
     "name": "stdout",
     "output_type": "stream",
     "text": [
      "(74839, 4)\n"
     ]
    },
    {
     "name": "stderr",
     "output_type": "stream",
     "text": [
      "                                                                                \r"
     ]
    }
   ],
   "source": [
    "print(((traindf.count()), len(traindf.columns)))"
   ]
  },
  {
   "cell_type": "code",
   "execution_count": 18,
   "id": "31f13901",
   "metadata": {
    "execution": {
     "iopub.execute_input": "2022-04-25T13:19:07.336537Z",
     "iopub.status.busy": "2022-04-25T13:19:07.336244Z",
     "iopub.status.idle": "2022-04-25T13:19:08.145623Z",
     "shell.execute_reply": "2022-04-25T13:19:08.144935Z"
    },
    "papermill": {
     "duration": 0.930608,
     "end_time": "2022-04-25T13:19:08.148171",
     "exception": false,
     "start_time": "2022-04-25T13:19:07.217563",
     "status": "completed"
    },
    "tags": []
   },
   "outputs": [
    {
     "name": "stdout",
     "output_type": "stream",
     "text": [
      "(25161, 4)\n"
     ]
    }
   ],
   "source": [
    "print(((testdf.count()), len(testdf.columns)))"
   ]
  },
  {
   "cell_type": "code",
   "execution_count": 19,
   "id": "b2d343a5",
   "metadata": {
    "execution": {
     "iopub.execute_input": "2022-04-25T13:19:08.370602Z",
     "iopub.status.busy": "2022-04-25T13:19:08.370234Z",
     "iopub.status.idle": "2022-04-25T13:19:19.042891Z",
     "shell.execute_reply": "2022-04-25T13:19:19.041820Z"
    },
    "papermill": {
     "duration": 10.788263,
     "end_time": "2022-04-25T13:19:19.045805",
     "exception": false,
     "start_time": "2022-04-25T13:19:08.257542",
     "status": "completed"
    },
    "tags": []
   },
   "outputs": [
    {
     "name": "stderr",
     "output_type": "stream",
     "text": [
      "                                                                                \r"
     ]
    }
   ],
   "source": [
    "rec= ALS(maxIter=10,regParam=0.01, userCol='userId', itemCol='title_new',ratingCol='rating', nonnegative=True,coldStartStrategy=\"drop\")\n",
    "rec_model = rec.fit(traindf)"
   ]
  },
  {
   "cell_type": "code",
   "execution_count": null,
   "id": "9ea059e4",
   "metadata": {
    "papermill": {
     "duration": 0.109321,
     "end_time": "2022-04-25T13:19:19.291631",
     "exception": false,
     "start_time": "2022-04-25T13:19:19.182310",
     "status": "completed"
    },
    "tags": []
   },
   "outputs": [],
   "source": []
  }
 ],
 "metadata": {
  "kernelspec": {
   "display_name": "Python 3",
   "language": "python",
   "name": "python3"
  },
  "language_info": {
   "codemirror_mode": {
    "name": "ipython",
    "version": 3
   },
   "file_extension": ".py",
   "mimetype": "text/x-python",
   "name": "python",
   "nbconvert_exporter": "python",
   "pygments_lexer": "ipython3",
   "version": "3.7.12"
  },
  "papermill": {
   "default_parameters": {},
   "duration": 109.733848,
   "end_time": "2022-04-25T13:19:22.022632",
   "environment_variables": {},
   "exception": null,
   "input_path": "__notebook__.ipynb",
   "output_path": "__notebook__.ipynb",
   "parameters": {},
   "start_time": "2022-04-25T13:17:32.288784",
   "version": "2.3.4"
  }
 },
 "nbformat": 4,
 "nbformat_minor": 5
}
