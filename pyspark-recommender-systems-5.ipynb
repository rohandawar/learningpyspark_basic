{
 "cells": [
  {
   "cell_type": "code",
   "execution_count": 1,
   "id": "f540e9fa",
   "metadata": {
    "_cell_guid": "b1076dfc-b9ad-4769-8c92-a6c4dae69d19",
    "_uuid": "8f2839f25d086af736a60e9eeb907d3b93b6e0e5",
    "execution": {
     "iopub.execute_input": "2022-04-26T06:58:03.942333Z",
     "iopub.status.busy": "2022-04-26T06:58:03.941527Z",
     "iopub.status.idle": "2022-04-26T06:58:03.959898Z",
     "shell.execute_reply": "2022-04-26T06:58:03.958895Z"
    },
    "papermill": {
     "duration": 0.064367,
     "end_time": "2022-04-26T06:58:03.962531",
     "exception": false,
     "start_time": "2022-04-26T06:58:03.898164",
     "status": "completed"
    },
    "tags": []
   },
   "outputs": [
    {
     "name": "stdout",
     "output_type": "stream",
     "text": [
      "/kaggle/input/movie-ratings/movie_ratings_df.csv\n"
     ]
    }
   ],
   "source": [
    "# This Python 3 environment comes with many helpful analytics libraries installed\n",
    "# It is defined by the kaggle/python Docker image: https://github.com/kaggle/docker-python\n",
    "# For example, here's several helpful packages to load\n",
    "\n",
    "import numpy as np # linear algebra\n",
    "import pandas as pd # data processing, CSV file I/O (e.g. pd.read_csv)\n",
    "\n",
    "# Input data files are available in the read-only \"../input/\" directory\n",
    "# For example, running this (by clicking run or pressing Shift+Enter) will list all files under the input directory\n",
    "\n",
    "import os\n",
    "for dirname, _, filenames in os.walk('/kaggle/input'):\n",
    "    for filename in filenames:\n",
    "        print(os.path.join(dirname, filename))\n",
    "\n",
    "# You can write up to 20GB to the current directory (/kaggle/working/) that gets preserved as output when you create a version using \"Save & Run All\" \n",
    "# You can also write temporary files to /kaggle/temp/, but they won't be saved outside of the current session"
   ]
  },
  {
   "cell_type": "code",
   "execution_count": 2,
   "id": "1dc8bf68",
   "metadata": {
    "execution": {
     "iopub.execute_input": "2022-04-26T06:58:04.047219Z",
     "iopub.status.busy": "2022-04-26T06:58:04.046514Z",
     "iopub.status.idle": "2022-04-26T06:59:13.811208Z",
     "shell.execute_reply": "2022-04-26T06:59:13.809725Z"
    },
    "papermill": {
     "duration": 69.810337,
     "end_time": "2022-04-26T06:59:13.814327",
     "exception": false,
     "start_time": "2022-04-26T06:58:04.003990",
     "status": "completed"
    },
    "tags": []
   },
   "outputs": [
    {
     "name": "stdout",
     "output_type": "stream",
     "text": [
      "Collecting findspark\r\n",
      "  Downloading findspark-2.0.1-py2.py3-none-any.whl (4.4 kB)\r\n",
      "Installing collected packages: findspark\r\n",
      "Successfully installed findspark-2.0.1\r\n",
      "\u001b[33mWARNING: Running pip as the 'root' user can result in broken permissions and conflicting behaviour with the system package manager. It is recommended to use a virtual environment instead: https://pip.pypa.io/warnings/venv\u001b[0m\u001b[33m\r\n",
      "\u001b[0mCollecting pyspark\r\n",
      "  Downloading pyspark-3.2.1.tar.gz (281.4 MB)\r\n",
      "\u001b[2K     \u001b[90m━━━━━━━━━━━━━━━━━━━━━━━━━━━━━━━━━━━━━━━\u001b[0m \u001b[32m281.4/281.4 MB\u001b[0m \u001b[31m3.5 MB/s\u001b[0m eta \u001b[36m0:00:00\u001b[0m\r\n",
      "\u001b[?25h  Preparing metadata (setup.py) ... \u001b[?25l-\b \b\\\b \bdone\r\n",
      "\u001b[?25hCollecting py4j==0.10.9.3\r\n",
      "  Downloading py4j-0.10.9.3-py2.py3-none-any.whl (198 kB)\r\n",
      "\u001b[2K     \u001b[90m━━━━━━━━━━━━━━━━━━━━━━━━━━━━━━━━━━━━━━━\u001b[0m \u001b[32m199.0/199.0 KB\u001b[0m \u001b[31m8.8 MB/s\u001b[0m eta \u001b[36m0:00:00\u001b[0m\r\n",
      "\u001b[?25hBuilding wheels for collected packages: pyspark\r\n",
      "  Building wheel for pyspark (setup.py) ... \u001b[?25l-\b \b\\\b \b|\b \b/\b \b-\b \b\\\b \b|\b \b/\b \b-\b \b\\\b \b|\b \b/\b \b-\b \b\\\b \b|\b \b/\b \b-\b \b\\\b \b|\b \b/\b \b-\b \b\\\b \b|\b \b/\b \b-\b \b\\\b \b|\b \b/\b \b-\b \b\\\b \b|\b \b/\b \b-\b \b\\\b \b|\b \b/\b \b-\b \b\\\b \b|\b \b/\b \b-\b \b\\\b \b|\b \b/\b \b-\b \b\\\b \b|\b \b/\b \b-\b \b\\\b \b|\b \b/\b \b-\b \b\\\b \b|\b \b/\b \b-\b \b\\\b \b|\b \b/\b \b-\b \b\\\b \b|\b \b/\b \b-\b \b\\\b \b|\b \b/\b \b-\b \b\\\b \b|\b \b/\b \bdone\r\n",
      "\u001b[?25h  Created wheel for pyspark: filename=pyspark-3.2.1-py2.py3-none-any.whl size=281853642 sha256=b4d1deb5367eb059995f512731e0d031b97150557250e53ffc674cb7ebdf00e5\r\n",
      "  Stored in directory: /root/.cache/pip/wheels/9f/f5/07/7cd8017084dce4e93e84e92efd1e1d5334db05f2e83bcef74f\r\n",
      "Successfully built pyspark\r\n",
      "Installing collected packages: py4j, pyspark\r\n",
      "  Attempting uninstall: py4j\r\n",
      "    Found existing installation: py4j 0.10.9.5\r\n",
      "    Uninstalling py4j-0.10.9.5:\r\n",
      "      Successfully uninstalled py4j-0.10.9.5\r\n",
      "Successfully installed py4j-0.10.9.3 pyspark-3.2.1\r\n",
      "\u001b[33mWARNING: Running pip as the 'root' user can result in broken permissions and conflicting behaviour with the system package manager. It is recommended to use a virtual environment instead: https://pip.pypa.io/warnings/venv\u001b[0m\u001b[33m\r\n",
      "\u001b[0m"
     ]
    }
   ],
   "source": [
    "!pip install findspark\n",
    "!pip install pyspark"
   ]
  },
  {
   "cell_type": "code",
   "execution_count": 3,
   "id": "86c361bb",
   "metadata": {
    "execution": {
     "iopub.execute_input": "2022-04-26T06:59:14.149511Z",
     "iopub.status.busy": "2022-04-26T06:59:14.148933Z",
     "iopub.status.idle": "2022-04-26T06:59:20.791029Z",
     "shell.execute_reply": "2022-04-26T06:59:20.789912Z"
    },
    "papermill": {
     "duration": 6.8235,
     "end_time": "2022-04-26T06:59:20.794662",
     "exception": false,
     "start_time": "2022-04-26T06:59:13.971162",
     "status": "completed"
    },
    "tags": []
   },
   "outputs": [
    {
     "name": "stderr",
     "output_type": "stream",
     "text": [
      "WARNING: An illegal reflective access operation has occurred\n",
      "WARNING: Illegal reflective access by org.apache.spark.unsafe.Platform (file:/opt/conda/lib/python3.7/site-packages/pyspark/jars/spark-unsafe_2.12-3.2.1.jar) to constructor java.nio.DirectByteBuffer(long,int)\n",
      "WARNING: Please consider reporting this to the maintainers of org.apache.spark.unsafe.Platform\n",
      "WARNING: Use --illegal-access=warn to enable warnings of further illegal reflective access operations\n",
      "WARNING: All illegal access operations will be denied in a future release\n",
      "Using Spark's default log4j profile: org/apache/spark/log4j-defaults.properties\n",
      "Setting default log level to \"WARN\".\n",
      "To adjust logging level use sc.setLogLevel(newLevel). For SparkR, use setLogLevel(newLevel).\n",
      "22/04/26 06:59:17 WARN NativeCodeLoader: Unable to load native-hadoop library for your platform... using builtin-java classes where applicable\n"
     ]
    }
   ],
   "source": [
    "#import spark session\n",
    "from pyspark.sql import SparkSession\n",
    "spark = SparkSession.builder.appName('recom_sys').getOrCreate()"
   ]
  },
  {
   "cell_type": "code",
   "execution_count": 4,
   "id": "b41e1ea6",
   "metadata": {
    "execution": {
     "iopub.execute_input": "2022-04-26T06:59:21.129719Z",
     "iopub.status.busy": "2022-04-26T06:59:21.128891Z",
     "iopub.status.idle": "2022-04-26T06:59:21.280200Z",
     "shell.execute_reply": "2022-04-26T06:59:21.279415Z"
    },
    "papermill": {
     "duration": 0.32988,
     "end_time": "2022-04-26T06:59:21.282986",
     "exception": false,
     "start_time": "2022-04-26T06:59:20.953106",
     "status": "completed"
    },
    "tags": []
   },
   "outputs": [],
   "source": [
    "#import libs\n",
    "from pyspark.ml.feature import VectorAssembler\n",
    "from pyspark.sql.functions import *\n",
    "from pyspark.ml.feature import StringIndexer\n",
    "from pyspark.ml.feature import IndexToString\n",
    "from pyspark.ml.recommendation import ALS\n",
    "from pyspark.ml.evaluation import RegressionEvaluator"
   ]
  },
  {
   "cell_type": "code",
   "execution_count": null,
   "id": "7a660efb",
   "metadata": {
    "papermill": {
     "duration": 0.146968,
     "end_time": "2022-04-26T06:59:21.576150",
     "exception": false,
     "start_time": "2022-04-26T06:59:21.429182",
     "status": "completed"
    },
    "tags": []
   },
   "outputs": [],
   "source": []
  },
  {
   "cell_type": "code",
   "execution_count": 5,
   "id": "6006999d",
   "metadata": {
    "execution": {
     "iopub.execute_input": "2022-04-26T06:59:21.874113Z",
     "iopub.status.busy": "2022-04-26T06:59:21.873826Z",
     "iopub.status.idle": "2022-04-26T06:59:29.082115Z",
     "shell.execute_reply": "2022-04-26T06:59:29.080996Z"
    },
    "papermill": {
     "duration": 7.362793,
     "end_time": "2022-04-26T06:59:29.085570",
     "exception": false,
     "start_time": "2022-04-26T06:59:21.722777",
     "status": "completed"
    },
    "tags": []
   },
   "outputs": [
    {
     "name": "stderr",
     "output_type": "stream",
     "text": [
      "                                                                                \r"
     ]
    },
    {
     "name": "stdout",
     "output_type": "stream",
     "text": [
      "+------+------------+------+\n",
      "|userId|       title|rating|\n",
      "+------+------------+------+\n",
      "|   196|Kolya (1996)|     3|\n",
      "+------+------------+------+\n",
      "only showing top 1 row\n",
      "\n"
     ]
    }
   ],
   "source": [
    "#read the dataset\n",
    "df = spark.read.csv('/kaggle/input/movie-ratings/movie_ratings_df.csv', header=True, inferSchema=True)\n",
    "df.show(1)\n"
   ]
  },
  {
   "cell_type": "code",
   "execution_count": 6,
   "id": "655e9a65",
   "metadata": {
    "execution": {
     "iopub.execute_input": "2022-04-26T06:59:29.560419Z",
     "iopub.status.busy": "2022-04-26T06:59:29.560023Z",
     "iopub.status.idle": "2022-04-26T06:59:30.527117Z",
     "shell.execute_reply": "2022-04-26T06:59:30.525706Z"
    },
    "papermill": {
     "duration": 1.207717,
     "end_time": "2022-04-26T06:59:30.530175",
     "exception": false,
     "start_time": "2022-04-26T06:59:29.322458",
     "status": "completed"
    },
    "tags": []
   },
   "outputs": [
    {
     "name": "stdout",
     "output_type": "stream",
     "text": [
      "(100000, 3)\n"
     ]
    }
   ],
   "source": [
    "#shape of data\n",
    "print(((df.count()), len(df.columns)))"
   ]
  },
  {
   "cell_type": "code",
   "execution_count": 7,
   "id": "4fadca66",
   "metadata": {
    "execution": {
     "iopub.execute_input": "2022-04-26T06:59:30.870336Z",
     "iopub.status.busy": "2022-04-26T06:59:30.870067Z",
     "iopub.status.idle": "2022-04-26T06:59:30.876546Z",
     "shell.execute_reply": "2022-04-26T06:59:30.875953Z"
    },
    "papermill": {
     "duration": 0.168168,
     "end_time": "2022-04-26T06:59:30.878850",
     "exception": false,
     "start_time": "2022-04-26T06:59:30.710682",
     "status": "completed"
    },
    "tags": []
   },
   "outputs": [
    {
     "name": "stdout",
     "output_type": "stream",
     "text": [
      "root\n",
      " |-- userId: integer (nullable = true)\n",
      " |-- title: string (nullable = true)\n",
      " |-- rating: integer (nullable = true)\n",
      "\n"
     ]
    }
   ],
   "source": [
    "df.printSchema()"
   ]
  },
  {
   "cell_type": "code",
   "execution_count": 8,
   "id": "6a55bcc4",
   "metadata": {
    "execution": {
     "iopub.execute_input": "2022-04-26T06:59:31.211918Z",
     "iopub.status.busy": "2022-04-26T06:59:31.211320Z",
     "iopub.status.idle": "2022-04-26T06:59:31.996236Z",
     "shell.execute_reply": "2022-04-26T06:59:31.995255Z"
    },
    "papermill": {
     "duration": 0.95213,
     "end_time": "2022-04-26T06:59:32.000245",
     "exception": false,
     "start_time": "2022-04-26T06:59:31.048115",
     "status": "completed"
    },
    "tags": []
   },
   "outputs": [
    {
     "name": "stdout",
     "output_type": "stream",
     "text": [
      "+------+--------------------------------------------------+------+\n",
      "|userId|title                                             |rating|\n",
      "+------+--------------------------------------------------+------+\n",
      "|846   |Demolition Man (1993)                             |3     |\n",
      "|379   |Liar Liar (1997)                                  |3     |\n",
      "|328   |Bridge on the River Kwai, The (1957)              |4     |\n",
      "|537   |Bound (1996)                                      |3     |\n",
      "|889   |Sneakers (1992)                                   |4     |\n",
      "|854   |People vs. Larry Flynt, The (1996)                |4     |\n",
      "|393   |Austin Powers: International Man of Mystery (1997)|3     |\n",
      "|130   |Nell (1994)                                       |4     |\n",
      "|833   |Abyss, The (1989)                                 |2     |\n",
      "|76    |Welcome to the Dollhouse (1995)                   |4     |\n",
      "+------+--------------------------------------------------+------+\n",
      "only showing top 10 rows\n",
      "\n"
     ]
    }
   ],
   "source": [
    "df.orderBy(rand()).show(10,False)"
   ]
  },
  {
   "cell_type": "code",
   "execution_count": 9,
   "id": "d5577856",
   "metadata": {
    "execution": {
     "iopub.execute_input": "2022-04-26T06:59:32.358497Z",
     "iopub.status.busy": "2022-04-26T06:59:32.358209Z",
     "iopub.status.idle": "2022-04-26T06:59:33.588049Z",
     "shell.execute_reply": "2022-04-26T06:59:33.587128Z"
    },
    "papermill": {
     "duration": 1.39634,
     "end_time": "2022-04-26T06:59:33.595622",
     "exception": false,
     "start_time": "2022-04-26T06:59:32.199282",
     "status": "completed"
    },
    "tags": []
   },
   "outputs": [
    {
     "name": "stderr",
     "output_type": "stream",
     "text": [
      "[Stage 7:>                                                          (0 + 1) / 1]\r"
     ]
    },
    {
     "name": "stdout",
     "output_type": "stream",
     "text": [
      "+------+-----+\n",
      "|userid|count|\n",
      "+------+-----+\n",
      "|405   |737  |\n",
      "|655   |685  |\n",
      "|13    |636  |\n",
      "|450   |540  |\n",
      "|276   |518  |\n",
      "|416   |493  |\n",
      "|537   |490  |\n",
      "|303   |484  |\n",
      "|234   |480  |\n",
      "|393   |448  |\n",
      "+------+-----+\n",
      "only showing top 10 rows\n",
      "\n"
     ]
    },
    {
     "name": "stderr",
     "output_type": "stream",
     "text": [
      "                                                                                \r"
     ]
    }
   ],
   "source": [
    "#checking the ratings per user\n",
    "df.groupby('userid').count().orderBy('count', ascending=False).show(10,False)"
   ]
  },
  {
   "cell_type": "code",
   "execution_count": 10,
   "id": "5f5bf7a8",
   "metadata": {
    "execution": {
     "iopub.execute_input": "2022-04-26T06:59:33.906447Z",
     "iopub.status.busy": "2022-04-26T06:59:33.906026Z",
     "iopub.status.idle": "2022-04-26T06:59:34.539943Z",
     "shell.execute_reply": "2022-04-26T06:59:34.537972Z"
    },
    "papermill": {
     "duration": 0.79261,
     "end_time": "2022-04-26T06:59:34.542903",
     "exception": false,
     "start_time": "2022-04-26T06:59:33.750293",
     "status": "completed"
    },
    "tags": []
   },
   "outputs": [
    {
     "name": "stdout",
     "output_type": "stream",
     "text": [
      "+------+-----+\n",
      "|userid|count|\n",
      "+------+-----+\n",
      "|19    |20   |\n",
      "|143   |20   |\n",
      "|309   |20   |\n",
      "|34    |20   |\n",
      "|202   |20   |\n",
      "|732   |20   |\n",
      "|441   |20   |\n",
      "|685   |20   |\n",
      "|824   |20   |\n",
      "|631   |20   |\n",
      "+------+-----+\n",
      "only showing top 10 rows\n",
      "\n"
     ]
    }
   ],
   "source": [
    "#checking the ratings per user\n",
    "df.groupby('userid').count().orderBy('count', ascending=True).show(10,False)"
   ]
  },
  {
   "cell_type": "code",
   "execution_count": 11,
   "id": "c78d46d0",
   "metadata": {
    "execution": {
     "iopub.execute_input": "2022-04-26T06:59:34.855643Z",
     "iopub.status.busy": "2022-04-26T06:59:34.855354Z",
     "iopub.status.idle": "2022-04-26T06:59:35.575434Z",
     "shell.execute_reply": "2022-04-26T06:59:35.574467Z"
    },
    "papermill": {
     "duration": 0.883685,
     "end_time": "2022-04-26T06:59:35.580444",
     "exception": false,
     "start_time": "2022-04-26T06:59:34.696759",
     "status": "completed"
    },
    "tags": []
   },
   "outputs": [
    {
     "name": "stdout",
     "output_type": "stream",
     "text": [
      "+-----------------------------+-----+\n",
      "|Title                        |count|\n",
      "+-----------------------------+-----+\n",
      "|Star Wars (1977)             |583  |\n",
      "|Contact (1997)               |509  |\n",
      "|Fargo (1996)                 |508  |\n",
      "|Return of the Jedi (1983)    |507  |\n",
      "|Liar Liar (1997)             |485  |\n",
      "|English Patient, The (1996)  |481  |\n",
      "|Scream (1996)                |478  |\n",
      "|Toy Story (1995)             |452  |\n",
      "|Air Force One (1997)         |431  |\n",
      "|Independence Day (ID4) (1996)|429  |\n",
      "+-----------------------------+-----+\n",
      "only showing top 10 rows\n",
      "\n"
     ]
    }
   ],
   "source": [
    "#movies that is most rated\n",
    "df.groupby('Title').count().orderBy('count', ascending=False).show(10, False)"
   ]
  },
  {
   "cell_type": "code",
   "execution_count": 12,
   "id": "2da3cee9",
   "metadata": {
    "execution": {
     "iopub.execute_input": "2022-04-26T06:59:35.926233Z",
     "iopub.status.busy": "2022-04-26T06:59:35.925833Z",
     "iopub.status.idle": "2022-04-26T06:59:36.561529Z",
     "shell.execute_reply": "2022-04-26T06:59:36.559920Z"
    },
    "papermill": {
     "duration": 0.797442,
     "end_time": "2022-04-26T06:59:36.564450",
     "exception": false,
     "start_time": "2022-04-26T06:59:35.767008",
     "status": "completed"
    },
    "tags": []
   },
   "outputs": [
    {
     "name": "stdout",
     "output_type": "stream",
     "text": [
      "+------------------------------------------+-----+\n",
      "|Title                                     |count|\n",
      "+------------------------------------------+-----+\n",
      "|Modern Affair, A (1995)                   |1    |\n",
      "|Tigrero: A Film That Was Never Made (1994)|1    |\n",
      "|JLG/JLG - autoportrait de d�cembre (1994) |1    |\n",
      "|Target (1995)                             |1    |\n",
      "|Vie est belle, La (Life is Rosey) (1987)  |1    |\n",
      "|Fear, The (1995)                          |1    |\n",
      "|Next Step, The (1995)                     |1    |\n",
      "|Mad Dog Time (1996)                       |1    |\n",
      "|Leopard Son, The (1996)                   |1    |\n",
      "|Lashou shentan (1992)                     |1    |\n",
      "+------------------------------------------+-----+\n",
      "only showing top 10 rows\n",
      "\n"
     ]
    }
   ],
   "source": [
    "#least rated movie\n",
    "df.groupby('Title').count().orderBy('count', ascending=True).show(10, False)"
   ]
  },
  {
   "cell_type": "code",
   "execution_count": 13,
   "id": "084b312c",
   "metadata": {
    "execution": {
     "iopub.execute_input": "2022-04-26T06:59:36.883050Z",
     "iopub.status.busy": "2022-04-26T06:59:36.882716Z",
     "iopub.status.idle": "2022-04-26T06:59:38.172337Z",
     "shell.execute_reply": "2022-04-26T06:59:38.171455Z"
    },
    "papermill": {
     "duration": 1.446818,
     "end_time": "2022-04-26T06:59:38.174507",
     "exception": false,
     "start_time": "2022-04-26T06:59:36.727689",
     "status": "completed"
    },
    "tags": []
   },
   "outputs": [
    {
     "name": "stderr",
     "output_type": "stream",
     "text": [
      "                                                                                \r"
     ]
    }
   ],
   "source": [
    "stringIndexer = StringIndexer(inputCol='title', outputCol='title_new')\n",
    "model = stringIndexer.fit(df)\n",
    "indexed = model.transform(df)"
   ]
  },
  {
   "cell_type": "code",
   "execution_count": 14,
   "id": "0d842af0",
   "metadata": {
    "execution": {
     "iopub.execute_input": "2022-04-26T06:59:38.487791Z",
     "iopub.status.busy": "2022-04-26T06:59:38.487498Z",
     "iopub.status.idle": "2022-04-26T06:59:38.756484Z",
     "shell.execute_reply": "2022-04-26T06:59:38.755559Z"
    },
    "papermill": {
     "duration": 0.428378,
     "end_time": "2022-04-26T06:59:38.759906",
     "exception": false,
     "start_time": "2022-04-26T06:59:38.331528",
     "status": "completed"
    },
    "tags": []
   },
   "outputs": [
    {
     "name": "stdout",
     "output_type": "stream",
     "text": [
      "+------+------------+------+---------+\n",
      "|userId|       title|rating|title_new|\n",
      "+------+------------+------+---------+\n",
      "|   196|Kolya (1996)|     3|    287.0|\n",
      "|    63|Kolya (1996)|     3|    287.0|\n",
      "|   226|Kolya (1996)|     5|    287.0|\n",
      "|   154|Kolya (1996)|     3|    287.0|\n",
      "|   306|Kolya (1996)|     5|    287.0|\n",
      "|   296|Kolya (1996)|     4|    287.0|\n",
      "|    34|Kolya (1996)|     5|    287.0|\n",
      "|   271|Kolya (1996)|     4|    287.0|\n",
      "|   201|Kolya (1996)|     4|    287.0|\n",
      "|   209|Kolya (1996)|     4|    287.0|\n",
      "+------+------------+------+---------+\n",
      "only showing top 10 rows\n",
      "\n"
     ]
    }
   ],
   "source": [
    "indexed.show(10)"
   ]
  },
  {
   "cell_type": "code",
   "execution_count": 15,
   "id": "fdc682be",
   "metadata": {
    "execution": {
     "iopub.execute_input": "2022-04-26T06:59:39.074589Z",
     "iopub.status.busy": "2022-04-26T06:59:39.074317Z",
     "iopub.status.idle": "2022-04-26T06:59:39.902682Z",
     "shell.execute_reply": "2022-04-26T06:59:39.900951Z"
    },
    "papermill": {
     "duration": 0.98867,
     "end_time": "2022-04-26T06:59:39.907462",
     "exception": false,
     "start_time": "2022-04-26T06:59:38.918792",
     "status": "completed"
    },
    "tags": []
   },
   "outputs": [
    {
     "name": "stdout",
     "output_type": "stream",
     "text": [
      "+---------+-----+\n",
      "|title_new|count|\n",
      "+---------+-----+\n",
      "|0.0      |583  |\n",
      "|1.0      |509  |\n",
      "|2.0      |508  |\n",
      "|3.0      |507  |\n",
      "|4.0      |485  |\n",
      "|5.0      |481  |\n",
      "|6.0      |478  |\n",
      "|7.0      |452  |\n",
      "|8.0      |431  |\n",
      "|9.0      |429  |\n",
      "+---------+-----+\n",
      "only showing top 10 rows\n",
      "\n"
     ]
    }
   ],
   "source": [
    "indexed.groupby('title_new').count().orderBy('count',ascending=False).show(10,False)"
   ]
  },
  {
   "cell_type": "code",
   "execution_count": 16,
   "id": "5995013a",
   "metadata": {
    "execution": {
     "iopub.execute_input": "2022-04-26T06:59:40.260434Z",
     "iopub.status.busy": "2022-04-26T06:59:40.259545Z",
     "iopub.status.idle": "2022-04-26T06:59:40.286510Z",
     "shell.execute_reply": "2022-04-26T06:59:40.285814Z"
    },
    "papermill": {
     "duration": 0.184961,
     "end_time": "2022-04-26T06:59:40.288887",
     "exception": false,
     "start_time": "2022-04-26T06:59:40.103926",
     "status": "completed"
    },
    "tags": []
   },
   "outputs": [],
   "source": [
    "traindf,testdf = indexed.randomSplit([0.75,0.25], seed=1)\n"
   ]
  },
  {
   "cell_type": "code",
   "execution_count": 17,
   "id": "8572c2ec",
   "metadata": {
    "execution": {
     "iopub.execute_input": "2022-04-26T06:59:40.601757Z",
     "iopub.status.busy": "2022-04-26T06:59:40.601466Z",
     "iopub.status.idle": "2022-04-26T06:59:41.713818Z",
     "shell.execute_reply": "2022-04-26T06:59:41.712580Z"
    },
    "papermill": {
     "duration": 1.275383,
     "end_time": "2022-04-26T06:59:41.718635",
     "exception": false,
     "start_time": "2022-04-26T06:59:40.443252",
     "status": "completed"
    },
    "tags": []
   },
   "outputs": [
    {
     "name": "stderr",
     "output_type": "stream",
     "text": [
      "[Stage 26:>                                                         (0 + 1) / 1]\r"
     ]
    },
    {
     "name": "stdout",
     "output_type": "stream",
     "text": [
      "(74839, 4)\n"
     ]
    },
    {
     "name": "stderr",
     "output_type": "stream",
     "text": [
      "                                                                                \r"
     ]
    }
   ],
   "source": [
    "print(((traindf.count()), len(traindf.columns)))"
   ]
  },
  {
   "cell_type": "code",
   "execution_count": 18,
   "id": "427030dd",
   "metadata": {
    "execution": {
     "iopub.execute_input": "2022-04-26T06:59:42.044886Z",
     "iopub.status.busy": "2022-04-26T06:59:42.043829Z",
     "iopub.status.idle": "2022-04-26T06:59:42.872032Z",
     "shell.execute_reply": "2022-04-26T06:59:42.870985Z"
    },
    "papermill": {
     "duration": 0.998465,
     "end_time": "2022-04-26T06:59:42.876969",
     "exception": false,
     "start_time": "2022-04-26T06:59:41.878504",
     "status": "completed"
    },
    "tags": []
   },
   "outputs": [
    {
     "name": "stdout",
     "output_type": "stream",
     "text": [
      "(25161, 4)\n"
     ]
    }
   ],
   "source": [
    "print(((testdf.count()), len(testdf.columns)))"
   ]
  },
  {
   "cell_type": "code",
   "execution_count": 19,
   "id": "f134d6ac",
   "metadata": {
    "execution": {
     "iopub.execute_input": "2022-04-26T06:59:43.299791Z",
     "iopub.status.busy": "2022-04-26T06:59:43.299487Z",
     "iopub.status.idle": "2022-04-26T06:59:54.208718Z",
     "shell.execute_reply": "2022-04-26T06:59:54.207822Z"
    },
    "papermill": {
     "duration": 11.080464,
     "end_time": "2022-04-26T06:59:54.212147",
     "exception": false,
     "start_time": "2022-04-26T06:59:43.131683",
     "status": "completed"
    },
    "tags": []
   },
   "outputs": [],
   "source": [
    "rec= ALS(maxIter=10,regParam=0.01, userCol='userId', itemCol='title_new',ratingCol='rating', nonnegative=True,coldStartStrategy=\"drop\")\n",
    "rec_model = rec.fit(traindf)"
   ]
  },
  {
   "cell_type": "code",
   "execution_count": 20,
   "id": "d1fc09ff",
   "metadata": {
    "execution": {
     "iopub.execute_input": "2022-04-26T06:59:54.628538Z",
     "iopub.status.busy": "2022-04-26T06:59:54.628267Z",
     "iopub.status.idle": "2022-04-26T06:59:54.748175Z",
     "shell.execute_reply": "2022-04-26T06:59:54.747247Z"
    },
    "papermill": {
     "duration": 0.291954,
     "end_time": "2022-04-26T06:59:54.750875",
     "exception": false,
     "start_time": "2022-04-26T06:59:54.458921",
     "status": "completed"
    },
    "tags": []
   },
   "outputs": [],
   "source": [
    "predicted_ratings = rec_model.transform(testdf)"
   ]
  },
  {
   "cell_type": "code",
   "execution_count": 21,
   "id": "2396b1ff",
   "metadata": {
    "execution": {
     "iopub.execute_input": "2022-04-26T06:59:55.137525Z",
     "iopub.status.busy": "2022-04-26T06:59:55.136941Z",
     "iopub.status.idle": "2022-04-26T06:59:55.143212Z",
     "shell.execute_reply": "2022-04-26T06:59:55.142217Z"
    },
    "papermill": {
     "duration": 0.169273,
     "end_time": "2022-04-26T06:59:55.145341",
     "exception": false,
     "start_time": "2022-04-26T06:59:54.976068",
     "status": "completed"
    },
    "tags": []
   },
   "outputs": [
    {
     "name": "stdout",
     "output_type": "stream",
     "text": [
      "root\n",
      " |-- userId: integer (nullable = true)\n",
      " |-- title: string (nullable = true)\n",
      " |-- rating: integer (nullable = true)\n",
      " |-- title_new: double (nullable = false)\n",
      " |-- prediction: float (nullable = false)\n",
      "\n"
     ]
    }
   ],
   "source": [
    "predicted_ratings.printSchema()"
   ]
  },
  {
   "cell_type": "code",
   "execution_count": 22,
   "id": "415202ca",
   "metadata": {
    "execution": {
     "iopub.execute_input": "2022-04-26T06:59:55.480366Z",
     "iopub.status.busy": "2022-04-26T06:59:55.480084Z",
     "iopub.status.idle": "2022-04-26T06:59:57.835912Z",
     "shell.execute_reply": "2022-04-26T06:59:57.835053Z"
    },
    "papermill": {
     "duration": 2.532643,
     "end_time": "2022-04-26T06:59:57.843473",
     "exception": false,
     "start_time": "2022-04-26T06:59:55.310830",
     "status": "completed"
    },
    "tags": []
   },
   "outputs": [
    {
     "name": "stderr",
     "output_type": "stream",
     "text": [
      "[Stage 86:>                                                         (0 + 1) / 1]\r"
     ]
    },
    {
     "name": "stdout",
     "output_type": "stream",
     "text": [
      "+------+---------------------------------------------+------+---------+----------+\n",
      "|userId|title                                        |rating|title_new|prediction|\n",
      "+------+---------------------------------------------+------+---------+----------+\n",
      "|148   |Amadeus (1984)                               |1     |50.0     |3.4869342 |\n",
      "|148   |Beauty and the Beast (1991)                  |4     |114.0    |3.858587  |\n",
      "|148   |Brazil (1985)                                |4     |109.0    |4.90611   |\n",
      "|148   |Free Willy (1993)                            |1     |761.0    |3.1405175 |\n",
      "|148   |Gone with the Wind (1939)                    |5     |162.0    |4.202469  |\n",
      "|148   |Good, The Bad and The Ugly, The (1966)       |2     |223.0    |3.837092  |\n",
      "|148   |Homeward Bound: The Incredible Journey (1993)|1     |533.0    |4.167219  |\n",
      "|148   |James and the Giant Peach (1996)             |5     |260.0    |4.9838953 |\n",
      "|148   |My Left Foot (1989)                          |5     |278.0    |3.073872  |\n",
      "|148   |Othello (1995)                               |3     |453.0    |3.3898633 |\n",
      "+------+---------------------------------------------+------+---------+----------+\n",
      "only showing top 10 rows\n",
      "\n"
     ]
    },
    {
     "name": "stderr",
     "output_type": "stream",
     "text": [
      "                                                                                \r"
     ]
    }
   ],
   "source": [
    "predicted_ratings.show(10, False)"
   ]
  },
  {
   "cell_type": "code",
   "execution_count": 23,
   "id": "fb406435",
   "metadata": {
    "execution": {
     "iopub.execute_input": "2022-04-26T06:59:58.174653Z",
     "iopub.status.busy": "2022-04-26T06:59:58.174391Z",
     "iopub.status.idle": "2022-04-26T06:59:58.188777Z",
     "shell.execute_reply": "2022-04-26T06:59:58.187773Z"
    },
    "papermill": {
     "duration": 0.185487,
     "end_time": "2022-04-26T06:59:58.191346",
     "exception": false,
     "start_time": "2022-04-26T06:59:58.005859",
     "status": "completed"
    },
    "tags": []
   },
   "outputs": [],
   "source": [
    "evaluator = RegressionEvaluator(metricName='rmse', predictionCol='prediction',labelCol='rating')"
   ]
  },
  {
   "cell_type": "code",
   "execution_count": 24,
   "id": "991db31a",
   "metadata": {
    "execution": {
     "iopub.execute_input": "2022-04-26T06:59:58.516226Z",
     "iopub.status.busy": "2022-04-26T06:59:58.515617Z",
     "iopub.status.idle": "2022-04-26T07:00:00.846604Z",
     "shell.execute_reply": "2022-04-26T07:00:00.845683Z"
    },
    "papermill": {
     "duration": 2.496817,
     "end_time": "2022-04-26T07:00:00.849043",
     "exception": false,
     "start_time": "2022-04-26T06:59:58.352226",
     "status": "completed"
    },
    "tags": []
   },
   "outputs": [
    {
     "name": "stderr",
     "output_type": "stream",
     "text": [
      "                                                                                \r"
     ]
    }
   ],
   "source": [
    "rmse=evaluator.evaluate(predicted_ratings)"
   ]
  },
  {
   "cell_type": "code",
   "execution_count": 25,
   "id": "74dc45db",
   "metadata": {
    "execution": {
     "iopub.execute_input": "2022-04-26T07:00:01.175781Z",
     "iopub.status.busy": "2022-04-26T07:00:01.175508Z",
     "iopub.status.idle": "2022-04-26T07:00:01.179304Z",
     "shell.execute_reply": "2022-04-26T07:00:01.178678Z"
    },
    "papermill": {
     "duration": 0.168406,
     "end_time": "2022-04-26T07:00:01.182371",
     "exception": false,
     "start_time": "2022-04-26T07:00:01.013965",
     "status": "completed"
    },
    "tags": []
   },
   "outputs": [
    {
     "name": "stdout",
     "output_type": "stream",
     "text": [
      "1.0311080508924793\n"
     ]
    }
   ],
   "source": [
    "print(rmse)"
   ]
  },
  {
   "cell_type": "code",
   "execution_count": 26,
   "id": "3ed83464",
   "metadata": {
    "execution": {
     "iopub.execute_input": "2022-04-26T07:00:01.504662Z",
     "iopub.status.busy": "2022-04-26T07:00:01.503621Z",
     "iopub.status.idle": "2022-04-26T07:00:01.524801Z",
     "shell.execute_reply": "2022-04-26T07:00:01.523835Z"
    },
    "papermill": {
     "duration": 0.184755,
     "end_time": "2022-04-26T07:00:01.527836",
     "exception": false,
     "start_time": "2022-04-26T07:00:01.343081",
     "status": "completed"
    },
    "tags": []
   },
   "outputs": [],
   "source": [
    "unique_movies = indexed.select('title_new').distinct()"
   ]
  },
  {
   "cell_type": "code",
   "execution_count": 27,
   "id": "b754c7b7",
   "metadata": {
    "execution": {
     "iopub.execute_input": "2022-04-26T07:00:01.851256Z",
     "iopub.status.busy": "2022-04-26T07:00:01.850711Z",
     "iopub.status.idle": "2022-04-26T07:00:02.489486Z",
     "shell.execute_reply": "2022-04-26T07:00:02.488573Z"
    },
    "papermill": {
     "duration": 0.801108,
     "end_time": "2022-04-26T07:00:02.491561",
     "exception": false,
     "start_time": "2022-04-26T07:00:01.690453",
     "status": "completed"
    },
    "tags": []
   },
   "outputs": [
    {
     "data": {
      "text/plain": [
       "1664"
      ]
     },
     "execution_count": 27,
     "metadata": {},
     "output_type": "execute_result"
    }
   ],
   "source": [
    "unique_movies.count()"
   ]
  },
  {
   "cell_type": "code",
   "execution_count": 28,
   "id": "6eaa27b3",
   "metadata": {
    "execution": {
     "iopub.execute_input": "2022-04-26T07:00:02.817599Z",
     "iopub.status.busy": "2022-04-26T07:00:02.817043Z",
     "iopub.status.idle": "2022-04-26T07:00:02.826871Z",
     "shell.execute_reply": "2022-04-26T07:00:02.826146Z"
    },
    "papermill": {
     "duration": 0.174253,
     "end_time": "2022-04-26T07:00:02.829130",
     "exception": false,
     "start_time": "2022-04-26T07:00:02.654877",
     "status": "completed"
    },
    "tags": []
   },
   "outputs": [],
   "source": [
    "a= unique_movies.alias('a')"
   ]
  },
  {
   "cell_type": "code",
   "execution_count": 29,
   "id": "1eedadea",
   "metadata": {
    "execution": {
     "iopub.execute_input": "2022-04-26T07:00:03.155594Z",
     "iopub.status.busy": "2022-04-26T07:00:03.154992Z",
     "iopub.status.idle": "2022-04-26T07:00:03.159502Z",
     "shell.execute_reply": "2022-04-26T07:00:03.158685Z"
    },
    "papermill": {
     "duration": 0.171481,
     "end_time": "2022-04-26T07:00:03.161900",
     "exception": false,
     "start_time": "2022-04-26T07:00:02.990419",
     "status": "completed"
    },
    "tags": []
   },
   "outputs": [],
   "source": [
    "user_id=85"
   ]
  },
  {
   "cell_type": "code",
   "execution_count": 30,
   "id": "15289c16",
   "metadata": {
    "execution": {
     "iopub.execute_input": "2022-04-26T07:00:03.483323Z",
     "iopub.status.busy": "2022-04-26T07:00:03.482728Z",
     "iopub.status.idle": "2022-04-26T07:00:04.167520Z",
     "shell.execute_reply": "2022-04-26T07:00:04.166490Z"
    },
    "papermill": {
     "duration": 0.85122,
     "end_time": "2022-04-26T07:00:04.171590",
     "exception": false,
     "start_time": "2022-04-26T07:00:03.320370",
     "status": "completed"
    },
    "tags": []
   },
   "outputs": [
    {
     "data": {
      "text/plain": [
       "287"
      ]
     },
     "execution_count": 30,
     "metadata": {},
     "output_type": "execute_result"
    }
   ],
   "source": [
    "#filtering movies watched bu userid=85\n",
    "watched_movies = indexed.filter(indexed['userId']==user_id).select('title_new').distinct()\n",
    "watched_movies.count()"
   ]
  },
  {
   "cell_type": "code",
   "execution_count": 31,
   "id": "454cb2c3",
   "metadata": {
    "execution": {
     "iopub.execute_input": "2022-04-26T07:00:04.517383Z",
     "iopub.status.busy": "2022-04-26T07:00:04.517094Z",
     "iopub.status.idle": "2022-04-26T07:00:04.523065Z",
     "shell.execute_reply": "2022-04-26T07:00:04.522312Z"
    },
    "papermill": {
     "duration": 0.172163,
     "end_time": "2022-04-26T07:00:04.525315",
     "exception": false,
     "start_time": "2022-04-26T07:00:04.353152",
     "status": "completed"
    },
    "tags": []
   },
   "outputs": [],
   "source": [
    "b = watched_movies.alias('b')"
   ]
  },
  {
   "cell_type": "code",
   "execution_count": 32,
   "id": "565f3596",
   "metadata": {
    "execution": {
     "iopub.execute_input": "2022-04-26T07:00:04.852727Z",
     "iopub.status.busy": "2022-04-26T07:00:04.852409Z",
     "iopub.status.idle": "2022-04-26T07:00:05.827500Z",
     "shell.execute_reply": "2022-04-26T07:00:05.825570Z"
    },
    "papermill": {
     "duration": 1.144844,
     "end_time": "2022-04-26T07:00:05.832109",
     "exception": false,
     "start_time": "2022-04-26T07:00:04.687265",
     "status": "completed"
    },
    "tags": []
   },
   "outputs": [
    {
     "name": "stdout",
     "output_type": "stream",
     "text": [
      "+---------+---------+\n",
      "|title_new|title_new|\n",
      "+---------+---------+\n",
      "|305.0    |305.0    |\n",
      "|596.0    |null     |\n",
      "|299.0    |null     |\n",
      "|769.0    |null     |\n",
      "|692.0    |null     |\n",
      "|934.0    |null     |\n",
      "|1051.0   |null     |\n",
      "|496.0    |null     |\n",
      "|558.0    |558.0    |\n",
      "|170.0    |null     |\n",
      "+---------+---------+\n",
      "only showing top 10 rows\n",
      "\n"
     ]
    }
   ],
   "source": [
    "total_movies = a.join(b, a.title_new==b.title_new, how='left')\n",
    "total_movies.show(10, False)"
   ]
  },
  {
   "cell_type": "code",
   "execution_count": 33,
   "id": "af00c2bc",
   "metadata": {
    "execution": {
     "iopub.execute_input": "2022-04-26T07:00:06.182293Z",
     "iopub.status.busy": "2022-04-26T07:00:06.182021Z",
     "iopub.status.idle": "2022-04-26T07:00:06.975378Z",
     "shell.execute_reply": "2022-04-26T07:00:06.974551Z"
    },
    "papermill": {
     "duration": 0.957937,
     "end_time": "2022-04-26T07:00:06.978025",
     "exception": false,
     "start_time": "2022-04-26T07:00:06.020088",
     "status": "completed"
    },
    "tags": []
   },
   "outputs": [
    {
     "data": {
      "text/plain": [
       "1377"
      ]
     },
     "execution_count": 33,
     "metadata": {},
     "output_type": "execute_result"
    }
   ],
   "source": [
    "remaining_movies = total_movies.where(col(\"b.title_new\").isNull()).select(a.title_new).distinct()\n",
    "remaining_movies.count()"
   ]
  },
  {
   "cell_type": "code",
   "execution_count": 34,
   "id": "e4bb4e69",
   "metadata": {
    "execution": {
     "iopub.execute_input": "2022-04-26T07:00:07.397133Z",
     "iopub.status.busy": "2022-04-26T07:00:07.395771Z",
     "iopub.status.idle": "2022-04-26T07:00:08.312789Z",
     "shell.execute_reply": "2022-04-26T07:00:08.311431Z"
    },
    "papermill": {
     "duration": 1.084475,
     "end_time": "2022-04-26T07:00:08.316800",
     "exception": false,
     "start_time": "2022-04-26T07:00:07.232325",
     "status": "completed"
    },
    "tags": []
   },
   "outputs": [
    {
     "name": "stdout",
     "output_type": "stream",
     "text": [
      "+---------+------+\n",
      "|title_new|userId|\n",
      "+---------+------+\n",
      "|596.0    |85    |\n",
      "|299.0    |85    |\n",
      "|769.0    |85    |\n",
      "|692.0    |85    |\n",
      "|934.0    |85    |\n",
      "|1051.0   |85    |\n",
      "|496.0    |85    |\n",
      "|170.0    |85    |\n",
      "|184.0    |85    |\n",
      "|576.0    |85    |\n",
      "+---------+------+\n",
      "only showing top 10 rows\n",
      "\n"
     ]
    }
   ],
   "source": [
    "remaining_movies = remaining_movies.withColumn(\"userId\", lit(int(user_id)))\n",
    "remaining_movies.show(10, False)"
   ]
  },
  {
   "cell_type": "code",
   "execution_count": 35,
   "id": "352637af",
   "metadata": {
    "execution": {
     "iopub.execute_input": "2022-04-26T07:00:08.650411Z",
     "iopub.status.busy": "2022-04-26T07:00:08.650107Z",
     "iopub.status.idle": "2022-04-26T07:00:09.265261Z",
     "shell.execute_reply": "2022-04-26T07:00:09.264296Z"
    },
    "papermill": {
     "duration": 0.784095,
     "end_time": "2022-04-26T07:00:09.267972",
     "exception": false,
     "start_time": "2022-04-26T07:00:08.483877",
     "status": "completed"
    },
    "tags": []
   },
   "outputs": [
    {
     "name": "stdout",
     "output_type": "stream",
     "text": [
      "+---------+------+\n",
      "|title_new|userId|\n",
      "+---------+------+\n",
      "|596.0    |85    |\n",
      "|299.0    |85    |\n",
      "|769.0    |85    |\n",
      "|692.0    |85    |\n",
      "|934.0    |85    |\n",
      "|1051.0   |85    |\n",
      "|496.0    |85    |\n",
      "|170.0    |85    |\n",
      "|184.0    |85    |\n",
      "|576.0    |85    |\n",
      "+---------+------+\n",
      "only showing top 10 rows\n",
      "\n"
     ]
    }
   ],
   "source": [
    "remaining_movies.show(10, False)"
   ]
  },
  {
   "cell_type": "code",
   "execution_count": 36,
   "id": "3bf89c45",
   "metadata": {
    "execution": {
     "iopub.execute_input": "2022-04-26T07:00:09.593306Z",
     "iopub.status.busy": "2022-04-26T07:00:09.593010Z",
     "iopub.status.idle": "2022-04-26T07:00:10.794558Z",
     "shell.execute_reply": "2022-04-26T07:00:10.793531Z"
    },
    "papermill": {
     "duration": 1.366135,
     "end_time": "2022-04-26T07:00:10.797516",
     "exception": false,
     "start_time": "2022-04-26T07:00:09.431381",
     "status": "completed"
    },
    "tags": []
   },
   "outputs": [
    {
     "name": "stdout",
     "output_type": "stream",
     "text": [
      "+---------+------+----------+\n",
      "|title_new|userId|prediction|\n",
      "+---------+------+----------+\n",
      "|1347.0   |85    |5.4393845 |\n",
      "|1114.0   |85    |5.302881  |\n",
      "|1411.0   |85    |4.817681  |\n",
      "|401.0    |85    |4.7020826 |\n",
      "|658.0    |85    |4.6431327 |\n",
      "+---------+------+----------+\n",
      "only showing top 5 rows\n",
      "\n"
     ]
    }
   ],
   "source": [
    "recommendations = rec_model.transform(remaining_movies).orderBy('prediction', ascending=False)\n",
    "recommendations.show(5,False)"
   ]
  },
  {
   "cell_type": "code",
   "execution_count": 37,
   "id": "6bd3befa",
   "metadata": {
    "execution": {
     "iopub.execute_input": "2022-04-26T07:00:11.157890Z",
     "iopub.status.busy": "2022-04-26T07:00:11.157592Z",
     "iopub.status.idle": "2022-04-26T07:00:12.650771Z",
     "shell.execute_reply": "2022-04-26T07:00:12.649812Z"
    },
    "papermill": {
     "duration": 1.68809,
     "end_time": "2022-04-26T07:00:12.652919",
     "exception": false,
     "start_time": "2022-04-26T07:00:10.964829",
     "status": "completed"
    },
    "tags": []
   },
   "outputs": [
    {
     "name": "stdout",
     "output_type": "stream",
     "text": [
      "+---------+------+----------+-----------------------------------------------------------------+\n",
      "|title_new|userId|prediction|title                                                            |\n",
      "+---------+------+----------+-----------------------------------------------------------------+\n",
      "|1347.0   |85    |5.4393845 |Angel Baby (1995)                                                |\n",
      "|1114.0   |85    |5.302881  |Bitter Moon (1992)                                               |\n",
      "|1411.0   |85    |4.817681  |Boys, Les (1997)                                                 |\n",
      "|401.0    |85    |4.7020826 |Three Colors: Red (1994)                                         |\n",
      "|658.0    |85    |4.6431327 |Return of Martin Guerre, The (Retour de Martin Guerre, Le) (1982)|\n",
      "|1109.0   |85    |4.640209  |Unzipped (1995)                                                  |\n",
      "|514.0    |85    |4.6125126 |Jean de Florette (1986)                                          |\n",
      "|1342.0   |85    |4.606392  |8 Heads in a Duffel Bag (1997)                                   |\n",
      "|551.0    |85    |4.5703597 |Manon of the Spring (Manon des sources) (1986)                   |\n",
      "|1209.0   |85    |4.5494266 |Beat the Devil (1954)                                            |\n",
      "+---------+------+----------+-----------------------------------------------------------------+\n",
      "only showing top 10 rows\n",
      "\n"
     ]
    }
   ],
   "source": [
    "movie_title = IndexToString(inputCol='title_new', outputCol='title', labels=model.labels)\n",
    "final_recom = movie_title.transform(recommendations)\n",
    "final_recom.show(10, False)"
   ]
  },
  {
   "cell_type": "code",
   "execution_count": null,
   "id": "d0bea532",
   "metadata": {
    "papermill": {
     "duration": 0.16125,
     "end_time": "2022-04-26T07:00:12.974843",
     "exception": false,
     "start_time": "2022-04-26T07:00:12.813593",
     "status": "completed"
    },
    "tags": []
   },
   "outputs": [],
   "source": []
  },
  {
   "cell_type": "code",
   "execution_count": null,
   "id": "9d8225e4",
   "metadata": {
    "papermill": {
     "duration": 0.161264,
     "end_time": "2022-04-26T07:00:13.299510",
     "exception": false,
     "start_time": "2022-04-26T07:00:13.138246",
     "status": "completed"
    },
    "tags": []
   },
   "outputs": [],
   "source": []
  }
 ],
 "metadata": {
  "kernelspec": {
   "display_name": "Python 3",
   "language": "python",
   "name": "python3"
  },
  "language_info": {
   "codemirror_mode": {
    "name": "ipython",
    "version": 3
   },
   "file_extension": ".py",
   "mimetype": "text/x-python",
   "name": "python",
   "nbconvert_exporter": "python",
   "pygments_lexer": "ipython3",
   "version": "3.7.12"
  },
  "papermill": {
   "default_parameters": {},
   "duration": 142.837929,
   "end_time": "2022-04-26T07:00:16.082166",
   "environment_variables": {},
   "exception": null,
   "input_path": "__notebook__.ipynb",
   "output_path": "__notebook__.ipynb",
   "parameters": {},
   "start_time": "2022-04-26T06:57:53.244237",
   "version": "2.3.4"
  }
 },
 "nbformat": 4,
 "nbformat_minor": 5
}
