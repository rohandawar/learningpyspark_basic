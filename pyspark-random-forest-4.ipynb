{
 "cells": [
  {
   "cell_type": "code",
   "execution_count": 1,
   "id": "ef118b88",
   "metadata": {
    "_cell_guid": "b1076dfc-b9ad-4769-8c92-a6c4dae69d19",
    "_uuid": "8f2839f25d086af736a60e9eeb907d3b93b6e0e5",
    "execution": {
     "iopub.execute_input": "2022-04-19T11:36:21.589483Z",
     "iopub.status.busy": "2022-04-19T11:36:21.588940Z",
     "iopub.status.idle": "2022-04-19T11:36:21.606577Z",
     "shell.execute_reply": "2022-04-19T11:36:21.605482Z"
    },
    "papermill": {
     "duration": 0.066718,
     "end_time": "2022-04-19T11:36:21.609122",
     "exception": false,
     "start_time": "2022-04-19T11:36:21.542404",
     "status": "completed"
    },
    "tags": []
   },
   "outputs": [
    {
     "name": "stdout",
     "output_type": "stream",
     "text": [
      "/kaggle/input/affairsdata/affairs.csv\n"
     ]
    }
   ],
   "source": [
    "# This Python 3 environment comes with many helpful analytics libraries installed\n",
    "# It is defined by the kaggle/python Docker image: https://github.com/kaggle/docker-python\n",
    "# For example, here's several helpful packages to load\n",
    "\n",
    "import numpy as np # linear algebra\n",
    "import pandas as pd # data processing, CSV file I/O (e.g. pd.read_csv)\n",
    "\n",
    "# Input data files are available in the read-only \"../input/\" directory\n",
    "# For example, running this (by clicking run or pressing Shift+Enter) will list all files under the input directory\n",
    "\n",
    "import os\n",
    "for dirname, _, filenames in os.walk('/kaggle/input'):\n",
    "    for filename in filenames:\n",
    "        print(os.path.join(dirname, filename))\n",
    "\n",
    "# You can write up to 20GB to the current directory (/kaggle/working/) that gets preserved as output when you create a version using \"Save & Run All\" \n",
    "# You can also write temporary files to /kaggle/temp/, but they won't be saved outside of the current session"
   ]
  },
  {
   "cell_type": "code",
   "execution_count": 2,
   "id": "0eae6d2b",
   "metadata": {
    "execution": {
     "iopub.execute_input": "2022-04-19T11:36:21.670516Z",
     "iopub.status.busy": "2022-04-19T11:36:21.669946Z",
     "iopub.status.idle": "2022-04-19T11:37:18.639390Z",
     "shell.execute_reply": "2022-04-19T11:37:18.638450Z"
    },
    "papermill": {
     "duration": 57.002478,
     "end_time": "2022-04-19T11:37:18.641596",
     "exception": false,
     "start_time": "2022-04-19T11:36:21.639118",
     "status": "completed"
    },
    "tags": []
   },
   "outputs": [
    {
     "name": "stdout",
     "output_type": "stream",
     "text": [
      "Collecting findspark\r\n",
      "  Downloading findspark-2.0.1-py2.py3-none-any.whl (4.4 kB)\r\n",
      "Installing collected packages: findspark\r\n",
      "Successfully installed findspark-2.0.1\r\n",
      "\u001b[33mWARNING: Running pip as the 'root' user can result in broken permissions and conflicting behaviour with the system package manager. It is recommended to use a virtual environment instead: https://pip.pypa.io/warnings/venv\u001b[0m\u001b[33m\r\n",
      "\u001b[0mCollecting pyspark\r\n",
      "  Downloading pyspark-3.2.1.tar.gz (281.4 MB)\r\n",
      "\u001b[2K     \u001b[90m━━━━━━━━━━━━━━━━━━━━━━━━━━━━━━━━━━━━━━━\u001b[0m \u001b[32m281.4/281.4 MB\u001b[0m \u001b[31m3.9 MB/s\u001b[0m eta \u001b[36m0:00:00\u001b[0m\r\n",
      "\u001b[?25h  Preparing metadata (setup.py) ... \u001b[?25l-\b \bdone\r\n",
      "\u001b[?25hCollecting py4j==0.10.9.3\r\n",
      "  Downloading py4j-0.10.9.3-py2.py3-none-any.whl (198 kB)\r\n",
      "\u001b[2K     \u001b[90m━━━━━━━━━━━━━━━━━━━━━━━━━━━━━━━━━━━━━━\u001b[0m \u001b[32m199.0/199.0 KB\u001b[0m \u001b[31m15.3 MB/s\u001b[0m eta \u001b[36m0:00:00\u001b[0m\r\n",
      "\u001b[?25hBuilding wheels for collected packages: pyspark\r\n",
      "  Building wheel for pyspark (setup.py) ... \u001b[?25l-\b \b\\\b \b|\b \b/\b \b-\b \b\\\b \b|\b \b/\b \b-\b \b\\\b \b|\b \b/\b \b-\b \b\\\b \b|\b \b/\b \b-\b \b\\\b \b|\b \b/\b \b-\b \b\\\b \b|\b \b/\b \b-\b \b\\\b \b|\b \b/\b \b-\b \b\\\b \b|\b \b/\b \b-\b \b\\\b \b|\b \b/\b \b-\b \b\\\b \b|\b \b/\b \b-\b \b\\\b \b|\b \b/\b \b-\b \b\\\b \b|\b \b/\b \b-\b \b\\\b \b|\b \b/\b \b-\b \b\\\b \b|\b \b/\b \bdone\r\n",
      "\u001b[?25h  Created wheel for pyspark: filename=pyspark-3.2.1-py2.py3-none-any.whl size=281853642 sha256=4547baf2ce907a1753e986056e5de78acd0c0c9ab028466fe44a8a8e55806411\r\n",
      "  Stored in directory: /root/.cache/pip/wheels/9f/f5/07/7cd8017084dce4e93e84e92efd1e1d5334db05f2e83bcef74f\r\n",
      "Successfully built pyspark\r\n",
      "Installing collected packages: py4j, pyspark\r\n",
      "  Attempting uninstall: py4j\r\n",
      "    Found existing installation: py4j 0.10.9.5\r\n",
      "    Uninstalling py4j-0.10.9.5:\r\n",
      "      Successfully uninstalled py4j-0.10.9.5\r\n",
      "Successfully installed py4j-0.10.9.3 pyspark-3.2.1\r\n",
      "\u001b[33mWARNING: Running pip as the 'root' user can result in broken permissions and conflicting behaviour with the system package manager. It is recommended to use a virtual environment instead: https://pip.pypa.io/warnings/venv\u001b[0m\u001b[33m\r\n",
      "\u001b[0m"
     ]
    }
   ],
   "source": [
    "!pip install findspark\n",
    "!pip install pyspark"
   ]
  },
  {
   "cell_type": "code",
   "execution_count": 3,
   "id": "a1b511bf",
   "metadata": {
    "execution": {
     "iopub.execute_input": "2022-04-19T11:37:18.841593Z",
     "iopub.status.busy": "2022-04-19T11:37:18.841277Z",
     "iopub.status.idle": "2022-04-19T11:37:24.884516Z",
     "shell.execute_reply": "2022-04-19T11:37:24.883395Z"
    },
    "papermill": {
     "duration": 6.147485,
     "end_time": "2022-04-19T11:37:24.887887",
     "exception": false,
     "start_time": "2022-04-19T11:37:18.740402",
     "status": "completed"
    },
    "tags": []
   },
   "outputs": [
    {
     "name": "stderr",
     "output_type": "stream",
     "text": [
      "WARNING: An illegal reflective access operation has occurred\n",
      "WARNING: Illegal reflective access by org.apache.spark.unsafe.Platform (file:/opt/conda/lib/python3.7/site-packages/pyspark/jars/spark-unsafe_2.12-3.2.1.jar) to constructor java.nio.DirectByteBuffer(long,int)\n",
      "WARNING: Please consider reporting this to the maintainers of org.apache.spark.unsafe.Platform\n",
      "WARNING: Use --illegal-access=warn to enable warnings of further illegal reflective access operations\n",
      "WARNING: All illegal access operations will be denied in a future release\n",
      "Using Spark's default log4j profile: org/apache/spark/log4j-defaults.properties\n",
      "Setting default log level to \"WARN\".\n",
      "To adjust logging level use sc.setLogLevel(newLevel). For SparkR, use setLogLevel(newLevel).\n",
      "22/04/19 11:37:21 WARN NativeCodeLoader: Unable to load native-hadoop library for your platform... using builtin-java classes where applicable\n"
     ]
    }
   ],
   "source": [
    "#import spark session\n",
    "from pyspark.sql import SparkSession\n",
    "spark = SparkSession.builder.appName('random_forest').getOrCreate()"
   ]
  },
  {
   "cell_type": "code",
   "execution_count": 4,
   "id": "fd524130",
   "metadata": {
    "execution": {
     "iopub.execute_input": "2022-04-19T11:37:25.106739Z",
     "iopub.status.busy": "2022-04-19T11:37:25.106454Z",
     "iopub.status.idle": "2022-04-19T11:37:25.253994Z",
     "shell.execute_reply": "2022-04-19T11:37:25.253069Z"
    },
    "papermill": {
     "duration": 0.252783,
     "end_time": "2022-04-19T11:37:25.256179",
     "exception": false,
     "start_time": "2022-04-19T11:37:25.003396",
     "status": "completed"
    },
    "tags": []
   },
   "outputs": [],
   "source": [
    "#import libs\n",
    "from pyspark.ml.feature import VectorAssembler\n",
    "from pyspark.ml.classification import RandomForestClassifier\n",
    "from pyspark.ml.evaluation import BinaryClassificationEvaluator\n",
    "from pyspark.ml.evaluation import MulticlassClassificationEvaluator\n",
    "from pyspark.ml.classification import RandomForestClassificationModel"
   ]
  },
  {
   "cell_type": "code",
   "execution_count": 5,
   "id": "ae641550",
   "metadata": {
    "execution": {
     "iopub.execute_input": "2022-04-19T11:37:25.460571Z",
     "iopub.status.busy": "2022-04-19T11:37:25.460074Z",
     "iopub.status.idle": "2022-04-19T11:37:30.978989Z",
     "shell.execute_reply": "2022-04-19T11:37:30.977526Z"
    },
    "papermill": {
     "duration": 5.62502,
     "end_time": "2022-04-19T11:37:30.981943",
     "exception": false,
     "start_time": "2022-04-19T11:37:25.356923",
     "status": "completed"
    },
    "tags": []
   },
   "outputs": [
    {
     "name": "stdout",
     "output_type": "stream",
     "text": [
      "+-------------+----+-----------+--------+---------+----+----------+---------------+------+\n",
      "|rate_marriage| age|yrs_married|children|religious|educ|occupation|occupation_husb|affair|\n",
      "+-------------+----+-----------+--------+---------+----+----------+---------------+------+\n",
      "|            3|32.0|        9.0|     3.0|        3|  17|         2|              5|     1|\n",
      "|            3|27.0|       13.0|     3.0|        1|  14|         3|              4|     1|\n",
      "|            4|22.0|        2.5|     0.0|        1|  16|         3|              5|     1|\n",
      "|            4|37.0|       16.5|     4.0|        3|  16|         5|              5|     1|\n",
      "|            5|27.0|        9.0|     1.0|        1|  14|         3|              4|     1|\n",
      "+-------------+----+-----------+--------+---------+----+----------+---------------+------+\n",
      "only showing top 5 rows\n",
      "\n"
     ]
    }
   ],
   "source": [
    "#read the dataset\n",
    "df = spark.read.csv('/kaggle/input/affairsdata/affairs.csv', header=True, inferSchema=True)\n",
    "df.show(5)"
   ]
  },
  {
   "cell_type": "code",
   "execution_count": 6,
   "id": "169947ff",
   "metadata": {
    "execution": {
     "iopub.execute_input": "2022-04-19T11:37:31.187697Z",
     "iopub.status.busy": "2022-04-19T11:37:31.187440Z",
     "iopub.status.idle": "2022-04-19T11:37:31.450202Z",
     "shell.execute_reply": "2022-04-19T11:37:31.448798Z"
    },
    "papermill": {
     "duration": 0.36732,
     "end_time": "2022-04-19T11:37:31.453032",
     "exception": false,
     "start_time": "2022-04-19T11:37:31.085712",
     "status": "completed"
    },
    "tags": []
   },
   "outputs": [
    {
     "name": "stdout",
     "output_type": "stream",
     "text": [
      "+-------------+----+-----------+--------+---------+------+\n",
      "|rate_marriage|age |yrs_married|children|religious|affair|\n",
      "+-------------+----+-----------+--------+---------+------+\n",
      "|3            |32.0|9.0        |3.0     |3        |1     |\n",
      "|3            |27.0|13.0       |3.0     |1        |1     |\n",
      "|4            |22.0|2.5        |0.0     |1        |1     |\n",
      "|4            |37.0|16.5       |4.0     |3        |1     |\n",
      "|5            |27.0|9.0        |1.0     |1        |1     |\n",
      "+-------------+----+-----------+--------+---------+------+\n",
      "only showing top 5 rows\n",
      "\n"
     ]
    }
   ],
   "source": [
    "df = df.drop('educ','occupation','occupation_husb')\n",
    "df.show(5,False)"
   ]
  },
  {
   "cell_type": "code",
   "execution_count": 7,
   "id": "3f65c6fa",
   "metadata": {
    "execution": {
     "iopub.execute_input": "2022-04-19T11:37:31.658139Z",
     "iopub.status.busy": "2022-04-19T11:37:31.657837Z",
     "iopub.status.idle": "2022-04-19T11:37:32.257740Z",
     "shell.execute_reply": "2022-04-19T11:37:32.256181Z"
    },
    "papermill": {
     "duration": 0.704696,
     "end_time": "2022-04-19T11:37:32.260703",
     "exception": false,
     "start_time": "2022-04-19T11:37:31.556007",
     "status": "completed"
    },
    "tags": []
   },
   "outputs": [
    {
     "name": "stdout",
     "output_type": "stream",
     "text": [
      "(6366, 6)\n"
     ]
    }
   ],
   "source": [
    "print(((df.count()), (len(df.columns))))"
   ]
  },
  {
   "cell_type": "code",
   "execution_count": 8,
   "id": "cc0912a1",
   "metadata": {
    "execution": {
     "iopub.execute_input": "2022-04-19T11:37:32.555731Z",
     "iopub.status.busy": "2022-04-19T11:37:32.555385Z",
     "iopub.status.idle": "2022-04-19T11:37:32.563176Z",
     "shell.execute_reply": "2022-04-19T11:37:32.562145Z"
    },
    "papermill": {
     "duration": 0.120165,
     "end_time": "2022-04-19T11:37:32.565222",
     "exception": false,
     "start_time": "2022-04-19T11:37:32.445057",
     "status": "completed"
    },
    "tags": []
   },
   "outputs": [
    {
     "name": "stdout",
     "output_type": "stream",
     "text": [
      "root\n",
      " |-- rate_marriage: integer (nullable = true)\n",
      " |-- age: double (nullable = true)\n",
      " |-- yrs_married: double (nullable = true)\n",
      " |-- children: double (nullable = true)\n",
      " |-- religious: integer (nullable = true)\n",
      " |-- affair: integer (nullable = true)\n",
      "\n"
     ]
    }
   ],
   "source": [
    "df.printSchema()"
   ]
  },
  {
   "cell_type": "markdown",
   "id": "3a53b3f3",
   "metadata": {
    "papermill": {
     "duration": 0.101181,
     "end_time": "2022-04-19T11:37:32.769094",
     "exception": false,
     "start_time": "2022-04-19T11:37:32.667913",
     "status": "completed"
    },
    "tags": []
   },
   "source": [
    "### EDA"
   ]
  },
  {
   "cell_type": "code",
   "execution_count": 9,
   "id": "9aa25f4a",
   "metadata": {
    "execution": {
     "iopub.execute_input": "2022-04-19T11:37:32.973452Z",
     "iopub.status.busy": "2022-04-19T11:37:32.973170Z",
     "iopub.status.idle": "2022-04-19T11:37:34.058844Z",
     "shell.execute_reply": "2022-04-19T11:37:34.057977Z"
    },
    "papermill": {
     "duration": 1.191239,
     "end_time": "2022-04-19T11:37:34.061823",
     "exception": false,
     "start_time": "2022-04-19T11:37:32.870584",
     "status": "completed"
    },
    "tags": []
   },
   "outputs": [
    {
     "name": "stdout",
     "output_type": "stream",
     "text": [
      "+-------+------------------+------------------+-----------------+------------------+------------------+\n",
      "|summary|     rate_marriage|               age|      yrs_married|          children|         religious|\n",
      "+-------+------------------+------------------+-----------------+------------------+------------------+\n",
      "|  count|              6366|              6366|             6366|              6366|              6366|\n",
      "|   mean| 4.109644989004084|29.082862079798932| 9.00942507068803|1.3968740182218033|2.4261702796104303|\n",
      "| stddev|0.9614295945655023| 6.847881883668814|7.280119972766427| 1.433470828560344|0.8783688402641788|\n",
      "|    min|                 1|              17.5|              0.5|               0.0|                 1|\n",
      "|    max|                 5|              42.0|             23.0|               5.5|                 4|\n",
      "+-------+------------------+------------------+-----------------+------------------+------------------+\n",
      "\n"
     ]
    }
   ],
   "source": [
    "df.describe().select('summary', 'rate_marriage', 'age', 'yrs_married', 'children', 'religious').show()"
   ]
  },
  {
   "cell_type": "code",
   "execution_count": 10,
   "id": "1fb4fc3e",
   "metadata": {
    "execution": {
     "iopub.execute_input": "2022-04-19T11:37:34.272312Z",
     "iopub.status.busy": "2022-04-19T11:37:34.272052Z",
     "iopub.status.idle": "2022-04-19T11:37:34.913934Z",
     "shell.execute_reply": "2022-04-19T11:37:34.913119Z"
    },
    "papermill": {
     "duration": 0.750065,
     "end_time": "2022-04-19T11:37:34.919029",
     "exception": false,
     "start_time": "2022-04-19T11:37:34.168964",
     "status": "completed"
    },
    "tags": []
   },
   "outputs": [
    {
     "name": "stdout",
     "output_type": "stream",
     "text": [
      "+------+-----+\n",
      "|affair|count|\n",
      "+------+-----+\n",
      "|     1| 2053|\n",
      "|     0| 4313|\n",
      "+------+-----+\n",
      "\n"
     ]
    }
   ],
   "source": [
    "df.groupBy('affair').count().show()"
   ]
  },
  {
   "cell_type": "code",
   "execution_count": 11,
   "id": "0698b737",
   "metadata": {
    "execution": {
     "iopub.execute_input": "2022-04-19T11:37:35.193640Z",
     "iopub.status.busy": "2022-04-19T11:37:35.193375Z",
     "iopub.status.idle": "2022-04-19T11:37:35.449368Z",
     "shell.execute_reply": "2022-04-19T11:37:35.448526Z"
    },
    "papermill": {
     "duration": 0.363032,
     "end_time": "2022-04-19T11:37:35.452907",
     "exception": false,
     "start_time": "2022-04-19T11:37:35.089875",
     "status": "completed"
    },
    "tags": []
   },
   "outputs": [
    {
     "name": "stdout",
     "output_type": "stream",
     "text": [
      "+-------------+-----+\n",
      "|rate_marriage|count|\n",
      "+-------------+-----+\n",
      "|            1|   99|\n",
      "|            3|  993|\n",
      "|            5| 2684|\n",
      "|            4| 2242|\n",
      "|            2|  348|\n",
      "+-------------+-----+\n",
      "\n"
     ]
    }
   ],
   "source": [
    "df.groupBy('rate_marriage').count().show()"
   ]
  },
  {
   "cell_type": "code",
   "execution_count": 12,
   "id": "8e5c30ff",
   "metadata": {
    "execution": {
     "iopub.execute_input": "2022-04-19T11:37:35.660721Z",
     "iopub.status.busy": "2022-04-19T11:37:35.660431Z",
     "iopub.status.idle": "2022-04-19T11:37:36.189427Z",
     "shell.execute_reply": "2022-04-19T11:37:36.187534Z"
    },
    "papermill": {
     "duration": 0.635886,
     "end_time": "2022-04-19T11:37:36.192488",
     "exception": false,
     "start_time": "2022-04-19T11:37:35.556602",
     "status": "completed"
    },
    "tags": []
   },
   "outputs": [
    {
     "name": "stdout",
     "output_type": "stream",
     "text": [
      "+-------------+------+-----+\n",
      "|rate_marriage|affair|count|\n",
      "+-------------+------+-----+\n",
      "|            1|     0|   25|\n",
      "|            1|     1|   74|\n",
      "|            2|     0|  127|\n",
      "|            2|     1|  221|\n",
      "|            3|     0|  446|\n",
      "|            3|     1|  547|\n",
      "|            4|     0| 1518|\n",
      "|            4|     1|  724|\n",
      "|            5|     0| 2197|\n",
      "|            5|     1|  487|\n",
      "+-------------+------+-----+\n",
      "\n"
     ]
    }
   ],
   "source": [
    "df.groupby('rate_marriage', 'affair').count().orderBy('rate_marriage', 'affair', 'count').show()"
   ]
  },
  {
   "cell_type": "code",
   "execution_count": 13,
   "id": "26c4af94",
   "metadata": {
    "execution": {
     "iopub.execute_input": "2022-04-19T11:37:36.415691Z",
     "iopub.status.busy": "2022-04-19T11:37:36.415430Z",
     "iopub.status.idle": "2022-04-19T11:37:36.667254Z",
     "shell.execute_reply": "2022-04-19T11:37:36.666274Z"
    },
    "papermill": {
     "duration": 0.359631,
     "end_time": "2022-04-19T11:37:36.670892",
     "exception": false,
     "start_time": "2022-04-19T11:37:36.311261",
     "status": "completed"
    },
    "tags": []
   },
   "outputs": [
    {
     "name": "stdout",
     "output_type": "stream",
     "text": [
      "+---------+------+-----+\n",
      "|religious|affair|count|\n",
      "+---------+------+-----+\n",
      "|        1|     0|  613|\n",
      "|        1|     1|  408|\n",
      "|        2|     0| 1448|\n",
      "|        2|     1|  819|\n",
      "|        3|     0| 1715|\n",
      "|        3|     1|  707|\n",
      "|        4|     0|  537|\n",
      "|        4|     1|  119|\n",
      "+---------+------+-----+\n",
      "\n"
     ]
    }
   ],
   "source": [
    "df.groupby('religious', 'affair').count().orderBy('religious', 'affair', 'count').show()"
   ]
  },
  {
   "cell_type": "code",
   "execution_count": 14,
   "id": "8442bfc7",
   "metadata": {
    "execution": {
     "iopub.execute_input": "2022-04-19T11:37:36.952535Z",
     "iopub.status.busy": "2022-04-19T11:37:36.952146Z",
     "iopub.status.idle": "2022-04-19T11:37:37.352654Z",
     "shell.execute_reply": "2022-04-19T11:37:37.351026Z"
    },
    "papermill": {
     "duration": 0.5091,
     "end_time": "2022-04-19T11:37:37.356109",
     "exception": false,
     "start_time": "2022-04-19T11:37:36.847009",
     "status": "completed"
    },
    "tags": []
   },
   "outputs": [
    {
     "name": "stdout",
     "output_type": "stream",
     "text": [
      "+--------+------+-----+\n",
      "|children|affair|count|\n",
      "+--------+------+-----+\n",
      "|     0.0|     0| 1912|\n",
      "|     0.0|     1|  502|\n",
      "|     1.0|     0|  747|\n",
      "|     1.0|     1|  412|\n",
      "|     2.0|     0|  873|\n",
      "|     2.0|     1|  608|\n",
      "|     3.0|     0|  460|\n",
      "|     3.0|     1|  321|\n",
      "|     4.0|     0|  197|\n",
      "|     4.0|     1|  131|\n",
      "|     5.5|     0|  124|\n",
      "|     5.5|     1|   79|\n",
      "+--------+------+-----+\n",
      "\n"
     ]
    }
   ],
   "source": [
    "df.groupby('children', 'affair').count().orderBy('children', 'affair', 'count').show()"
   ]
  },
  {
   "cell_type": "code",
   "execution_count": 15,
   "id": "a581636a",
   "metadata": {
    "execution": {
     "iopub.execute_input": "2022-04-19T11:37:37.570604Z",
     "iopub.status.busy": "2022-04-19T11:37:37.569630Z",
     "iopub.status.idle": "2022-04-19T11:37:38.006597Z",
     "shell.execute_reply": "2022-04-19T11:37:38.005329Z"
    },
    "papermill": {
     "duration": 0.548789,
     "end_time": "2022-04-19T11:37:38.009828",
     "exception": false,
     "start_time": "2022-04-19T11:37:37.461039",
     "status": "completed"
    },
    "tags": []
   },
   "outputs": [
    {
     "name": "stdout",
     "output_type": "stream",
     "text": [
      "+------+------------------+------------------+------------------+------------------+------------------+-----------+\n",
      "|affair|avg(rate_marriage)|          avg(age)|  avg(yrs_married)|     avg(children)|    avg(religious)|avg(affair)|\n",
      "+------+------------------+------------------+------------------+------------------+------------------+-----------+\n",
      "|     1|3.6473453482708234|30.537018996590355|11.152459814905017|1.7289332683877252| 2.261568436434486|        1.0|\n",
      "|     0| 4.329700904242986| 28.39067934152562| 7.989334569904939|1.2388128912589844|2.5045212149316023|        0.0|\n",
      "+------+------------------+------------------+------------------+------------------+------------------+-----------+\n",
      "\n"
     ]
    }
   ],
   "source": [
    "df.groupby('affair').mean().show()"
   ]
  },
  {
   "cell_type": "code",
   "execution_count": 16,
   "id": "a7e4d491",
   "metadata": {
    "execution": {
     "iopub.execute_input": "2022-04-19T11:37:38.225606Z",
     "iopub.status.busy": "2022-04-19T11:37:38.224901Z",
     "iopub.status.idle": "2022-04-19T11:37:38.233170Z",
     "shell.execute_reply": "2022-04-19T11:37:38.232348Z"
    },
    "papermill": {
     "duration": 0.118873,
     "end_time": "2022-04-19T11:37:38.236000",
     "exception": false,
     "start_time": "2022-04-19T11:37:38.117127",
     "status": "completed"
    },
    "tags": []
   },
   "outputs": [
    {
     "data": {
      "text/plain": [
       "['rate_marriage', 'age', 'yrs_married', 'children', 'religious', 'affair']"
      ]
     },
     "execution_count": 16,
     "metadata": {},
     "output_type": "execute_result"
    }
   ],
   "source": [
    "df.columns"
   ]
  },
  {
   "cell_type": "code",
   "execution_count": 17,
   "id": "8f26b241",
   "metadata": {
    "execution": {
     "iopub.execute_input": "2022-04-19T11:37:38.447081Z",
     "iopub.status.busy": "2022-04-19T11:37:38.446782Z",
     "iopub.status.idle": "2022-04-19T11:37:38.989435Z",
     "shell.execute_reply": "2022-04-19T11:37:38.988613Z"
    },
    "papermill": {
     "duration": 0.65198,
     "end_time": "2022-04-19T11:37:38.992827",
     "exception": false,
     "start_time": "2022-04-19T11:37:38.340847",
     "status": "completed"
    },
    "tags": []
   },
   "outputs": [
    {
     "name": "stdout",
     "output_type": "stream",
     "text": [
      "+-------------+----+-----------+--------+---------+------+-----------------------+\n",
      "|rate_marriage|age |yrs_married|children|religious|affair|features               |\n",
      "+-------------+----+-----------+--------+---------+------+-----------------------+\n",
      "|3            |32.0|9.0        |3.0     |3        |1     |[3.0,32.0,9.0,3.0,3.0] |\n",
      "|3            |27.0|13.0       |3.0     |1        |1     |[3.0,27.0,13.0,3.0,1.0]|\n",
      "|4            |22.0|2.5        |0.0     |1        |1     |[4.0,22.0,2.5,0.0,1.0] |\n",
      "|4            |37.0|16.5       |4.0     |3        |1     |[4.0,37.0,16.5,4.0,3.0]|\n",
      "|5            |27.0|9.0        |1.0     |1        |1     |[5.0,27.0,9.0,1.0,1.0] |\n",
      "+-------------+----+-----------+--------+---------+------+-----------------------+\n",
      "only showing top 5 rows\n",
      "\n"
     ]
    }
   ],
   "source": [
    "df_assemble = VectorAssembler(inputCols=['rate_marriage', 'age', 'yrs_married', 'children', 'religious'], \n",
    "                              outputCol='features')\n",
    "df = df_assemble.transform(df)\n",
    "df.show(5,False)"
   ]
  },
  {
   "cell_type": "code",
   "execution_count": 18,
   "id": "6c853e1b",
   "metadata": {
    "execution": {
     "iopub.execute_input": "2022-04-19T11:37:39.256068Z",
     "iopub.status.busy": "2022-04-19T11:37:39.255784Z",
     "iopub.status.idle": "2022-04-19T11:37:39.402405Z",
     "shell.execute_reply": "2022-04-19T11:37:39.401428Z"
    },
    "papermill": {
     "duration": 0.254658,
     "end_time": "2022-04-19T11:37:39.405390",
     "exception": false,
     "start_time": "2022-04-19T11:37:39.150732",
     "status": "completed"
    },
    "tags": []
   },
   "outputs": [
    {
     "name": "stdout",
     "output_type": "stream",
     "text": [
      "+-----------------------+------+\n",
      "|features               |affair|\n",
      "+-----------------------+------+\n",
      "|[3.0,32.0,9.0,3.0,3.0] |1     |\n",
      "|[3.0,27.0,13.0,3.0,1.0]|1     |\n",
      "|[4.0,22.0,2.5,0.0,1.0] |1     |\n",
      "|[4.0,37.0,16.5,4.0,3.0]|1     |\n",
      "|[5.0,27.0,9.0,1.0,1.0] |1     |\n",
      "+-----------------------+------+\n",
      "only showing top 5 rows\n",
      "\n"
     ]
    }
   ],
   "source": [
    "#select data for model building\n",
    "model_df = df.select(['features', 'affair'])\n",
    "model_df.show(5,False)"
   ]
  },
  {
   "cell_type": "code",
   "execution_count": 19,
   "id": "95bb9ae8",
   "metadata": {
    "execution": {
     "iopub.execute_input": "2022-04-19T11:37:39.629664Z",
     "iopub.status.busy": "2022-04-19T11:37:39.629402Z",
     "iopub.status.idle": "2022-04-19T11:37:39.647686Z",
     "shell.execute_reply": "2022-04-19T11:37:39.646924Z"
    },
    "papermill": {
     "duration": 0.127953,
     "end_time": "2022-04-19T11:37:39.649853",
     "exception": false,
     "start_time": "2022-04-19T11:37:39.521900",
     "status": "completed"
    },
    "tags": []
   },
   "outputs": [],
   "source": [
    "#train, test split\n",
    "traindf, testdf = model_df.randomSplit([0.75, 0.25], seed=2)"
   ]
  },
  {
   "cell_type": "code",
   "execution_count": 20,
   "id": "09202036",
   "metadata": {
    "execution": {
     "iopub.execute_input": "2022-04-19T11:37:39.867089Z",
     "iopub.status.busy": "2022-04-19T11:37:39.866526Z",
     "iopub.status.idle": "2022-04-19T11:37:40.439323Z",
     "shell.execute_reply": "2022-04-19T11:37:40.438557Z"
    },
    "papermill": {
     "duration": 0.687064,
     "end_time": "2022-04-19T11:37:40.442245",
     "exception": false,
     "start_time": "2022-04-19T11:37:39.755181",
     "status": "completed"
    },
    "tags": []
   },
   "outputs": [
    {
     "data": {
      "text/plain": [
       "4801"
      ]
     },
     "execution_count": 20,
     "metadata": {},
     "output_type": "execute_result"
    }
   ],
   "source": [
    "traindf.count()"
   ]
  },
  {
   "cell_type": "code",
   "execution_count": 21,
   "id": "4bb252a5",
   "metadata": {
    "execution": {
     "iopub.execute_input": "2022-04-19T11:37:40.711668Z",
     "iopub.status.busy": "2022-04-19T11:37:40.711374Z",
     "iopub.status.idle": "2022-04-19T11:37:41.052635Z",
     "shell.execute_reply": "2022-04-19T11:37:41.051778Z"
    },
    "papermill": {
     "duration": 0.452727,
     "end_time": "2022-04-19T11:37:41.056754",
     "exception": false,
     "start_time": "2022-04-19T11:37:40.604027",
     "status": "completed"
    },
    "tags": []
   },
   "outputs": [
    {
     "name": "stdout",
     "output_type": "stream",
     "text": [
      "+------+-----+\n",
      "|affair|count|\n",
      "+------+-----+\n",
      "|     1| 1554|\n",
      "|     0| 3247|\n",
      "+------+-----+\n",
      "\n"
     ]
    }
   ],
   "source": [
    "traindf.groupby('affair').count().show()"
   ]
  },
  {
   "cell_type": "code",
   "execution_count": 22,
   "id": "350ea675",
   "metadata": {
    "execution": {
     "iopub.execute_input": "2022-04-19T11:37:41.278830Z",
     "iopub.status.busy": "2022-04-19T11:37:41.278582Z",
     "iopub.status.idle": "2022-04-19T11:37:41.566076Z",
     "shell.execute_reply": "2022-04-19T11:37:41.565291Z"
    },
    "papermill": {
     "duration": 0.395918,
     "end_time": "2022-04-19T11:37:41.568114",
     "exception": false,
     "start_time": "2022-04-19T11:37:41.172196",
     "status": "completed"
    },
    "tags": []
   },
   "outputs": [
    {
     "data": {
      "text/plain": [
       "1565"
      ]
     },
     "execution_count": 22,
     "metadata": {},
     "output_type": "execute_result"
    }
   ],
   "source": [
    "testdf.count()"
   ]
  },
  {
   "cell_type": "code",
   "execution_count": 23,
   "id": "54a0d834",
   "metadata": {
    "execution": {
     "iopub.execute_input": "2022-04-19T11:37:41.784640Z",
     "iopub.status.busy": "2022-04-19T11:37:41.784344Z",
     "iopub.status.idle": "2022-04-19T11:37:42.154486Z",
     "shell.execute_reply": "2022-04-19T11:37:42.153653Z"
    },
    "papermill": {
     "duration": 0.482021,
     "end_time": "2022-04-19T11:37:42.158412",
     "exception": false,
     "start_time": "2022-04-19T11:37:41.676391",
     "status": "completed"
    },
    "tags": []
   },
   "outputs": [
    {
     "name": "stdout",
     "output_type": "stream",
     "text": [
      "+------+-----+\n",
      "|affair|count|\n",
      "+------+-----+\n",
      "|     1|  499|\n",
      "|     0| 1066|\n",
      "+------+-----+\n",
      "\n"
     ]
    }
   ],
   "source": [
    "testdf.groupby('affair').count().show()"
   ]
  },
  {
   "cell_type": "code",
   "execution_count": 24,
   "id": "aad208c8",
   "metadata": {
    "execution": {
     "iopub.execute_input": "2022-04-19T11:37:42.404164Z",
     "iopub.status.busy": "2022-04-19T11:37:42.403868Z",
     "iopub.status.idle": "2022-04-19T11:37:46.416077Z",
     "shell.execute_reply": "2022-04-19T11:37:46.415275Z"
    },
    "papermill": {
     "duration": 4.12204,
     "end_time": "2022-04-19T11:37:46.419105",
     "exception": false,
     "start_time": "2022-04-19T11:37:42.297065",
     "status": "completed"
    },
    "tags": []
   },
   "outputs": [],
   "source": [
    "rf_clasifier = RandomForestClassifier(labelCol='affair', numTrees=50).fit(traindf)"
   ]
  },
  {
   "cell_type": "code",
   "execution_count": 25,
   "id": "7840b4c2",
   "metadata": {
    "execution": {
     "iopub.execute_input": "2022-04-19T11:37:46.654788Z",
     "iopub.status.busy": "2022-04-19T11:37:46.653769Z",
     "iopub.status.idle": "2022-04-19T11:37:47.001339Z",
     "shell.execute_reply": "2022-04-19T11:37:47.000458Z"
    },
    "papermill": {
     "duration": 0.456341,
     "end_time": "2022-04-19T11:37:47.003672",
     "exception": false,
     "start_time": "2022-04-19T11:37:46.547331",
     "status": "completed"
    },
    "tags": []
   },
   "outputs": [
    {
     "name": "stdout",
     "output_type": "stream",
     "text": [
      "+-----------------------+------+---------------------------------------+----------------------------------------+----------+\n",
      "|features               |affair|rawPrediction                          |probability                             |prediction|\n",
      "+-----------------------+------+---------------------------------------+----------------------------------------+----------+\n",
      "|[1.0,22.0,2.5,1.0,1.0] |1     |[23.049534773954225,26.950465226045775]|[0.4609906954790845,0.5390093045209156] |1.0       |\n",
      "|[1.0,27.0,2.5,0.0,2.0] |1     |[22.550380188783063,27.449619811216937]|[0.45100760377566124,0.5489923962243387]|1.0       |\n",
      "|[1.0,27.0,6.0,0.0,2.0] |0     |[20.20978052154694,29.790219478453064] |[0.40419561043093877,0.5958043895690612]|1.0       |\n",
      "|[1.0,27.0,9.0,1.0,3.0] |1     |[16.59447666316973,33.40552333683027]  |[0.3318895332633946,0.6681104667366055] |1.0       |\n",
      "|[1.0,27.0,13.0,2.0,2.0]|1     |[13.391973181524843,36.60802681847516] |[0.2678394636304969,0.7321605363695032] |1.0       |\n",
      "+-----------------------+------+---------------------------------------+----------------------------------------+----------+\n",
      "only showing top 5 rows\n",
      "\n"
     ]
    }
   ],
   "source": [
    "rf_pred = rf_clasifier.transform(testdf)\n",
    "rf_pred.show(5, False)"
   ]
  },
  {
   "cell_type": "code",
   "execution_count": 26,
   "id": "83003934",
   "metadata": {
    "execution": {
     "iopub.execute_input": "2022-04-19T11:37:47.222245Z",
     "iopub.status.busy": "2022-04-19T11:37:47.221153Z",
     "iopub.status.idle": "2022-04-19T11:37:47.782570Z",
     "shell.execute_reply": "2022-04-19T11:37:47.780813Z"
    },
    "papermill": {
     "duration": 0.675195,
     "end_time": "2022-04-19T11:37:47.785862",
     "exception": false,
     "start_time": "2022-04-19T11:37:47.110667",
     "status": "completed"
    },
    "tags": []
   },
   "outputs": [
    {
     "name": "stdout",
     "output_type": "stream",
     "text": [
      "+----------+-----+\n",
      "|Prediction|count|\n",
      "+----------+-----+\n",
      "|       0.0| 1282|\n",
      "|       1.0|  283|\n",
      "+----------+-----+\n",
      "\n"
     ]
    }
   ],
   "source": [
    "rf_pred.groupby('Prediction').count().show()"
   ]
  },
  {
   "cell_type": "code",
   "execution_count": 27,
   "id": "34c03c5e",
   "metadata": {
    "execution": {
     "iopub.execute_input": "2022-04-19T11:37:48.051445Z",
     "iopub.status.busy": "2022-04-19T11:37:48.051157Z",
     "iopub.status.idle": "2022-04-19T11:37:50.047044Z",
     "shell.execute_reply": "2022-04-19T11:37:50.045942Z"
    },
    "papermill": {
     "duration": 2.106427,
     "end_time": "2022-04-19T11:37:50.050119",
     "exception": false,
     "start_time": "2022-04-19T11:37:47.943692",
     "status": "completed"
    },
    "tags": []
   },
   "outputs": [],
   "source": [
    "rf_accuracy = MulticlassClassificationEvaluator(labelCol='affair', metricName='accuracy').evaluate(rf_pred)\n",
    "rf_precision = MulticlassClassificationEvaluator(labelCol='affair', metricName='weightedPrecision').evaluate(rf_pred)\n",
    "rf_f1 = MulticlassClassificationEvaluator(labelCol='affair', metricName='f1').evaluate(rf_pred)\n",
    "rf_auc=BinaryClassificationEvaluator(labelCol='affair').evaluate(rf_pred)"
   ]
  },
  {
   "cell_type": "code",
   "execution_count": 28,
   "id": "070db6df",
   "metadata": {
    "execution": {
     "iopub.execute_input": "2022-04-19T11:37:50.430668Z",
     "iopub.status.busy": "2022-04-19T11:37:50.430185Z",
     "iopub.status.idle": "2022-04-19T11:37:50.437642Z",
     "shell.execute_reply": "2022-04-19T11:37:50.436130Z"
    },
    "papermill": {
     "duration": 0.195266,
     "end_time": "2022-04-19T11:37:50.441471",
     "exception": false,
     "start_time": "2022-04-19T11:37:50.246205",
     "status": "completed"
    },
    "tags": []
   },
   "outputs": [
    {
     "name": "stdout",
     "output_type": "stream",
     "text": [
      "The accuracy of RF on test data is 74%\n"
     ]
    }
   ],
   "source": [
    "print('The accuracy of RF on test data is {0:.0%}'.format(rf_accuracy))"
   ]
  },
  {
   "cell_type": "code",
   "execution_count": 29,
   "id": "93f7bc9d",
   "metadata": {
    "execution": {
     "iopub.execute_input": "2022-04-19T11:37:50.732878Z",
     "iopub.status.busy": "2022-04-19T11:37:50.732611Z",
     "iopub.status.idle": "2022-04-19T11:37:50.737692Z",
     "shell.execute_reply": "2022-04-19T11:37:50.736807Z"
    },
    "papermill": {
     "duration": 0.121311,
     "end_time": "2022-04-19T11:37:50.740076",
     "exception": false,
     "start_time": "2022-04-19T11:37:50.618765",
     "status": "completed"
    },
    "tags": []
   },
   "outputs": [
    {
     "name": "stdout",
     "output_type": "stream",
     "text": [
      "The precision rate on test data is 73%\n"
     ]
    }
   ],
   "source": [
    "print('The precision rate on test data is {0:.0%}'.format(rf_precision))"
   ]
  },
  {
   "cell_type": "code",
   "execution_count": 30,
   "id": "313f6981",
   "metadata": {
    "execution": {
     "iopub.execute_input": "2022-04-19T11:37:51.005189Z",
     "iopub.status.busy": "2022-04-19T11:37:51.004600Z",
     "iopub.status.idle": "2022-04-19T11:37:51.009606Z",
     "shell.execute_reply": "2022-04-19T11:37:51.008863Z"
    },
    "papermill": {
     "duration": 0.14534,
     "end_time": "2022-04-19T11:37:51.012088",
     "exception": false,
     "start_time": "2022-04-19T11:37:50.866748",
     "status": "completed"
    },
    "tags": []
   },
   "outputs": [
    {
     "name": "stdout",
     "output_type": "stream",
     "text": [
      "The f1 rate on test data is 72%\n"
     ]
    }
   ],
   "source": [
    "print('The f1 rate on test data is {0:.0%}'.format(rf_f1))"
   ]
  },
  {
   "cell_type": "code",
   "execution_count": 31,
   "id": "6129f77a",
   "metadata": {
    "execution": {
     "iopub.execute_input": "2022-04-19T11:37:51.245633Z",
     "iopub.status.busy": "2022-04-19T11:37:51.245144Z",
     "iopub.status.idle": "2022-04-19T11:37:51.249405Z",
     "shell.execute_reply": "2022-04-19T11:37:51.248407Z"
    },
    "papermill": {
     "duration": 0.117763,
     "end_time": "2022-04-19T11:37:51.251214",
     "exception": false,
     "start_time": "2022-04-19T11:37:51.133451",
     "status": "completed"
    },
    "tags": []
   },
   "outputs": [
    {
     "name": "stdout",
     "output_type": "stream",
     "text": [
      "0.7687344670579435\n"
     ]
    }
   ],
   "source": [
    "print(rf_auc)"
   ]
  },
  {
   "cell_type": "code",
   "execution_count": 32,
   "id": "73ae97f5",
   "metadata": {
    "execution": {
     "iopub.execute_input": "2022-04-19T11:37:51.469420Z",
     "iopub.status.busy": "2022-04-19T11:37:51.468890Z",
     "iopub.status.idle": "2022-04-19T11:37:51.513307Z",
     "shell.execute_reply": "2022-04-19T11:37:51.512457Z"
    },
    "papermill": {
     "duration": 0.155956,
     "end_time": "2022-04-19T11:37:51.515430",
     "exception": false,
     "start_time": "2022-04-19T11:37:51.359474",
     "status": "completed"
    },
    "tags": []
   },
   "outputs": [
    {
     "data": {
      "text/plain": [
       "SparseVector(5, {0: 0.6176, 1: 0.0307, 2: 0.2346, 3: 0.0501, 4: 0.0669})"
      ]
     },
     "execution_count": 32,
     "metadata": {},
     "output_type": "execute_result"
    }
   ],
   "source": [
    "#feature importance\n",
    "rf_clasifier.featureImportances"
   ]
  },
  {
   "cell_type": "code",
   "execution_count": 33,
   "id": "f81b7327",
   "metadata": {
    "execution": {
     "iopub.execute_input": "2022-04-19T11:37:51.753738Z",
     "iopub.status.busy": "2022-04-19T11:37:51.752935Z",
     "iopub.status.idle": "2022-04-19T11:37:51.764691Z",
     "shell.execute_reply": "2022-04-19T11:37:51.763899Z"
    },
    "papermill": {
     "duration": 0.132357,
     "end_time": "2022-04-19T11:37:51.766470",
     "exception": false,
     "start_time": "2022-04-19T11:37:51.634113",
     "status": "completed"
    },
    "tags": []
   },
   "outputs": [
    {
     "data": {
      "text/plain": [
       "{'numeric': [{'idx': 0, 'name': 'rate_marriage'},\n",
       "  {'idx': 1, 'name': 'age'},\n",
       "  {'idx': 2, 'name': 'yrs_married'},\n",
       "  {'idx': 3, 'name': 'children'},\n",
       "  {'idx': 4, 'name': 'religious'}]}"
      ]
     },
     "execution_count": 33,
     "metadata": {},
     "output_type": "execute_result"
    }
   ],
   "source": [
    "df.schema['features'].metadata['ml_attr']['attrs']"
   ]
  },
  {
   "cell_type": "code",
   "execution_count": 34,
   "id": "96683304",
   "metadata": {
    "execution": {
     "iopub.execute_input": "2022-04-19T11:37:51.991933Z",
     "iopub.status.busy": "2022-04-19T11:37:51.991691Z",
     "iopub.status.idle": "2022-04-19T11:37:53.956396Z",
     "shell.execute_reply": "2022-04-19T11:37:53.955472Z"
    },
    "papermill": {
     "duration": 2.082529,
     "end_time": "2022-04-19T11:37:53.958695",
     "exception": false,
     "start_time": "2022-04-19T11:37:51.876166",
     "status": "completed"
    },
    "tags": []
   },
   "outputs": [
    {
     "name": "stderr",
     "output_type": "stream",
     "text": [
      "                                                                                \r"
     ]
    }
   ],
   "source": [
    "#save the model\n",
    "rf_clasifier.save('./RF_model')"
   ]
  },
  {
   "cell_type": "code",
   "execution_count": 35,
   "id": "e6018b38",
   "metadata": {
    "execution": {
     "iopub.execute_input": "2022-04-19T11:37:54.198970Z",
     "iopub.status.busy": "2022-04-19T11:37:54.198302Z",
     "iopub.status.idle": "2022-04-19T11:37:55.563314Z",
     "shell.execute_reply": "2022-04-19T11:37:55.562697Z"
    },
    "papermill": {
     "duration": 1.491478,
     "end_time": "2022-04-19T11:37:55.565479",
     "exception": false,
     "start_time": "2022-04-19T11:37:54.074001",
     "status": "completed"
    },
    "tags": []
   },
   "outputs": [],
   "source": [
    "rf = RandomForestClassificationModel.load('./RF_model')"
   ]
  },
  {
   "cell_type": "code",
   "execution_count": 36,
   "id": "6ab17cc4",
   "metadata": {
    "execution": {
     "iopub.execute_input": "2022-04-19T11:37:55.783634Z",
     "iopub.status.busy": "2022-04-19T11:37:55.783379Z",
     "iopub.status.idle": "2022-04-19T11:37:56.043344Z",
     "shell.execute_reply": "2022-04-19T11:37:56.041496Z"
    },
    "papermill": {
     "duration": 0.371316,
     "end_time": "2022-04-19T11:37:56.046399",
     "exception": false,
     "start_time": "2022-04-19T11:37:55.675083",
     "status": "completed"
    },
    "tags": []
   },
   "outputs": [
    {
     "name": "stdout",
     "output_type": "stream",
     "text": [
      "+-----------------------+------+---------------------------------------+----------------------------------------+----------+\n",
      "|features               |affair|rawPrediction                          |probability                             |prediction|\n",
      "+-----------------------+------+---------------------------------------+----------------------------------------+----------+\n",
      "|[1.0,22.0,2.5,1.0,1.0] |1     |[23.049534773954225,26.950465226045775]|[0.4609906954790845,0.5390093045209156] |1.0       |\n",
      "|[1.0,27.0,2.5,0.0,2.0] |1     |[22.550380188783063,27.449619811216937]|[0.45100760377566124,0.5489923962243387]|1.0       |\n",
      "|[1.0,27.0,6.0,0.0,2.0] |0     |[20.20978052154694,29.790219478453064] |[0.40419561043093877,0.5958043895690612]|1.0       |\n",
      "|[1.0,27.0,9.0,1.0,3.0] |1     |[16.59447666316973,33.40552333683027]  |[0.3318895332633946,0.6681104667366055] |1.0       |\n",
      "|[1.0,27.0,13.0,2.0,2.0]|1     |[13.391973181524843,36.60802681847516] |[0.2678394636304969,0.7321605363695032] |1.0       |\n",
      "+-----------------------+------+---------------------------------------+----------------------------------------+----------+\n",
      "only showing top 5 rows\n",
      "\n"
     ]
    }
   ],
   "source": [
    "model_pred = rf.transform(testdf)\n",
    "model_pred.show(5,False)"
   ]
  },
  {
   "cell_type": "code",
   "execution_count": null,
   "id": "1827e56e",
   "metadata": {
    "papermill": {
     "duration": 0.107477,
     "end_time": "2022-04-19T11:37:56.264267",
     "exception": false,
     "start_time": "2022-04-19T11:37:56.156790",
     "status": "completed"
    },
    "tags": []
   },
   "outputs": [],
   "source": []
  }
 ],
 "metadata": {
  "kernelspec": {
   "display_name": "Python 3",
   "language": "python",
   "name": "python3"
  },
  "language_info": {
   "codemirror_mode": {
    "name": "ipython",
    "version": 3
   },
   "file_extension": ".py",
   "mimetype": "text/x-python",
   "name": "python",
   "nbconvert_exporter": "python",
   "pygments_lexer": "ipython3",
   "version": "3.7.12"
  },
  "papermill": {
   "default_parameters": {},
   "duration": 106.05092,
   "end_time": "2022-04-19T11:37:58.993466",
   "environment_variables": {},
   "exception": null,
   "input_path": "__notebook__.ipynb",
   "output_path": "__notebook__.ipynb",
   "parameters": {},
   "start_time": "2022-04-19T11:36:12.942546",
   "version": "2.3.4"
  }
 },
 "nbformat": 4,
 "nbformat_minor": 5
}
