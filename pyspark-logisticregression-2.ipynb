{
 "cells": [
  {
   "cell_type": "code",
   "execution_count": 1,
   "id": "7508d347",
   "metadata": {
    "_cell_guid": "b1076dfc-b9ad-4769-8c92-a6c4dae69d19",
    "_uuid": "8f2839f25d086af736a60e9eeb907d3b93b6e0e5",
    "execution": {
     "iopub.execute_input": "2022-04-15T14:53:34.440242Z",
     "iopub.status.busy": "2022-04-15T14:53:34.439937Z",
     "iopub.status.idle": "2022-04-15T14:53:34.458095Z",
     "shell.execute_reply": "2022-04-15T14:53:34.457534Z"
    },
    "papermill": {
     "duration": 0.045318,
     "end_time": "2022-04-15T14:53:34.460525",
     "exception": false,
     "start_time": "2022-04-15T14:53:34.415207",
     "status": "completed"
    },
    "tags": []
   },
   "outputs": [
    {
     "name": "stdout",
     "output_type": "stream",
     "text": [
      "/kaggle/input/pyspark-logistic-regression/Log_Reg_dataset.csv\n"
     ]
    }
   ],
   "source": [
    "# This Python 3 environment comes with many helpful analytics libraries installed\n",
    "# It is defined by the kaggle/python Docker image: https://github.com/kaggle/docker-python\n",
    "# For example, here's several helpful packages to load\n",
    "\n",
    "import numpy as np # linear algebra\n",
    "import pandas as pd # data processing, CSV file I/O (e.g. pd.read_csv)\n",
    "\n",
    "# Input data files are available in the read-only \"../input/\" directory\n",
    "# For example, running this (by clicking run or pressing Shift+Enter) will list all files under the input directory\n",
    "\n",
    "import os\n",
    "for dirname, _, filenames in os.walk('/kaggle/input'):\n",
    "    for filename in filenames:\n",
    "        print(os.path.join(dirname, filename))\n",
    "\n",
    "# You can write up to 20GB to the current directory (/kaggle/working/) that gets preserved as output when you create a version using \"Save & Run All\" \n",
    "# You can also write temporary files to /kaggle/temp/, but they won't be saved outside of the current session"
   ]
  },
  {
   "cell_type": "code",
   "execution_count": 2,
   "id": "e0c5c9c3",
   "metadata": {
    "execution": {
     "iopub.execute_input": "2022-04-15T14:53:34.507542Z",
     "iopub.status.busy": "2022-04-15T14:53:34.507275Z",
     "iopub.status.idle": "2022-04-15T14:54:32.000304Z",
     "shell.execute_reply": "2022-04-15T14:54:31.999110Z"
    },
    "papermill": {
     "duration": 57.520273,
     "end_time": "2022-04-15T14:54:32.003487",
     "exception": false,
     "start_time": "2022-04-15T14:53:34.483214",
     "status": "completed"
    },
    "tags": []
   },
   "outputs": [
    {
     "name": "stdout",
     "output_type": "stream",
     "text": [
      "Collecting findspark\r\n",
      "  Downloading findspark-2.0.1-py2.py3-none-any.whl (4.4 kB)\r\n",
      "Installing collected packages: findspark\r\n",
      "Successfully installed findspark-2.0.1\r\n",
      "\u001b[33mWARNING: Running pip as the 'root' user can result in broken permissions and conflicting behaviour with the system package manager. It is recommended to use a virtual environment instead: https://pip.pypa.io/warnings/venv\u001b[0m\u001b[33m\r\n",
      "\u001b[0mCollecting pyspark\r\n",
      "  Downloading pyspark-3.2.1.tar.gz (281.4 MB)\r\n",
      "\u001b[2K     \u001b[90m━━━━━━━━━━━━━━━━━━━━━━━━━━━━━━━━━━━━━━━\u001b[0m \u001b[32m281.4/281.4 MB\u001b[0m \u001b[31m4.3 MB/s\u001b[0m eta \u001b[36m0:00:00\u001b[0m\r\n",
      "\u001b[?25h  Preparing metadata (setup.py) ... \u001b[?25l-\b \b\\\b \bdone\r\n",
      "\u001b[?25hCollecting py4j==0.10.9.3\r\n",
      "  Downloading py4j-0.10.9.3-py2.py3-none-any.whl (198 kB)\r\n",
      "\u001b[2K     \u001b[90m━━━━━━━━━━━━━━━━━━━━━━━━━━━━━━━━━━━━━━\u001b[0m \u001b[32m199.0/199.0 KB\u001b[0m \u001b[31m11.0 MB/s\u001b[0m eta \u001b[36m0:00:00\u001b[0m\r\n",
      "\u001b[?25hBuilding wheels for collected packages: pyspark\r\n",
      "  Building wheel for pyspark (setup.py) ... \u001b[?25l-\b \b\\\b \b|\b \b/\b \b-\b \b\\\b \b|\b \b/\b \b-\b \b\\\b \b|\b \b/\b \b-\b \b\\\b \b|\b \b/\b \b-\b \b\\\b \b|\b \b/\b \b-\b \b\\\b \b|\b \b/\b \b-\b \b\\\b \b|\b \b/\b \b-\b \b\\\b \b|\b \b/\b \b-\b \b\\\b \b|\b \b/\b \b-\b \b\\\b \b|\b \b/\b \b-\b \b\\\b \b|\b \b/\b \b-\b \b\\\b \b|\b \b/\b \b-\b \b\\\b \b|\b \b/\b \b-\b \b\\\b \b|\b \b/\b \b-\b \b\\\b \b|\b \b/\b \b-\b \b\\\b \b|\b \b/\b \b-\b \b\\\b \b|\b \b/\b \b-\b \b\\\b \b|\b \b/\b \b-\b \bdone\r\n",
      "\u001b[?25h  Created wheel for pyspark: filename=pyspark-3.2.1-py2.py3-none-any.whl size=281853642 sha256=b374966f2b36ec757971cfc9ccef616e02e6be60ab46b5752abb32af6076620c\r\n",
      "  Stored in directory: /root/.cache/pip/wheels/9f/f5/07/7cd8017084dce4e93e84e92efd1e1d5334db05f2e83bcef74f\r\n",
      "Successfully built pyspark\r\n",
      "Installing collected packages: py4j, pyspark\r\n",
      "  Attempting uninstall: py4j\r\n",
      "    Found existing installation: py4j 0.10.9.5\r\n",
      "    Uninstalling py4j-0.10.9.5:\r\n",
      "      Successfully uninstalled py4j-0.10.9.5\r\n",
      "Successfully installed py4j-0.10.9.3 pyspark-3.2.1\r\n",
      "\u001b[33mWARNING: Running pip as the 'root' user can result in broken permissions and conflicting behaviour with the system package manager. It is recommended to use a virtual environment instead: https://pip.pypa.io/warnings/venv\u001b[0m\u001b[33m\r\n",
      "\u001b[0m"
     ]
    }
   ],
   "source": [
    "!pip install findspark\n",
    "!pip install pyspark"
   ]
  },
  {
   "cell_type": "code",
   "execution_count": 3,
   "id": "db73eb62",
   "metadata": {
    "execution": {
     "iopub.execute_input": "2022-04-15T14:54:32.156899Z",
     "iopub.status.busy": "2022-04-15T14:54:32.156049Z",
     "iopub.status.idle": "2022-04-15T14:54:32.411481Z",
     "shell.execute_reply": "2022-04-15T14:54:32.410738Z"
    },
    "papermill": {
     "duration": 0.336455,
     "end_time": "2022-04-15T14:54:32.413764",
     "exception": false,
     "start_time": "2022-04-15T14:54:32.077309",
     "status": "completed"
    },
    "tags": []
   },
   "outputs": [],
   "source": [
    "import findspark\n",
    "findspark.init()\n",
    "import pyspark"
   ]
  },
  {
   "cell_type": "code",
   "execution_count": 4,
   "id": "f4810167",
   "metadata": {
    "execution": {
     "iopub.execute_input": "2022-04-15T14:54:32.563951Z",
     "iopub.status.busy": "2022-04-15T14:54:32.563394Z",
     "iopub.status.idle": "2022-04-15T14:54:39.348157Z",
     "shell.execute_reply": "2022-04-15T14:54:39.347118Z"
    },
    "papermill": {
     "duration": 6.8662,
     "end_time": "2022-04-15T14:54:39.350788",
     "exception": false,
     "start_time": "2022-04-15T14:54:32.484588",
     "status": "completed"
    },
    "tags": []
   },
   "outputs": [
    {
     "name": "stderr",
     "output_type": "stream",
     "text": [
      "WARNING: An illegal reflective access operation has occurred\n",
      "WARNING: Illegal reflective access by org.apache.spark.unsafe.Platform (file:/opt/conda/lib/python3.7/site-packages/pyspark/jars/spark-unsafe_2.12-3.2.1.jar) to constructor java.nio.DirectByteBuffer(long,int)\n",
      "WARNING: Please consider reporting this to the maintainers of org.apache.spark.unsafe.Platform\n",
      "WARNING: Use --illegal-access=warn to enable warnings of further illegal reflective access operations\n",
      "WARNING: All illegal access operations will be denied in a future release\n",
      "Using Spark's default log4j profile: org/apache/spark/log4j-defaults.properties\n",
      "Setting default log level to \"WARN\".\n",
      "To adjust logging level use sc.setLogLevel(newLevel). For SparkR, use setLogLevel(newLevel).\n",
      "22/04/15 14:54:35 WARN NativeCodeLoader: Unable to load native-hadoop library for your platform... using builtin-java classes where applicable\n"
     ]
    }
   ],
   "source": [
    "from pyspark.sql import SparkSession\n",
    "spark = SparkSession.builder.appName('log_reg').getOrCreate()"
   ]
  },
  {
   "cell_type": "code",
   "execution_count": 5,
   "id": "a34c2220",
   "metadata": {
    "execution": {
     "iopub.execute_input": "2022-04-15T14:54:39.493619Z",
     "iopub.status.busy": "2022-04-15T14:54:39.492881Z",
     "iopub.status.idle": "2022-04-15T14:54:39.655049Z",
     "shell.execute_reply": "2022-04-15T14:54:39.654388Z"
    },
    "papermill": {
     "duration": 0.236177,
     "end_time": "2022-04-15T14:54:39.657344",
     "exception": false,
     "start_time": "2022-04-15T14:54:39.421167",
     "status": "completed"
    },
    "tags": []
   },
   "outputs": [],
   "source": [
    "#import libs\n",
    "from pyspark.sql.functions import *\n",
    "from pyspark.ml.feature import StringIndexer\n",
    "from pyspark.ml.feature import VectorAssembler\n",
    "from pyspark.ml.feature import OneHotEncoder"
   ]
  },
  {
   "cell_type": "code",
   "execution_count": 6,
   "id": "e06e13d5",
   "metadata": {
    "execution": {
     "iopub.execute_input": "2022-04-15T14:54:39.795892Z",
     "iopub.status.busy": "2022-04-15T14:54:39.795572Z",
     "iopub.status.idle": "2022-04-15T14:54:46.109446Z",
     "shell.execute_reply": "2022-04-15T14:54:46.107610Z"
    },
    "papermill": {
     "duration": 6.387146,
     "end_time": "2022-04-15T14:54:46.113216",
     "exception": false,
     "start_time": "2022-04-15T14:54:39.726070",
     "status": "completed"
    },
    "tags": []
   },
   "outputs": [
    {
     "name": "stderr",
     "output_type": "stream",
     "text": [
      "                                                                                \r"
     ]
    },
    {
     "name": "stdout",
     "output_type": "stream",
     "text": [
      "+---------+---+--------------+--------+----------------+------+\n",
      "|  Country|Age|Repeat_Visitor|Platform|Web_pages_viewed|Status|\n",
      "+---------+---+--------------+--------+----------------+------+\n",
      "|    India| 41|             1|   Yahoo|              21|     1|\n",
      "|   Brazil| 28|             1|   Yahoo|               5|     0|\n",
      "|   Brazil| 40|             0|  Google|               3|     0|\n",
      "|Indonesia| 31|             1|    Bing|              15|     1|\n",
      "| Malaysia| 32|             0|  Google|              15|     1|\n",
      "+---------+---+--------------+--------+----------------+------+\n",
      "only showing top 5 rows\n",
      "\n"
     ]
    }
   ],
   "source": [
    "#read the dataset\n",
    "df = spark.read.csv('/kaggle/input/pyspark-logistic-regression/Log_Reg_dataset.csv', inferSchema=True,header=True)\n",
    "df.show(5)"
   ]
  },
  {
   "cell_type": "code",
   "execution_count": 7,
   "id": "12d861dc",
   "metadata": {
    "execution": {
     "iopub.execute_input": "2022-04-15T14:54:46.265894Z",
     "iopub.status.busy": "2022-04-15T14:54:46.265580Z",
     "iopub.status.idle": "2022-04-15T14:54:46.968104Z",
     "shell.execute_reply": "2022-04-15T14:54:46.967249Z"
    },
    "papermill": {
     "duration": 0.779053,
     "end_time": "2022-04-15T14:54:46.972649",
     "exception": false,
     "start_time": "2022-04-15T14:54:46.193596",
     "status": "completed"
    },
    "tags": []
   },
   "outputs": [
    {
     "name": "stdout",
     "output_type": "stream",
     "text": [
      "(20000, 6)\n"
     ]
    }
   ],
   "source": [
    "#shape of data\n",
    "print((df.count(),len(df.columns)))"
   ]
  },
  {
   "cell_type": "code",
   "execution_count": 8,
   "id": "4ba9326e",
   "metadata": {
    "execution": {
     "iopub.execute_input": "2022-04-15T14:54:47.141924Z",
     "iopub.status.busy": "2022-04-15T14:54:47.141633Z",
     "iopub.status.idle": "2022-04-15T14:54:47.149470Z",
     "shell.execute_reply": "2022-04-15T14:54:47.148093Z"
    },
    "papermill": {
     "duration": 0.083638,
     "end_time": "2022-04-15T14:54:47.151405",
     "exception": false,
     "start_time": "2022-04-15T14:54:47.067767",
     "status": "completed"
    },
    "tags": []
   },
   "outputs": [
    {
     "name": "stdout",
     "output_type": "stream",
     "text": [
      "root\n",
      " |-- Country: string (nullable = true)\n",
      " |-- Age: integer (nullable = true)\n",
      " |-- Repeat_Visitor: integer (nullable = true)\n",
      " |-- Platform: string (nullable = true)\n",
      " |-- Web_pages_viewed: integer (nullable = true)\n",
      " |-- Status: integer (nullable = true)\n",
      "\n"
     ]
    }
   ],
   "source": [
    "#check the schemea\n",
    "df.printSchema()"
   ]
  },
  {
   "cell_type": "code",
   "execution_count": 9,
   "id": "31e761ee",
   "metadata": {
    "execution": {
     "iopub.execute_input": "2022-04-15T14:54:47.294430Z",
     "iopub.status.busy": "2022-04-15T14:54:47.293584Z",
     "iopub.status.idle": "2022-04-15T14:54:49.061161Z",
     "shell.execute_reply": "2022-04-15T14:54:49.060143Z"
    },
    "papermill": {
     "duration": 1.845818,
     "end_time": "2022-04-15T14:54:49.067745",
     "exception": false,
     "start_time": "2022-04-15T14:54:47.221927",
     "status": "completed"
    },
    "tags": []
   },
   "outputs": [
    {
     "name": "stderr",
     "output_type": "stream",
     "text": [
      "[Stage 6:>                                                          (0 + 1) / 1]\r"
     ]
    },
    {
     "name": "stdout",
     "output_type": "stream",
     "text": [
      "+-------+--------+-----------------+-----------------+--------+-----------------+------------------+\n",
      "|summary| Country|              Age|   Repeat_Visitor|Platform| Web_pages_viewed|            Status|\n",
      "+-------+--------+-----------------+-----------------+--------+-----------------+------------------+\n",
      "|  count|   20000|            20000|            20000|   20000|            20000|             20000|\n",
      "|   mean|    null|         28.53955|           0.5029|    null|           9.5533|               0.5|\n",
      "| stddev|    null|7.888912950773227|0.500004090187782|    null|6.073903499824976|0.5000125004687693|\n",
      "|    min|  Brazil|               17|                0|    Bing|                1|                 0|\n",
      "|    max|Malaysia|              111|                1|   Yahoo|               29|                 1|\n",
      "+-------+--------+-----------------+-----------------+--------+-----------------+------------------+\n",
      "\n"
     ]
    },
    {
     "name": "stderr",
     "output_type": "stream",
     "text": [
      "                                                                                \r"
     ]
    }
   ],
   "source": [
    "#explore the dataset\n",
    "df.describe().show()"
   ]
  },
  {
   "cell_type": "code",
   "execution_count": 10,
   "id": "4e34c377",
   "metadata": {
    "execution": {
     "iopub.execute_input": "2022-04-15T14:54:49.286762Z",
     "iopub.status.busy": "2022-04-15T14:54:49.286510Z",
     "iopub.status.idle": "2022-04-15T14:54:50.048829Z",
     "shell.execute_reply": "2022-04-15T14:54:50.047910Z"
    },
    "papermill": {
     "duration": 0.851975,
     "end_time": "2022-04-15T14:54:50.051764",
     "exception": false,
     "start_time": "2022-04-15T14:54:49.199789",
     "status": "completed"
    },
    "tags": []
   },
   "outputs": [
    {
     "name": "stdout",
     "output_type": "stream",
     "text": [
      "+---------+-----+\n",
      "|  country|count|\n",
      "+---------+-----+\n",
      "| Malaysia| 1218|\n",
      "|    India| 4018|\n",
      "|Indonesia|12178|\n",
      "|   Brazil| 2586|\n",
      "+---------+-----+\n",
      "\n"
     ]
    }
   ],
   "source": [
    "df.groupby('country').count().show()"
   ]
  },
  {
   "cell_type": "code",
   "execution_count": 11,
   "id": "bd7496cc",
   "metadata": {
    "execution": {
     "iopub.execute_input": "2022-04-15T14:54:50.203882Z",
     "iopub.status.busy": "2022-04-15T14:54:50.203306Z",
     "iopub.status.idle": "2022-04-15T14:54:50.526673Z",
     "shell.execute_reply": "2022-04-15T14:54:50.525798Z"
    },
    "papermill": {
     "duration": 0.403855,
     "end_time": "2022-04-15T14:54:50.531256",
     "exception": false,
     "start_time": "2022-04-15T14:54:50.127401",
     "status": "completed"
    },
    "tags": []
   },
   "outputs": [
    {
     "name": "stdout",
     "output_type": "stream",
     "text": [
      "+--------+-----+\n",
      "|Platform|count|\n",
      "+--------+-----+\n",
      "|   Yahoo| 9859|\n",
      "|    Bing| 4360|\n",
      "|  Google| 5781|\n",
      "+--------+-----+\n",
      "\n"
     ]
    }
   ],
   "source": [
    "df.groupby('Platform').count().show()"
   ]
  },
  {
   "cell_type": "code",
   "execution_count": 12,
   "id": "eef4b90e",
   "metadata": {
    "execution": {
     "iopub.execute_input": "2022-04-15T14:54:50.720948Z",
     "iopub.status.busy": "2022-04-15T14:54:50.720571Z",
     "iopub.status.idle": "2022-04-15T14:54:51.097183Z",
     "shell.execute_reply": "2022-04-15T14:54:51.096307Z"
    },
    "papermill": {
     "duration": 0.453737,
     "end_time": "2022-04-15T14:54:51.099441",
     "exception": false,
     "start_time": "2022-04-15T14:54:50.645704",
     "status": "completed"
    },
    "tags": []
   },
   "outputs": [
    {
     "name": "stdout",
     "output_type": "stream",
     "text": [
      "+------+-----+\n",
      "|Status|count|\n",
      "+------+-----+\n",
      "|     1|10000|\n",
      "|     0|10000|\n",
      "+------+-----+\n",
      "\n"
     ]
    }
   ],
   "source": [
    "df.groupby('Status').count().show()"
   ]
  },
  {
   "cell_type": "code",
   "execution_count": 13,
   "id": "da5fade3",
   "metadata": {
    "execution": {
     "iopub.execute_input": "2022-04-15T14:54:51.261432Z",
     "iopub.status.busy": "2022-04-15T14:54:51.260886Z",
     "iopub.status.idle": "2022-04-15T14:54:51.827201Z",
     "shell.execute_reply": "2022-04-15T14:54:51.826299Z"
    },
    "papermill": {
     "duration": 0.653496,
     "end_time": "2022-04-15T14:54:51.834179",
     "exception": false,
     "start_time": "2022-04-15T14:54:51.180683",
     "status": "completed"
    },
    "tags": []
   },
   "outputs": [
    {
     "name": "stdout",
     "output_type": "stream",
     "text": [
      "+---------+------------------+-------------------+---------------------+--------------------+\n",
      "|  Country|          avg(Age)|avg(Repeat_Visitor)|avg(Web_pages_viewed)|         avg(Status)|\n",
      "+---------+------------------+-------------------+---------------------+--------------------+\n",
      "| Malaysia|27.792282430213465| 0.5730706075533661|   11.192118226600986|  0.6568144499178982|\n",
      "|    India|27.976854156296664| 0.5433051269288203|   10.727227476356397|  0.6212045793927327|\n",
      "|Indonesia| 28.43159796354081| 0.5207751683363442|    9.985711939563148|  0.5422893742814913|\n",
      "|   Brazil|30.274168600154677|  0.322892498066512|    4.921113689095128|0.038669760247486466|\n",
      "+---------+------------------+-------------------+---------------------+--------------------+\n",
      "\n"
     ]
    }
   ],
   "source": [
    "df.groupby('Country').mean().show()"
   ]
  },
  {
   "cell_type": "code",
   "execution_count": 14,
   "id": "2645ffa6",
   "metadata": {
    "execution": {
     "iopub.execute_input": "2022-04-15T14:54:51.986213Z",
     "iopub.status.busy": "2022-04-15T14:54:51.985921Z",
     "iopub.status.idle": "2022-04-15T14:54:52.461104Z",
     "shell.execute_reply": "2022-04-15T14:54:52.460213Z"
    },
    "papermill": {
     "duration": 0.554207,
     "end_time": "2022-04-15T14:54:52.465287",
     "exception": false,
     "start_time": "2022-04-15T14:54:51.911080",
     "status": "completed"
    },
    "tags": []
   },
   "outputs": [
    {
     "name": "stdout",
     "output_type": "stream",
     "text": [
      "+--------+------------------+-------------------+---------------------+------------------+\n",
      "|Platform|          avg(Age)|avg(Repeat_Visitor)|avg(Web_pages_viewed)|       avg(Status)|\n",
      "+--------+------------------+-------------------+---------------------+------------------+\n",
      "|   Yahoo|28.569226087838523| 0.5094837204584644|    9.599655137437875|0.5071508266558474|\n",
      "|    Bing| 28.68394495412844| 0.4720183486238532|    9.114908256880733|0.4559633027522936|\n",
      "|  Google|28.380038055699707| 0.5149628092025601|    9.804878048780488|0.5210171250648676|\n",
      "+--------+------------------+-------------------+---------------------+------------------+\n",
      "\n"
     ]
    }
   ],
   "source": [
    "df.groupby('Platform').mean().show()"
   ]
  },
  {
   "cell_type": "markdown",
   "id": "21d69388",
   "metadata": {
    "papermill": {
     "duration": 0.12798,
     "end_time": "2022-04-15T14:54:52.726002",
     "exception": false,
     "start_time": "2022-04-15T14:54:52.598022",
     "status": "completed"
    },
    "tags": []
   },
   "source": [
    "_Data Preprocessing, converting categorical data into Numerical form_"
   ]
  },
  {
   "cell_type": "code",
   "execution_count": 15,
   "id": "f9ca10d4",
   "metadata": {
    "execution": {
     "iopub.execute_input": "2022-04-15T14:54:52.977380Z",
     "iopub.status.busy": "2022-04-15T14:54:52.977019Z",
     "iopub.status.idle": "2022-04-15T14:54:54.158749Z",
     "shell.execute_reply": "2022-04-15T14:54:54.157878Z"
    },
    "papermill": {
     "duration": 1.313453,
     "end_time": "2022-04-15T14:54:54.162529",
     "exception": false,
     "start_time": "2022-04-15T14:54:52.849076",
     "status": "completed"
    },
    "tags": []
   },
   "outputs": [
    {
     "name": "stdout",
     "output_type": "stream",
     "text": [
      "+-------+---+--------------+--------+----------------+------+--------------------+\n",
      "|Country|Age|Repeat_Visitor|Platform|Web_pages_viewed|Status|Search_Engine_Number|\n",
      "+-------+---+--------------+--------+----------------+------+--------------------+\n",
      "|India  |41 |1             |Yahoo   |21              |1     |0.0                 |\n",
      "|Brazil |28 |1             |Yahoo   |5               |0     |0.0                 |\n",
      "|Brazil |40 |0             |Google  |3               |0     |1.0                 |\n",
      "+-------+---+--------------+--------+----------------+------+--------------------+\n",
      "only showing top 3 rows\n",
      "\n"
     ]
    }
   ],
   "source": [
    "search_engine_indexer = StringIndexer(inputCol='Platform', outputCol='Search_Engine_Number').fit(df)\n",
    "df = search_engine_indexer.transform(df)\n",
    "df.show(3, False)"
   ]
  },
  {
   "cell_type": "code",
   "execution_count": 16,
   "id": "c4a9dbc4",
   "metadata": {
    "execution": {
     "iopub.execute_input": "2022-04-15T14:54:54.320928Z",
     "iopub.status.busy": "2022-04-15T14:54:54.320586Z",
     "iopub.status.idle": "2022-04-15T14:54:54.823260Z",
     "shell.execute_reply": "2022-04-15T14:54:54.821883Z"
    },
    "papermill": {
     "duration": 0.585074,
     "end_time": "2022-04-15T14:54:54.826791",
     "exception": false,
     "start_time": "2022-04-15T14:54:54.241717",
     "status": "completed"
    },
    "tags": []
   },
   "outputs": [
    {
     "name": "stdout",
     "output_type": "stream",
     "text": [
      "+-------+---+--------------+--------+----------------+------+--------------------+--------------------+\n",
      "|Country|Age|Repeat_Visitor|Platform|Web_pages_viewed|Status|Search_Engine_Number|Search_Engine_Vector|\n",
      "+-------+---+--------------+--------+----------------+------+--------------------+--------------------+\n",
      "|India  |41 |1             |Yahoo   |21              |1     |0.0                 |(2,[0],[1.0])       |\n",
      "|Brazil |28 |1             |Yahoo   |5               |0     |0.0                 |(2,[0],[1.0])       |\n",
      "|Brazil |40 |0             |Google  |3               |0     |1.0                 |(2,[1],[1.0])       |\n",
      "+-------+---+--------------+--------+----------------+------+--------------------+--------------------+\n",
      "only showing top 3 rows\n",
      "\n"
     ]
    }
   ],
   "source": [
    "#one hot encoding for Search Engine /Platform Variable\n",
    "search_engine_encoder = OneHotEncoder(inputCol=\"Search_Engine_Number\", outputCol=\"Search_Engine_Vector\").fit(df)\n",
    "df = search_engine_encoder.transform(df)\n",
    "df.show(3,False)"
   ]
  },
  {
   "cell_type": "code",
   "execution_count": 17,
   "id": "05a85eac",
   "metadata": {
    "execution": {
     "iopub.execute_input": "2022-04-15T14:54:54.984723Z",
     "iopub.status.busy": "2022-04-15T14:54:54.984450Z",
     "iopub.status.idle": "2022-04-15T14:54:55.480437Z",
     "shell.execute_reply": "2022-04-15T14:54:55.479575Z"
    },
    "papermill": {
     "duration": 0.577152,
     "end_time": "2022-04-15T14:54:55.483388",
     "exception": false,
     "start_time": "2022-04-15T14:54:54.906236",
     "status": "completed"
    },
    "tags": []
   },
   "outputs": [
    {
     "name": "stdout",
     "output_type": "stream",
     "text": [
      "+--------+-----+\n",
      "|Platform|count|\n",
      "+--------+-----+\n",
      "|   Yahoo| 9859|\n",
      "|  Google| 5781|\n",
      "|    Bing| 4360|\n",
      "+--------+-----+\n",
      "\n"
     ]
    }
   ],
   "source": [
    "df.groupby('Platform').count().orderBy('count', ascending=False).show()"
   ]
  },
  {
   "cell_type": "code",
   "execution_count": 18,
   "id": "0fe44d89",
   "metadata": {
    "execution": {
     "iopub.execute_input": "2022-04-15T14:54:55.666178Z",
     "iopub.status.busy": "2022-04-15T14:54:55.665387Z",
     "iopub.status.idle": "2022-04-15T14:54:56.114290Z",
     "shell.execute_reply": "2022-04-15T14:54:56.110886Z"
    },
    "papermill": {
     "duration": 0.53086,
     "end_time": "2022-04-15T14:54:56.118381",
     "exception": false,
     "start_time": "2022-04-15T14:54:55.587521",
     "status": "completed"
    },
    "tags": []
   },
   "outputs": [
    {
     "name": "stdout",
     "output_type": "stream",
     "text": [
      "+--------------------+-----+\n",
      "|Search_Engine_Number|count|\n",
      "+--------------------+-----+\n",
      "|                 0.0| 9859|\n",
      "|                 1.0| 5781|\n",
      "|                 2.0| 4360|\n",
      "+--------------------+-----+\n",
      "\n"
     ]
    }
   ],
   "source": [
    "df.groupby('Search_Engine_Number').count().orderBy('count', ascending=False).show()"
   ]
  },
  {
   "cell_type": "code",
   "execution_count": 19,
   "id": "1b761237",
   "metadata": {
    "execution": {
     "iopub.execute_input": "2022-04-15T14:54:56.312065Z",
     "iopub.status.busy": "2022-04-15T14:54:56.311725Z",
     "iopub.status.idle": "2022-04-15T14:54:56.809064Z",
     "shell.execute_reply": "2022-04-15T14:54:56.808078Z"
    },
    "papermill": {
     "duration": 0.579184,
     "end_time": "2022-04-15T14:54:56.812258",
     "exception": false,
     "start_time": "2022-04-15T14:54:56.233074",
     "status": "completed"
    },
    "tags": []
   },
   "outputs": [
    {
     "name": "stdout",
     "output_type": "stream",
     "text": [
      "+--------------------+-----+\n",
      "|Search_Engine_Vector|count|\n",
      "+--------------------+-----+\n",
      "|       (2,[0],[1.0])| 9859|\n",
      "|       (2,[1],[1.0])| 5781|\n",
      "|           (2,[],[])| 4360|\n",
      "+--------------------+-----+\n",
      "\n"
     ]
    }
   ],
   "source": [
    "df.groupby('Search_Engine_Vector').count().orderBy('count', ascending=False).show()"
   ]
  },
  {
   "cell_type": "code",
   "execution_count": 20,
   "id": "81d2cee5",
   "metadata": {
    "execution": {
     "iopub.execute_input": "2022-04-15T14:54:57.055269Z",
     "iopub.status.busy": "2022-04-15T14:54:57.054918Z",
     "iopub.status.idle": "2022-04-15T14:54:57.642180Z",
     "shell.execute_reply": "2022-04-15T14:54:57.641251Z"
    },
    "papermill": {
     "duration": 0.694651,
     "end_time": "2022-04-15T14:54:57.645170",
     "exception": false,
     "start_time": "2022-04-15T14:54:56.950519",
     "status": "completed"
    },
    "tags": []
   },
   "outputs": [
    {
     "name": "stdout",
     "output_type": "stream",
     "text": [
      "+-------+---+--------------+--------+----------------+------+--------------------+--------------------+-----------+--------------+\n",
      "|Country|Age|Repeat_Visitor|Platform|Web_pages_viewed|Status|Search_Engine_Number|Search_Engine_Vector|Country_Num|Country_Vector|\n",
      "+-------+---+--------------+--------+----------------+------+--------------------+--------------------+-----------+--------------+\n",
      "|India  |41 |1             |Yahoo   |21              |1     |0.0                 |(2,[0],[1.0])       |1.0        |(3,[1],[1.0]) |\n",
      "|Brazil |28 |1             |Yahoo   |5               |0     |0.0                 |(2,[0],[1.0])       |2.0        |(3,[2],[1.0]) |\n",
      "|Brazil |40 |0             |Google  |3               |0     |1.0                 |(2,[1],[1.0])       |2.0        |(3,[2],[1.0]) |\n",
      "+-------+---+--------------+--------+----------------+------+--------------------+--------------------+-----------+--------------+\n",
      "only showing top 3 rows\n",
      "\n"
     ]
    }
   ],
   "source": [
    "#Applying tranformation for country\n",
    "#string Indexer\n",
    "country_indexer = StringIndexer(inputCol='Country', outputCol='Country_Num').fit(df)\n",
    "df = country_indexer.transform(df)\n",
    "\n",
    "#OnehotEncoding\n",
    "country_encoder = OneHotEncoder(inputCol='Country_Num', outputCol='Country_Vector').fit(df)\n",
    "df = country_encoder.transform(df)\n",
    "\n",
    "df.show(3, False)"
   ]
  },
  {
   "cell_type": "code",
   "execution_count": 21,
   "id": "d7248fce",
   "metadata": {
    "execution": {
     "iopub.execute_input": "2022-04-15T14:54:57.823145Z",
     "iopub.status.busy": "2022-04-15T14:54:57.822890Z",
     "iopub.status.idle": "2022-04-15T14:54:57.966106Z",
     "shell.execute_reply": "2022-04-15T14:54:57.964650Z"
    },
    "papermill": {
     "duration": 0.22097,
     "end_time": "2022-04-15T14:54:57.968700",
     "exception": false,
     "start_time": "2022-04-15T14:54:57.747730",
     "status": "completed"
    },
    "tags": []
   },
   "outputs": [
    {
     "name": "stdout",
     "output_type": "stream",
     "text": [
      "+-------+-----------+--------------+\n",
      "|country|Country_Num|country_Vector|\n",
      "+-------+-----------+--------------+\n",
      "|India  |1.0        |(3,[1],[1.0]) |\n",
      "|Brazil |2.0        |(3,[2],[1.0]) |\n",
      "|Brazil |2.0        |(3,[2],[1.0]) |\n",
      "+-------+-----------+--------------+\n",
      "only showing top 3 rows\n",
      "\n"
     ]
    }
   ],
   "source": [
    "df.select(['country', 'Country_Num', 'country_Vector']).show(3,False)"
   ]
  },
  {
   "cell_type": "code",
   "execution_count": 22,
   "id": "0e312a47",
   "metadata": {
    "execution": {
     "iopub.execute_input": "2022-04-15T14:54:58.122350Z",
     "iopub.status.busy": "2022-04-15T14:54:58.122051Z",
     "iopub.status.idle": "2022-04-15T14:54:58.360633Z",
     "shell.execute_reply": "2022-04-15T14:54:58.359687Z"
    },
    "papermill": {
     "duration": 0.31939,
     "end_time": "2022-04-15T14:54:58.363732",
     "exception": false,
     "start_time": "2022-04-15T14:54:58.044342",
     "status": "completed"
    },
    "tags": []
   },
   "outputs": [
    {
     "name": "stdout",
     "output_type": "stream",
     "text": [
      "+---------+-----+\n",
      "|  Country|count|\n",
      "+---------+-----+\n",
      "|Indonesia|12178|\n",
      "|    India| 4018|\n",
      "|   Brazil| 2586|\n",
      "| Malaysia| 1218|\n",
      "+---------+-----+\n",
      "\n"
     ]
    }
   ],
   "source": [
    "df.groupby('Country').count().orderBy('count', ascending=False).show()"
   ]
  },
  {
   "cell_type": "code",
   "execution_count": 23,
   "id": "e2586cd8",
   "metadata": {
    "execution": {
     "iopub.execute_input": "2022-04-15T14:54:58.522250Z",
     "iopub.status.busy": "2022-04-15T14:54:58.521956Z",
     "iopub.status.idle": "2022-04-15T14:54:58.804639Z",
     "shell.execute_reply": "2022-04-15T14:54:58.803761Z"
    },
    "papermill": {
     "duration": 0.362853,
     "end_time": "2022-04-15T14:54:58.808159",
     "exception": false,
     "start_time": "2022-04-15T14:54:58.445306",
     "status": "completed"
    },
    "tags": []
   },
   "outputs": [
    {
     "name": "stdout",
     "output_type": "stream",
     "text": [
      "+-----------+-----+\n",
      "|Country_Num|count|\n",
      "+-----------+-----+\n",
      "|        0.0|12178|\n",
      "|        1.0| 4018|\n",
      "|        2.0| 2586|\n",
      "|        3.0| 1218|\n",
      "+-----------+-----+\n",
      "\n"
     ]
    }
   ],
   "source": [
    "df.groupby('Country_Num').count().orderBy('count', ascending=False).show()"
   ]
  },
  {
   "cell_type": "code",
   "execution_count": 24,
   "id": "6516a19c",
   "metadata": {
    "execution": {
     "iopub.execute_input": "2022-04-15T14:54:58.992201Z",
     "iopub.status.busy": "2022-04-15T14:54:58.991944Z",
     "iopub.status.idle": "2022-04-15T14:54:59.378751Z",
     "shell.execute_reply": "2022-04-15T14:54:59.377888Z"
    },
    "papermill": {
     "duration": 0.465967,
     "end_time": "2022-04-15T14:54:59.381715",
     "exception": false,
     "start_time": "2022-04-15T14:54:58.915748",
     "status": "completed"
    },
    "tags": []
   },
   "outputs": [
    {
     "name": "stdout",
     "output_type": "stream",
     "text": [
      "+--------------+-----+\n",
      "|Country_Vector|count|\n",
      "+--------------+-----+\n",
      "| (3,[0],[1.0])|12178|\n",
      "| (3,[1],[1.0])| 4018|\n",
      "| (3,[2],[1.0])| 2586|\n",
      "|     (3,[],[])| 1218|\n",
      "+--------------+-----+\n",
      "\n"
     ]
    }
   ],
   "source": [
    "df.groupby('Country_Vector').count().orderBy('count', ascending=False).show()"
   ]
  },
  {
   "cell_type": "code",
   "execution_count": 25,
   "id": "442f644e",
   "metadata": {
    "execution": {
     "iopub.execute_input": "2022-04-15T14:54:59.617391Z",
     "iopub.status.busy": "2022-04-15T14:54:59.617088Z",
     "iopub.status.idle": "2022-04-15T14:54:59.629503Z",
     "shell.execute_reply": "2022-04-15T14:54:59.628859Z"
    },
    "papermill": {
     "duration": 0.121112,
     "end_time": "2022-04-15T14:54:59.631779",
     "exception": false,
     "start_time": "2022-04-15T14:54:59.510667",
     "status": "completed"
    },
    "tags": []
   },
   "outputs": [
    {
     "data": {
      "text/plain": [
       "['Country',\n",
       " 'Age',\n",
       " 'Repeat_Visitor',\n",
       " 'Platform',\n",
       " 'Web_pages_viewed',\n",
       " 'Status',\n",
       " 'Search_Engine_Number',\n",
       " 'Search_Engine_Vector',\n",
       " 'Country_Num',\n",
       " 'Country_Vector']"
      ]
     },
     "execution_count": 25,
     "metadata": {},
     "output_type": "execute_result"
    }
   ],
   "source": [
    "df.columns"
   ]
  },
  {
   "cell_type": "code",
   "execution_count": 26,
   "id": "9c208ff2",
   "metadata": {
    "execution": {
     "iopub.execute_input": "2022-04-15T14:54:59.784437Z",
     "iopub.status.busy": "2022-04-15T14:54:59.783859Z",
     "iopub.status.idle": "2022-04-15T14:54:59.887493Z",
     "shell.execute_reply": "2022-04-15T14:54:59.886500Z"
    },
    "papermill": {
     "duration": 0.183547,
     "end_time": "2022-04-15T14:54:59.890727",
     "exception": false,
     "start_time": "2022-04-15T14:54:59.707180",
     "status": "completed"
    },
    "tags": []
   },
   "outputs": [],
   "source": [
    "df_assembler = VectorAssembler(inputCols=[\n",
    "#'Country',\n",
    " 'Age',\n",
    " 'Repeat_Visitor',\n",
    " #'Platform',\n",
    " 'Web_pages_viewed',\n",
    " 'Status',\n",
    "# 'Search_Engine_Number',\n",
    " 'Search_Engine_Vector',\n",
    " #'Country_Num',\n",
    " 'Country_Vector'], outputCol='features')\n",
    "df = df_assembler.transform(df)"
   ]
  },
  {
   "cell_type": "code",
   "execution_count": 27,
   "id": "5c0cfcf0",
   "metadata": {
    "execution": {
     "iopub.execute_input": "2022-04-15T14:55:00.048020Z",
     "iopub.status.busy": "2022-04-15T14:55:00.047686Z",
     "iopub.status.idle": "2022-04-15T14:55:00.053474Z",
     "shell.execute_reply": "2022-04-15T14:55:00.052514Z"
    },
    "papermill": {
     "duration": 0.084985,
     "end_time": "2022-04-15T14:55:00.055443",
     "exception": false,
     "start_time": "2022-04-15T14:54:59.970458",
     "status": "completed"
    },
    "tags": []
   },
   "outputs": [
    {
     "name": "stdout",
     "output_type": "stream",
     "text": [
      "root\n",
      " |-- Country: string (nullable = true)\n",
      " |-- Age: integer (nullable = true)\n",
      " |-- Repeat_Visitor: integer (nullable = true)\n",
      " |-- Platform: string (nullable = true)\n",
      " |-- Web_pages_viewed: integer (nullable = true)\n",
      " |-- Status: integer (nullable = true)\n",
      " |-- Search_Engine_Number: double (nullable = false)\n",
      " |-- Search_Engine_Vector: vector (nullable = true)\n",
      " |-- Country_Num: double (nullable = false)\n",
      " |-- Country_Vector: vector (nullable = true)\n",
      " |-- features: vector (nullable = true)\n",
      "\n"
     ]
    }
   ],
   "source": [
    "df.printSchema()"
   ]
  },
  {
   "cell_type": "code",
   "execution_count": 28,
   "id": "d19a6588",
   "metadata": {
    "execution": {
     "iopub.execute_input": "2022-04-15T14:55:00.211449Z",
     "iopub.status.busy": "2022-04-15T14:55:00.210916Z",
     "iopub.status.idle": "2022-04-15T14:55:00.483494Z",
     "shell.execute_reply": "2022-04-15T14:55:00.482611Z"
    },
    "papermill": {
     "duration": 0.353848,
     "end_time": "2022-04-15T14:55:00.486558",
     "exception": false,
     "start_time": "2022-04-15T14:55:00.132710",
     "status": "completed"
    },
    "tags": []
   },
   "outputs": [
    {
     "name": "stdout",
     "output_type": "stream",
     "text": [
      "+---------------------------------------+------+\n",
      "|features                               |Status|\n",
      "+---------------------------------------+------+\n",
      "|[41.0,1.0,21.0,1.0,1.0,0.0,0.0,1.0,0.0]|1     |\n",
      "|[28.0,1.0,5.0,0.0,1.0,0.0,0.0,0.0,1.0] |0     |\n",
      "|(9,[0,2,5,8],[40.0,3.0,1.0,1.0])       |0     |\n",
      "|[31.0,1.0,15.0,1.0,0.0,0.0,1.0,0.0,0.0]|1     |\n",
      "|(9,[0,2,3,5],[32.0,15.0,1.0,1.0])      |1     |\n",
      "|(9,[0,2,5,8],[32.0,3.0,1.0,1.0])       |0     |\n",
      "|(9,[0,2,5,8],[32.0,6.0,1.0,1.0])       |0     |\n",
      "|(9,[0,2,5,6],[27.0,9.0,1.0,1.0])       |0     |\n",
      "|(9,[0,2,4,6],[32.0,2.0,1.0,1.0])       |0     |\n",
      "|[31.0,1.0,16.0,1.0,0.0,0.0,1.0,0.0,0.0]|1     |\n",
      "+---------------------------------------+------+\n",
      "only showing top 10 rows\n",
      "\n"
     ]
    }
   ],
   "source": [
    "df.select(['features', 'Status']).show(10,False)"
   ]
  },
  {
   "cell_type": "code",
   "execution_count": null,
   "id": "89e54034",
   "metadata": {
    "papermill": {
     "duration": 0.12967,
     "end_time": "2022-04-15T14:55:00.775376",
     "exception": false,
     "start_time": "2022-04-15T14:55:00.645706",
     "status": "completed"
    },
    "tags": []
   },
   "outputs": [],
   "source": []
  }
 ],
 "metadata": {
  "kernelspec": {
   "display_name": "Python 3",
   "language": "python",
   "name": "python3"
  },
  "language_info": {
   "codemirror_mode": {
    "name": "ipython",
    "version": 3
   },
   "file_extension": ".py",
   "mimetype": "text/x-python",
   "name": "python",
   "nbconvert_exporter": "python",
   "pygments_lexer": "ipython3",
   "version": "3.7.12"
  },
  "papermill": {
   "default_parameters": {},
   "duration": 97.757199,
   "end_time": "2022-04-15T14:55:03.474622",
   "environment_variables": {},
   "exception": null,
   "input_path": "__notebook__.ipynb",
   "output_path": "__notebook__.ipynb",
   "parameters": {},
   "start_time": "2022-04-15T14:53:25.717423",
   "version": "2.3.4"
  }
 },
 "nbformat": 4,
 "nbformat_minor": 5
}
