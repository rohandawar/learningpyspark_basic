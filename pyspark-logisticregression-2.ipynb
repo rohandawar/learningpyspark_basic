{
 "cells": [
  {
   "cell_type": "code",
   "execution_count": 1,
   "id": "1f2bb306",
   "metadata": {
    "_cell_guid": "b1076dfc-b9ad-4769-8c92-a6c4dae69d19",
    "_uuid": "8f2839f25d086af736a60e9eeb907d3b93b6e0e5",
    "execution": {
     "iopub.execute_input": "2022-04-15T14:24:44.634623Z",
     "iopub.status.busy": "2022-04-15T14:24:44.634292Z",
     "iopub.status.idle": "2022-04-15T14:24:44.649443Z",
     "shell.execute_reply": "2022-04-15T14:24:44.648473Z"
    },
    "papermill": {
     "duration": 0.038782,
     "end_time": "2022-04-15T14:24:44.651572",
     "exception": false,
     "start_time": "2022-04-15T14:24:44.612790",
     "status": "completed"
    },
    "tags": []
   },
   "outputs": [
    {
     "name": "stdout",
     "output_type": "stream",
     "text": [
      "/kaggle/input/pyspark-logistic-regression/Log_Reg_dataset.csv\n"
     ]
    }
   ],
   "source": [
    "# This Python 3 environment comes with many helpful analytics libraries installed\n",
    "# It is defined by the kaggle/python Docker image: https://github.com/kaggle/docker-python\n",
    "# For example, here's several helpful packages to load\n",
    "\n",
    "import numpy as np # linear algebra\n",
    "import pandas as pd # data processing, CSV file I/O (e.g. pd.read_csv)\n",
    "\n",
    "# Input data files are available in the read-only \"../input/\" directory\n",
    "# For example, running this (by clicking run or pressing Shift+Enter) will list all files under the input directory\n",
    "\n",
    "import os\n",
    "for dirname, _, filenames in os.walk('/kaggle/input'):\n",
    "    for filename in filenames:\n",
    "        print(os.path.join(dirname, filename))\n",
    "\n",
    "# You can write up to 20GB to the current directory (/kaggle/working/) that gets preserved as output when you create a version using \"Save & Run All\" \n",
    "# You can also write temporary files to /kaggle/temp/, but they won't be saved outside of the current session"
   ]
  },
  {
   "cell_type": "code",
   "execution_count": 2,
   "id": "8c4aa867",
   "metadata": {
    "execution": {
     "iopub.execute_input": "2022-04-15T14:24:44.691863Z",
     "iopub.status.busy": "2022-04-15T14:24:44.691630Z",
     "iopub.status.idle": "2022-04-15T14:25:40.812238Z",
     "shell.execute_reply": "2022-04-15T14:25:40.811264Z"
    },
    "papermill": {
     "duration": 56.143309,
     "end_time": "2022-04-15T14:25:40.814666",
     "exception": false,
     "start_time": "2022-04-15T14:24:44.671357",
     "status": "completed"
    },
    "tags": []
   },
   "outputs": [
    {
     "name": "stdout",
     "output_type": "stream",
     "text": [
      "Collecting findspark\r\n",
      "  Downloading findspark-2.0.1-py2.py3-none-any.whl (4.4 kB)\r\n",
      "Installing collected packages: findspark\r\n",
      "Successfully installed findspark-2.0.1\r\n",
      "\u001b[33mWARNING: Running pip as the 'root' user can result in broken permissions and conflicting behaviour with the system package manager. It is recommended to use a virtual environment instead: https://pip.pypa.io/warnings/venv\u001b[0m\u001b[33m\r\n",
      "\u001b[0mCollecting pyspark\r\n",
      "  Downloading pyspark-3.2.1.tar.gz (281.4 MB)\r\n",
      "\u001b[2K     \u001b[90m━━━━━━━━━━━━━━━━━━━━━━━━━━━━━━━━━━━━━━━\u001b[0m \u001b[32m281.4/281.4 MB\u001b[0m \u001b[31m4.1 MB/s\u001b[0m eta \u001b[36m0:00:00\u001b[0m\r\n",
      "\u001b[?25h  Preparing metadata (setup.py) ... \u001b[?25l-\b \b\\\b \bdone\r\n",
      "\u001b[?25hCollecting py4j==0.10.9.3\r\n",
      "  Downloading py4j-0.10.9.3-py2.py3-none-any.whl (198 kB)\r\n",
      "\u001b[2K     \u001b[90m━━━━━━━━━━━━━━━━━━━━━━━━━━━━━━━━━━━━━━\u001b[0m \u001b[32m199.0/199.0 KB\u001b[0m \u001b[31m16.3 MB/s\u001b[0m eta \u001b[36m0:00:00\u001b[0m\r\n",
      "\u001b[?25hBuilding wheels for collected packages: pyspark\r\n",
      "  Building wheel for pyspark (setup.py) ... \u001b[?25l-\b \b\\\b \b|\b \b/\b \b-\b \b\\\b \b|\b \b/\b \b-\b \b\\\b \b|\b \b/\b \b-\b \b\\\b \b|\b \b/\b \b-\b \b\\\b \b|\b \b/\b \b-\b \b\\\b \b|\b \b/\b \b-\b \b\\\b \b|\b \b/\b \b-\b \b\\\b \b|\b \b/\b \b-\b \b\\\b \b|\b \b/\b \b-\b \b\\\b \b|\b \b/\b \b-\b \b\\\b \b|\b \b/\b \b-\b \b\\\b \b|\b \b/\b \b-\b \b\\\b \b|\b \b/\b \b-\b \b\\\b \b|\b \bdone\r\n",
      "\u001b[?25h  Created wheel for pyspark: filename=pyspark-3.2.1-py2.py3-none-any.whl size=281853642 sha256=29714d1301d87bf186875ab8ef2723b5e7e646aa9e1b75530c0ee841f03cdff0\r\n",
      "  Stored in directory: /root/.cache/pip/wheels/9f/f5/07/7cd8017084dce4e93e84e92efd1e1d5334db05f2e83bcef74f\r\n",
      "Successfully built pyspark\r\n",
      "Installing collected packages: py4j, pyspark\r\n",
      "  Attempting uninstall: py4j\r\n",
      "    Found existing installation: py4j 0.10.9.5\r\n",
      "    Uninstalling py4j-0.10.9.5:\r\n",
      "      Successfully uninstalled py4j-0.10.9.5\r\n",
      "Successfully installed py4j-0.10.9.3 pyspark-3.2.1\r\n",
      "\u001b[33mWARNING: Running pip as the 'root' user can result in broken permissions and conflicting behaviour with the system package manager. It is recommended to use a virtual environment instead: https://pip.pypa.io/warnings/venv\u001b[0m\u001b[33m\r\n",
      "\u001b[0m"
     ]
    }
   ],
   "source": [
    "!pip install findspark\n",
    "!pip install pyspark"
   ]
  },
  {
   "cell_type": "code",
   "execution_count": 3,
   "id": "2ffa1136",
   "metadata": {
    "execution": {
     "iopub.execute_input": "2022-04-15T14:25:41.008789Z",
     "iopub.status.busy": "2022-04-15T14:25:41.008231Z",
     "iopub.status.idle": "2022-04-15T14:25:41.163663Z",
     "shell.execute_reply": "2022-04-15T14:25:41.162843Z"
    },
    "papermill": {
     "duration": 0.255476,
     "end_time": "2022-04-15T14:25:41.165913",
     "exception": false,
     "start_time": "2022-04-15T14:25:40.910437",
     "status": "completed"
    },
    "tags": []
   },
   "outputs": [],
   "source": [
    "import findspark\n",
    "findspark.init()\n",
    "import pyspark"
   ]
  },
  {
   "cell_type": "code",
   "execution_count": 4,
   "id": "e816457f",
   "metadata": {
    "execution": {
     "iopub.execute_input": "2022-04-15T14:25:41.361335Z",
     "iopub.status.busy": "2022-04-15T14:25:41.361102Z",
     "iopub.status.idle": "2022-04-15T14:25:46.814388Z",
     "shell.execute_reply": "2022-04-15T14:25:46.813487Z"
    },
    "papermill": {
     "duration": 5.552344,
     "end_time": "2022-04-15T14:25:46.818031",
     "exception": false,
     "start_time": "2022-04-15T14:25:41.265687",
     "status": "completed"
    },
    "tags": []
   },
   "outputs": [
    {
     "name": "stderr",
     "output_type": "stream",
     "text": [
      "WARNING: An illegal reflective access operation has occurred\n",
      "WARNING: Illegal reflective access by org.apache.spark.unsafe.Platform (file:/opt/conda/lib/python3.7/site-packages/pyspark/jars/spark-unsafe_2.12-3.2.1.jar) to constructor java.nio.DirectByteBuffer(long,int)\n",
      "WARNING: Please consider reporting this to the maintainers of org.apache.spark.unsafe.Platform\n",
      "WARNING: Use --illegal-access=warn to enable warnings of further illegal reflective access operations\n",
      "WARNING: All illegal access operations will be denied in a future release\n",
      "Using Spark's default log4j profile: org/apache/spark/log4j-defaults.properties\n",
      "Setting default log level to \"WARN\".\n",
      "To adjust logging level use sc.setLogLevel(newLevel). For SparkR, use setLogLevel(newLevel).\n",
      "22/04/15 14:25:44 WARN NativeCodeLoader: Unable to load native-hadoop library for your platform... using builtin-java classes where applicable\n"
     ]
    }
   ],
   "source": [
    "from pyspark.sql import SparkSession\n",
    "spark = SparkSession.builder.appName('log_reg').getOrCreate()"
   ]
  },
  {
   "cell_type": "code",
   "execution_count": 5,
   "id": "7186a7be",
   "metadata": {
    "execution": {
     "iopub.execute_input": "2022-04-15T14:25:47.024190Z",
     "iopub.status.busy": "2022-04-15T14:25:47.023883Z",
     "iopub.status.idle": "2022-04-15T14:25:47.151348Z",
     "shell.execute_reply": "2022-04-15T14:25:47.150725Z"
    },
    "papermill": {
     "duration": 0.230966,
     "end_time": "2022-04-15T14:25:47.153785",
     "exception": false,
     "start_time": "2022-04-15T14:25:46.922819",
     "status": "completed"
    },
    "tags": []
   },
   "outputs": [],
   "source": [
    "#import libs\n",
    "from pyspark.sql.functions import *\n",
    "from pyspark.ml.feature import StringIndexer\n",
    "from pyspark.ml.feature import VectorAssembler\n",
    "from pyspark.ml.feature import OneHotEncoder"
   ]
  },
  {
   "cell_type": "code",
   "execution_count": 6,
   "id": "2ca8ba2b",
   "metadata": {
    "execution": {
     "iopub.execute_input": "2022-04-15T14:25:47.348795Z",
     "iopub.status.busy": "2022-04-15T14:25:47.348263Z",
     "iopub.status.idle": "2022-04-15T14:25:52.850717Z",
     "shell.execute_reply": "2022-04-15T14:25:52.849672Z"
    },
    "papermill": {
     "duration": 5.602338,
     "end_time": "2022-04-15T14:25:52.853254",
     "exception": false,
     "start_time": "2022-04-15T14:25:47.250916",
     "status": "completed"
    },
    "tags": []
   },
   "outputs": [
    {
     "name": "stdout",
     "output_type": "stream",
     "text": [
      "+---------+---+--------------+--------+----------------+------+\n",
      "|  Country|Age|Repeat_Visitor|Platform|Web_pages_viewed|Status|\n",
      "+---------+---+--------------+--------+----------------+------+\n",
      "|    India| 41|             1|   Yahoo|              21|     1|\n",
      "|   Brazil| 28|             1|   Yahoo|               5|     0|\n",
      "|   Brazil| 40|             0|  Google|               3|     0|\n",
      "|Indonesia| 31|             1|    Bing|              15|     1|\n",
      "| Malaysia| 32|             0|  Google|              15|     1|\n",
      "+---------+---+--------------+--------+----------------+------+\n",
      "only showing top 5 rows\n",
      "\n"
     ]
    }
   ],
   "source": [
    "#read the dataset\n",
    "df = spark.read.csv('/kaggle/input/pyspark-logistic-regression/Log_Reg_dataset.csv', inferSchema=True,header=True)\n",
    "df.show(5)"
   ]
  },
  {
   "cell_type": "code",
   "execution_count": 7,
   "id": "f6c0a82f",
   "metadata": {
    "execution": {
     "iopub.execute_input": "2022-04-15T14:25:53.056519Z",
     "iopub.status.busy": "2022-04-15T14:25:53.056248Z",
     "iopub.status.idle": "2022-04-15T14:25:53.716414Z",
     "shell.execute_reply": "2022-04-15T14:25:53.715626Z"
    },
    "papermill": {
     "duration": 0.763405,
     "end_time": "2022-04-15T14:25:53.719148",
     "exception": false,
     "start_time": "2022-04-15T14:25:52.955743",
     "status": "completed"
    },
    "tags": []
   },
   "outputs": [
    {
     "name": "stdout",
     "output_type": "stream",
     "text": [
      "(20000, 6)\n"
     ]
    }
   ],
   "source": [
    "#shape of data\n",
    "print((df.count(),len(df.columns)))"
   ]
  },
  {
   "cell_type": "code",
   "execution_count": 8,
   "id": "b0d2a123",
   "metadata": {
    "execution": {
     "iopub.execute_input": "2022-04-15T14:25:53.922865Z",
     "iopub.status.busy": "2022-04-15T14:25:53.922365Z",
     "iopub.status.idle": "2022-04-15T14:25:53.929113Z",
     "shell.execute_reply": "2022-04-15T14:25:53.928362Z"
    },
    "papermill": {
     "duration": 0.109368,
     "end_time": "2022-04-15T14:25:53.931818",
     "exception": false,
     "start_time": "2022-04-15T14:25:53.822450",
     "status": "completed"
    },
    "tags": []
   },
   "outputs": [
    {
     "name": "stdout",
     "output_type": "stream",
     "text": [
      "root\n",
      " |-- Country: string (nullable = true)\n",
      " |-- Age: integer (nullable = true)\n",
      " |-- Repeat_Visitor: integer (nullable = true)\n",
      " |-- Platform: string (nullable = true)\n",
      " |-- Web_pages_viewed: integer (nullable = true)\n",
      " |-- Status: integer (nullable = true)\n",
      "\n"
     ]
    }
   ],
   "source": [
    "#check the schemea\n",
    "df.printSchema()"
   ]
  },
  {
   "cell_type": "code",
   "execution_count": 9,
   "id": "78c0025d",
   "metadata": {
    "execution": {
     "iopub.execute_input": "2022-04-15T14:25:54.146210Z",
     "iopub.status.busy": "2022-04-15T14:25:54.145971Z",
     "iopub.status.idle": "2022-04-15T14:25:56.254276Z",
     "shell.execute_reply": "2022-04-15T14:25:56.253513Z"
    },
    "papermill": {
     "duration": 2.212065,
     "end_time": "2022-04-15T14:25:56.258473",
     "exception": false,
     "start_time": "2022-04-15T14:25:54.046408",
     "status": "completed"
    },
    "tags": []
   },
   "outputs": [
    {
     "name": "stderr",
     "output_type": "stream",
     "text": [
      "[Stage 6:>                                                          (0 + 1) / 1]\r"
     ]
    },
    {
     "name": "stdout",
     "output_type": "stream",
     "text": [
      "+-------+--------+-----------------+-----------------+--------+-----------------+------------------+\n",
      "|summary| Country|              Age|   Repeat_Visitor|Platform| Web_pages_viewed|            Status|\n",
      "+-------+--------+-----------------+-----------------+--------+-----------------+------------------+\n",
      "|  count|   20000|            20000|            20000|   20000|            20000|             20000|\n",
      "|   mean|    null|         28.53955|           0.5029|    null|           9.5533|               0.5|\n",
      "| stddev|    null|7.888912950773227|0.500004090187782|    null|6.073903499824976|0.5000125004687693|\n",
      "|    min|  Brazil|               17|                0|    Bing|                1|                 0|\n",
      "|    max|Malaysia|              111|                1|   Yahoo|               29|                 1|\n",
      "+-------+--------+-----------------+-----------------+--------+-----------------+------------------+\n",
      "\n"
     ]
    },
    {
     "name": "stderr",
     "output_type": "stream",
     "text": [
      "                                                                                \r"
     ]
    }
   ],
   "source": [
    "#explore the dataset\n",
    "df.describe().show()"
   ]
  },
  {
   "cell_type": "code",
   "execution_count": 10,
   "id": "4000065d",
   "metadata": {
    "execution": {
     "iopub.execute_input": "2022-04-15T14:25:56.530570Z",
     "iopub.status.busy": "2022-04-15T14:25:56.530266Z",
     "iopub.status.idle": "2022-04-15T14:25:57.312164Z",
     "shell.execute_reply": "2022-04-15T14:25:57.311343Z"
    },
    "papermill": {
     "duration": 0.896159,
     "end_time": "2022-04-15T14:25:57.314765",
     "exception": false,
     "start_time": "2022-04-15T14:25:56.418606",
     "status": "completed"
    },
    "tags": []
   },
   "outputs": [
    {
     "name": "stdout",
     "output_type": "stream",
     "text": [
      "+---------+-----+\n",
      "|  country|count|\n",
      "+---------+-----+\n",
      "| Malaysia| 1218|\n",
      "|    India| 4018|\n",
      "|Indonesia|12178|\n",
      "|   Brazil| 2586|\n",
      "+---------+-----+\n",
      "\n"
     ]
    }
   ],
   "source": [
    "df.groupby('country').count().show()"
   ]
  },
  {
   "cell_type": "code",
   "execution_count": 11,
   "id": "c7f5c969",
   "metadata": {
    "execution": {
     "iopub.execute_input": "2022-04-15T14:25:57.601959Z",
     "iopub.status.busy": "2022-04-15T14:25:57.601709Z",
     "iopub.status.idle": "2022-04-15T14:25:57.877376Z",
     "shell.execute_reply": "2022-04-15T14:25:57.876540Z"
    },
    "papermill": {
     "duration": 0.400915,
     "end_time": "2022-04-15T14:25:57.881028",
     "exception": false,
     "start_time": "2022-04-15T14:25:57.480113",
     "status": "completed"
    },
    "tags": []
   },
   "outputs": [
    {
     "name": "stdout",
     "output_type": "stream",
     "text": [
      "+--------+-----+\n",
      "|Platform|count|\n",
      "+--------+-----+\n",
      "|   Yahoo| 9859|\n",
      "|    Bing| 4360|\n",
      "|  Google| 5781|\n",
      "+--------+-----+\n",
      "\n"
     ]
    }
   ],
   "source": [
    "df.groupby('Platform').count().show()"
   ]
  },
  {
   "cell_type": "code",
   "execution_count": 12,
   "id": "9e9fe56f",
   "metadata": {
    "execution": {
     "iopub.execute_input": "2022-04-15T14:25:58.157866Z",
     "iopub.status.busy": "2022-04-15T14:25:58.157283Z",
     "iopub.status.idle": "2022-04-15T14:25:58.491969Z",
     "shell.execute_reply": "2022-04-15T14:25:58.491163Z"
    },
    "papermill": {
     "duration": 0.455114,
     "end_time": "2022-04-15T14:25:58.496263",
     "exception": false,
     "start_time": "2022-04-15T14:25:58.041149",
     "status": "completed"
    },
    "tags": []
   },
   "outputs": [
    {
     "name": "stdout",
     "output_type": "stream",
     "text": [
      "+------+-----+\n",
      "|Status|count|\n",
      "+------+-----+\n",
      "|     1|10000|\n",
      "|     0|10000|\n",
      "+------+-----+\n",
      "\n"
     ]
    }
   ],
   "source": [
    "df.groupby('Status').count().show()"
   ]
  },
  {
   "cell_type": "code",
   "execution_count": 13,
   "id": "e303883c",
   "metadata": {
    "execution": {
     "iopub.execute_input": "2022-04-15T14:25:58.696186Z",
     "iopub.status.busy": "2022-04-15T14:25:58.695928Z",
     "iopub.status.idle": "2022-04-15T14:25:59.180745Z",
     "shell.execute_reply": "2022-04-15T14:25:59.179875Z"
    },
    "papermill": {
     "duration": 0.589821,
     "end_time": "2022-04-15T14:25:59.185627",
     "exception": false,
     "start_time": "2022-04-15T14:25:58.595806",
     "status": "completed"
    },
    "tags": []
   },
   "outputs": [
    {
     "name": "stdout",
     "output_type": "stream",
     "text": [
      "+---------+------------------+-------------------+---------------------+--------------------+\n",
      "|  Country|          avg(Age)|avg(Repeat_Visitor)|avg(Web_pages_viewed)|         avg(Status)|\n",
      "+---------+------------------+-------------------+---------------------+--------------------+\n",
      "| Malaysia|27.792282430213465| 0.5730706075533661|   11.192118226600986|  0.6568144499178982|\n",
      "|    India|27.976854156296664| 0.5433051269288203|   10.727227476356397|  0.6212045793927327|\n",
      "|Indonesia| 28.43159796354081| 0.5207751683363442|    9.985711939563148|  0.5422893742814913|\n",
      "|   Brazil|30.274168600154677|  0.322892498066512|    4.921113689095128|0.038669760247486466|\n",
      "+---------+------------------+-------------------+---------------------+--------------------+\n",
      "\n"
     ]
    }
   ],
   "source": [
    "df.groupby('Country').mean().show()"
   ]
  },
  {
   "cell_type": "code",
   "execution_count": 14,
   "id": "da1de041",
   "metadata": {
    "execution": {
     "iopub.execute_input": "2022-04-15T14:25:59.416068Z",
     "iopub.status.busy": "2022-04-15T14:25:59.415075Z",
     "iopub.status.idle": "2022-04-15T14:25:59.934043Z",
     "shell.execute_reply": "2022-04-15T14:25:59.932946Z"
    },
    "papermill": {
     "duration": 0.626006,
     "end_time": "2022-04-15T14:25:59.936933",
     "exception": false,
     "start_time": "2022-04-15T14:25:59.310927",
     "status": "completed"
    },
    "tags": []
   },
   "outputs": [
    {
     "name": "stdout",
     "output_type": "stream",
     "text": [
      "+--------+------------------+-------------------+---------------------+------------------+\n",
      "|Platform|          avg(Age)|avg(Repeat_Visitor)|avg(Web_pages_viewed)|       avg(Status)|\n",
      "+--------+------------------+-------------------+---------------------+------------------+\n",
      "|   Yahoo|28.569226087838523| 0.5094837204584644|    9.599655137437875|0.5071508266558474|\n",
      "|    Bing| 28.68394495412844| 0.4720183486238532|    9.114908256880733|0.4559633027522936|\n",
      "|  Google|28.380038055699707| 0.5149628092025601|    9.804878048780488|0.5210171250648676|\n",
      "+--------+------------------+-------------------+---------------------+------------------+\n",
      "\n"
     ]
    }
   ],
   "source": [
    "df.groupby('Platform').mean().show()"
   ]
  },
  {
   "cell_type": "markdown",
   "id": "4703bd75",
   "metadata": {
    "papermill": {
     "duration": 0.104387,
     "end_time": "2022-04-15T14:26:00.146758",
     "exception": false,
     "start_time": "2022-04-15T14:26:00.042371",
     "status": "completed"
    },
    "tags": []
   },
   "source": [
    "_Data Preprocessing, converting categorical data into Numerical form_"
   ]
  },
  {
   "cell_type": "code",
   "execution_count": 15,
   "id": "fb4b6a96",
   "metadata": {
    "execution": {
     "iopub.execute_input": "2022-04-15T14:26:00.353622Z",
     "iopub.status.busy": "2022-04-15T14:26:00.353165Z",
     "iopub.status.idle": "2022-04-15T14:26:01.438296Z",
     "shell.execute_reply": "2022-04-15T14:26:01.437385Z"
    },
    "papermill": {
     "duration": 1.191789,
     "end_time": "2022-04-15T14:26:01.441262",
     "exception": false,
     "start_time": "2022-04-15T14:26:00.249473",
     "status": "completed"
    },
    "tags": []
   },
   "outputs": [
    {
     "name": "stdout",
     "output_type": "stream",
     "text": [
      "+-------+---+--------------+--------+----------------+------+--------------------+\n",
      "|Country|Age|Repeat_Visitor|Platform|Web_pages_viewed|Status|Search_Engine_Number|\n",
      "+-------+---+--------------+--------+----------------+------+--------------------+\n",
      "|India  |41 |1             |Yahoo   |21              |1     |0.0                 |\n",
      "|Brazil |28 |1             |Yahoo   |5               |0     |0.0                 |\n",
      "|Brazil |40 |0             |Google  |3               |0     |1.0                 |\n",
      "+-------+---+--------------+--------+----------------+------+--------------------+\n",
      "only showing top 3 rows\n",
      "\n"
     ]
    }
   ],
   "source": [
    "search_engine_indexer = StringIndexer(inputCol='Platform', outputCol='Search_Engine_Number').fit(df)\n",
    "df = search_engine_indexer.transform(df)\n",
    "df.show(3, False)"
   ]
  },
  {
   "cell_type": "code",
   "execution_count": 16,
   "id": "d5b570e7",
   "metadata": {
    "execution": {
     "iopub.execute_input": "2022-04-15T14:26:01.647692Z",
     "iopub.status.busy": "2022-04-15T14:26:01.647381Z",
     "iopub.status.idle": "2022-04-15T14:26:02.046727Z",
     "shell.execute_reply": "2022-04-15T14:26:02.045179Z"
    },
    "papermill": {
     "duration": 0.505425,
     "end_time": "2022-04-15T14:26:02.049602",
     "exception": false,
     "start_time": "2022-04-15T14:26:01.544177",
     "status": "completed"
    },
    "tags": []
   },
   "outputs": [
    {
     "name": "stdout",
     "output_type": "stream",
     "text": [
      "+-------+---+--------------+--------+----------------+------+--------------------+--------------------+\n",
      "|Country|Age|Repeat_Visitor|Platform|Web_pages_viewed|Status|Search_Engine_Number|Search_Engine_Vector|\n",
      "+-------+---+--------------+--------+----------------+------+--------------------+--------------------+\n",
      "|India  |41 |1             |Yahoo   |21              |1     |0.0                 |(2,[0],[1.0])       |\n",
      "|Brazil |28 |1             |Yahoo   |5               |0     |0.0                 |(2,[0],[1.0])       |\n",
      "|Brazil |40 |0             |Google  |3               |0     |1.0                 |(2,[1],[1.0])       |\n",
      "+-------+---+--------------+--------+----------------+------+--------------------+--------------------+\n",
      "only showing top 3 rows\n",
      "\n"
     ]
    }
   ],
   "source": [
    "#one hot encoding for Search Engine /Platform Variable\n",
    "search_engine_encoder = OneHotEncoder(inputCol=\"Search_Engine_Number\", outputCol=\"Search_Engine_Vector\").fit(df)\n",
    "df = search_engine_encoder.transform(df)\n",
    "df.show(3,False)"
   ]
  },
  {
   "cell_type": "code",
   "execution_count": 17,
   "id": "65b1deaa",
   "metadata": {
    "execution": {
     "iopub.execute_input": "2022-04-15T14:26:02.388052Z",
     "iopub.status.busy": "2022-04-15T14:26:02.387284Z",
     "iopub.status.idle": "2022-04-15T14:26:02.881895Z",
     "shell.execute_reply": "2022-04-15T14:26:02.880976Z"
    },
    "papermill": {
     "duration": 0.667367,
     "end_time": "2022-04-15T14:26:02.887718",
     "exception": false,
     "start_time": "2022-04-15T14:26:02.220351",
     "status": "completed"
    },
    "tags": []
   },
   "outputs": [
    {
     "name": "stdout",
     "output_type": "stream",
     "text": [
      "+--------+-----+\n",
      "|Platform|count|\n",
      "+--------+-----+\n",
      "|   Yahoo| 9859|\n",
      "|  Google| 5781|\n",
      "|    Bing| 4360|\n",
      "+--------+-----+\n",
      "\n"
     ]
    }
   ],
   "source": [
    "df.groupby('Platform').count().orderBy('count', ascending=False).show()"
   ]
  },
  {
   "cell_type": "code",
   "execution_count": null,
   "id": "f355887e",
   "metadata": {
    "papermill": {
     "duration": 0.162,
     "end_time": "2022-04-15T14:26:03.220824",
     "exception": false,
     "start_time": "2022-04-15T14:26:03.058824",
     "status": "completed"
    },
    "tags": []
   },
   "outputs": [],
   "source": []
  }
 ],
 "metadata": {
  "kernelspec": {
   "display_name": "Python 3",
   "language": "python",
   "name": "python3"
  },
  "language_info": {
   "codemirror_mode": {
    "name": "ipython",
    "version": 3
   },
   "file_extension": ".py",
   "mimetype": "text/x-python",
   "name": "python",
   "nbconvert_exporter": "python",
   "pygments_lexer": "ipython3",
   "version": "3.7.12"
  },
  "papermill": {
   "default_parameters": {},
   "duration": 90.364127,
   "end_time": "2022-04-15T14:26:06.010087",
   "environment_variables": {},
   "exception": null,
   "input_path": "__notebook__.ipynb",
   "output_path": "__notebook__.ipynb",
   "parameters": {},
   "start_time": "2022-04-15T14:24:35.645960",
   "version": "2.3.4"
  }
 },
 "nbformat": 4,
 "nbformat_minor": 5
}
