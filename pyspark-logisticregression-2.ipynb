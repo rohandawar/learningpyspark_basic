{
 "cells": [
  {
   "cell_type": "code",
   "execution_count": 1,
   "id": "bd5d8bf4",
   "metadata": {
    "_cell_guid": "b1076dfc-b9ad-4769-8c92-a6c4dae69d19",
    "_uuid": "8f2839f25d086af736a60e9eeb907d3b93b6e0e5",
    "execution": {
     "iopub.execute_input": "2022-04-15T17:47:40.981921Z",
     "iopub.status.busy": "2022-04-15T17:47:40.981263Z",
     "iopub.status.idle": "2022-04-15T17:47:41.000707Z",
     "shell.execute_reply": "2022-04-15T17:47:41.000098Z"
    },
    "papermill": {
     "duration": 0.059889,
     "end_time": "2022-04-15T17:47:41.003176",
     "exception": false,
     "start_time": "2022-04-15T17:47:40.943287",
     "status": "completed"
    },
    "tags": []
   },
   "outputs": [
    {
     "name": "stdout",
     "output_type": "stream",
     "text": [
      "/kaggle/input/pyspark-logistic-regression/Log_Reg_dataset.csv\n"
     ]
    }
   ],
   "source": [
    "# This Python 3 environment comes with many helpful analytics libraries installed\n",
    "# It is defined by the kaggle/python Docker image: https://github.com/kaggle/docker-python\n",
    "# For example, here's several helpful packages to load\n",
    "\n",
    "import numpy as np # linear algebra\n",
    "import pandas as pd # data processing, CSV file I/O (e.g. pd.read_csv)\n",
    "\n",
    "# Input data files are available in the read-only \"../input/\" directory\n",
    "# For example, running this (by clicking run or pressing Shift+Enter) will list all files under the input directory\n",
    "\n",
    "import os\n",
    "for dirname, _, filenames in os.walk('/kaggle/input'):\n",
    "    for filename in filenames:\n",
    "        print(os.path.join(dirname, filename))\n",
    "\n",
    "# You can write up to 20GB to the current directory (/kaggle/working/) that gets preserved as output when you create a version using \"Save & Run All\" \n",
    "# You can also write temporary files to /kaggle/temp/, but they won't be saved outside of the current session"
   ]
  },
  {
   "cell_type": "code",
   "execution_count": 2,
   "id": "56917cb6",
   "metadata": {
    "execution": {
     "iopub.execute_input": "2022-04-15T17:47:41.075446Z",
     "iopub.status.busy": "2022-04-15T17:47:41.075151Z",
     "iopub.status.idle": "2022-04-15T17:48:35.662986Z",
     "shell.execute_reply": "2022-04-15T17:48:35.662313Z"
    },
    "papermill": {
     "duration": 54.625473,
     "end_time": "2022-04-15T17:48:35.665302",
     "exception": false,
     "start_time": "2022-04-15T17:47:41.039829",
     "status": "completed"
    },
    "tags": []
   },
   "outputs": [
    {
     "name": "stdout",
     "output_type": "stream",
     "text": [
      "Collecting findspark\r\n",
      "  Downloading findspark-2.0.1-py2.py3-none-any.whl (4.4 kB)\r\n",
      "Installing collected packages: findspark\r\n",
      "Successfully installed findspark-2.0.1\r\n",
      "\u001b[33mWARNING: Running pip as the 'root' user can result in broken permissions and conflicting behaviour with the system package manager. It is recommended to use a virtual environment instead: https://pip.pypa.io/warnings/venv\u001b[0m\u001b[33m\r\n",
      "\u001b[0mCollecting pyspark\r\n",
      "  Downloading pyspark-3.2.1.tar.gz (281.4 MB)\r\n",
      "\u001b[2K     \u001b[90m━━━━━━━━━━━━━━━━━━━━━━━━━━━━━━━━━━━━━━━\u001b[0m \u001b[32m281.4/281.4 MB\u001b[0m \u001b[31m4.0 MB/s\u001b[0m eta \u001b[36m0:00:00\u001b[0m\r\n",
      "\u001b[?25h  Preparing metadata (setup.py) ... \u001b[?25l-\b \b\\\b \bdone\r\n",
      "\u001b[?25hCollecting py4j==0.10.9.3\r\n",
      "  Downloading py4j-0.10.9.3-py2.py3-none-any.whl (198 kB)\r\n",
      "\u001b[2K     \u001b[90m━━━━━━━━━━━━━━━━━━━━━━━━━━━━━━━━━━━━━━\u001b[0m \u001b[32m199.0/199.0 KB\u001b[0m \u001b[31m15.3 MB/s\u001b[0m eta \u001b[36m0:00:00\u001b[0m\r\n",
      "\u001b[?25hBuilding wheels for collected packages: pyspark\r\n",
      "  Building wheel for pyspark (setup.py) ... \u001b[?25l-\b \b\\\b \b|\b \b/\b \b-\b \b\\\b \b|\b \b/\b \b-\b \b\\\b \b|\b \b/\b \b-\b \b\\\b \b|\b \b/\b \b-\b \b\\\b \b|\b \b/\b \b-\b \b\\\b \b|\b \b/\b \b-\b \b\\\b \b|\b \b/\b \b-\b \b\\\b \b|\b \b/\b \b-\b \b\\\b \b|\b \b/\b \b-\b \b\\\b \b|\b \b/\b \b-\b \b\\\b \b|\b \b/\b \b-\b \b\\\b \b|\b \b/\b \b-\b \b\\\b \b|\b \b/\b \b-\b \b\\\b \b|\b \b/\b \b-\b \bdone\r\n",
      "\u001b[?25h  Created wheel for pyspark: filename=pyspark-3.2.1-py2.py3-none-any.whl size=281853642 sha256=de5ddda0ae16ca0211181484a33bbbad2aebd687db12e4aa968cc1d4b717ba50\r\n",
      "  Stored in directory: /root/.cache/pip/wheels/9f/f5/07/7cd8017084dce4e93e84e92efd1e1d5334db05f2e83bcef74f\r\n",
      "Successfully built pyspark\r\n",
      "Installing collected packages: py4j, pyspark\r\n",
      "  Attempting uninstall: py4j\r\n",
      "    Found existing installation: py4j 0.10.9.5\r\n",
      "    Uninstalling py4j-0.10.9.5:\r\n",
      "      Successfully uninstalled py4j-0.10.9.5\r\n",
      "Successfully installed py4j-0.10.9.3 pyspark-3.2.1\r\n",
      "\u001b[33mWARNING: Running pip as the 'root' user can result in broken permissions and conflicting behaviour with the system package manager. It is recommended to use a virtual environment instead: https://pip.pypa.io/warnings/venv\u001b[0m\u001b[33m\r\n",
      "\u001b[0m"
     ]
    }
   ],
   "source": [
    "!pip install findspark\n",
    "!pip install pyspark"
   ]
  },
  {
   "cell_type": "code",
   "execution_count": 3,
   "id": "9a5e6e10",
   "metadata": {
    "execution": {
     "iopub.execute_input": "2022-04-15T17:48:35.854617Z",
     "iopub.status.busy": "2022-04-15T17:48:35.854351Z",
     "iopub.status.idle": "2022-04-15T17:48:36.018392Z",
     "shell.execute_reply": "2022-04-15T17:48:36.017668Z"
    },
    "papermill": {
     "duration": 0.261306,
     "end_time": "2022-04-15T17:48:36.020846",
     "exception": false,
     "start_time": "2022-04-15T17:48:35.759540",
     "status": "completed"
    },
    "tags": []
   },
   "outputs": [],
   "source": [
    "import findspark\n",
    "findspark.init()\n",
    "import pyspark"
   ]
  },
  {
   "cell_type": "code",
   "execution_count": 4,
   "id": "0c5da233",
   "metadata": {
    "execution": {
     "iopub.execute_input": "2022-04-15T17:48:36.209181Z",
     "iopub.status.busy": "2022-04-15T17:48:36.208650Z",
     "iopub.status.idle": "2022-04-15T17:48:41.968296Z",
     "shell.execute_reply": "2022-04-15T17:48:41.967548Z"
    },
    "papermill": {
     "duration": 5.856338,
     "end_time": "2022-04-15T17:48:41.971549",
     "exception": false,
     "start_time": "2022-04-15T17:48:36.115211",
     "status": "completed"
    },
    "tags": []
   },
   "outputs": [
    {
     "name": "stderr",
     "output_type": "stream",
     "text": [
      "WARNING: An illegal reflective access operation has occurred\n",
      "WARNING: Illegal reflective access by org.apache.spark.unsafe.Platform (file:/opt/conda/lib/python3.7/site-packages/pyspark/jars/spark-unsafe_2.12-3.2.1.jar) to constructor java.nio.DirectByteBuffer(long,int)\n",
      "WARNING: Please consider reporting this to the maintainers of org.apache.spark.unsafe.Platform\n",
      "WARNING: Use --illegal-access=warn to enable warnings of further illegal reflective access operations\n",
      "WARNING: All illegal access operations will be denied in a future release\n",
      "Using Spark's default log4j profile: org/apache/spark/log4j-defaults.properties\n",
      "Setting default log level to \"WARN\".\n",
      "To adjust logging level use sc.setLogLevel(newLevel). For SparkR, use setLogLevel(newLevel).\n",
      "22/04/15 17:48:38 WARN NativeCodeLoader: Unable to load native-hadoop library for your platform... using builtin-java classes where applicable\n"
     ]
    }
   ],
   "source": [
    "from pyspark.sql import SparkSession\n",
    "spark = SparkSession.builder.appName('log_reg').getOrCreate()"
   ]
  },
  {
   "cell_type": "code",
   "execution_count": 5,
   "id": "3d119e87",
   "metadata": {
    "execution": {
     "iopub.execute_input": "2022-04-15T17:48:42.172127Z",
     "iopub.status.busy": "2022-04-15T17:48:42.171046Z",
     "iopub.status.idle": "2022-04-15T17:48:42.322619Z",
     "shell.execute_reply": "2022-04-15T17:48:42.321714Z"
    },
    "papermill": {
     "duration": 0.251511,
     "end_time": "2022-04-15T17:48:42.325072",
     "exception": false,
     "start_time": "2022-04-15T17:48:42.073561",
     "status": "completed"
    },
    "tags": []
   },
   "outputs": [],
   "source": [
    "#import libs\n",
    "from pyspark.sql.functions import *\n",
    "from pyspark.ml.feature import StringIndexer\n",
    "from pyspark.ml.feature import VectorAssembler\n",
    "from pyspark.ml.feature import OneHotEncoder\n",
    "from pyspark.ml.classification import LogisticRegression"
   ]
  },
  {
   "cell_type": "code",
   "execution_count": 6,
   "id": "9b20e63c",
   "metadata": {
    "execution": {
     "iopub.execute_input": "2022-04-15T17:48:42.514796Z",
     "iopub.status.busy": "2022-04-15T17:48:42.514503Z",
     "iopub.status.idle": "2022-04-15T17:48:48.604988Z",
     "shell.execute_reply": "2022-04-15T17:48:48.604077Z"
    },
    "papermill": {
     "duration": 6.188699,
     "end_time": "2022-04-15T17:48:48.608171",
     "exception": false,
     "start_time": "2022-04-15T17:48:42.419472",
     "status": "completed"
    },
    "tags": []
   },
   "outputs": [
    {
     "name": "stdout",
     "output_type": "stream",
     "text": [
      "+---------+---+--------------+--------+----------------+------+\n",
      "|  Country|Age|Repeat_Visitor|Platform|Web_pages_viewed|Status|\n",
      "+---------+---+--------------+--------+----------------+------+\n",
      "|    India| 41|             1|   Yahoo|              21|     1|\n",
      "|   Brazil| 28|             1|   Yahoo|               5|     0|\n",
      "|   Brazil| 40|             0|  Google|               3|     0|\n",
      "|Indonesia| 31|             1|    Bing|              15|     1|\n",
      "| Malaysia| 32|             0|  Google|              15|     1|\n",
      "+---------+---+--------------+--------+----------------+------+\n",
      "only showing top 5 rows\n",
      "\n"
     ]
    }
   ],
   "source": [
    "#read the dataset\n",
    "df = spark.read.csv('/kaggle/input/pyspark-logistic-regression/Log_Reg_dataset.csv', inferSchema=True,header=True)\n",
    "df.show(5)"
   ]
  },
  {
   "cell_type": "code",
   "execution_count": 7,
   "id": "ab266bde",
   "metadata": {
    "execution": {
     "iopub.execute_input": "2022-04-15T17:48:48.845649Z",
     "iopub.status.busy": "2022-04-15T17:48:48.845348Z",
     "iopub.status.idle": "2022-04-15T17:48:49.574217Z",
     "shell.execute_reply": "2022-04-15T17:48:49.573076Z"
    },
    "papermill": {
     "duration": 0.829067,
     "end_time": "2022-04-15T17:48:49.578515",
     "exception": false,
     "start_time": "2022-04-15T17:48:48.749448",
     "status": "completed"
    },
    "tags": []
   },
   "outputs": [
    {
     "name": "stdout",
     "output_type": "stream",
     "text": [
      "(20000, 6)\n"
     ]
    }
   ],
   "source": [
    "#shape of data\n",
    "print((df.count(),len(df.columns)))"
   ]
  },
  {
   "cell_type": "code",
   "execution_count": 8,
   "id": "2b939552",
   "metadata": {
    "execution": {
     "iopub.execute_input": "2022-04-15T17:48:49.806833Z",
     "iopub.status.busy": "2022-04-15T17:48:49.806484Z",
     "iopub.status.idle": "2022-04-15T17:48:49.814494Z",
     "shell.execute_reply": "2022-04-15T17:48:49.812928Z"
    },
    "papermill": {
     "duration": 0.108657,
     "end_time": "2022-04-15T17:48:49.817219",
     "exception": false,
     "start_time": "2022-04-15T17:48:49.708562",
     "status": "completed"
    },
    "tags": []
   },
   "outputs": [
    {
     "name": "stdout",
     "output_type": "stream",
     "text": [
      "root\n",
      " |-- Country: string (nullable = true)\n",
      " |-- Age: integer (nullable = true)\n",
      " |-- Repeat_Visitor: integer (nullable = true)\n",
      " |-- Platform: string (nullable = true)\n",
      " |-- Web_pages_viewed: integer (nullable = true)\n",
      " |-- Status: integer (nullable = true)\n",
      "\n"
     ]
    }
   ],
   "source": [
    "#check the schemea\n",
    "df.printSchema()"
   ]
  },
  {
   "cell_type": "code",
   "execution_count": 9,
   "id": "4c72540e",
   "metadata": {
    "execution": {
     "iopub.execute_input": "2022-04-15T17:48:50.012712Z",
     "iopub.status.busy": "2022-04-15T17:48:50.012158Z",
     "iopub.status.idle": "2022-04-15T17:48:52.097074Z",
     "shell.execute_reply": "2022-04-15T17:48:52.095075Z"
    },
    "papermill": {
     "duration": 2.185295,
     "end_time": "2022-04-15T17:48:52.099538",
     "exception": false,
     "start_time": "2022-04-15T17:48:49.914243",
     "status": "completed"
    },
    "tags": []
   },
   "outputs": [
    {
     "name": "stderr",
     "output_type": "stream",
     "text": [
      "[Stage 6:>                                                          (0 + 1) / 1]\r"
     ]
    },
    {
     "name": "stdout",
     "output_type": "stream",
     "text": [
      "+-------+--------+-----------------+-----------------+--------+-----------------+------------------+\n",
      "|summary| Country|              Age|   Repeat_Visitor|Platform| Web_pages_viewed|            Status|\n",
      "+-------+--------+-----------------+-----------------+--------+-----------------+------------------+\n",
      "|  count|   20000|            20000|            20000|   20000|            20000|             20000|\n",
      "|   mean|    null|         28.53955|           0.5029|    null|           9.5533|               0.5|\n",
      "| stddev|    null|7.888912950773227|0.500004090187782|    null|6.073903499824976|0.5000125004687693|\n",
      "|    min|  Brazil|               17|                0|    Bing|                1|                 0|\n",
      "|    max|Malaysia|              111|                1|   Yahoo|               29|                 1|\n",
      "+-------+--------+-----------------+-----------------+--------+-----------------+------------------+\n",
      "\n"
     ]
    },
    {
     "name": "stderr",
     "output_type": "stream",
     "text": [
      "                                                                                \r"
     ]
    }
   ],
   "source": [
    "#explore the dataset\n",
    "df.describe().show()"
   ]
  },
  {
   "cell_type": "code",
   "execution_count": 10,
   "id": "19af54e4",
   "metadata": {
    "execution": {
     "iopub.execute_input": "2022-04-15T17:48:52.308509Z",
     "iopub.status.busy": "2022-04-15T17:48:52.308131Z",
     "iopub.status.idle": "2022-04-15T17:48:53.033991Z",
     "shell.execute_reply": "2022-04-15T17:48:53.033286Z"
    },
    "papermill": {
     "duration": 0.839086,
     "end_time": "2022-04-15T17:48:53.036911",
     "exception": false,
     "start_time": "2022-04-15T17:48:52.197825",
     "status": "completed"
    },
    "tags": []
   },
   "outputs": [
    {
     "name": "stdout",
     "output_type": "stream",
     "text": [
      "+---------+-----+\n",
      "|  country|count|\n",
      "+---------+-----+\n",
      "| Malaysia| 1218|\n",
      "|    India| 4018|\n",
      "|Indonesia|12178|\n",
      "|   Brazil| 2586|\n",
      "+---------+-----+\n",
      "\n"
     ]
    }
   ],
   "source": [
    "df.groupby('country').count().show()"
   ]
  },
  {
   "cell_type": "code",
   "execution_count": 11,
   "id": "861e4352",
   "metadata": {
    "execution": {
     "iopub.execute_input": "2022-04-15T17:48:53.235364Z",
     "iopub.status.busy": "2022-04-15T17:48:53.235109Z",
     "iopub.status.idle": "2022-04-15T17:48:53.574505Z",
     "shell.execute_reply": "2022-04-15T17:48:53.573662Z"
    },
    "papermill": {
     "duration": 0.441525,
     "end_time": "2022-04-15T17:48:53.578307",
     "exception": false,
     "start_time": "2022-04-15T17:48:53.136782",
     "status": "completed"
    },
    "tags": []
   },
   "outputs": [
    {
     "name": "stdout",
     "output_type": "stream",
     "text": [
      "+--------+-----+\n",
      "|Platform|count|\n",
      "+--------+-----+\n",
      "|   Yahoo| 9859|\n",
      "|    Bing| 4360|\n",
      "|  Google| 5781|\n",
      "+--------+-----+\n",
      "\n"
     ]
    }
   ],
   "source": [
    "df.groupby('Platform').count().show()"
   ]
  },
  {
   "cell_type": "code",
   "execution_count": 12,
   "id": "438af1cc",
   "metadata": {
    "execution": {
     "iopub.execute_input": "2022-04-15T17:48:53.781564Z",
     "iopub.status.busy": "2022-04-15T17:48:53.781079Z",
     "iopub.status.idle": "2022-04-15T17:48:54.176590Z",
     "shell.execute_reply": "2022-04-15T17:48:54.174993Z"
    },
    "papermill": {
     "duration": 0.502168,
     "end_time": "2022-04-15T17:48:54.180313",
     "exception": false,
     "start_time": "2022-04-15T17:48:53.678145",
     "status": "completed"
    },
    "tags": []
   },
   "outputs": [
    {
     "name": "stdout",
     "output_type": "stream",
     "text": [
      "+------+-----+\n",
      "|Status|count|\n",
      "+------+-----+\n",
      "|     1|10000|\n",
      "|     0|10000|\n",
      "+------+-----+\n",
      "\n"
     ]
    }
   ],
   "source": [
    "df.groupby('Status').count().show()"
   ]
  },
  {
   "cell_type": "code",
   "execution_count": 13,
   "id": "f0b5d688",
   "metadata": {
    "execution": {
     "iopub.execute_input": "2022-04-15T17:48:54.484221Z",
     "iopub.status.busy": "2022-04-15T17:48:54.483957Z",
     "iopub.status.idle": "2022-04-15T17:48:55.007139Z",
     "shell.execute_reply": "2022-04-15T17:48:55.006282Z"
    },
    "papermill": {
     "duration": 0.674043,
     "end_time": "2022-04-15T17:48:55.009805",
     "exception": false,
     "start_time": "2022-04-15T17:48:54.335762",
     "status": "completed"
    },
    "tags": []
   },
   "outputs": [
    {
     "name": "stdout",
     "output_type": "stream",
     "text": [
      "+---------+------------------+-------------------+---------------------+--------------------+\n",
      "|  Country|          avg(Age)|avg(Repeat_Visitor)|avg(Web_pages_viewed)|         avg(Status)|\n",
      "+---------+------------------+-------------------+---------------------+--------------------+\n",
      "| Malaysia|27.792282430213465| 0.5730706075533661|   11.192118226600986|  0.6568144499178982|\n",
      "|    India|27.976854156296664| 0.5433051269288203|   10.727227476356397|  0.6212045793927327|\n",
      "|Indonesia| 28.43159796354081| 0.5207751683363442|    9.985711939563148|  0.5422893742814913|\n",
      "|   Brazil|30.274168600154677|  0.322892498066512|    4.921113689095128|0.038669760247486466|\n",
      "+---------+------------------+-------------------+---------------------+--------------------+\n",
      "\n"
     ]
    }
   ],
   "source": [
    "df.groupby('Country').mean().show()"
   ]
  },
  {
   "cell_type": "code",
   "execution_count": 14,
   "id": "9748e284",
   "metadata": {
    "execution": {
     "iopub.execute_input": "2022-04-15T17:48:55.212564Z",
     "iopub.status.busy": "2022-04-15T17:48:55.212309Z",
     "iopub.status.idle": "2022-04-15T17:48:55.695989Z",
     "shell.execute_reply": "2022-04-15T17:48:55.695075Z"
    },
    "papermill": {
     "duration": 0.588733,
     "end_time": "2022-04-15T17:48:55.701419",
     "exception": false,
     "start_time": "2022-04-15T17:48:55.112686",
     "status": "completed"
    },
    "tags": []
   },
   "outputs": [
    {
     "name": "stdout",
     "output_type": "stream",
     "text": [
      "+--------+------------------+-------------------+---------------------+------------------+\n",
      "|Platform|          avg(Age)|avg(Repeat_Visitor)|avg(Web_pages_viewed)|       avg(Status)|\n",
      "+--------+------------------+-------------------+---------------------+------------------+\n",
      "|   Yahoo|28.569226087838523| 0.5094837204584644|    9.599655137437875|0.5071508266558474|\n",
      "|    Bing| 28.68394495412844| 0.4720183486238532|    9.114908256880733|0.4559633027522936|\n",
      "|  Google|28.380038055699707| 0.5149628092025601|    9.804878048780488|0.5210171250648676|\n",
      "+--------+------------------+-------------------+---------------------+------------------+\n",
      "\n"
     ]
    }
   ],
   "source": [
    "df.groupby('Platform').mean().show()"
   ]
  },
  {
   "cell_type": "markdown",
   "id": "620be8bd",
   "metadata": {
    "papermill": {
     "duration": 0.143603,
     "end_time": "2022-04-15T17:48:56.001854",
     "exception": false,
     "start_time": "2022-04-15T17:48:55.858251",
     "status": "completed"
    },
    "tags": []
   },
   "source": [
    "_Data Preprocessing, converting categorical data into Numerical form_"
   ]
  },
  {
   "cell_type": "code",
   "execution_count": 15,
   "id": "1867d1f8",
   "metadata": {
    "execution": {
     "iopub.execute_input": "2022-04-15T17:48:56.215059Z",
     "iopub.status.busy": "2022-04-15T17:48:56.214780Z",
     "iopub.status.idle": "2022-04-15T17:48:57.347040Z",
     "shell.execute_reply": "2022-04-15T17:48:57.345354Z"
    },
    "papermill": {
     "duration": 1.238737,
     "end_time": "2022-04-15T17:48:57.350630",
     "exception": false,
     "start_time": "2022-04-15T17:48:56.111893",
     "status": "completed"
    },
    "tags": []
   },
   "outputs": [
    {
     "name": "stdout",
     "output_type": "stream",
     "text": [
      "+-------+---+--------------+--------+----------------+------+--------------------+\n",
      "|Country|Age|Repeat_Visitor|Platform|Web_pages_viewed|Status|Search_Engine_Number|\n",
      "+-------+---+--------------+--------+----------------+------+--------------------+\n",
      "|India  |41 |1             |Yahoo   |21              |1     |0.0                 |\n",
      "|Brazil |28 |1             |Yahoo   |5               |0     |0.0                 |\n",
      "|Brazil |40 |0             |Google  |3               |0     |1.0                 |\n",
      "+-------+---+--------------+--------+----------------+------+--------------------+\n",
      "only showing top 3 rows\n",
      "\n"
     ]
    }
   ],
   "source": [
    "search_engine_indexer = StringIndexer(inputCol='Platform', outputCol='Search_Engine_Number').fit(df)\n",
    "df = search_engine_indexer.transform(df)\n",
    "df.show(3, False)"
   ]
  },
  {
   "cell_type": "code",
   "execution_count": 16,
   "id": "082bf572",
   "metadata": {
    "execution": {
     "iopub.execute_input": "2022-04-15T17:48:57.574266Z",
     "iopub.status.busy": "2022-04-15T17:48:57.573849Z",
     "iopub.status.idle": "2022-04-15T17:48:58.016699Z",
     "shell.execute_reply": "2022-04-15T17:48:58.015310Z"
    },
    "papermill": {
     "duration": 0.546768,
     "end_time": "2022-04-15T17:48:58.020231",
     "exception": false,
     "start_time": "2022-04-15T17:48:57.473463",
     "status": "completed"
    },
    "tags": []
   },
   "outputs": [
    {
     "name": "stdout",
     "output_type": "stream",
     "text": [
      "+-------+---+--------------+--------+----------------+------+--------------------+--------------------+\n",
      "|Country|Age|Repeat_Visitor|Platform|Web_pages_viewed|Status|Search_Engine_Number|Search_Engine_Vector|\n",
      "+-------+---+--------------+--------+----------------+------+--------------------+--------------------+\n",
      "|India  |41 |1             |Yahoo   |21              |1     |0.0                 |(2,[0],[1.0])       |\n",
      "|Brazil |28 |1             |Yahoo   |5               |0     |0.0                 |(2,[0],[1.0])       |\n",
      "|Brazil |40 |0             |Google  |3               |0     |1.0                 |(2,[1],[1.0])       |\n",
      "+-------+---+--------------+--------+----------------+------+--------------------+--------------------+\n",
      "only showing top 3 rows\n",
      "\n"
     ]
    }
   ],
   "source": [
    "#one hot encoding for Search Engine /Platform Variable\n",
    "search_engine_encoder = OneHotEncoder(inputCol=\"Search_Engine_Number\", outputCol=\"Search_Engine_Vector\").fit(df)\n",
    "df = search_engine_encoder.transform(df)\n",
    "df.show(3,False)"
   ]
  },
  {
   "cell_type": "code",
   "execution_count": 17,
   "id": "c1f1d43c",
   "metadata": {
    "execution": {
     "iopub.execute_input": "2022-04-15T17:48:58.341866Z",
     "iopub.status.busy": "2022-04-15T17:48:58.341269Z",
     "iopub.status.idle": "2022-04-15T17:48:58.765777Z",
     "shell.execute_reply": "2022-04-15T17:48:58.764961Z"
    },
    "papermill": {
     "duration": 0.58777,
     "end_time": "2022-04-15T17:48:58.769963",
     "exception": false,
     "start_time": "2022-04-15T17:48:58.182193",
     "status": "completed"
    },
    "tags": []
   },
   "outputs": [
    {
     "name": "stdout",
     "output_type": "stream",
     "text": [
      "+--------+-----+\n",
      "|Platform|count|\n",
      "+--------+-----+\n",
      "|   Yahoo| 9859|\n",
      "|  Google| 5781|\n",
      "|    Bing| 4360|\n",
      "+--------+-----+\n",
      "\n"
     ]
    }
   ],
   "source": [
    "df.groupby('Platform').count().orderBy('count', ascending=False).show()"
   ]
  },
  {
   "cell_type": "code",
   "execution_count": 18,
   "id": "b4b4d1cb",
   "metadata": {
    "execution": {
     "iopub.execute_input": "2022-04-15T17:48:58.991769Z",
     "iopub.status.busy": "2022-04-15T17:48:58.991478Z",
     "iopub.status.idle": "2022-04-15T17:48:59.375473Z",
     "shell.execute_reply": "2022-04-15T17:48:59.374645Z"
    },
    "papermill": {
     "duration": 0.490249,
     "end_time": "2022-04-15T17:48:59.378639",
     "exception": false,
     "start_time": "2022-04-15T17:48:58.888390",
     "status": "completed"
    },
    "tags": []
   },
   "outputs": [
    {
     "name": "stdout",
     "output_type": "stream",
     "text": [
      "+--------------------+-----+\n",
      "|Search_Engine_Number|count|\n",
      "+--------------------+-----+\n",
      "|                 0.0| 9859|\n",
      "|                 1.0| 5781|\n",
      "|                 2.0| 4360|\n",
      "+--------------------+-----+\n",
      "\n"
     ]
    }
   ],
   "source": [
    "df.groupby('Search_Engine_Number').count().orderBy('count', ascending=False).show()"
   ]
  },
  {
   "cell_type": "code",
   "execution_count": 19,
   "id": "486c448b",
   "metadata": {
    "execution": {
     "iopub.execute_input": "2022-04-15T17:48:59.611810Z",
     "iopub.status.busy": "2022-04-15T17:48:59.610884Z",
     "iopub.status.idle": "2022-04-15T17:49:00.181334Z",
     "shell.execute_reply": "2022-04-15T17:49:00.180511Z"
    },
    "papermill": {
     "duration": 0.675287,
     "end_time": "2022-04-15T17:49:00.184717",
     "exception": false,
     "start_time": "2022-04-15T17:48:59.509430",
     "status": "completed"
    },
    "tags": []
   },
   "outputs": [
    {
     "name": "stdout",
     "output_type": "stream",
     "text": [
      "+--------------------+-----+\n",
      "|Search_Engine_Vector|count|\n",
      "+--------------------+-----+\n",
      "|       (2,[0],[1.0])| 9859|\n",
      "|       (2,[1],[1.0])| 5781|\n",
      "|           (2,[],[])| 4360|\n",
      "+--------------------+-----+\n",
      "\n"
     ]
    }
   ],
   "source": [
    "df.groupby('Search_Engine_Vector').count().orderBy('count', ascending=False).show()"
   ]
  },
  {
   "cell_type": "code",
   "execution_count": 20,
   "id": "12d22660",
   "metadata": {
    "execution": {
     "iopub.execute_input": "2022-04-15T17:49:00.406307Z",
     "iopub.status.busy": "2022-04-15T17:49:00.406059Z",
     "iopub.status.idle": "2022-04-15T17:49:00.990508Z",
     "shell.execute_reply": "2022-04-15T17:49:00.989657Z"
    },
    "papermill": {
     "duration": 0.689299,
     "end_time": "2022-04-15T17:49:00.994547",
     "exception": false,
     "start_time": "2022-04-15T17:49:00.305248",
     "status": "completed"
    },
    "tags": []
   },
   "outputs": [
    {
     "name": "stdout",
     "output_type": "stream",
     "text": [
      "+-------+---+--------------+--------+----------------+------+--------------------+--------------------+-----------+--------------+\n",
      "|Country|Age|Repeat_Visitor|Platform|Web_pages_viewed|Status|Search_Engine_Number|Search_Engine_Vector|Country_Num|Country_Vector|\n",
      "+-------+---+--------------+--------+----------------+------+--------------------+--------------------+-----------+--------------+\n",
      "|India  |41 |1             |Yahoo   |21              |1     |0.0                 |(2,[0],[1.0])       |1.0        |(3,[1],[1.0]) |\n",
      "|Brazil |28 |1             |Yahoo   |5               |0     |0.0                 |(2,[0],[1.0])       |2.0        |(3,[2],[1.0]) |\n",
      "|Brazil |40 |0             |Google  |3               |0     |1.0                 |(2,[1],[1.0])       |2.0        |(3,[2],[1.0]) |\n",
      "+-------+---+--------------+--------+----------------+------+--------------------+--------------------+-----------+--------------+\n",
      "only showing top 3 rows\n",
      "\n"
     ]
    }
   ],
   "source": [
    "#Applying tranformation for country\n",
    "#string Indexer\n",
    "country_indexer = StringIndexer(inputCol='Country', outputCol='Country_Num').fit(df)\n",
    "df = country_indexer.transform(df)\n",
    "\n",
    "#OnehotEncoding\n",
    "country_encoder = OneHotEncoder(inputCol='Country_Num', outputCol='Country_Vector').fit(df)\n",
    "df = country_encoder.transform(df)\n",
    "\n",
    "df.show(3, False)"
   ]
  },
  {
   "cell_type": "code",
   "execution_count": 21,
   "id": "a4140bea",
   "metadata": {
    "execution": {
     "iopub.execute_input": "2022-04-15T17:49:01.200440Z",
     "iopub.status.busy": "2022-04-15T17:49:01.200180Z",
     "iopub.status.idle": "2022-04-15T17:49:01.335391Z",
     "shell.execute_reply": "2022-04-15T17:49:01.334557Z"
    },
    "papermill": {
     "duration": 0.241079,
     "end_time": "2022-04-15T17:49:01.338816",
     "exception": false,
     "start_time": "2022-04-15T17:49:01.097737",
     "status": "completed"
    },
    "tags": []
   },
   "outputs": [
    {
     "name": "stdout",
     "output_type": "stream",
     "text": [
      "+-------+-----------+--------------+\n",
      "|country|Country_Num|country_Vector|\n",
      "+-------+-----------+--------------+\n",
      "|India  |1.0        |(3,[1],[1.0]) |\n",
      "|Brazil |2.0        |(3,[2],[1.0]) |\n",
      "|Brazil |2.0        |(3,[2],[1.0]) |\n",
      "+-------+-----------+--------------+\n",
      "only showing top 3 rows\n",
      "\n"
     ]
    }
   ],
   "source": [
    "df.select(['country', 'Country_Num', 'country_Vector']).show(3,False)"
   ]
  },
  {
   "cell_type": "code",
   "execution_count": 22,
   "id": "3f804a3c",
   "metadata": {
    "execution": {
     "iopub.execute_input": "2022-04-15T17:49:01.548041Z",
     "iopub.status.busy": "2022-04-15T17:49:01.547773Z",
     "iopub.status.idle": "2022-04-15T17:49:01.797841Z",
     "shell.execute_reply": "2022-04-15T17:49:01.796924Z"
    },
    "papermill": {
     "duration": 0.35805,
     "end_time": "2022-04-15T17:49:01.801099",
     "exception": false,
     "start_time": "2022-04-15T17:49:01.443049",
     "status": "completed"
    },
    "tags": []
   },
   "outputs": [
    {
     "name": "stdout",
     "output_type": "stream",
     "text": [
      "+---------+-----+\n",
      "|  Country|count|\n",
      "+---------+-----+\n",
      "|Indonesia|12178|\n",
      "|    India| 4018|\n",
      "|   Brazil| 2586|\n",
      "| Malaysia| 1218|\n",
      "+---------+-----+\n",
      "\n"
     ]
    }
   ],
   "source": [
    "df.groupby('Country').count().orderBy('count', ascending=False).show()"
   ]
  },
  {
   "cell_type": "code",
   "execution_count": 23,
   "id": "a17cc8fa",
   "metadata": {
    "execution": {
     "iopub.execute_input": "2022-04-15T17:49:02.049811Z",
     "iopub.status.busy": "2022-04-15T17:49:02.049550Z",
     "iopub.status.idle": "2022-04-15T17:49:02.373101Z",
     "shell.execute_reply": "2022-04-15T17:49:02.372232Z"
    },
    "papermill": {
     "duration": 0.430708,
     "end_time": "2022-04-15T17:49:02.376241",
     "exception": false,
     "start_time": "2022-04-15T17:49:01.945533",
     "status": "completed"
    },
    "tags": []
   },
   "outputs": [
    {
     "name": "stdout",
     "output_type": "stream",
     "text": [
      "+-----------+-----+\n",
      "|Country_Num|count|\n",
      "+-----------+-----+\n",
      "|        0.0|12178|\n",
      "|        1.0| 4018|\n",
      "|        2.0| 2586|\n",
      "|        3.0| 1218|\n",
      "+-----------+-----+\n",
      "\n"
     ]
    }
   ],
   "source": [
    "df.groupby('Country_Num').count().orderBy('count', ascending=False).show()"
   ]
  },
  {
   "cell_type": "code",
   "execution_count": 24,
   "id": "85d44d36",
   "metadata": {
    "execution": {
     "iopub.execute_input": "2022-04-15T17:49:02.626619Z",
     "iopub.status.busy": "2022-04-15T17:49:02.626359Z",
     "iopub.status.idle": "2022-04-15T17:49:02.914833Z",
     "shell.execute_reply": "2022-04-15T17:49:02.913992Z"
    },
    "papermill": {
     "duration": 0.394403,
     "end_time": "2022-04-15T17:49:02.917473",
     "exception": false,
     "start_time": "2022-04-15T17:49:02.523070",
     "status": "completed"
    },
    "tags": []
   },
   "outputs": [
    {
     "name": "stdout",
     "output_type": "stream",
     "text": [
      "+--------------+-----+\n",
      "|Country_Vector|count|\n",
      "+--------------+-----+\n",
      "| (3,[0],[1.0])|12178|\n",
      "| (3,[1],[1.0])| 4018|\n",
      "| (3,[2],[1.0])| 2586|\n",
      "|     (3,[],[])| 1218|\n",
      "+--------------+-----+\n",
      "\n"
     ]
    }
   ],
   "source": [
    "df.groupby('Country_Vector').count().orderBy('count', ascending=False).show()"
   ]
  },
  {
   "cell_type": "code",
   "execution_count": 25,
   "id": "2040ee4a",
   "metadata": {
    "execution": {
     "iopub.execute_input": "2022-04-15T17:49:03.125154Z",
     "iopub.status.busy": "2022-04-15T17:49:03.124844Z",
     "iopub.status.idle": "2022-04-15T17:49:03.137216Z",
     "shell.execute_reply": "2022-04-15T17:49:03.136422Z"
    },
    "papermill": {
     "duration": 0.117276,
     "end_time": "2022-04-15T17:49:03.139242",
     "exception": false,
     "start_time": "2022-04-15T17:49:03.021966",
     "status": "completed"
    },
    "tags": []
   },
   "outputs": [
    {
     "data": {
      "text/plain": [
       "['Country',\n",
       " 'Age',\n",
       " 'Repeat_Visitor',\n",
       " 'Platform',\n",
       " 'Web_pages_viewed',\n",
       " 'Status',\n",
       " 'Search_Engine_Number',\n",
       " 'Search_Engine_Vector',\n",
       " 'Country_Num',\n",
       " 'Country_Vector']"
      ]
     },
     "execution_count": 25,
     "metadata": {},
     "output_type": "execute_result"
    }
   ],
   "source": [
    "df.columns"
   ]
  },
  {
   "cell_type": "code",
   "execution_count": 26,
   "id": "75332077",
   "metadata": {
    "execution": {
     "iopub.execute_input": "2022-04-15T17:49:03.346309Z",
     "iopub.status.busy": "2022-04-15T17:49:03.346061Z",
     "iopub.status.idle": "2022-04-15T17:49:03.440486Z",
     "shell.execute_reply": "2022-04-15T17:49:03.439483Z"
    },
    "papermill": {
     "duration": 0.202176,
     "end_time": "2022-04-15T17:49:03.443961",
     "exception": false,
     "start_time": "2022-04-15T17:49:03.241785",
     "status": "completed"
    },
    "tags": []
   },
   "outputs": [],
   "source": [
    "df_assembler = VectorAssembler(inputCols=[\n",
    "#'Country',\n",
    " 'Age',\n",
    " 'Repeat_Visitor',\n",
    " #'Platform',\n",
    " 'Web_pages_viewed',\n",
    " 'Status',\n",
    "# 'Search_Engine_Number',\n",
    " 'Search_Engine_Vector',\n",
    " #'Country_Num',\n",
    " 'Country_Vector'], outputCol='features')\n",
    "df = df_assembler.transform(df)"
   ]
  },
  {
   "cell_type": "code",
   "execution_count": 27,
   "id": "c57dd28f",
   "metadata": {
    "execution": {
     "iopub.execute_input": "2022-04-15T17:49:03.657359Z",
     "iopub.status.busy": "2022-04-15T17:49:03.657072Z",
     "iopub.status.idle": "2022-04-15T17:49:03.663053Z",
     "shell.execute_reply": "2022-04-15T17:49:03.661983Z"
    },
    "papermill": {
     "duration": 0.112652,
     "end_time": "2022-04-15T17:49:03.665025",
     "exception": false,
     "start_time": "2022-04-15T17:49:03.552373",
     "status": "completed"
    },
    "tags": []
   },
   "outputs": [
    {
     "name": "stdout",
     "output_type": "stream",
     "text": [
      "root\n",
      " |-- Country: string (nullable = true)\n",
      " |-- Age: integer (nullable = true)\n",
      " |-- Repeat_Visitor: integer (nullable = true)\n",
      " |-- Platform: string (nullable = true)\n",
      " |-- Web_pages_viewed: integer (nullable = true)\n",
      " |-- Status: integer (nullable = true)\n",
      " |-- Search_Engine_Number: double (nullable = false)\n",
      " |-- Search_Engine_Vector: vector (nullable = true)\n",
      " |-- Country_Num: double (nullable = false)\n",
      " |-- Country_Vector: vector (nullable = true)\n",
      " |-- features: vector (nullable = true)\n",
      "\n"
     ]
    }
   ],
   "source": [
    "df.printSchema()"
   ]
  },
  {
   "cell_type": "code",
   "execution_count": 28,
   "id": "cb8c2e73",
   "metadata": {
    "execution": {
     "iopub.execute_input": "2022-04-15T17:49:03.872641Z",
     "iopub.status.busy": "2022-04-15T17:49:03.872372Z",
     "iopub.status.idle": "2022-04-15T17:49:04.183207Z",
     "shell.execute_reply": "2022-04-15T17:49:04.182341Z"
    },
    "papermill": {
     "duration": 0.418396,
     "end_time": "2022-04-15T17:49:04.186463",
     "exception": false,
     "start_time": "2022-04-15T17:49:03.768067",
     "status": "completed"
    },
    "tags": []
   },
   "outputs": [
    {
     "name": "stdout",
     "output_type": "stream",
     "text": [
      "+---------------------------------------+------+\n",
      "|features                               |Status|\n",
      "+---------------------------------------+------+\n",
      "|[41.0,1.0,21.0,1.0,1.0,0.0,0.0,1.0,0.0]|1     |\n",
      "|[28.0,1.0,5.0,0.0,1.0,0.0,0.0,0.0,1.0] |0     |\n",
      "|(9,[0,2,5,8],[40.0,3.0,1.0,1.0])       |0     |\n",
      "|[31.0,1.0,15.0,1.0,0.0,0.0,1.0,0.0,0.0]|1     |\n",
      "|(9,[0,2,3,5],[32.0,15.0,1.0,1.0])      |1     |\n",
      "|(9,[0,2,5,8],[32.0,3.0,1.0,1.0])       |0     |\n",
      "|(9,[0,2,5,8],[32.0,6.0,1.0,1.0])       |0     |\n",
      "|(9,[0,2,5,6],[27.0,9.0,1.0,1.0])       |0     |\n",
      "|(9,[0,2,4,6],[32.0,2.0,1.0,1.0])       |0     |\n",
      "|[31.0,1.0,16.0,1.0,0.0,0.0,1.0,0.0,0.0]|1     |\n",
      "+---------------------------------------+------+\n",
      "only showing top 10 rows\n",
      "\n"
     ]
    }
   ],
   "source": [
    "df.select(['features', 'Status']).show(10,False)"
   ]
  },
  {
   "cell_type": "code",
   "execution_count": 29,
   "id": "994bc07e",
   "metadata": {
    "execution": {
     "iopub.execute_input": "2022-04-15T17:49:04.503049Z",
     "iopub.status.busy": "2022-04-15T17:49:04.502774Z",
     "iopub.status.idle": "2022-04-15T17:49:04.650749Z",
     "shell.execute_reply": "2022-04-15T17:49:04.649851Z"
    },
    "papermill": {
     "duration": 0.305697,
     "end_time": "2022-04-15T17:49:04.653595",
     "exception": false,
     "start_time": "2022-04-15T17:49:04.347898",
     "status": "completed"
    },
    "tags": []
   },
   "outputs": [
    {
     "name": "stdout",
     "output_type": "stream",
     "text": [
      "+---------------------------------------+------+\n",
      "|features                               |Status|\n",
      "+---------------------------------------+------+\n",
      "|[41.0,1.0,21.0,1.0,1.0,0.0,0.0,1.0,0.0]|1     |\n",
      "|[28.0,1.0,5.0,0.0,1.0,0.0,0.0,0.0,1.0] |0     |\n",
      "|(9,[0,2,5,8],[40.0,3.0,1.0,1.0])       |0     |\n",
      "+---------------------------------------+------+\n",
      "only showing top 3 rows\n",
      "\n"
     ]
    }
   ],
   "source": [
    "model_df = df.select(['features', 'Status'])\n",
    "model_df.show(3,False)"
   ]
  },
  {
   "cell_type": "code",
   "execution_count": 30,
   "id": "023b38dc",
   "metadata": {
    "execution": {
     "iopub.execute_input": "2022-04-15T17:49:04.868953Z",
     "iopub.status.busy": "2022-04-15T17:49:04.868679Z",
     "iopub.status.idle": "2022-04-15T17:49:04.886667Z",
     "shell.execute_reply": "2022-04-15T17:49:04.885888Z"
    },
    "papermill": {
     "duration": 0.12671,
     "end_time": "2022-04-15T17:49:04.888838",
     "exception": false,
     "start_time": "2022-04-15T17:49:04.762128",
     "status": "completed"
    },
    "tags": []
   },
   "outputs": [],
   "source": [
    "#split the data\n",
    "traindf, testdf = model_df.randomSplit([0.75,0.25], seed=1)"
   ]
  },
  {
   "cell_type": "code",
   "execution_count": 31,
   "id": "ff315ce0",
   "metadata": {
    "execution": {
     "iopub.execute_input": "2022-04-15T17:49:05.098296Z",
     "iopub.status.busy": "2022-04-15T17:49:05.097464Z",
     "iopub.status.idle": "2022-04-15T17:49:05.985714Z",
     "shell.execute_reply": "2022-04-15T17:49:05.984722Z"
    },
    "papermill": {
     "duration": 0.995442,
     "end_time": "2022-04-15T17:49:05.988791",
     "exception": false,
     "start_time": "2022-04-15T17:49:04.993349",
     "status": "completed"
    },
    "tags": []
   },
   "outputs": [
    {
     "name": "stderr",
     "output_type": "stream",
     "text": [
      "                                                                                \r"
     ]
    },
    {
     "data": {
      "text/plain": [
       "15023"
      ]
     },
     "execution_count": 31,
     "metadata": {},
     "output_type": "execute_result"
    }
   ],
   "source": [
    "traindf.count()"
   ]
  },
  {
   "cell_type": "code",
   "execution_count": 32,
   "id": "15abf6f3",
   "metadata": {
    "execution": {
     "iopub.execute_input": "2022-04-15T17:49:06.213637Z",
     "iopub.status.busy": "2022-04-15T17:49:06.213395Z",
     "iopub.status.idle": "2022-04-15T17:49:06.835508Z",
     "shell.execute_reply": "2022-04-15T17:49:06.834656Z"
    },
    "papermill": {
     "duration": 0.730568,
     "end_time": "2022-04-15T17:49:06.838389",
     "exception": false,
     "start_time": "2022-04-15T17:49:06.107821",
     "status": "completed"
    },
    "tags": []
   },
   "outputs": [
    {
     "name": "stdout",
     "output_type": "stream",
     "text": [
      "+------+-----+\n",
      "|Status|count|\n",
      "+------+-----+\n",
      "|     1| 7476|\n",
      "|     0| 7547|\n",
      "+------+-----+\n",
      "\n"
     ]
    }
   ],
   "source": [
    "traindf.groupby('Status').count().show()"
   ]
  },
  {
   "cell_type": "code",
   "execution_count": 33,
   "id": "32c4cf17",
   "metadata": {
    "execution": {
     "iopub.execute_input": "2022-04-15T17:49:07.052511Z",
     "iopub.status.busy": "2022-04-15T17:49:07.052255Z",
     "iopub.status.idle": "2022-04-15T17:49:07.601123Z",
     "shell.execute_reply": "2022-04-15T17:49:07.600267Z"
    },
    "papermill": {
     "duration": 0.661253,
     "end_time": "2022-04-15T17:49:07.605529",
     "exception": false,
     "start_time": "2022-04-15T17:49:06.944276",
     "status": "completed"
    },
    "tags": []
   },
   "outputs": [
    {
     "name": "stdout",
     "output_type": "stream",
     "text": [
      "+------+-----+\n",
      "|Status|count|\n",
      "+------+-----+\n",
      "|     1| 2524|\n",
      "|     0| 2453|\n",
      "+------+-----+\n",
      "\n"
     ]
    }
   ],
   "source": [
    "testdf.groupby('Status').count().show()"
   ]
  },
  {
   "cell_type": "code",
   "execution_count": null,
   "id": "54ab1717",
   "metadata": {
    "papermill": {
     "duration": 0.105203,
     "end_time": "2022-04-15T17:49:07.829367",
     "exception": false,
     "start_time": "2022-04-15T17:49:07.724164",
     "status": "completed"
    },
    "tags": []
   },
   "outputs": [],
   "source": []
  }
 ],
 "metadata": {
  "kernelspec": {
   "display_name": "Python 3",
   "language": "python",
   "name": "python3"
  },
  "language_info": {
   "codemirror_mode": {
    "name": "ipython",
    "version": 3
   },
   "file_extension": ".py",
   "mimetype": "text/x-python",
   "name": "python",
   "nbconvert_exporter": "python",
   "pygments_lexer": "ipython3",
   "version": "3.7.12"
  },
  "papermill": {
   "default_parameters": {},
   "duration": 99.313288,
   "end_time": "2022-04-15T17:49:10.554872",
   "environment_variables": {},
   "exception": null,
   "input_path": "__notebook__.ipynb",
   "output_path": "__notebook__.ipynb",
   "parameters": {},
   "start_time": "2022-04-15T17:47:31.241584",
   "version": "2.3.4"
  }
 },
 "nbformat": 4,
 "nbformat_minor": 5
}
