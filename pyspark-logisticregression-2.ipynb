{
 "cells": [
  {
   "cell_type": "code",
   "execution_count": 1,
   "id": "66a3e454",
   "metadata": {
    "_cell_guid": "b1076dfc-b9ad-4769-8c92-a6c4dae69d19",
    "_uuid": "8f2839f25d086af736a60e9eeb907d3b93b6e0e5",
    "execution": {
     "iopub.execute_input": "2022-04-15T18:03:39.070719Z",
     "iopub.status.busy": "2022-04-15T18:03:39.070133Z",
     "iopub.status.idle": "2022-04-15T18:03:39.087216Z",
     "shell.execute_reply": "2022-04-15T18:03:39.086221Z"
    },
    "papermill": {
     "duration": 0.071673,
     "end_time": "2022-04-15T18:03:39.089897",
     "exception": false,
     "start_time": "2022-04-15T18:03:39.018224",
     "status": "completed"
    },
    "tags": []
   },
   "outputs": [
    {
     "name": "stdout",
     "output_type": "stream",
     "text": [
      "/kaggle/input/pyspark-logistic-regression/Log_Reg_dataset.csv\n"
     ]
    }
   ],
   "source": [
    "# This Python 3 environment comes with many helpful analytics libraries installed\n",
    "# It is defined by the kaggle/python Docker image: https://github.com/kaggle/docker-python\n",
    "# For example, here's several helpful packages to load\n",
    "\n",
    "import numpy as np # linear algebra\n",
    "import pandas as pd # data processing, CSV file I/O (e.g. pd.read_csv)\n",
    "\n",
    "# Input data files are available in the read-only \"../input/\" directory\n",
    "# For example, running this (by clicking run or pressing Shift+Enter) will list all files under the input directory\n",
    "\n",
    "import os\n",
    "for dirname, _, filenames in os.walk('/kaggle/input'):\n",
    "    for filename in filenames:\n",
    "        print(os.path.join(dirname, filename))\n",
    "\n",
    "# You can write up to 20GB to the current directory (/kaggle/working/) that gets preserved as output when you create a version using \"Save & Run All\" \n",
    "# You can also write temporary files to /kaggle/temp/, but they won't be saved outside of the current session"
   ]
  },
  {
   "cell_type": "code",
   "execution_count": 2,
   "id": "20c61481",
   "metadata": {
    "execution": {
     "iopub.execute_input": "2022-04-15T18:03:39.195927Z",
     "iopub.status.busy": "2022-04-15T18:03:39.195513Z",
     "iopub.status.idle": "2022-04-15T18:04:46.084896Z",
     "shell.execute_reply": "2022-04-15T18:04:46.083964Z"
    },
    "papermill": {
     "duration": 66.947027,
     "end_time": "2022-04-15T18:04:46.087848",
     "exception": false,
     "start_time": "2022-04-15T18:03:39.140821",
     "status": "completed"
    },
    "tags": []
   },
   "outputs": [
    {
     "name": "stdout",
     "output_type": "stream",
     "text": [
      "Collecting findspark\r\n",
      "  Downloading findspark-2.0.1-py2.py3-none-any.whl (4.4 kB)\r\n",
      "Installing collected packages: findspark\r\n",
      "Successfully installed findspark-2.0.1\r\n",
      "\u001b[33mWARNING: Running pip as the 'root' user can result in broken permissions and conflicting behaviour with the system package manager. It is recommended to use a virtual environment instead: https://pip.pypa.io/warnings/venv\u001b[0m\u001b[33m\r\n",
      "\u001b[0mCollecting pyspark\r\n",
      "  Downloading pyspark-3.2.1.tar.gz (281.4 MB)\r\n",
      "\u001b[2K     \u001b[90m━━━━━━━━━━━━━━━━━━━━━━━━━━━━━━━━━━━━━━━\u001b[0m \u001b[32m281.4/281.4 MB\u001b[0m \u001b[31m3.4 MB/s\u001b[0m eta \u001b[36m0:00:00\u001b[0m\r\n",
      "\u001b[?25h  Preparing metadata (setup.py) ... \u001b[?25l-\b \b\\\b \bdone\r\n",
      "\u001b[?25hCollecting py4j==0.10.9.3\r\n",
      "  Downloading py4j-0.10.9.3-py2.py3-none-any.whl (198 kB)\r\n",
      "\u001b[2K     \u001b[90m━━━━━━━━━━━━━━━━━━━━━━━━━━━━━━━━━━━━━━\u001b[0m \u001b[32m199.0/199.0 KB\u001b[0m \u001b[31m11.0 MB/s\u001b[0m eta \u001b[36m0:00:00\u001b[0m\r\n",
      "\u001b[?25hBuilding wheels for collected packages: pyspark\r\n",
      "  Building wheel for pyspark (setup.py) ... \u001b[?25l-\b \b\\\b \b|\b \b/\b \b-\b \b\\\b \b|\b \b/\b \b-\b \b\\\b \b|\b \b/\b \b-\b \b\\\b \b|\b \b/\b \b-\b \b\\\b \b|\b \b/\b \b-\b \b\\\b \b|\b \b/\b \b-\b \b\\\b \b|\b \b/\b \b-\b \b\\\b \b|\b \b/\b \b-\b \b\\\b \b|\b \b/\b \b-\b \b\\\b \b|\b \b/\b \b-\b \b\\\b \b|\b \b/\b \b-\b \b\\\b \b|\b \b/\b \b-\b \b\\\b \b|\b \b/\b \b-\b \b\\\b \b|\b \b/\b \b-\b \b\\\b \b|\b \b/\b \b-\b \b\\\b \b|\b \b/\b \b-\b \b\\\b \b|\b \b/\b \b-\b \b\\\b \b|\b \b/\b \b-\b \bdone\r\n",
      "\u001b[?25h  Created wheel for pyspark: filename=pyspark-3.2.1-py2.py3-none-any.whl size=281853642 sha256=cc88230965287682f9ea50d8046c9c4386d81a0ae6e3f8860762bd7c83abf4a2\r\n",
      "  Stored in directory: /root/.cache/pip/wheels/9f/f5/07/7cd8017084dce4e93e84e92efd1e1d5334db05f2e83bcef74f\r\n",
      "Successfully built pyspark\r\n",
      "Installing collected packages: py4j, pyspark\r\n",
      "  Attempting uninstall: py4j\r\n",
      "    Found existing installation: py4j 0.10.9.5\r\n",
      "    Uninstalling py4j-0.10.9.5:\r\n",
      "      Successfully uninstalled py4j-0.10.9.5\r\n",
      "Successfully installed py4j-0.10.9.3 pyspark-3.2.1\r\n",
      "\u001b[33mWARNING: Running pip as the 'root' user can result in broken permissions and conflicting behaviour with the system package manager. It is recommended to use a virtual environment instead: https://pip.pypa.io/warnings/venv\u001b[0m\u001b[33m\r\n",
      "\u001b[0m"
     ]
    }
   ],
   "source": [
    "!pip install findspark\n",
    "!pip install pyspark"
   ]
  },
  {
   "cell_type": "code",
   "execution_count": 3,
   "id": "e071b3b4",
   "metadata": {
    "execution": {
     "iopub.execute_input": "2022-04-15T18:04:46.372182Z",
     "iopub.status.busy": "2022-04-15T18:04:46.371159Z",
     "iopub.status.idle": "2022-04-15T18:04:46.602441Z",
     "shell.execute_reply": "2022-04-15T18:04:46.601842Z"
    },
    "papermill": {
     "duration": 0.377536,
     "end_time": "2022-04-15T18:04:46.604640",
     "exception": false,
     "start_time": "2022-04-15T18:04:46.227104",
     "status": "completed"
    },
    "tags": []
   },
   "outputs": [],
   "source": [
    "import findspark\n",
    "findspark.init()\n",
    "import pyspark"
   ]
  },
  {
   "cell_type": "code",
   "execution_count": 4,
   "id": "34390fb1",
   "metadata": {
    "execution": {
     "iopub.execute_input": "2022-04-15T18:04:46.883991Z",
     "iopub.status.busy": "2022-04-15T18:04:46.883163Z",
     "iopub.status.idle": "2022-04-15T18:04:53.824793Z",
     "shell.execute_reply": "2022-04-15T18:04:53.823902Z"
    },
    "papermill": {
     "duration": 7.085061,
     "end_time": "2022-04-15T18:04:53.827464",
     "exception": false,
     "start_time": "2022-04-15T18:04:46.742403",
     "status": "completed"
    },
    "tags": []
   },
   "outputs": [
    {
     "name": "stderr",
     "output_type": "stream",
     "text": [
      "WARNING: An illegal reflective access operation has occurred\n",
      "WARNING: Illegal reflective access by org.apache.spark.unsafe.Platform (file:/opt/conda/lib/python3.7/site-packages/pyspark/jars/spark-unsafe_2.12-3.2.1.jar) to constructor java.nio.DirectByteBuffer(long,int)\n",
      "WARNING: Please consider reporting this to the maintainers of org.apache.spark.unsafe.Platform\n",
      "WARNING: Use --illegal-access=warn to enable warnings of further illegal reflective access operations\n",
      "WARNING: All illegal access operations will be denied in a future release\n",
      "Using Spark's default log4j profile: org/apache/spark/log4j-defaults.properties\n",
      "Setting default log level to \"WARN\".\n",
      "To adjust logging level use sc.setLogLevel(newLevel). For SparkR, use setLogLevel(newLevel).\n",
      "22/04/15 18:04:50 WARN NativeCodeLoader: Unable to load native-hadoop library for your platform... using builtin-java classes where applicable\n"
     ]
    }
   ],
   "source": [
    "from pyspark.sql import SparkSession\n",
    "spark = SparkSession.builder.appName('log_reg').getOrCreate()"
   ]
  },
  {
   "cell_type": "code",
   "execution_count": 5,
   "id": "0565025f",
   "metadata": {
    "execution": {
     "iopub.execute_input": "2022-04-15T18:04:54.166181Z",
     "iopub.status.busy": "2022-04-15T18:04:54.165898Z",
     "iopub.status.idle": "2022-04-15T18:04:54.325466Z",
     "shell.execute_reply": "2022-04-15T18:04:54.324469Z"
    },
    "papermill": {
     "duration": 0.359706,
     "end_time": "2022-04-15T18:04:54.328049",
     "exception": false,
     "start_time": "2022-04-15T18:04:53.968343",
     "status": "completed"
    },
    "tags": []
   },
   "outputs": [],
   "source": [
    "#import libs\n",
    "from pyspark.sql.functions import *\n",
    "from pyspark.ml.feature import StringIndexer\n",
    "from pyspark.ml.feature import VectorAssembler\n",
    "from pyspark.ml.feature import OneHotEncoder\n",
    "from pyspark.ml.classification import LogisticRegression\n",
    "from pyspark.ml.evaluation import BinaryClassificationEvaluator"
   ]
  },
  {
   "cell_type": "code",
   "execution_count": 6,
   "id": "0c4a2eb5",
   "metadata": {
    "execution": {
     "iopub.execute_input": "2022-04-15T18:04:54.627525Z",
     "iopub.status.busy": "2022-04-15T18:04:54.627236Z",
     "iopub.status.idle": "2022-04-15T18:05:01.363900Z",
     "shell.execute_reply": "2022-04-15T18:05:01.362713Z"
    },
    "papermill": {
     "duration": 6.892627,
     "end_time": "2022-04-15T18:05:01.367183",
     "exception": false,
     "start_time": "2022-04-15T18:04:54.474556",
     "status": "completed"
    },
    "tags": []
   },
   "outputs": [
    {
     "name": "stderr",
     "output_type": "stream",
     "text": [
      "                                                                                \r"
     ]
    },
    {
     "name": "stdout",
     "output_type": "stream",
     "text": [
      "+---------+---+--------------+--------+----------------+------+\n",
      "|  Country|Age|Repeat_Visitor|Platform|Web_pages_viewed|Status|\n",
      "+---------+---+--------------+--------+----------------+------+\n",
      "|    India| 41|             1|   Yahoo|              21|     1|\n",
      "|   Brazil| 28|             1|   Yahoo|               5|     0|\n",
      "|   Brazil| 40|             0|  Google|               3|     0|\n",
      "|Indonesia| 31|             1|    Bing|              15|     1|\n",
      "| Malaysia| 32|             0|  Google|              15|     1|\n",
      "+---------+---+--------------+--------+----------------+------+\n",
      "only showing top 5 rows\n",
      "\n"
     ]
    }
   ],
   "source": [
    "#read the dataset\n",
    "df = spark.read.csv('/kaggle/input/pyspark-logistic-regression/Log_Reg_dataset.csv', inferSchema=True,header=True)\n",
    "df.show(5)"
   ]
  },
  {
   "cell_type": "code",
   "execution_count": 7,
   "id": "a087e98e",
   "metadata": {
    "execution": {
     "iopub.execute_input": "2022-04-15T18:05:01.672908Z",
     "iopub.status.busy": "2022-04-15T18:05:01.672626Z",
     "iopub.status.idle": "2022-04-15T18:05:02.480176Z",
     "shell.execute_reply": "2022-04-15T18:05:02.479278Z"
    },
    "papermill": {
     "duration": 0.951853,
     "end_time": "2022-04-15T18:05:02.483793",
     "exception": false,
     "start_time": "2022-04-15T18:05:01.531940",
     "status": "completed"
    },
    "tags": []
   },
   "outputs": [
    {
     "name": "stdout",
     "output_type": "stream",
     "text": [
      "(20000, 6)\n"
     ]
    }
   ],
   "source": [
    "#shape of data\n",
    "print((df.count(),len(df.columns)))"
   ]
  },
  {
   "cell_type": "code",
   "execution_count": 8,
   "id": "135ccec4",
   "metadata": {
    "execution": {
     "iopub.execute_input": "2022-04-15T18:05:02.780146Z",
     "iopub.status.busy": "2022-04-15T18:05:02.779838Z",
     "iopub.status.idle": "2022-04-15T18:05:02.787327Z",
     "shell.execute_reply": "2022-04-15T18:05:02.786467Z"
    },
    "papermill": {
     "duration": 0.152891,
     "end_time": "2022-04-15T18:05:02.789410",
     "exception": false,
     "start_time": "2022-04-15T18:05:02.636519",
     "status": "completed"
    },
    "tags": []
   },
   "outputs": [
    {
     "name": "stdout",
     "output_type": "stream",
     "text": [
      "root\n",
      " |-- Country: string (nullable = true)\n",
      " |-- Age: integer (nullable = true)\n",
      " |-- Repeat_Visitor: integer (nullable = true)\n",
      " |-- Platform: string (nullable = true)\n",
      " |-- Web_pages_viewed: integer (nullable = true)\n",
      " |-- Status: integer (nullable = true)\n",
      "\n"
     ]
    }
   ],
   "source": [
    "#check the schemea\n",
    "df.printSchema()"
   ]
  },
  {
   "cell_type": "code",
   "execution_count": 9,
   "id": "8f6f573c",
   "metadata": {
    "execution": {
     "iopub.execute_input": "2022-04-15T18:05:03.083573Z",
     "iopub.status.busy": "2022-04-15T18:05:03.083303Z",
     "iopub.status.idle": "2022-04-15T18:05:05.128889Z",
     "shell.execute_reply": "2022-04-15T18:05:05.127389Z"
    },
    "papermill": {
     "duration": 2.192935,
     "end_time": "2022-04-15T18:05:05.132501",
     "exception": false,
     "start_time": "2022-04-15T18:05:02.939566",
     "status": "completed"
    },
    "tags": []
   },
   "outputs": [
    {
     "name": "stderr",
     "output_type": "stream",
     "text": [
      "[Stage 6:>                                                          (0 + 1) / 1]\r"
     ]
    },
    {
     "name": "stdout",
     "output_type": "stream",
     "text": [
      "+-------+--------+-----------------+-----------------+--------+-----------------+------------------+\n",
      "|summary| Country|              Age|   Repeat_Visitor|Platform| Web_pages_viewed|            Status|\n",
      "+-------+--------+-----------------+-----------------+--------+-----------------+------------------+\n",
      "|  count|   20000|            20000|            20000|   20000|            20000|             20000|\n",
      "|   mean|    null|         28.53955|           0.5029|    null|           9.5533|               0.5|\n",
      "| stddev|    null|7.888912950773227|0.500004090187782|    null|6.073903499824976|0.5000125004687693|\n",
      "|    min|  Brazil|               17|                0|    Bing|                1|                 0|\n",
      "|    max|Malaysia|              111|                1|   Yahoo|               29|                 1|\n",
      "+-------+--------+-----------------+-----------------+--------+-----------------+------------------+\n",
      "\n"
     ]
    },
    {
     "name": "stderr",
     "output_type": "stream",
     "text": [
      "                                                                                \r"
     ]
    }
   ],
   "source": [
    "#explore the dataset\n",
    "df.describe().show()"
   ]
  },
  {
   "cell_type": "code",
   "execution_count": 10,
   "id": "a37a69ef",
   "metadata": {
    "execution": {
     "iopub.execute_input": "2022-04-15T18:05:05.426465Z",
     "iopub.status.busy": "2022-04-15T18:05:05.426190Z",
     "iopub.status.idle": "2022-04-15T18:05:06.192263Z",
     "shell.execute_reply": "2022-04-15T18:05:06.191347Z"
    },
    "papermill": {
     "duration": 0.915773,
     "end_time": "2022-04-15T18:05:06.196769",
     "exception": false,
     "start_time": "2022-04-15T18:05:05.280996",
     "status": "completed"
    },
    "tags": []
   },
   "outputs": [
    {
     "name": "stdout",
     "output_type": "stream",
     "text": [
      "+---------+-----+\n",
      "|  country|count|\n",
      "+---------+-----+\n",
      "| Malaysia| 1218|\n",
      "|    India| 4018|\n",
      "|Indonesia|12178|\n",
      "|   Brazil| 2586|\n",
      "+---------+-----+\n",
      "\n"
     ]
    }
   ],
   "source": [
    "df.groupby('country').count().show()"
   ]
  },
  {
   "cell_type": "code",
   "execution_count": 11,
   "id": "b3e1313a",
   "metadata": {
    "execution": {
     "iopub.execute_input": "2022-04-15T18:05:06.488864Z",
     "iopub.status.busy": "2022-04-15T18:05:06.488548Z",
     "iopub.status.idle": "2022-04-15T18:05:06.802904Z",
     "shell.execute_reply": "2022-04-15T18:05:06.801987Z"
    },
    "papermill": {
     "duration": 0.461654,
     "end_time": "2022-04-15T18:05:06.806083",
     "exception": false,
     "start_time": "2022-04-15T18:05:06.344429",
     "status": "completed"
    },
    "tags": []
   },
   "outputs": [
    {
     "name": "stdout",
     "output_type": "stream",
     "text": [
      "+--------+-----+\n",
      "|Platform|count|\n",
      "+--------+-----+\n",
      "|   Yahoo| 9859|\n",
      "|    Bing| 4360|\n",
      "|  Google| 5781|\n",
      "+--------+-----+\n",
      "\n"
     ]
    }
   ],
   "source": [
    "df.groupby('Platform').count().show()"
   ]
  },
  {
   "cell_type": "code",
   "execution_count": 12,
   "id": "eaae6b6f",
   "metadata": {
    "execution": {
     "iopub.execute_input": "2022-04-15T18:05:07.187241Z",
     "iopub.status.busy": "2022-04-15T18:05:07.186737Z",
     "iopub.status.idle": "2022-04-15T18:05:07.599145Z",
     "shell.execute_reply": "2022-04-15T18:05:07.598196Z"
    },
    "papermill": {
     "duration": 0.572284,
     "end_time": "2022-04-15T18:05:07.604291",
     "exception": false,
     "start_time": "2022-04-15T18:05:07.032007",
     "status": "completed"
    },
    "tags": []
   },
   "outputs": [
    {
     "name": "stdout",
     "output_type": "stream",
     "text": [
      "+------+-----+\n",
      "|Status|count|\n",
      "+------+-----+\n",
      "|     1|10000|\n",
      "|     0|10000|\n",
      "+------+-----+\n",
      "\n"
     ]
    }
   ],
   "source": [
    "df.groupby('Status').count().show()"
   ]
  },
  {
   "cell_type": "code",
   "execution_count": 13,
   "id": "0809084b",
   "metadata": {
    "execution": {
     "iopub.execute_input": "2022-04-15T18:05:07.902037Z",
     "iopub.status.busy": "2022-04-15T18:05:07.901637Z",
     "iopub.status.idle": "2022-04-15T18:05:08.499561Z",
     "shell.execute_reply": "2022-04-15T18:05:08.498645Z"
    },
    "papermill": {
     "duration": 0.749702,
     "end_time": "2022-04-15T18:05:08.503912",
     "exception": false,
     "start_time": "2022-04-15T18:05:07.754210",
     "status": "completed"
    },
    "tags": []
   },
   "outputs": [
    {
     "name": "stdout",
     "output_type": "stream",
     "text": [
      "+---------+------------------+-------------------+---------------------+--------------------+\n",
      "|  Country|          avg(Age)|avg(Repeat_Visitor)|avg(Web_pages_viewed)|         avg(Status)|\n",
      "+---------+------------------+-------------------+---------------------+--------------------+\n",
      "| Malaysia|27.792282430213465| 0.5730706075533661|   11.192118226600986|  0.6568144499178982|\n",
      "|    India|27.976854156296664| 0.5433051269288203|   10.727227476356397|  0.6212045793927327|\n",
      "|Indonesia| 28.43159796354081| 0.5207751683363442|    9.985711939563148|  0.5422893742814913|\n",
      "|   Brazil|30.274168600154677|  0.322892498066512|    4.921113689095128|0.038669760247486466|\n",
      "+---------+------------------+-------------------+---------------------+--------------------+\n",
      "\n"
     ]
    }
   ],
   "source": [
    "df.groupby('Country').mean().show()"
   ]
  },
  {
   "cell_type": "code",
   "execution_count": 14,
   "id": "6bbbf3aa",
   "metadata": {
    "execution": {
     "iopub.execute_input": "2022-04-15T18:05:08.800123Z",
     "iopub.status.busy": "2022-04-15T18:05:08.799818Z",
     "iopub.status.idle": "2022-04-15T18:05:09.312401Z",
     "shell.execute_reply": "2022-04-15T18:05:09.311459Z"
    },
    "papermill": {
     "duration": 0.66382,
     "end_time": "2022-04-15T18:05:09.315376",
     "exception": false,
     "start_time": "2022-04-15T18:05:08.651556",
     "status": "completed"
    },
    "tags": []
   },
   "outputs": [
    {
     "name": "stdout",
     "output_type": "stream",
     "text": [
      "+--------+------------------+-------------------+---------------------+------------------+\n",
      "|Platform|          avg(Age)|avg(Repeat_Visitor)|avg(Web_pages_viewed)|       avg(Status)|\n",
      "+--------+------------------+-------------------+---------------------+------------------+\n",
      "|   Yahoo|28.569226087838523| 0.5094837204584644|    9.599655137437875|0.5071508266558474|\n",
      "|    Bing| 28.68394495412844| 0.4720183486238532|    9.114908256880733|0.4559633027522936|\n",
      "|  Google|28.380038055699707| 0.5149628092025601|    9.804878048780488|0.5210171250648676|\n",
      "+--------+------------------+-------------------+---------------------+------------------+\n",
      "\n"
     ]
    }
   ],
   "source": [
    "df.groupby('Platform').mean().show()"
   ]
  },
  {
   "cell_type": "markdown",
   "id": "f5215937",
   "metadata": {
    "papermill": {
     "duration": 0.144552,
     "end_time": "2022-04-15T18:05:09.660738",
     "exception": false,
     "start_time": "2022-04-15T18:05:09.516186",
     "status": "completed"
    },
    "tags": []
   },
   "source": [
    "_Data Preprocessing, converting categorical data into Numerical form_"
   ]
  },
  {
   "cell_type": "code",
   "execution_count": 15,
   "id": "0320c50c",
   "metadata": {
    "execution": {
     "iopub.execute_input": "2022-04-15T18:05:09.950556Z",
     "iopub.status.busy": "2022-04-15T18:05:09.950262Z",
     "iopub.status.idle": "2022-04-15T18:05:11.044285Z",
     "shell.execute_reply": "2022-04-15T18:05:11.043380Z"
    },
    "papermill": {
     "duration": 1.24385,
     "end_time": "2022-04-15T18:05:11.047851",
     "exception": false,
     "start_time": "2022-04-15T18:05:09.804001",
     "status": "completed"
    },
    "tags": []
   },
   "outputs": [
    {
     "name": "stdout",
     "output_type": "stream",
     "text": [
      "+-------+---+--------------+--------+----------------+------+--------------------+\n",
      "|Country|Age|Repeat_Visitor|Platform|Web_pages_viewed|Status|Search_Engine_Number|\n",
      "+-------+---+--------------+--------+----------------+------+--------------------+\n",
      "|India  |41 |1             |Yahoo   |21              |1     |0.0                 |\n",
      "|Brazil |28 |1             |Yahoo   |5               |0     |0.0                 |\n",
      "|Brazil |40 |0             |Google  |3               |0     |1.0                 |\n",
      "+-------+---+--------------+--------+----------------+------+--------------------+\n",
      "only showing top 3 rows\n",
      "\n"
     ]
    }
   ],
   "source": [
    "search_engine_indexer = StringIndexer(inputCol='Platform', outputCol='Search_Engine_Number').fit(df)\n",
    "df = search_engine_indexer.transform(df)\n",
    "df.show(3, False)"
   ]
  },
  {
   "cell_type": "code",
   "execution_count": 16,
   "id": "3b4400a7",
   "metadata": {
    "execution": {
     "iopub.execute_input": "2022-04-15T18:05:11.380619Z",
     "iopub.status.busy": "2022-04-15T18:05:11.380308Z",
     "iopub.status.idle": "2022-04-15T18:05:11.833746Z",
     "shell.execute_reply": "2022-04-15T18:05:11.832254Z"
    },
    "papermill": {
     "duration": 0.603197,
     "end_time": "2022-04-15T18:05:11.836730",
     "exception": false,
     "start_time": "2022-04-15T18:05:11.233533",
     "status": "completed"
    },
    "tags": []
   },
   "outputs": [
    {
     "name": "stdout",
     "output_type": "stream",
     "text": [
      "+-------+---+--------------+--------+----------------+------+--------------------+--------------------+\n",
      "|Country|Age|Repeat_Visitor|Platform|Web_pages_viewed|Status|Search_Engine_Number|Search_Engine_Vector|\n",
      "+-------+---+--------------+--------+----------------+------+--------------------+--------------------+\n",
      "|India  |41 |1             |Yahoo   |21              |1     |0.0                 |(2,[0],[1.0])       |\n",
      "|Brazil |28 |1             |Yahoo   |5               |0     |0.0                 |(2,[0],[1.0])       |\n",
      "|Brazil |40 |0             |Google  |3               |0     |1.0                 |(2,[1],[1.0])       |\n",
      "+-------+---+--------------+--------+----------------+------+--------------------+--------------------+\n",
      "only showing top 3 rows\n",
      "\n"
     ]
    }
   ],
   "source": [
    "#one hot encoding for Search Engine /Platform Variable\n",
    "search_engine_encoder = OneHotEncoder(inputCol=\"Search_Engine_Number\", outputCol=\"Search_Engine_Vector\").fit(df)\n",
    "df = search_engine_encoder.transform(df)\n",
    "df.show(3,False)"
   ]
  },
  {
   "cell_type": "code",
   "execution_count": 17,
   "id": "869fa110",
   "metadata": {
    "execution": {
     "iopub.execute_input": "2022-04-15T18:05:12.138788Z",
     "iopub.status.busy": "2022-04-15T18:05:12.138202Z",
     "iopub.status.idle": "2022-04-15T18:05:12.718882Z",
     "shell.execute_reply": "2022-04-15T18:05:12.717952Z"
    },
    "papermill": {
     "duration": 0.735963,
     "end_time": "2022-04-15T18:05:12.721866",
     "exception": false,
     "start_time": "2022-04-15T18:05:11.985903",
     "status": "completed"
    },
    "tags": []
   },
   "outputs": [
    {
     "name": "stdout",
     "output_type": "stream",
     "text": [
      "+--------+-----+\n",
      "|Platform|count|\n",
      "+--------+-----+\n",
      "|   Yahoo| 9859|\n",
      "|  Google| 5781|\n",
      "|    Bing| 4360|\n",
      "+--------+-----+\n",
      "\n"
     ]
    }
   ],
   "source": [
    "df.groupby('Platform').count().orderBy('count', ascending=False).show()"
   ]
  },
  {
   "cell_type": "code",
   "execution_count": 18,
   "id": "24cba2f1",
   "metadata": {
    "execution": {
     "iopub.execute_input": "2022-04-15T18:05:13.043628Z",
     "iopub.status.busy": "2022-04-15T18:05:13.043260Z",
     "iopub.status.idle": "2022-04-15T18:05:13.508092Z",
     "shell.execute_reply": "2022-04-15T18:05:13.507193Z"
    },
    "papermill": {
     "duration": 0.620636,
     "end_time": "2022-04-15T18:05:13.512544",
     "exception": false,
     "start_time": "2022-04-15T18:05:12.891908",
     "status": "completed"
    },
    "tags": []
   },
   "outputs": [
    {
     "name": "stdout",
     "output_type": "stream",
     "text": [
      "+--------------------+-----+\n",
      "|Search_Engine_Number|count|\n",
      "+--------------------+-----+\n",
      "|                 0.0| 9859|\n",
      "|                 1.0| 5781|\n",
      "|                 2.0| 4360|\n",
      "+--------------------+-----+\n",
      "\n"
     ]
    }
   ],
   "source": [
    "df.groupby('Search_Engine_Number').count().orderBy('count', ascending=False).show()"
   ]
  },
  {
   "cell_type": "code",
   "execution_count": 19,
   "id": "d278e1bb",
   "metadata": {
    "execution": {
     "iopub.execute_input": "2022-04-15T18:05:13.853337Z",
     "iopub.status.busy": "2022-04-15T18:05:13.853064Z",
     "iopub.status.idle": "2022-04-15T18:05:14.414210Z",
     "shell.execute_reply": "2022-04-15T18:05:14.413495Z"
    },
    "papermill": {
     "duration": 0.712474,
     "end_time": "2022-04-15T18:05:14.417087",
     "exception": false,
     "start_time": "2022-04-15T18:05:13.704613",
     "status": "completed"
    },
    "tags": []
   },
   "outputs": [
    {
     "name": "stdout",
     "output_type": "stream",
     "text": [
      "+--------------------+-----+\n",
      "|Search_Engine_Vector|count|\n",
      "+--------------------+-----+\n",
      "|       (2,[0],[1.0])| 9859|\n",
      "|       (2,[1],[1.0])| 5781|\n",
      "|           (2,[],[])| 4360|\n",
      "+--------------------+-----+\n",
      "\n"
     ]
    }
   ],
   "source": [
    "df.groupby('Search_Engine_Vector').count().orderBy('count', ascending=False).show()"
   ]
  },
  {
   "cell_type": "code",
   "execution_count": 20,
   "id": "9e7cac43",
   "metadata": {
    "execution": {
     "iopub.execute_input": "2022-04-15T18:05:14.731713Z",
     "iopub.status.busy": "2022-04-15T18:05:14.730522Z",
     "iopub.status.idle": "2022-04-15T18:05:15.602827Z",
     "shell.execute_reply": "2022-04-15T18:05:15.601179Z"
    },
    "papermill": {
     "duration": 1.022556,
     "end_time": "2022-04-15T18:05:15.607195",
     "exception": false,
     "start_time": "2022-04-15T18:05:14.584639",
     "status": "completed"
    },
    "tags": []
   },
   "outputs": [
    {
     "name": "stdout",
     "output_type": "stream",
     "text": [
      "+-------+---+--------------+--------+----------------+------+--------------------+--------------------+-----------+--------------+\n",
      "|Country|Age|Repeat_Visitor|Platform|Web_pages_viewed|Status|Search_Engine_Number|Search_Engine_Vector|Country_Num|Country_Vector|\n",
      "+-------+---+--------------+--------+----------------+------+--------------------+--------------------+-----------+--------------+\n",
      "|India  |41 |1             |Yahoo   |21              |1     |0.0                 |(2,[0],[1.0])       |1.0        |(3,[1],[1.0]) |\n",
      "|Brazil |28 |1             |Yahoo   |5               |0     |0.0                 |(2,[0],[1.0])       |2.0        |(3,[2],[1.0]) |\n",
      "|Brazil |40 |0             |Google  |3               |0     |1.0                 |(2,[1],[1.0])       |2.0        |(3,[2],[1.0]) |\n",
      "+-------+---+--------------+--------+----------------+------+--------------------+--------------------+-----------+--------------+\n",
      "only showing top 3 rows\n",
      "\n"
     ]
    }
   ],
   "source": [
    "#Applying tranformation for country\n",
    "#string Indexer\n",
    "country_indexer = StringIndexer(inputCol='Country', outputCol='Country_Num').fit(df)\n",
    "df = country_indexer.transform(df)\n",
    "\n",
    "#OnehotEncoding\n",
    "country_encoder = OneHotEncoder(inputCol='Country_Num', outputCol='Country_Vector').fit(df)\n",
    "df = country_encoder.transform(df)\n",
    "\n",
    "df.show(3, False)"
   ]
  },
  {
   "cell_type": "code",
   "execution_count": 21,
   "id": "2bde35d4",
   "metadata": {
    "execution": {
     "iopub.execute_input": "2022-04-15T18:05:16.097038Z",
     "iopub.status.busy": "2022-04-15T18:05:16.096706Z",
     "iopub.status.idle": "2022-04-15T18:05:16.238360Z",
     "shell.execute_reply": "2022-04-15T18:05:16.237014Z"
    },
    "papermill": {
     "duration": 0.379014,
     "end_time": "2022-04-15T18:05:16.241542",
     "exception": false,
     "start_time": "2022-04-15T18:05:15.862528",
     "status": "completed"
    },
    "tags": []
   },
   "outputs": [
    {
     "name": "stdout",
     "output_type": "stream",
     "text": [
      "+-------+-----------+--------------+\n",
      "|country|Country_Num|country_Vector|\n",
      "+-------+-----------+--------------+\n",
      "|India  |1.0        |(3,[1],[1.0]) |\n",
      "|Brazil |2.0        |(3,[2],[1.0]) |\n",
      "|Brazil |2.0        |(3,[2],[1.0]) |\n",
      "+-------+-----------+--------------+\n",
      "only showing top 3 rows\n",
      "\n"
     ]
    }
   ],
   "source": [
    "df.select(['country', 'Country_Num', 'country_Vector']).show(3,False)"
   ]
  },
  {
   "cell_type": "code",
   "execution_count": 22,
   "id": "7506760a",
   "metadata": {
    "execution": {
     "iopub.execute_input": "2022-04-15T18:05:16.567758Z",
     "iopub.status.busy": "2022-04-15T18:05:16.567455Z",
     "iopub.status.idle": "2022-04-15T18:05:16.822084Z",
     "shell.execute_reply": "2022-04-15T18:05:16.821333Z"
    },
    "papermill": {
     "duration": 0.405165,
     "end_time": "2022-04-15T18:05:16.825222",
     "exception": false,
     "start_time": "2022-04-15T18:05:16.420057",
     "status": "completed"
    },
    "tags": []
   },
   "outputs": [
    {
     "name": "stdout",
     "output_type": "stream",
     "text": [
      "+---------+-----+\n",
      "|  Country|count|\n",
      "+---------+-----+\n",
      "|Indonesia|12178|\n",
      "|    India| 4018|\n",
      "|   Brazil| 2586|\n",
      "| Malaysia| 1218|\n",
      "+---------+-----+\n",
      "\n"
     ]
    }
   ],
   "source": [
    "df.groupby('Country').count().orderBy('count', ascending=False).show()"
   ]
  },
  {
   "cell_type": "code",
   "execution_count": 23,
   "id": "151fd040",
   "metadata": {
    "execution": {
     "iopub.execute_input": "2022-04-15T18:05:17.135716Z",
     "iopub.status.busy": "2022-04-15T18:05:17.135421Z",
     "iopub.status.idle": "2022-04-15T18:05:17.465931Z",
     "shell.execute_reply": "2022-04-15T18:05:17.464069Z"
    },
    "papermill": {
     "duration": 0.488344,
     "end_time": "2022-04-15T18:05:17.469582",
     "exception": false,
     "start_time": "2022-04-15T18:05:16.981238",
     "status": "completed"
    },
    "tags": []
   },
   "outputs": [
    {
     "name": "stdout",
     "output_type": "stream",
     "text": [
      "+-----------+-----+\n",
      "|Country_Num|count|\n",
      "+-----------+-----+\n",
      "|        0.0|12178|\n",
      "|        1.0| 4018|\n",
      "|        2.0| 2586|\n",
      "|        3.0| 1218|\n",
      "+-----------+-----+\n",
      "\n"
     ]
    }
   ],
   "source": [
    "df.groupby('Country_Num').count().orderBy('count', ascending=False).show()"
   ]
  },
  {
   "cell_type": "code",
   "execution_count": 24,
   "id": "0965bfca",
   "metadata": {
    "execution": {
     "iopub.execute_input": "2022-04-15T18:05:17.807293Z",
     "iopub.status.busy": "2022-04-15T18:05:17.807003Z",
     "iopub.status.idle": "2022-04-15T18:05:18.192545Z",
     "shell.execute_reply": "2022-04-15T18:05:18.191652Z"
    },
    "papermill": {
     "duration": 0.53861,
     "end_time": "2022-04-15T18:05:18.195928",
     "exception": false,
     "start_time": "2022-04-15T18:05:17.657318",
     "status": "completed"
    },
    "tags": []
   },
   "outputs": [
    {
     "name": "stdout",
     "output_type": "stream",
     "text": [
      "+--------------+-----+\n",
      "|Country_Vector|count|\n",
      "+--------------+-----+\n",
      "| (3,[0],[1.0])|12178|\n",
      "| (3,[1],[1.0])| 4018|\n",
      "| (3,[2],[1.0])| 2586|\n",
      "|     (3,[],[])| 1218|\n",
      "+--------------+-----+\n",
      "\n"
     ]
    }
   ],
   "source": [
    "df.groupby('Country_Vector').count().orderBy('count', ascending=False).show()"
   ]
  },
  {
   "cell_type": "code",
   "execution_count": 25,
   "id": "f0443a4d",
   "metadata": {
    "execution": {
     "iopub.execute_input": "2022-04-15T18:05:18.538481Z",
     "iopub.status.busy": "2022-04-15T18:05:18.538186Z",
     "iopub.status.idle": "2022-04-15T18:05:18.552960Z",
     "shell.execute_reply": "2022-04-15T18:05:18.552103Z"
    },
    "papermill": {
     "duration": 0.166909,
     "end_time": "2022-04-15T18:05:18.555860",
     "exception": false,
     "start_time": "2022-04-15T18:05:18.388951",
     "status": "completed"
    },
    "tags": []
   },
   "outputs": [
    {
     "data": {
      "text/plain": [
       "['Country',\n",
       " 'Age',\n",
       " 'Repeat_Visitor',\n",
       " 'Platform',\n",
       " 'Web_pages_viewed',\n",
       " 'Status',\n",
       " 'Search_Engine_Number',\n",
       " 'Search_Engine_Vector',\n",
       " 'Country_Num',\n",
       " 'Country_Vector']"
      ]
     },
     "execution_count": 25,
     "metadata": {},
     "output_type": "execute_result"
    }
   ],
   "source": [
    "df.columns"
   ]
  },
  {
   "cell_type": "code",
   "execution_count": 26,
   "id": "e28ed81a",
   "metadata": {
    "execution": {
     "iopub.execute_input": "2022-04-15T18:05:18.853501Z",
     "iopub.status.busy": "2022-04-15T18:05:18.853193Z",
     "iopub.status.idle": "2022-04-15T18:05:18.948369Z",
     "shell.execute_reply": "2022-04-15T18:05:18.947754Z"
    },
    "papermill": {
     "duration": 0.246983,
     "end_time": "2022-04-15T18:05:18.950660",
     "exception": false,
     "start_time": "2022-04-15T18:05:18.703677",
     "status": "completed"
    },
    "tags": []
   },
   "outputs": [],
   "source": [
    "df_assembler = VectorAssembler(inputCols=[\n",
    "#'Country',\n",
    " 'Age',\n",
    " 'Repeat_Visitor',\n",
    " #'Platform',\n",
    " 'Web_pages_viewed',\n",
    " 'Status',\n",
    "# 'Search_Engine_Number',\n",
    " 'Search_Engine_Vector',\n",
    " #'Country_Num',\n",
    " 'Country_Vector'], outputCol='features')\n",
    "df = df_assembler.transform(df)"
   ]
  },
  {
   "cell_type": "code",
   "execution_count": 27,
   "id": "35d06dc6",
   "metadata": {
    "execution": {
     "iopub.execute_input": "2022-04-15T18:05:19.247773Z",
     "iopub.status.busy": "2022-04-15T18:05:19.247468Z",
     "iopub.status.idle": "2022-04-15T18:05:19.257811Z",
     "shell.execute_reply": "2022-04-15T18:05:19.253802Z"
    },
    "papermill": {
     "duration": 0.162189,
     "end_time": "2022-04-15T18:05:19.261206",
     "exception": false,
     "start_time": "2022-04-15T18:05:19.099017",
     "status": "completed"
    },
    "tags": []
   },
   "outputs": [
    {
     "name": "stdout",
     "output_type": "stream",
     "text": [
      "root\n",
      " |-- Country: string (nullable = true)\n",
      " |-- Age: integer (nullable = true)\n",
      " |-- Repeat_Visitor: integer (nullable = true)\n",
      " |-- Platform: string (nullable = true)\n",
      " |-- Web_pages_viewed: integer (nullable = true)\n",
      " |-- Status: integer (nullable = true)\n",
      " |-- Search_Engine_Number: double (nullable = false)\n",
      " |-- Search_Engine_Vector: vector (nullable = true)\n",
      " |-- Country_Num: double (nullable = false)\n",
      " |-- Country_Vector: vector (nullable = true)\n",
      " |-- features: vector (nullable = true)\n",
      "\n"
     ]
    }
   ],
   "source": [
    "df.printSchema()"
   ]
  },
  {
   "cell_type": "code",
   "execution_count": 28,
   "id": "88fc65ab",
   "metadata": {
    "execution": {
     "iopub.execute_input": "2022-04-15T18:05:19.594256Z",
     "iopub.status.busy": "2022-04-15T18:05:19.593833Z",
     "iopub.status.idle": "2022-04-15T18:05:20.039097Z",
     "shell.execute_reply": "2022-04-15T18:05:20.032783Z"
    },
    "papermill": {
     "duration": 0.613602,
     "end_time": "2022-04-15T18:05:20.043211",
     "exception": false,
     "start_time": "2022-04-15T18:05:19.429609",
     "status": "completed"
    },
    "tags": []
   },
   "outputs": [
    {
     "name": "stdout",
     "output_type": "stream",
     "text": [
      "+---------------------------------------+------+\n",
      "|features                               |Status|\n",
      "+---------------------------------------+------+\n",
      "|[41.0,1.0,21.0,1.0,1.0,0.0,0.0,1.0,0.0]|1     |\n",
      "|[28.0,1.0,5.0,0.0,1.0,0.0,0.0,0.0,1.0] |0     |\n",
      "|(9,[0,2,5,8],[40.0,3.0,1.0,1.0])       |0     |\n",
      "|[31.0,1.0,15.0,1.0,0.0,0.0,1.0,0.0,0.0]|1     |\n",
      "|(9,[0,2,3,5],[32.0,15.0,1.0,1.0])      |1     |\n",
      "|(9,[0,2,5,8],[32.0,3.0,1.0,1.0])       |0     |\n",
      "|(9,[0,2,5,8],[32.0,6.0,1.0,1.0])       |0     |\n",
      "|(9,[0,2,5,6],[27.0,9.0,1.0,1.0])       |0     |\n",
      "|(9,[0,2,4,6],[32.0,2.0,1.0,1.0])       |0     |\n",
      "|[31.0,1.0,16.0,1.0,0.0,0.0,1.0,0.0,0.0]|1     |\n",
      "+---------------------------------------+------+\n",
      "only showing top 10 rows\n",
      "\n"
     ]
    }
   ],
   "source": [
    "df.select(['features', 'Status']).show(10,False)"
   ]
  },
  {
   "cell_type": "code",
   "execution_count": 29,
   "id": "533b08f1",
   "metadata": {
    "execution": {
     "iopub.execute_input": "2022-04-15T18:05:20.398076Z",
     "iopub.status.busy": "2022-04-15T18:05:20.397789Z",
     "iopub.status.idle": "2022-04-15T18:05:20.557151Z",
     "shell.execute_reply": "2022-04-15T18:05:20.556386Z"
    },
    "papermill": {
     "duration": 0.33759,
     "end_time": "2022-04-15T18:05:20.560624",
     "exception": false,
     "start_time": "2022-04-15T18:05:20.223034",
     "status": "completed"
    },
    "tags": []
   },
   "outputs": [
    {
     "name": "stdout",
     "output_type": "stream",
     "text": [
      "+---------------------------------------+------+\n",
      "|features                               |Status|\n",
      "+---------------------------------------+------+\n",
      "|[41.0,1.0,21.0,1.0,1.0,0.0,0.0,1.0,0.0]|1     |\n",
      "|[28.0,1.0,5.0,0.0,1.0,0.0,0.0,0.0,1.0] |0     |\n",
      "|(9,[0,2,5,8],[40.0,3.0,1.0,1.0])       |0     |\n",
      "+---------------------------------------+------+\n",
      "only showing top 3 rows\n",
      "\n"
     ]
    }
   ],
   "source": [
    "model_df = df.select(['features', 'Status'])\n",
    "model_df.show(3,False)"
   ]
  },
  {
   "cell_type": "code",
   "execution_count": 30,
   "id": "d0aa7e7f",
   "metadata": {
    "execution": {
     "iopub.execute_input": "2022-04-15T18:05:20.888429Z",
     "iopub.status.busy": "2022-04-15T18:05:20.887894Z",
     "iopub.status.idle": "2022-04-15T18:05:20.909646Z",
     "shell.execute_reply": "2022-04-15T18:05:20.908939Z"
    },
    "papermill": {
     "duration": 0.184955,
     "end_time": "2022-04-15T18:05:20.911784",
     "exception": false,
     "start_time": "2022-04-15T18:05:20.726829",
     "status": "completed"
    },
    "tags": []
   },
   "outputs": [],
   "source": [
    "#split the data\n",
    "traindf, testdf = model_df.randomSplit([0.75,0.25], seed=1)"
   ]
  },
  {
   "cell_type": "code",
   "execution_count": 31,
   "id": "4aeac8ce",
   "metadata": {
    "execution": {
     "iopub.execute_input": "2022-04-15T18:05:21.213808Z",
     "iopub.status.busy": "2022-04-15T18:05:21.213270Z",
     "iopub.status.idle": "2022-04-15T18:05:22.248108Z",
     "shell.execute_reply": "2022-04-15T18:05:22.247042Z"
    },
    "papermill": {
     "duration": 1.188636,
     "end_time": "2022-04-15T18:05:22.251875",
     "exception": false,
     "start_time": "2022-04-15T18:05:21.063239",
     "status": "completed"
    },
    "tags": []
   },
   "outputs": [
    {
     "name": "stderr",
     "output_type": "stream",
     "text": [
      "                                                                                \r"
     ]
    },
    {
     "data": {
      "text/plain": [
       "15023"
      ]
     },
     "execution_count": 31,
     "metadata": {},
     "output_type": "execute_result"
    }
   ],
   "source": [
    "traindf.count()"
   ]
  },
  {
   "cell_type": "code",
   "execution_count": 32,
   "id": "883d7e94",
   "metadata": {
    "execution": {
     "iopub.execute_input": "2022-04-15T18:05:22.569366Z",
     "iopub.status.busy": "2022-04-15T18:05:22.569063Z",
     "iopub.status.idle": "2022-04-15T18:05:23.208364Z",
     "shell.execute_reply": "2022-04-15T18:05:23.207443Z"
    },
    "papermill": {
     "duration": 0.79395,
     "end_time": "2022-04-15T18:05:23.211574",
     "exception": false,
     "start_time": "2022-04-15T18:05:22.417624",
     "status": "completed"
    },
    "tags": []
   },
   "outputs": [
    {
     "name": "stdout",
     "output_type": "stream",
     "text": [
      "+------+-----+\n",
      "|Status|count|\n",
      "+------+-----+\n",
      "|     1| 7476|\n",
      "|     0| 7547|\n",
      "+------+-----+\n",
      "\n"
     ]
    }
   ],
   "source": [
    "traindf.groupby('Status').count().show()"
   ]
  },
  {
   "cell_type": "code",
   "execution_count": 33,
   "id": "ee670f3b",
   "metadata": {
    "execution": {
     "iopub.execute_input": "2022-04-15T18:05:23.556080Z",
     "iopub.status.busy": "2022-04-15T18:05:23.555793Z",
     "iopub.status.idle": "2022-04-15T18:05:24.174273Z",
     "shell.execute_reply": "2022-04-15T18:05:24.172394Z"
    },
    "papermill": {
     "duration": 0.773923,
     "end_time": "2022-04-15T18:05:24.177812",
     "exception": false,
     "start_time": "2022-04-15T18:05:23.403889",
     "status": "completed"
    },
    "tags": []
   },
   "outputs": [
    {
     "name": "stdout",
     "output_type": "stream",
     "text": [
      "+------+-----+\n",
      "|Status|count|\n",
      "+------+-----+\n",
      "|     1| 2524|\n",
      "|     0| 2453|\n",
      "+------+-----+\n",
      "\n"
     ]
    }
   ],
   "source": [
    "testdf.groupby('Status').count().show()"
   ]
  },
  {
   "cell_type": "code",
   "execution_count": 34,
   "id": "d2b2352d",
   "metadata": {
    "execution": {
     "iopub.execute_input": "2022-04-15T18:05:24.507327Z",
     "iopub.status.busy": "2022-04-15T18:05:24.506513Z",
     "iopub.status.idle": "2022-04-15T18:05:28.385360Z",
     "shell.execute_reply": "2022-04-15T18:05:28.384455Z"
    },
    "papermill": {
     "duration": 4.035844,
     "end_time": "2022-04-15T18:05:28.388884",
     "exception": false,
     "start_time": "2022-04-15T18:05:24.353040",
     "status": "completed"
    },
    "tags": []
   },
   "outputs": [],
   "source": [
    "log_reg = LogisticRegression(labelCol='Status').fit(traindf)"
   ]
  },
  {
   "cell_type": "code",
   "execution_count": 35,
   "id": "36ac808f",
   "metadata": {
    "execution": {
     "iopub.execute_input": "2022-04-15T18:05:28.842310Z",
     "iopub.status.busy": "2022-04-15T18:05:28.841912Z",
     "iopub.status.idle": "2022-04-15T18:05:29.073762Z",
     "shell.execute_reply": "2022-04-15T18:05:29.072938Z"
    },
    "papermill": {
     "duration": 0.44399,
     "end_time": "2022-04-15T18:05:29.076547",
     "exception": false,
     "start_time": "2022-04-15T18:05:28.632557",
     "status": "completed"
    },
    "tags": []
   },
   "outputs": [
    {
     "name": "stderr",
     "output_type": "stream",
     "text": [
      "/opt/conda/lib/python3.7/site-packages/pyspark/sql/context.py:127: FutureWarning: Deprecated in 3.0.0. Use SparkSession.builder.getOrCreate() instead.\n",
      "  FutureWarning\n"
     ]
    }
   ],
   "source": [
    "train_results = log_reg.evaluate(traindf).predictions"
   ]
  },
  {
   "cell_type": "code",
   "execution_count": 36,
   "id": "2cba72ed",
   "metadata": {
    "execution": {
     "iopub.execute_input": "2022-04-15T18:05:29.386544Z",
     "iopub.status.busy": "2022-04-15T18:05:29.386277Z",
     "iopub.status.idle": "2022-04-15T18:05:29.884480Z",
     "shell.execute_reply": "2022-04-15T18:05:29.883635Z"
    },
    "papermill": {
     "duration": 0.656383,
     "end_time": "2022-04-15T18:05:29.887677",
     "exception": false,
     "start_time": "2022-04-15T18:05:29.231294",
     "status": "completed"
    },
    "tags": []
   },
   "outputs": [
    {
     "name": "stdout",
     "output_type": "stream",
     "text": [
      "+---------------------------+------+----------------------------------------+------------------------------------------+----------+\n",
      "|features                   |Status|rawPrediction                           |probability                               |prediction|\n",
      "+---------------------------+------+----------------------------------------+------------------------------------------+----------+\n",
      "|(9,[0,1,2],[17.0,1.0,4.0]) |0     |[18.445974299200984,-18.445974299200984]|[0.9999999902497637,9.75023628502214E-9]  |0.0       |\n",
      "|(9,[0,1,2],[19.0,1.0,5.0]) |0     |[18.228382959867293,-18.228382959867293]|[0.9999999878796862,1.2120313752639333E-8]|0.0       |\n",
      "|(9,[0,1,2],[19.0,1.0,12.0])|0     |[16.333380868711572,-16.333380868711572]|[0.9999999193688632,8.063113676737288E-8] |0.0       |\n",
      "|(9,[0,1,2],[21.0,1.0,1.0]) |0     |[19.36436454278769,-19.36436454278769]  |[0.9999999961080852,3.891914790443707E-9] |0.0       |\n",
      "|(9,[0,1,2],[21.0,1.0,4.0]) |0     |[18.55222078943524,-18.55222078943524]  |[0.9999999912325584,8.76744155053899E-9]  |0.0       |\n",
      "+---------------------------+------+----------------------------------------+------------------------------------------+----------+\n",
      "only showing top 5 rows\n",
      "\n"
     ]
    }
   ],
   "source": [
    "train_results.show(5,False)"
   ]
  },
  {
   "cell_type": "code",
   "execution_count": 37,
   "id": "a6878622",
   "metadata": {
    "execution": {
     "iopub.execute_input": "2022-04-15T18:05:30.228939Z",
     "iopub.status.busy": "2022-04-15T18:05:30.228666Z",
     "iopub.status.idle": "2022-04-15T18:05:30.804239Z",
     "shell.execute_reply": "2022-04-15T18:05:30.803547Z"
    },
    "papermill": {
     "duration": 0.730736,
     "end_time": "2022-04-15T18:05:30.806448",
     "exception": false,
     "start_time": "2022-04-15T18:05:30.075712",
     "status": "completed"
    },
    "tags": []
   },
   "outputs": [
    {
     "name": "stdout",
     "output_type": "stream",
     "text": [
      "+------+----------+------------------------------------------+\n",
      "|Status|prediction|probability                               |\n",
      "+------+----------+------------------------------------------+\n",
      "|1     |1.0       |[1.496711149305036E-8,0.9999999850328886] |\n",
      "|1     |1.0       |[5.06825663184531E-9,0.9999999949317434]  |\n",
      "|1     |1.0       |[4.433328855115864E-10,0.9999999995566671]|\n",
      "|1     |1.0       |[1.1724753235848007E-8,0.9999999882752467]|\n",
      "|1     |1.0       |[3.0286874915493238E-9,0.9999999969713125]|\n",
      "|1     |1.0       |[4.077179949270602E-9,0.9999999959228201] |\n",
      "|1     |1.0       |[4.077179949270602E-9,0.9999999959228201] |\n",
      "|1     |1.0       |[3.1102122674046473E-9,0.9999999968897877]|\n",
      "|1     |1.0       |[1.8098822889713687E-9,0.9999999981901178]|\n",
      "|1     |1.0       |[1.8098822889713687E-9,0.9999999981901178]|\n",
      "+------+----------+------------------------------------------+\n",
      "only showing top 10 rows\n",
      "\n"
     ]
    }
   ],
   "source": [
    "train_results.filter(train_results['Status']==1)\\\n",
    ".filter(train_results['prediction']==1)\\\n",
    ".select(['Status', 'prediction', 'probability']).show(10, False)"
   ]
  },
  {
   "cell_type": "code",
   "execution_count": 38,
   "id": "5025c183",
   "metadata": {
    "execution": {
     "iopub.execute_input": "2022-04-15T18:05:31.113222Z",
     "iopub.status.busy": "2022-04-15T18:05:31.112666Z",
     "iopub.status.idle": "2022-04-15T18:05:31.581860Z",
     "shell.execute_reply": "2022-04-15T18:05:31.581034Z"
    },
    "papermill": {
     "duration": 0.626288,
     "end_time": "2022-04-15T18:05:31.585255",
     "exception": false,
     "start_time": "2022-04-15T18:05:30.958967",
     "status": "completed"
    },
    "tags": []
   },
   "outputs": [
    {
     "name": "stdout",
     "output_type": "stream",
     "text": [
      "+------+----------+------------------------------------------+\n",
      "|Status|prediction|probability                               |\n",
      "+------+----------+------------------------------------------+\n",
      "|0     |0.0       |[0.9999999902497637,9.75023628502214E-9]  |\n",
      "|0     |0.0       |[0.9999999878796862,1.2120313752639333E-8]|\n",
      "|0     |0.0       |[0.9999999193688632,8.063113676737288E-8] |\n",
      "|0     |0.0       |[0.9999999961080852,3.891914790443707E-9] |\n",
      "|0     |0.0       |[0.9999999912325584,8.76744155053899E-9]  |\n",
      "|0     |0.0       |[0.9999999853284158,1.4671584169789753E-8]|\n",
      "|0     |0.0       |[0.9999999807670076,1.9232992420903372E-8]|\n",
      "|0     |0.0       |[0.9999999936579174,6.342082636834334E-9] |\n",
      "|0     |0.0       |[0.9999999916861585,8.313841504126174E-9] |\n",
      "|0     |0.0       |[0.9999999916861585,8.313841504126174E-9] |\n",
      "+------+----------+------------------------------------------+\n",
      "only showing top 10 rows\n",
      "\n"
     ]
    }
   ],
   "source": [
    "train_results.filter(train_results['Status']==0)\\\n",
    ".filter(train_results['prediction']==0)\\\n",
    ".select(['Status', 'prediction', 'probability']).show(10, False)"
   ]
  },
  {
   "cell_type": "code",
   "execution_count": 39,
   "id": "ce24e266",
   "metadata": {
    "execution": {
     "iopub.execute_input": "2022-04-15T18:05:31.891624Z",
     "iopub.status.busy": "2022-04-15T18:05:31.891363Z",
     "iopub.status.idle": "2022-04-15T18:05:32.478622Z",
     "shell.execute_reply": "2022-04-15T18:05:32.477580Z"
    },
    "papermill": {
     "duration": 0.744877,
     "end_time": "2022-04-15T18:05:32.482145",
     "exception": false,
     "start_time": "2022-04-15T18:05:31.737268",
     "status": "completed"
    },
    "tags": []
   },
   "outputs": [],
   "source": [
    "correct_preds = train_results.filter(train_results['Status']==1).filter(train_results['prediction']==1).count()"
   ]
  },
  {
   "cell_type": "code",
   "execution_count": 40,
   "id": "52c0dda2",
   "metadata": {
    "execution": {
     "iopub.execute_input": "2022-04-15T18:05:32.796026Z",
     "iopub.status.busy": "2022-04-15T18:05:32.795744Z",
     "iopub.status.idle": "2022-04-15T18:05:33.316724Z",
     "shell.execute_reply": "2022-04-15T18:05:33.315768Z"
    },
    "papermill": {
     "duration": 0.679177,
     "end_time": "2022-04-15T18:05:33.319734",
     "exception": false,
     "start_time": "2022-04-15T18:05:32.640557",
     "status": "completed"
    },
    "tags": []
   },
   "outputs": [
    {
     "data": {
      "text/plain": [
       "7476"
      ]
     },
     "execution_count": 40,
     "metadata": {},
     "output_type": "execute_result"
    }
   ],
   "source": [
    "traindf.filter(traindf['Status']==1).count()"
   ]
  },
  {
   "cell_type": "code",
   "execution_count": 41,
   "id": "3f560cef",
   "metadata": {
    "execution": {
     "iopub.execute_input": "2022-04-15T18:05:33.642925Z",
     "iopub.status.busy": "2022-04-15T18:05:33.642624Z",
     "iopub.status.idle": "2022-04-15T18:05:34.093540Z",
     "shell.execute_reply": "2022-04-15T18:05:34.092946Z"
    },
    "papermill": {
     "duration": 0.607774,
     "end_time": "2022-04-15T18:05:34.096713",
     "exception": false,
     "start_time": "2022-04-15T18:05:33.488939",
     "status": "completed"
    },
    "tags": []
   },
   "outputs": [
    {
     "data": {
      "text/plain": [
       "1.0"
      ]
     },
     "execution_count": 41,
     "metadata": {},
     "output_type": "execute_result"
    }
   ],
   "source": [
    "#Accuracy on training dataset\n",
    "float(correct_preds)/(traindf.filter(traindf['Status']==1).count())"
   ]
  },
  {
   "cell_type": "code",
   "execution_count": 42,
   "id": "60d18ab9",
   "metadata": {
    "execution": {
     "iopub.execute_input": "2022-04-15T18:05:34.410740Z",
     "iopub.status.busy": "2022-04-15T18:05:34.410421Z",
     "iopub.status.idle": "2022-04-15T18:05:34.706640Z",
     "shell.execute_reply": "2022-04-15T18:05:34.705744Z"
    },
    "papermill": {
     "duration": 0.456223,
     "end_time": "2022-04-15T18:05:34.709158",
     "exception": false,
     "start_time": "2022-04-15T18:05:34.252935",
     "status": "completed"
    },
    "tags": []
   },
   "outputs": [],
   "source": [
    "#Test Set Results\n",
    "results=log_reg.evaluate(testdf).predictions"
   ]
  },
  {
   "cell_type": "code",
   "execution_count": 43,
   "id": "7d30f8f6",
   "metadata": {
    "execution": {
     "iopub.execute_input": "2022-04-15T18:05:35.022796Z",
     "iopub.status.busy": "2022-04-15T18:05:35.022504Z",
     "iopub.status.idle": "2022-04-15T18:05:35.441021Z",
     "shell.execute_reply": "2022-04-15T18:05:35.440162Z"
    },
    "papermill": {
     "duration": 0.581132,
     "end_time": "2022-04-15T18:05:35.444541",
     "exception": false,
     "start_time": "2022-04-15T18:05:34.863409",
     "status": "completed"
    },
    "tags": []
   },
   "outputs": [
    {
     "name": "stdout",
     "output_type": "stream",
     "text": [
      "+--------------------------+------+----------------------------------------+------------------------------------------+----------+\n",
      "|features                  |Status|rawPrediction                           |probability                               |prediction|\n",
      "+--------------------------+------+----------------------------------------+------------------------------------------+----------+\n",
      "|(9,[0,1,2],[21.0,1.0,2.0])|0     |[19.093649958336876,-19.093649958336876]|[0.9999999948980853,5.101914668514951E-9] |0.0       |\n",
      "|(9,[0,1,2],[26.0,1.0,4.0])|0     |[18.685028902228062,-18.685028902228062]|[0.999999992322938,7.677061986122169E-9]  |0.0       |\n",
      "|(9,[0,1,2],[27.0,1.0,4.0])|0     |[18.711590524786626,-18.711590524786626]|[0.9999999925241688,7.475831176328995E-9] |0.0       |\n",
      "|(9,[0,1,2],[31.0,1.0,8.0])|0     |[17.73497867721761,-17.73497867721761]  |[0.9999999801483499,1.9851650101543328E-8]|0.0       |\n",
      "|(9,[0,1,2],[33.0,1.0,5.0])|0     |[18.600245675687194,-18.600245675687194]|[0.9999999916436632,8.356336844705936E-9] |0.0       |\n",
      "+--------------------------+------+----------------------------------------+------------------------------------------+----------+\n",
      "only showing top 5 rows\n",
      "\n"
     ]
    }
   ],
   "source": [
    "results.show(5,False)"
   ]
  },
  {
   "cell_type": "code",
   "execution_count": 44,
   "id": "6c4bded8",
   "metadata": {
    "execution": {
     "iopub.execute_input": "2022-04-15T18:05:35.763391Z",
     "iopub.status.busy": "2022-04-15T18:05:35.763085Z",
     "iopub.status.idle": "2022-04-15T18:05:36.183213Z",
     "shell.execute_reply": "2022-04-15T18:05:36.182071Z"
    },
    "papermill": {
     "duration": 0.578743,
     "end_time": "2022-04-15T18:05:36.185556",
     "exception": false,
     "start_time": "2022-04-15T18:05:35.606813",
     "status": "completed"
    },
    "tags": []
   },
   "outputs": [
    {
     "name": "stdout",
     "output_type": "stream",
     "text": [
      "+------+----------+\n",
      "|Status|prediction|\n",
      "+------+----------+\n",
      "|0     |0.0       |\n",
      "|0     |0.0       |\n",
      "|0     |0.0       |\n",
      "|0     |0.0       |\n",
      "|0     |0.0       |\n",
      "|1     |1.0       |\n",
      "|1     |1.0       |\n",
      "|1     |1.0       |\n",
      "|1     |1.0       |\n",
      "|1     |1.0       |\n",
      "+------+----------+\n",
      "only showing top 10 rows\n",
      "\n"
     ]
    }
   ],
   "source": [
    "results.select(['Status', 'prediction']).show(10, False)"
   ]
  },
  {
   "cell_type": "code",
   "execution_count": 45,
   "id": "92047f30",
   "metadata": {
    "execution": {
     "iopub.execute_input": "2022-04-15T18:05:36.502763Z",
     "iopub.status.busy": "2022-04-15T18:05:36.502440Z",
     "iopub.status.idle": "2022-04-15T18:05:38.630711Z",
     "shell.execute_reply": "2022-04-15T18:05:38.629721Z"
    },
    "papermill": {
     "duration": 2.288839,
     "end_time": "2022-04-15T18:05:38.633303",
     "exception": false,
     "start_time": "2022-04-15T18:05:36.344464",
     "status": "completed"
    },
    "tags": []
   },
   "outputs": [],
   "source": [
    "#confusion matrix\n",
    "true_postives = results[(results.Status == 1) & (results.prediction == 1)].count()\n",
    "true_negatives = results[(results.Status == 0) & (results.prediction == 0)].count()\n",
    "false_positives = results[(results.Status == 0) & (results.prediction == 1)].count()\n",
    "false_negatives = results[(results.Status == 1) & (results.prediction == 0)].count()"
   ]
  },
  {
   "cell_type": "code",
   "execution_count": 46,
   "id": "8cd023ac",
   "metadata": {
    "execution": {
     "iopub.execute_input": "2022-04-15T18:05:38.946186Z",
     "iopub.status.busy": "2022-04-15T18:05:38.945911Z",
     "iopub.status.idle": "2022-04-15T18:05:39.361588Z",
     "shell.execute_reply": "2022-04-15T18:05:39.360126Z"
    },
    "papermill": {
     "duration": 0.574834,
     "end_time": "2022-04-15T18:05:39.364823",
     "exception": false,
     "start_time": "2022-04-15T18:05:38.789989",
     "status": "completed"
    },
    "tags": []
   },
   "outputs": [
    {
     "name": "stdout",
     "output_type": "stream",
     "text": [
      "2524\n",
      "2453\n",
      "0\n",
      "0\n",
      "4977\n",
      "4977\n"
     ]
    }
   ],
   "source": [
    "print (true_postives)\n",
    "print (true_negatives)\n",
    "print (false_positives)\n",
    "print (false_negatives)\n",
    "print(true_postives+true_negatives+false_positives+false_negatives)\n",
    "print (results.count())"
   ]
  },
  {
   "cell_type": "code",
   "execution_count": 47,
   "id": "b084b98b",
   "metadata": {
    "execution": {
     "iopub.execute_input": "2022-04-15T18:05:39.680180Z",
     "iopub.status.busy": "2022-04-15T18:05:39.679891Z",
     "iopub.status.idle": "2022-04-15T18:05:39.685068Z",
     "shell.execute_reply": "2022-04-15T18:05:39.684099Z"
    },
    "papermill": {
     "duration": 0.165329,
     "end_time": "2022-04-15T18:05:39.687246",
     "exception": false,
     "start_time": "2022-04-15T18:05:39.521917",
     "status": "completed"
    },
    "tags": []
   },
   "outputs": [
    {
     "name": "stdout",
     "output_type": "stream",
     "text": [
      "1.0\n"
     ]
    }
   ],
   "source": [
    "recall = float(true_postives)/(true_postives + false_negatives)\n",
    "print(recall)"
   ]
  },
  {
   "cell_type": "code",
   "execution_count": 48,
   "id": "8c7ac6da",
   "metadata": {
    "execution": {
     "iopub.execute_input": "2022-04-15T18:05:40.003367Z",
     "iopub.status.busy": "2022-04-15T18:05:40.003082Z",
     "iopub.status.idle": "2022-04-15T18:05:40.008017Z",
     "shell.execute_reply": "2022-04-15T18:05:40.007085Z"
    },
    "papermill": {
     "duration": 0.165621,
     "end_time": "2022-04-15T18:05:40.011250",
     "exception": false,
     "start_time": "2022-04-15T18:05:39.845629",
     "status": "completed"
    },
    "tags": []
   },
   "outputs": [
    {
     "name": "stdout",
     "output_type": "stream",
     "text": [
      "1.0\n"
     ]
    }
   ],
   "source": [
    "precision = float(true_postives) / (true_postives + false_positives)\n",
    "print(precision)"
   ]
  },
  {
   "cell_type": "code",
   "execution_count": 49,
   "id": "3b53f7a4",
   "metadata": {
    "execution": {
     "iopub.execute_input": "2022-04-15T18:05:40.325695Z",
     "iopub.status.busy": "2022-04-15T18:05:40.325050Z",
     "iopub.status.idle": "2022-04-15T18:05:40.716636Z",
     "shell.execute_reply": "2022-04-15T18:05:40.715950Z"
    },
    "papermill": {
     "duration": 0.553337,
     "end_time": "2022-04-15T18:05:40.719919",
     "exception": false,
     "start_time": "2022-04-15T18:05:40.166582",
     "status": "completed"
    },
    "tags": []
   },
   "outputs": [
    {
     "name": "stdout",
     "output_type": "stream",
     "text": [
      "1.0\n"
     ]
    }
   ],
   "source": [
    "accuracy=float((true_postives+true_negatives) /(results.count()))\n",
    "print(accuracy)"
   ]
  },
  {
   "cell_type": "code",
   "execution_count": null,
   "id": "166a6251",
   "metadata": {
    "papermill": {
     "duration": 0.15732,
     "end_time": "2022-04-15T18:05:41.036808",
     "exception": false,
     "start_time": "2022-04-15T18:05:40.879488",
     "status": "completed"
    },
    "tags": []
   },
   "outputs": [],
   "source": []
  }
 ],
 "metadata": {
  "kernelspec": {
   "display_name": "Python 3",
   "language": "python",
   "name": "python3"
  },
  "language_info": {
   "codemirror_mode": {
    "name": "ipython",
    "version": 3
   },
   "file_extension": ".py",
   "mimetype": "text/x-python",
   "name": "python",
   "nbconvert_exporter": "python",
   "pygments_lexer": "ipython3",
   "version": "3.7.12"
  },
  "papermill": {
   "default_parameters": {},
   "duration": 135.38494,
   "end_time": "2022-04-15T18:05:43.821968",
   "environment_variables": {},
   "exception": null,
   "input_path": "__notebook__.ipynb",
   "output_path": "__notebook__.ipynb",
   "parameters": {},
   "start_time": "2022-04-15T18:03:28.437028",
   "version": "2.3.4"
  }
 },
 "nbformat": 4,
 "nbformat_minor": 5
}
